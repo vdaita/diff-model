{
 "cells": [
  {
   "cell_type": "code",
   "execution_count": 1,
   "metadata": {},
   "outputs": [
    {
     "name": "stderr",
     "output_type": "stream",
     "text": [
      "/opt/anaconda3/envs/research/lib/python3.12/site-packages/tqdm/auto.py:21: TqdmWarning: IProgress not found. Please update jupyter and ipywidgets. See https://ipywidgets.readthedocs.io/en/stable/user_install.html\n",
      "  from .autonotebook import tqdm as notebook_tqdm\n",
      "/opt/anaconda3/envs/research/lib/python3.12/site-packages/datasets/table.py:1421: FutureWarning: promote has been superseded by promote_options='default'.\n",
      "  table = cls._concat_blocks(blocks, axis=0)\n"
     ]
    }
   ],
   "source": [
    "from datasets import load_dataset\n",
    "\n",
    "ds = load_dataset(\"nuprl/EditPackFT-Multi\", split=\"train\")\n",
    "ds = ds.select(range(5000))"
   ]
  },
  {
   "cell_type": "code",
   "execution_count": 2,
   "metadata": {},
   "outputs": [],
   "source": [
    "import difflib\n",
    "import os\n",
    "from openai import OpenAI\n",
    "from dotenv import load_dotenv\n",
    "\n",
    "load_dotenv(\".env\")\n",
    "client = OpenAI(\n",
    "    api_key=os.environ.get(\"OPENAI_API_KEY\")\n",
    ")\n",
    "\n",
    "def proc_row(row):\n",
    "    row[\"patch\"] = \"\\n\".join(difflib.unified_diff(row[\"old_contents\"].splitlines(), row[\"new_contents\"].splitlines(), n=3))\n",
    "    if os.path.exists(f\"./cache/{row['commit']}.txt\"):\n",
    "        f = open(f\"./cache/{row['commit']}.txt\", \"r\")\n",
    "        row[\"inst\"] = f.read()\n",
    "        f.close()\n",
    "        return row\n",
    "    \n",
    "    # Write the commit\n",
    "    prompt = f\"\"\"Given the following file, the corresponding patch made, and the commit message, write a detailed instruction given to a developer in order to produce the patch.\n",
    "# File:\n",
    "{row['old_contents']}\n",
    "\n",
    "# Commit message:\n",
    "{row['message']}\n",
    "\n",
    "# Patch:\n",
    "{row['patch']}\n",
    "\n",
    "# Describe the changes made in the code in a concise format (two sentences), formatted as an instruction (imperative tense) to an intelligent and independent software developer. Don't mention line numbers or write out long chunks of code (more than 3 lines). Include 1-2 line chunks of code in your instruction if required.\"\"\"\n",
    "    \n",
    "    detailed_inst = client.chat.completions.create(\n",
    "        messages=[\n",
    "            {\n",
    "                \"role\": \"user\",\n",
    "                \"content\": prompt\n",
    "            }\n",
    "        ],\n",
    "        model=\"gpt-3.5-turbo\"\n",
    "    ).choices[0].message.content\n",
    "\n",
    "    f = open(f\"./cache/{row['commit']}.txt\", \"w+\")\n",
    "    f.write(detailed_inst)\n",
    "    f.close()\n",
    "\n",
    "    row[\"inst\"] = detailed_inst \n",
    "    return row\n",
    "\n",
    "if not(os.path.exists(\"./cache\")):\n",
    "    os.mkdir(\"./cache\")"
   ]
  },
  {
   "cell_type": "code",
   "execution_count": 3,
   "metadata": {},
   "outputs": [
    {
     "name": "stdout",
     "output_type": "stream",
     "text": [
      "--- \n",
      "\n",
      "+++ \n",
      "\n",
      "@@ -34,7 +34,11 @@\n",
      "\n",
      "              tags: {method: 'GET', isArray: true,\n",
      "                     url: Conf.apiBase + '/projects/:projectId/tags',\n",
      "                     params: {projectId: '@id'}\n",
      "-                   }\n",
      "+                   },\n",
      "+             users: {method: 'GET', isArray: true,\n",
      "+                     url: Conf.apiBase + '/projects/:projectId/users',\n",
      "+                     params: {projectId: '@id'}\n",
      "+                    }\n",
      "            }\n",
      "         );\n",
      "     }\n",
      "Add a new method named 'users' to the Project resource in the Project factory. Update the 'Project' factory to include this new method with the corresponding URL and parameters.\n"
     ]
    }
   ],
   "source": [
    "new_row = proc_row(ds[0])\n",
    "print(new_row[\"patch\"])\n",
    "print(new_row[\"inst\"])"
   ]
  },
  {
   "cell_type": "code",
   "execution_count": 7,
   "metadata": {},
   "outputs": [
    {
     "name": "stderr",
     "output_type": "stream",
     "text": [
      "Map (num_proc=10):   0%|          | 0/5000 [00:00<?, ? examples/s]/opt/anaconda3/envs/research/lib/python3.12/site-packages/datasets/table.py:1387: FutureWarning: promote has been superseded by promote_options='default'.\n",
      "  return cls._concat_blocks(pa_tables_to_concat_vertically, axis=0)\n",
      "/opt/anaconda3/envs/research/lib/python3.12/site-packages/datasets/table.py:1387: FutureWarning: promote has been superseded by promote_options='default'.\n",
      "  return cls._concat_blocks(pa_tables_to_concat_vertically, axis=0)\n",
      "/opt/anaconda3/envs/research/lib/python3.12/site-packages/datasets/table.py:1387: FutureWarning: promote has been superseded by promote_options='default'.\n",
      "  return cls._concat_blocks(pa_tables_to_concat_vertically, axis=0)\n",
      "/opt/anaconda3/envs/research/lib/python3.12/site-packages/datasets/table.py:1387: FutureWarning: promote has been superseded by promote_options='default'.\n",
      "  return cls._concat_blocks(pa_tables_to_concat_vertically, axis=0)\n",
      "/opt/anaconda3/envs/research/lib/python3.12/site-packages/datasets/table.py:1387: FutureWarning: promote has been superseded by promote_options='default'.\n",
      "  return cls._concat_blocks(pa_tables_to_concat_vertically, axis=0)\n",
      "/opt/anaconda3/envs/research/lib/python3.12/site-packages/datasets/table.py:1387: FutureWarning: promote has been superseded by promote_options='default'.\n",
      "  return cls._concat_blocks(pa_tables_to_concat_vertically, axis=0)\n",
      "/opt/anaconda3/envs/research/lib/python3.12/site-packages/datasets/table.py:1387: FutureWarning: promote has been superseded by promote_options='default'.\n",
      "  return cls._concat_blocks(pa_tables_to_concat_vertically, axis=0)\n",
      "/opt/anaconda3/envs/research/lib/python3.12/site-packages/datasets/table.py:1387: FutureWarning: promote has been superseded by promote_options='default'.\n",
      "  return cls._concat_blocks(pa_tables_to_concat_vertically, axis=0)\n",
      "/opt/anaconda3/envs/research/lib/python3.12/site-packages/datasets/table.py:1387: FutureWarning: promote has been superseded by promote_options='default'.\n",
      "  return cls._concat_blocks(pa_tables_to_concat_vertically, axis=0)\n",
      "/opt/anaconda3/envs/research/lib/python3.12/site-packages/datasets/table.py:1387: FutureWarning: promote has been superseded by promote_options='default'.\n",
      "  return cls._concat_blocks(pa_tables_to_concat_vertically, axis=0)\n",
      "Map (num_proc=10): 100%|██████████| 5000/5000 [04:39<00:00, 17.91 examples/s]   \n",
      "/opt/anaconda3/envs/research/lib/python3.12/site-packages/datasets/table.py:1421: FutureWarning: promote has been superseded by promote_options='default'.\n",
      "  table = cls._concat_blocks(blocks, axis=0)\n"
     ]
    }
   ],
   "source": [
    "ds = ds.map(proc_row, num_proc=10)"
   ]
  },
  {
   "cell_type": "code",
   "execution_count": 8,
   "metadata": {},
   "outputs": [
    {
     "name": "stderr",
     "output_type": "stream",
     "text": [
      "Creating parquet from Arrow format: 100%|██████████| 5/5 [00:00<00:00, 47.26ba/s]\n",
      "Pushing dataset shards to the dataset hub: 100%|██████████| 1/1 [00:08<00:00,  8.59s/it]\n"
     ]
    }
   ],
   "source": [
    "ds.push_to_hub(\"vdaita/editpackftmulti_inst\")"
   ]
  }
 ],
 "metadata": {
  "kernelspec": {
   "display_name": "research",
   "language": "python",
   "name": "python3"
  },
  "language_info": {
   "codemirror_mode": {
    "name": "ipython",
    "version": 3
   },
   "file_extension": ".py",
   "mimetype": "text/x-python",
   "name": "python",
   "nbconvert_exporter": "python",
   "pygments_lexer": "ipython3",
   "version": "3.12.3"
  }
 },
 "nbformat": 4,
 "nbformat_minor": 2
}
