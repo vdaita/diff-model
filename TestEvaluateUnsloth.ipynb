{
 "cells": [
  {
   "cell_type": "code",
   "execution_count": 1,
   "id": "02e04fd1-8fe0-447f-8851-bf7163b7dcc3",
   "metadata": {},
   "outputs": [
    {
     "name": "stdout",
     "output_type": "stream",
     "text": [
      "🦥 Unsloth: Will patch your computer to enable 2x faster free finetuning.\n",
      "==((====))==  Unsloth: Fast Llama patching release 2024.6\n",
      "   \\\\   /|    GPU: NVIDIA GeForce RTX 3090. Max memory: 23.691 GB. Platform = Linux.\n",
      "O^O/ \\_/ \\    Pytorch: 2.3.0+cu121. CUDA = 8.6. CUDA Toolkit = 12.1.\n",
      "\\        /    Bfloat16 = TRUE. Xformers = 0.0.26.post1. FA = False.\n",
      " \"-____-\"     Free Apache license: http://github.com/unslothai/unsloth\n"
     ]
    },
    {
     "data": {
      "application/vnd.jupyter.widget-view+json": {
       "model_id": "552729d2c33d47c69f3de51ff4649376",
       "version_major": 2,
       "version_minor": 0
      },
      "text/plain": [
       "Loading checkpoint shards:   0%|          | 0/3 [00:00<?, ?it/s]"
      ]
     },
     "metadata": {},
     "output_type": "display_data"
    }
   ],
   "source": [
    "from unsloth import FastLanguageModel\n",
    "import torch\n",
    "\n",
    "model, tokenizer = FastLanguageModel.from_pretrained(\n",
    "    model_name=\"diff-codellama-7b\",\n",
    "    max_seq_length=4096,\n",
    "    dtype=None,\n",
    "    load_in_4bit=True\n",
    ")\n",
    "\n",
    "FastLanguageModel.for_inference(model)"
   ]
  },
  {
   "cell_type": "code",
   "execution_count": 2,
   "id": "8d51cc02-3f7f-4c85-835a-8b493bf90a03",
   "metadata": {},
   "outputs": [
    {
     "name": "stderr",
     "output_type": "stream",
     "text": [
      "The attention mask and the pad token id were not set. As a consequence, you may observe unexpected behavior. Please pass your input's `attention_mask` to obtain reliable results.\n",
      "Setting `pad_token_id` to `eos_token_id`:2 for open-end generation.\n"
     ]
    },
    {
     "name": "stdout",
     "output_type": "stream",
     "text": [
      "{'input_ids': tensor([[    1, 29871,    13, 29937,  3497, 29901,    13,  1990, 16874, 11726,\n",
      "         29901, 29871,    13,  1678,   822,  4770,  2344, 12035,  1311, 29892,\n",
      "         11799, 29901,   851,  1125, 29871,    13,  4706,  1583, 29889,  7638,\n",
      "           353, 11799, 29871,    13,  1678,   822,  8118, 29898,  1311, 29897,\n",
      "          1599,  1051, 29961,  1761, 29961,   710,  5262, 29901, 29871,    13,\n",
      "          4706,  3454,   353,  1583, 29889,  7638, 29889,  5451,   703,    13,\n",
      "          1159, 29871,    13,  4706,  1962,   353,  5159, 29871,    13,  4706,\n",
      "           363,  1196,   297,  3454, 29901, 29871,    13,  9651,  1962, 29889,\n",
      "          4397, 29898,  1220, 29889,  5451, 29898,  3284,   876, 29871,    13,\n",
      "          4706,   736,  1962,    13, 29937,  2799,   582,  1953, 29901,    13,\n",
      "          2528,   263,   740,  2000,   421,  6672, 29952,   607,  3639,   278,\n",
      "           937,  1948,   310,   263, 11799,   934,   408,   263,  1051,   310,\n",
      "          6031, 29892,   988,  1432,  1543,   297,   278,  1051,   338,   263,\n",
      "          1897,   297,   278,  1948, 29889,    13, 29937,   360,  2593, 13261,\n",
      "         29901,    13, 28956, 12765,    13]], device='cuda:0'), 'attention_mask': tensor([[1, 1, 1, 1, 1, 1, 1, 1, 1, 1, 1, 1, 1, 1, 1, 1, 1, 1, 1, 1, 1, 1, 1, 1,\n",
      "         1, 1, 1, 1, 1, 1, 1, 1, 1, 1, 1, 1, 1, 1, 1, 1, 1, 1, 1, 1, 1, 1, 1, 1,\n",
      "         1, 1, 1, 1, 1, 1, 1, 1, 1, 1, 1, 1, 1, 1, 1, 1, 1, 1, 1, 1, 1, 1, 1, 1,\n",
      "         1, 1, 1, 1, 1, 1, 1, 1, 1, 1, 1, 1, 1, 1, 1, 1, 1, 1, 1, 1, 1, 1, 1, 1,\n",
      "         1, 1, 1, 1, 1, 1, 1, 1, 1, 1, 1, 1, 1, 1, 1, 1, 1, 1, 1, 1, 1, 1, 1, 1,\n",
      "         1, 1, 1, 1, 1, 1, 1, 1, 1, 1, 1, 1, 1, 1, 1, 1, 1, 1, 1, 1, 1, 1, 1, 1,\n",
      "         1]], device='cuda:0')}\n"
     ]
    }
   ],
   "source": [
    "test_string = \"\"\"\n",
    "# File:\n",
    "class CSVParser: \n",
    "    def __init__(self, csv: str): \n",
    "        self.csv = csv \n",
    "    def contents(self) -> list[list[str]]: \n",
    "        lines = self.csv.split(\"\\n\") \n",
    "        output = [] \n",
    "        for line in lines: \n",
    "            output.append(line.split(\",\")) \n",
    "        return output\n",
    "# Instructions:\n",
    "Add a function called `header` which returns the first row of a csv file as a list of strings, where every element in the list is a column in the row.\n",
    "# Diff patch:\n",
    "```diff\n",
    "\"\"\"\n",
    "\n",
    "inputs = tokenizer(test_string, return_tensors=\"pt\").to(\"cuda\")\n",
    "\n",
    "print(inputs)\n",
    "\n",
    "outputs = model.generate(input_ids=inputs['input_ids'], max_new_tokens=128, use_cache=True)"
   ]
  },
  {
   "cell_type": "code",
   "execution_count": 3,
   "id": "80a15625-60be-40b0-96bc-f366e65847da",
   "metadata": {},
   "outputs": [
    {
     "name": "stdout",
     "output_type": "stream",
     "text": [
      "<s> \n",
      "# File:\n",
      "class CSVParser: \n",
      "    def __init__(self, csv: str): \n",
      "        self.csv = csv \n",
      "    def contents(self) -> list[list[str]]: \n",
      "        lines = self.csv.split(\"\n",
      "\") \n",
      "        output = [] \n",
      "        for line in lines: \n",
      "            output.append(line.split(\",\")) \n",
      "        return output\n",
      "# Instructions:\n",
      "Add a function called `header` which returns the first row of a csv file as a list of strings, where every element in the list is a column in the row.\n",
      "# Diff patch:\n",
      "```diff\n",
      "class CSVParser: \n",
      "    def __init__(self, csv: str): \n",
      "        self.csv = csv \n",
      "    def contents(self) -> list[list[str]]: \n",
      "        lines = self.csv.split(\"\n",
      "\") \n",
      "        output = [] \n",
      "        for line in lines: \n",
      "            output.append(line.split(\",\")) \n",
      "        return output\n",
      "+ def header(self) -> list[str]: \n",
      "+     return self.contents()[0]\n",
      "```\n",
      "# Tests:\n",
      "```python\n",
      "from csv_parser import CSVParser\n"
     ]
    }
   ],
   "source": [
    "print(tokenizer.batch_decode(outputs)[0])"
   ]
  },
  {
   "cell_type": "code",
   "execution_count": null,
   "id": "9ebb8610-15fa-43d8-a04d-81fb994da03a",
   "metadata": {},
   "outputs": [],
   "source": []
  }
 ],
 "metadata": {
  "kernelspec": {
   "display_name": "Python 3 (ipykernel)",
   "language": "python",
   "name": "python3"
  },
  "language_info": {
   "codemirror_mode": {
    "name": "ipython",
    "version": 3
   },
   "file_extension": ".py",
   "mimetype": "text/x-python",
   "name": "python",
   "nbconvert_exporter": "python",
   "pygments_lexer": "ipython3",
   "version": "3.10.14"
  }
 },
 "nbformat": 4,
 "nbformat_minor": 5
}
