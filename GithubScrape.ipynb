{
 "cells": [
  {
   "cell_type": "code",
   "execution_count": 24,
   "metadata": {},
   "outputs": [],
   "source": [
    "from datasets import load_dataset\n",
    "import requests\n",
    "\n",
    "ds = load_dataset(\"vdaita/gh-commits-2022-meta\")[\"train\"]\n",
    "ds = ds.select(list(range(1000)))"
   ]
  },
  {
   "cell_type": "code",
   "execution_count": 29,
   "metadata": {},
   "outputs": [
    {
     "name": "stderr",
     "output_type": "stream",
     "text": [
      "Map (num_proc=10):   0%|          | 0/1000 [00:00<?, ? examples/s]/opt/anaconda3/envs/research/lib/python3.12/site-packages/datasets/table.py:1387: FutureWarning: promote has been superseded by promote_options='default'.\n",
      "  return cls._concat_blocks(pa_tables_to_concat_vertically, axis=0)\n",
      "/opt/anaconda3/envs/research/lib/python3.12/site-packages/datasets/table.py:1387: FutureWarning: promote has been superseded by promote_options='default'.\n",
      "  return cls._concat_blocks(pa_tables_to_concat_vertically, axis=0)\n",
      "/opt/anaconda3/envs/research/lib/python3.12/site-packages/datasets/table.py:1387: FutureWarning: promote has been superseded by promote_options='default'.\n",
      "  return cls._concat_blocks(pa_tables_to_concat_vertically, axis=0)\n",
      "/opt/anaconda3/envs/research/lib/python3.12/site-packages/datasets/table.py:1387: FutureWarning: promote has been superseded by promote_options='default'.\n",
      "  return cls._concat_blocks(pa_tables_to_concat_vertically, axis=0)\n",
      "/opt/anaconda3/envs/research/lib/python3.12/site-packages/datasets/table.py:1387: FutureWarning: promote has been superseded by promote_options='default'.\n",
      "  return cls._concat_blocks(pa_tables_to_concat_vertically, axis=0)\n",
      "/opt/anaconda3/envs/research/lib/python3.12/site-packages/datasets/table.py:1387: FutureWarning: promote has been superseded by promote_options='default'.\n",
      "  return cls._concat_blocks(pa_tables_to_concat_vertically, axis=0)\n",
      "/opt/anaconda3/envs/research/lib/python3.12/site-packages/datasets/table.py:1387: FutureWarning: promote has been superseded by promote_options='default'.\n",
      "  return cls._concat_blocks(pa_tables_to_concat_vertically, axis=0)\n",
      "/opt/anaconda3/envs/research/lib/python3.12/site-packages/datasets/table.py:1387: FutureWarning: promote has been superseded by promote_options='default'.\n",
      "  return cls._concat_blocks(pa_tables_to_concat_vertically, axis=0)\n",
      "/opt/anaconda3/envs/research/lib/python3.12/site-packages/datasets/table.py:1387: FutureWarning: promote has been superseded by promote_options='default'.\n",
      "  return cls._concat_blocks(pa_tables_to_concat_vertically, axis=0)\n",
      "/opt/anaconda3/envs/research/lib/python3.12/site-packages/datasets/table.py:1387: FutureWarning: promote has been superseded by promote_options='default'.\n",
      "  return cls._concat_blocks(pa_tables_to_concat_vertically, axis=0)\n"
     ]
    },
    {
     "name": "stdout",
     "output_type": "stream",
     "text": [
      "https://github.com/lpsinger/astropy/commit/034625e9826ef419532b9043def59326835583a4.patch\n"
     ]
    },
    {
     "name": "stderr",
     "output_type": "stream",
     "text": [
      "Map (num_proc=10):   0%|          | 1/1000 [00:00<06:17,  2.65 examples/s]"
     ]
    },
    {
     "name": "stdout",
     "output_type": "stream",
     "text": [
      "https://github.com/tryton/sao/commit/02d7d1fad38c0cae95c671f10c73756cbcbe9008.patchhttps://github.com/openthread/ot-nrf528xx/commit/0218b455b3e5c1b78b52bcb7de73473d832f4b49.patch\n",
      "\n",
      "https://github.com/PRX/Infrastructure/commit/03b04480b5a320ebc647753b8f3a747fdd5aeade.patch\n"
     ]
    },
    {
     "name": "stderr",
     "output_type": "stream",
     "text": [
      "Map (num_proc=10):   0%|          | 2/1000 [00:00<04:37,  3.59 examples/s]"
     ]
    },
    {
     "name": "stdout",
     "output_type": "stream",
     "text": [
      "https://github.com/tomolimo/glpi/commit/027670bb6a3d92c78b10df25acf83c775bea0541.patch\n",
      "https://github.com/ONLYOFFICE/document-server-integration/commit/00c9b3e2b9980fc206c8f19af11fe83c919492a1.patch\n"
     ]
    },
    {
     "name": "stderr",
     "output_type": "stream",
     "text": [
      "Map (num_proc=10):   1%|          | 6/1000 [00:00<02:00,  8.22 examples/s]"
     ]
    },
    {
     "name": "stdout",
     "output_type": "stream",
     "text": [
      "https://github.com/hashicorp/consul/commit/034861119acde0da488b0bc2d5f51a9444f43541.patch\n",
      "https://github.com/kingjon3377/strategicprimer-viewer/commit/0000223925c786b59c79f33a70a57508ded91322.patch\n",
      "https://github.com/nbari/homebrew-core/commit/01a95f4ebbbc9c8005823a5d902a4ade9c382f19.patch\n",
      "https://github.com/dims/test-infra/commit/013b8090451240628dcc20bc2ae415b8085cddd1.patch\n",
      "https://github.com/uBlockOrigin/uAssets/commit/0069f1f6b1efc122f3235a586557c3926c60ed1c.patch\n"
     ]
    },
    {
     "name": "stderr",
     "output_type": "stream",
     "text": [
      "Map (num_proc=10):   1%|          | 11/1000 [00:01<01:04, 15.25 examples/s]"
     ]
    },
    {
     "name": "stdout",
     "output_type": "stream",
     "text": [
      "https://github.com/mostofi/wannier90/commit/00caa1df7fb1997bad01c9f9ef150bf8ebf5112f.patch\n",
      "https://github.com/frappe/frappe/commit/02da933c160a65ea8fabe98fb46e731a9e9236fc.patch\n",
      "https://github.com/google/site-kit-wp/commit/0001ed84db74acaf9a9b7569668fae663764c5c1.patch\n"
     ]
    },
    {
     "name": "stderr",
     "output_type": "stream",
     "text": [
      "Map (num_proc=10):   1%|▏         | 14/1000 [00:01<01:09, 14.14 examples/s]"
     ]
    },
    {
     "name": "stdout",
     "output_type": "stream",
     "text": [
      "https://github.com/GoogleCloudPlatform/testgrid/commit/013b89f31cf1d99882df2915695dba4e1266ea7b.patch\n",
      "https://github.com/sagemathinc/smc/commit/01ab82a80a8654067a8ae308cfdac4ac8e0f483f.patch\n",
      "https://github.com/lcp/mokutil/commit/0276891eb83ed1fa5153c543297a296f143e0740.patch\n"
     ]
    },
    {
     "name": "stderr",
     "output_type": "stream",
     "text": [
      "Map (num_proc=10):   2%|▏         | 17/1000 [00:01<00:58, 16.67 examples/s]"
     ]
    },
    {
     "name": "stdout",
     "output_type": "stream",
     "text": [
      "https://github.com/cminyard/linux-live-app-coredump/commit/03b1be379dcee2e9c866c2a455a1a4a9581b3efd.patch\n",
      "https://github.com/TNG/ArchUnit/commit/02db1a44084aafce294cbbbfafc9ecc3015a80ae.patch\n",
      "https://github.com/KleoPetroff/kleopetroff.github.io/commit/000266f0c242ccf31eba11333df916c5641c227e.patch\n"
     ]
    },
    {
     "name": "stderr",
     "output_type": "stream",
     "text": [
      "Map (num_proc=10):   2%|▏         | 20/1000 [00:01<00:57, 17.07 examples/s]"
     ]
    },
    {
     "name": "stdout",
     "output_type": "stream",
     "text": [
      "https://github.com/netzpirat/haml-coffee/commit/013ec20748626c1aab033f02b4cb69d4eac6d0a9.patch\n",
      "https://github.com/google/earthengine-catalog/commit/0349c91c42e46e9358da0a2e0941c2a9fc42d513.patch\n",
      "https://github.com/furyutei/KashiKaikin/commit/01abb06f143e9b43e0d9aa9db602c76f8d3704c6.patch\n"
     ]
    },
    {
     "name": "stderr",
     "output_type": "stream",
     "text": [
      "Map (num_proc=10):   2%|▏         | 23/1000 [00:01<00:50, 19.26 examples/s]"
     ]
    },
    {
     "name": "stdout",
     "output_type": "stream",
     "text": [
      "https://github.com/rxu/thanks_for_posts/commit/0276da53be069caf22849431cd0c6c767de94ed7.patch\n",
      "https://github.com/fscm/terraform-module-aws-spark/commit/00cae99f9436590c4d99cc5f8750a5f83d7103f9.patch\n",
      "https://github.com/mwaskom/seaborn/commit/02df7590c70ca8f68282ed941b98410580c55aa9.patch\n"
     ]
    },
    {
     "name": "stderr",
     "output_type": "stream",
     "text": [
      "Map (num_proc=10):   3%|▎         | 26/1000 [00:01<00:47, 20.34 examples/s]"
     ]
    },
    {
     "name": "stdout",
     "output_type": "stream",
     "text": [
      "https://github.com/alphagov/smart-answers/commit/03b41346a2d3820d1b0e360ecc9cc202fa5f361b.patch\n",
      "https://github.com/Remi-Coulom/joedb/commit/034af1fa1651d0fc0415377f32f6f48d1969408f.patch\n",
      "https://github.com/duracelltomi/gtm4wp/commit/01aead542cbdf7cea8baef0d7fc5ebecab798d7b.patch\n"
     ]
    },
    {
     "name": "stderr",
     "output_type": "stream",
     "text": [
      "Map (num_proc=10):   3%|▎         | 29/1000 [00:01<00:47, 20.36 examples/s]"
     ]
    },
    {
     "name": "stdout",
     "output_type": "stream",
     "text": [
      "https://github.com/nbari/homebrew-core/commit/0276e89a20f03924f3f8839f505e6f438f1ee032.patch\n",
      "https://github.com/Bill-Gray/find_orb/commit/013f6d49750e7ab7723b904e9932305fa72b996f.patch\n",
      "https://github.com/catusf/tudien/commit/02e049ecb37ba45e35a6ad99b9f33a24a8f23f97.patch\n"
     ]
    },
    {
     "name": "stderr",
     "output_type": "stream",
     "text": [
      "Map (num_proc=10):   3%|▎         | 32/1000 [00:02<00:49, 19.53 examples/s]"
     ]
    },
    {
     "name": "stdout",
     "output_type": "stream",
     "text": [
      "https://github.com/mirage/irmin/commit/0350ea20d37a3a7b47d961ca311f91b892fafb9b.patch\n",
      "https://github.com/ruedap/emma.css/commit/01b174aed11c5c06e7d4f2fb11069b6cbb69115b.patch\n",
      "https://github.com/genialis/resolwe-bio/commit/03b4a49ec8f57947eac83a9a764cb4569e1352a4.patch\n"
     ]
    },
    {
     "name": "stderr",
     "output_type": "stream",
     "text": [
      "Map (num_proc=10):   4%|▎         | 35/1000 [00:02<01:11, 13.53 examples/s]"
     ]
    },
    {
     "name": "stdout",
     "output_type": "stream",
     "text": [
      "https://github.com/fabiocannizzo/linux/commit/027733b12a10855feffd09ee56384df1dd73c084.patch\n",
      "https://github.com/SMRUCC/GCModeller/commit/0351db92e01357d5aab77fca77c0757edbab179f.patch\n"
     ]
    },
    {
     "name": "stderr",
     "output_type": "stream",
     "text": [
      "Map (num_proc=10):   4%|▎         | 37/1000 [00:02<01:49,  8.81 examples/s]"
     ]
    },
    {
     "name": "stdout",
     "output_type": "stream",
     "text": [
      "https://github.com/techniboogie-dart/recase/commit/006b3f9601caeb6cdede8f5ef4a9cf8f4b279199.patch\n",
      "https://github.com/digipost/digipost-api-client-java/commit/0140474b0f90c341071d4c53d4e5d97e93ab2bb2.patch\n",
      "https://github.com/netsec-ethz/scion/commit/02193ded8406e2d668d4ce87ff0447ae82f2fad0.patch\n"
     ]
    },
    {
     "name": "stderr",
     "output_type": "stream",
     "text": [
      "Map (num_proc=10):   4%|▍         | 40/1000 [00:03<01:31, 10.49 examples/s]"
     ]
    },
    {
     "name": "stdout",
     "output_type": "stream",
     "text": [
      "https://github.com/luci/luci-go/commit/03b5e103c3cd7daf495bdf9e773a077e32036b3f.patch\n",
      "https://github.com/fr3ts0n/AndrOBD/commit/0003323beb2a617393cabf1914b5c31cccab5870.patch\n",
      "https://github.com/materialsvirtuallab/megnet/commit/02e15ee1a69cbdc318965be12c6dd94b8c1cb144.patch\n"
     ]
    },
    {
     "name": "stderr",
     "output_type": "stream",
     "text": [
      "Map (num_proc=10):   4%|▍         | 43/1000 [00:03<01:14, 12.82 examples/s]"
     ]
    },
    {
     "name": "stdout",
     "output_type": "stream",
     "text": [
      "https://github.com/hajimehoshi/ebiten/commit/006b4324dc5355426cf703a54107bccdebc58f50.patch\n",
      "https://github.com/ryba-io/ryba/commit/00cb8bd1ba6ff49d33f0af13838bdee8177af4f2.patch\n",
      "https://github.com/iFixit/pulldasher/commit/03b70bda82f9d35185a79e5259c5c6332af25c7e.patch\n"
     ]
    },
    {
     "name": "stderr",
     "output_type": "stream",
     "text": [
      "Map (num_proc=10):   5%|▍         | 46/1000 [00:03<01:13, 13.03 examples/s]"
     ]
    },
    {
     "name": "stdout",
     "output_type": "stream",
     "text": [
      "https://github.com/microting/eform-sdk-dotnet/commit/000489e9a6a68b7d3ac7c55d1ba44bf9d63dd54c.patch\n",
      "https://github.com/bugsnag/bugsnag-js/commit/02e3557b2ee8f3b33b3a335da931b8502671f044.patch\n",
      "https://github.com/rebelvg/KolpaqueClientElectron/commit/006d6ac9155a52ab69bc34555856d0b0f6414070.patch\n",
      "https://github.com/rei/rei-cedar/commit/0354833b405430bb6a8500976dfaa33d4d967bc0.patch\n"
     ]
    },
    {
     "name": "stderr",
     "output_type": "stream",
     "text": [
      "Map (num_proc=10):   5%|▌         | 50/1000 [00:03<00:57, 16.61 examples/s]"
     ]
    },
    {
     "name": "stdout",
     "output_type": "stream",
     "text": [
      "https://github.com/gearmobile/gearmobile.github.io/commit/0140b325efaeba5f070c49e7a5beca2480a8e83d.patch\n",
      "https://github.com/googleapis/google-api-java-client-services/commit/00cbc0038820cd08b5845cc6c02ba4837759e910.patch\n",
      "https://github.com/LungNoodle/lungsim/commit/027964b11c1d4fc6035bb7e4f198e6c5cfa40d00.patch\n"
     ]
    },
    {
     "name": "stderr",
     "output_type": "stream",
     "text": [
      "Map (num_proc=10):   5%|▌         | 53/1000 [00:04<01:25, 11.04 examples/s]"
     ]
    },
    {
     "name": "stdout",
     "output_type": "stream",
     "text": [
      "https://github.com/scalaprops/scalaprops-shapeless/commit/02e43dd5fc0f27019d895fa8b6456b60b696033c.patch\n",
      "https://github.com/stevebosworth/dotfiles/commit/00057477312afe3eafcbd95a6598d8bcfecf53f8.patch\n",
      "https://github.com/bitpay/bitcore/commit/006e2b8171314111de4f8301b575c4675a4bba54.patch\n",
      "https://github.com/jetty-project/docker-docs/commit/01b1b15e5aa2739df05d48729c87a454a608f0f2.patch\n"
     ]
    },
    {
     "name": "stderr",
     "output_type": "stream",
     "text": [
      "Map (num_proc=10):   6%|▌         | 57/1000 [00:04<01:03, 14.78 examples/s]"
     ]
    },
    {
     "name": "stdout",
     "output_type": "stream",
     "text": [
      "https://github.com/xmaciek/starace/commit/0354ca19039de6b35120c98e6e544c6d81bc7fc8.patch\n",
      "https://github.com/cdnjs/cdnjs/commit/00cdc1ea0ed5b52361dec140cfb3d8b8a9714332.patch\n",
      "https://github.com/davidwatkins73/waltz-dev/commit/02798e3f145fee0d85261abae44a59b705e8a8c7.patch\n"
     ]
    },
    {
     "name": "stderr",
     "output_type": "stream",
     "text": [
      "Map (num_proc=10):   6%|▌         | 60/1000 [00:04<01:18, 11.97 examples/s]"
     ]
    },
    {
     "name": "stdout",
     "output_type": "stream",
     "text": [
      "https://github.com/google/go-jsonnet/commit/02194a7f8cbb5157cf6142db7afdf48d4fde7957.patch\n",
      "https://github.com/witchpou/lj-projectbuilder/commit/02e4bbfd41dc5063217cfed735b4ea8c335d6a1a.patch\n"
     ]
    },
    {
     "name": "stderr",
     "output_type": "stream",
     "text": [
      "Map (num_proc=10):   6%|▌         | 62/1000 [00:04<01:15, 12.36 examples/s]"
     ]
    },
    {
     "name": "stdout",
     "output_type": "stream",
     "text": [
      "https://github.com/benjyw/pants/commit/0006cdec2ee4293aee6128673f8fd991c710d7ba.patch\n",
      "https://github.com/jar3b/py-phias/commit/027b4434a96bc0a02ea2c34cad130a0cafd2bd01.patch\n"
     ]
    },
    {
     "name": "stderr",
     "output_type": "stream",
     "text": [
      "Map (num_proc=10):   6%|▋         | 64/1000 [00:04<01:14, 12.59 examples/s]"
     ]
    },
    {
     "name": "stdout",
     "output_type": "stream",
     "text": [
      "https://github.com/schoffelen/fieldtrip/commit/021ac9105ca9a951ea36e8df707b4dd4581f0f41.patch\n",
      "https://github.com/botui/botui/commit/0140d4d159159515609ea32b28ad0ce1a0b8e5fa.patch\n"
     ]
    },
    {
     "name": "stderr",
     "output_type": "stream",
     "text": [
      "Map (num_proc=10):   7%|▋         | 66/1000 [00:05<01:45,  8.88 examples/s]"
     ]
    },
    {
     "name": "stdout",
     "output_type": "stream",
     "text": [
      "https://github.com/googleapis/java-webrisk/commit/027b4706111ad9a8e2a46472ebb37abc54fd0b57.patch\n",
      "https://github.com/omeka-s-modules/Mapping/commit/03b8dcb102c696ccc9ad41c5549e6c8c74804f03.patch\n"
     ]
    },
    {
     "name": "stderr",
     "output_type": "stream",
     "text": [
      "Map (num_proc=10):   7%|▋         | 68/1000 [00:05<01:48,  8.58 examples/s]"
     ]
    },
    {
     "name": "stdout",
     "output_type": "stream",
     "text": [
      "https://github.com/openego/eTraGo/commit/0356f8e30cbd4ad1f21edf84798df758c3d44649.patchhttps://github.com/android/health-samples/commit/014230dc72c1a029dc6e6ab950e99b2d72370682.patch\n",
      "\n",
      "https://github.com/wildfly-security/elytron-web/commit/021e193ae14190e6c13fa61605f099bcb11881d4.patch\n",
      "https://github.com/google/dagger/commit/006e59f30dc7ea4571de5fb0f57539e7f56ede50.patch\n",
      "https://github.com/ghent360/bluez/commit/00cfb36e20e3c35db2150e7d0351ad7b8442e2d8.patch\n"
     ]
    },
    {
     "name": "stderr",
     "output_type": "stream",
     "text": [
      "Map (num_proc=10):   7%|▋         | 73/1000 [00:05<01:21, 11.42 examples/s]"
     ]
    },
    {
     "name": "stdout",
     "output_type": "stream",
     "text": [
      "https://github.com/symfony/security-acl/commit/006eaf8db8492b71b5acc30ee4c2ba217350e854.patch\n",
      "https://github.com/google/skia/commit/027bf16067abf2eefe6950784a8ddd02aa53309f.patch\n"
     ]
    },
    {
     "name": "stderr",
     "output_type": "stream",
     "text": [
      "Map (num_proc=10):   8%|▊         | 75/1000 [00:05<01:13, 12.54 examples/s]"
     ]
    },
    {
     "name": "stdout",
     "output_type": "stream",
     "text": [
      "https://github.com/ethereumjs/ethereumjs-vm/commit/03b9657e34fd0b1eaaaa878725b6f7c101abaafe.patch\n",
      "https://github.com/Andrettin/Wyrmgus/commit/02e5ae574f95b4749df38f481166938a2ed7dee4.patch\n"
     ]
    },
    {
     "name": "stderr",
     "output_type": "stream",
     "text": [
      "Map (num_proc=10):   8%|▊         | 77/1000 [00:06<01:25, 10.78 examples/s]"
     ]
    },
    {
     "name": "stdout",
     "output_type": "stream",
     "text": [
      "https://github.com/stephan-nordnes-eriksen/BOB/commit/027d3fbf164fb50173974a51c615b6634c420fff.patch\n",
      "https://github.com/cBioPortal/cbioportal/commit/03b9df9f46823099213c1433d1ddc3970bb13253.patch\n",
      "https://github.com/Charcoal-SE/SmokeDetector/commit/021e69b85ee85f4094a0958b3b4aabe9379f8622.patch\n"
     ]
    },
    {
     "name": "stderr",
     "output_type": "stream",
     "text": [
      "Map (num_proc=10):   8%|▊         | 80/1000 [00:06<01:17, 11.93 examples/s]"
     ]
    },
    {
     "name": "stdout",
     "output_type": "stream",
     "text": [
      "https://github.com/shentino/kotaka/commit/01b2f2d33e4bdf5ee89f0fe1961b5577314e6c72.patch\n",
      "https://github.com/TryGhost/Ghost/commit/02e696bd2fa8b5993f6d56d5c6292d98d5190e5d.patch\n"
     ]
    },
    {
     "name": "stderr",
     "output_type": "stream",
     "text": [
      "Map (num_proc=10):   8%|▊         | 82/1000 [00:06<01:11, 12.85 examples/s]"
     ]
    },
    {
     "name": "stdout",
     "output_type": "stream",
     "text": [
      "https://github.com/espressif/esp-idf/commit/021f545f0db38985626ecb58ccdd9d492e3782fa.patch\n",
      "https://github.com/fedora-infra/mdapi/commit/006ed21b83a1fcf1510076b2daa3d5794b3b7350.patch\n"
     ]
    },
    {
     "name": "stderr",
     "output_type": "stream",
     "text": [
      "Map (num_proc=10):   8%|▊         | 84/1000 [00:06<01:15, 12.16 examples/s]"
     ]
    },
    {
     "name": "stdout",
     "output_type": "stream",
     "text": [
      "https://github.com/nbari/homebrew-core/commit/027f502acde83e18b2c0c9f7aeace470b4d6b1f9.patch\n",
      "https://github.com/ethaneldridge/vassal/commit/02e6a06f51b8e09f567f7bc8b54426cd33fd3382.patch\n",
      "https://github.com/AyuntamientoMadrid/consul/commit/01b312271741c3ca40c94f97e5fcacbc3faa6fb5.patch\n"
     ]
    },
    {
     "name": "stderr",
     "output_type": "stream",
     "text": [
      "Map (num_proc=10):   9%|▊         | 87/1000 [00:06<00:59, 15.28 examples/s]"
     ]
    },
    {
     "name": "stdout",
     "output_type": "stream",
     "text": [
      "https://github.com/feedreaderco/web/commit/03572d4ef527c12c3d9fea85f9487f858aaea63d.patch\n",
      "https://github.com/jae0/bio.snowcrab/commit/01433cb239d5f7034da2cb0490099ec574ef78ac.patch\n",
      "https://github.com/hashicorp/consul/commit/02e71fb2a462eb0b9f8f77d6ee4194de3a1f98cc.patch\n"
     ]
    },
    {
     "name": "stderr",
     "output_type": "stream",
     "text": [
      "Map (num_proc=10):   9%|▉         | 90/1000 [00:07<01:07, 13.48 examples/s]"
     ]
    },
    {
     "name": "stdout",
     "output_type": "stream",
     "text": [
      "https://github.com/or-tools/or-tools/commit/01b5915c45edb60db24ea4aea30815fc08790456.patch\n",
      "https://github.com/oncokb/oncokb/commit/00cfb3e04a8c0229cadb96f5436e0c6b75dc70ca.patch\n",
      "https://github.com/aredotna/ervell/commit/03577c9f41c6157586c93c29be2e7a92492c58c4.patch\n"
     ]
    },
    {
     "name": "stderr",
     "output_type": "stream",
     "text": [
      "Map (num_proc=10):   9%|▉         | 93/1000 [00:07<00:56, 16.08 examples/s]"
     ]
    },
    {
     "name": "stdout",
     "output_type": "stream",
     "text": [
      "https://github.com/cdnjs/cdnjs/commit/027fdcfb2d053bee28fac364751ce75636ed44e2.patch\n",
      "https://github.com/leoloso/PoP/commit/0143a269aff846c95a5195e307437eab6edd6695.patch\n",
      "https://github.com/stinsonga/emacs-mirror/commit/00071c976f9a16b5684697d10b086fc1b0be7145.patch\n"
     ]
    },
    {
     "name": "stderr",
     "output_type": "stream",
     "text": [
      "Map (num_proc=10):  10%|▉         | 96/1000 [00:07<01:16, 11.86 examples/s]"
     ]
    },
    {
     "name": "stdout",
     "output_type": "stream",
     "text": [
      "https://github.com/henry-spanka/fastnetmon/commit/01b84ea7221dec3a71f04f4eff90e24dd8f3404e.patch\n",
      "https://github.com/zoff99/ToxAndroidRefImpl/commit/0143a993cabe6660003bfb972f25726a8fca75b4.patch\n"
     ]
    },
    {
     "name": "stderr",
     "output_type": "stream",
     "text": [
      "Map (num_proc=10):  10%|▉         | 98/1000 [00:07<01:16, 11.81 examples/s]"
     ]
    },
    {
     "name": "stdout",
     "output_type": "stream",
     "text": [
      "https://github.com/ros2/rclcpp/commit/02802bcc385c3d6d814add93618f3388d44adec7.patch\n",
      "https://github.com/stevenbenner/interfacelift-downloader/commit/0357eb2e3187525dd3b7e18273d3c7d173ba6131.patch\n"
     ]
    },
    {
     "name": "stderr",
     "output_type": "stream",
     "text": [
      "Map (num_proc=10):  10%|█         | 100/1000 [00:07<01:16, 11.83 examples/s]"
     ]
    },
    {
     "name": "stdout",
     "output_type": "stream",
     "text": [
      "https://github.com/apple/swift-tools-support-core/commit/0220fc394f2ae820eeacd754fb2c7ce211e9979e.patch\n",
      "https://github.com/mbroz/cryptsetup/commit/0009d9532ee669dc8022ef1a62c72ad4961f9bb5.patch\n",
      "https://github.com/Charcoal-SE/SmokeDetector/commit/03be34a66fc884259f5df6629441ff143ef1d9d6.patch\n",
      "https://github.com/chef/license_scout/commit/00d23a8b773ceba6306d146ae51aac89638fc4e0.patch\n",
      "https://github.com/googleapis/google-api-nodejs-client/commit/006f4cbc2d55f3834e9fce09a98df34b12ad8e50.patch\n"
     ]
    },
    {
     "name": "stderr",
     "output_type": "stream",
     "text": [
      "Map (num_proc=10):  10%|█         | 105/1000 [00:08<00:49, 18.26 examples/s]"
     ]
    },
    {
     "name": "stdout",
     "output_type": "stream",
     "text": [
      "https://github.com/electric-cloud/EC-WebLogic/commit/0143b453d26be32520c88951bf92d75fe0904c50.patch\n",
      "https://github.com/ipso/ADOdb/commit/0144c901fac7427497ac9dbc6b8fe0a4cc520708.patch\n",
      "https://github.com/bitcoinsSG/bitcoin/commit/0359d9b6a3808e70af6e19b85d13371eb0434ce5.patch\n"
     ]
    },
    {
     "name": "stderr",
     "output_type": "stream",
     "text": [
      "Map (num_proc=10):  11%|█         | 108/1000 [00:08<01:21, 10.95 examples/s]"
     ]
    },
    {
     "name": "stdout",
     "output_type": "stream",
     "text": [
      "https://github.com/BloomBooks/BloomDesktop/commit/00d28ade1ab4bbda6b745d83d395e2b282f473f9.patch\n",
      "https://github.com/gap-system/gap/commit/0009f2bf1c5b0c21607025c0aef6d67e2ddeb7d6.patch\n",
      "https://github.com/firebase/SpecsTesting/commit/03be69d9c13e8869edd64a11c0ae123201e7552f.patch\n",
      "https://github.com/0xAX/emacs/commit/0147e1ed831151dddac65727886d5a70bbab9f02.patch\n"
     ]
    },
    {
     "name": "stderr",
     "output_type": "stream",
     "text": [
      "Map (num_proc=10):  11%|█         | 112/1000 [00:08<01:14, 11.92 examples/s]"
     ]
    },
    {
     "name": "stdout",
     "output_type": "stream",
     "text": [
      "https://github.com/xfce-mirror/xfce4-terminal/commit/02e94aa3fdc949e6660c07cd9d8155d3ad7f84ec.patch\n",
      "https://github.com/eveoniris/larpManager-php/commit/00713ea6943d94825c8daa6fff4fdb553992aef5.patch\n"
     ]
    },
    {
     "name": "stderr",
     "output_type": "stream",
     "text": [
      "Map (num_proc=10):  11%|█▏        | 114/1000 [00:09<01:27, 10.15 examples/s]"
     ]
    },
    {
     "name": "stdout",
     "output_type": "stream",
     "text": [
      "https://github.com/rrousselGit/river_pod/commit/028429e752dd1ea98946369a195a4fa3aa1e10f3.patch\n",
      "https://github.com/FDio/vpp/commit/000a4ebed7d4097b88869a336a311f49873f8cf7.patch\n"
     ]
    },
    {
     "name": "stderr",
     "output_type": "stream",
     "text": [
      "Map (num_proc=10):  12%|█▏        | 116/1000 [00:09<01:20, 10.94 examples/s]"
     ]
    },
    {
     "name": "stdout",
     "output_type": "stream",
     "text": [
      "https://github.com/tensorflow/tensorflow/commit/0149e3e2eed710e8d29f745299887d4648fb9f87.patch\n",
      "https://github.com/milljm/moose/commit/03bf4c537e0f0251431f76a28508e88a31dd3e29.patch\n"
     ]
    },
    {
     "name": "stderr",
     "output_type": "stream",
     "text": [
      "Map (num_proc=10):  12%|█▏        | 118/1000 [00:09<01:25, 10.36 examples/s]"
     ]
    },
    {
     "name": "stdout",
     "output_type": "stream",
     "text": [
      "https://github.com/vitessio/vitess/commit/02219e4f1fc34f1493dbf4c3ae99162d6077ec05.patch\n",
      "https://github.com/esohns/libACENetwork/commit/00714cace735a71023370016d943acbce94696d8.patch\n"
     ]
    },
    {
     "name": "stderr",
     "output_type": "stream",
     "text": [
      "Map (num_proc=10):  12%|█▏        | 120/1000 [00:09<01:43,  8.50 examples/s]"
     ]
    },
    {
     "name": "stdout",
     "output_type": "stream",
     "text": [
      "https://github.com/eCrowdMedia/ebooklib/commit/0221f9abaa86a1d0c27e64f7bb69d18ea84d4a06.patch\n",
      "https://github.com/paradite/hn-ratio/commit/028513e7a5fa8da115d04806c14d2d62fd007bf2.patch\n"
     ]
    },
    {
     "name": "stderr",
     "output_type": "stream",
     "text": [
      "Map (num_proc=10):  12%|█▏        | 122/1000 [00:10<01:36,  9.14 examples/s]"
     ]
    },
    {
     "name": "stdout",
     "output_type": "stream",
     "text": [
      "https://github.com/skranz/skranz.github.com/commit/01baaaabcdbc5bda4163b720dbf3cda0657a2191.patch\n",
      "https://github.com/eamodio/vscode/commit/0149fae6739dbbbeec35963f1a615b20300b314e.patch\n",
      "https://github.com/nexus-uw/make-account-green/commit/0071b8b938ea64bc5afdbb72c5987d3ab54a8260.patch\n"
     ]
    },
    {
     "name": "stderr",
     "output_type": "stream",
     "text": [
      "Map (num_proc=10):  12%|█▎        | 125/1000 [00:10<01:12, 12.08 examples/s]"
     ]
    },
    {
     "name": "stdout",
     "output_type": "stream",
     "text": [
      "https://github.com/googlemaps/js-ogc/commit/03c103fe64985b95de53554506e51b594c68545e.patch\n",
      "https://github.com/kbase/kbase-ui-plugin-dataview/commit/00d50c1f5b11a52718ae4b75795c2a41d1c64254.patch\n"
     ]
    },
    {
     "name": "stderr",
     "output_type": "stream",
     "text": [
      "Map (num_proc=10):  13%|█▎        | 127/1000 [00:10<01:14, 11.68 examples/s]"
     ]
    },
    {
     "name": "stdout",
     "output_type": "stream",
     "text": [
      "https://github.com/galak/zephyr/commit/02ea021cbe20a7375ffa936561a0811f53b9e472.patchhttps://github.com/Wandalen/wTools/commit/02866726021cf367638af6753af0ac4d9aefe93c.patch\n",
      "\n",
      "https://github.com/GoogleCloudPlatform/python-docs-samples/commit/014a34957423b89b0fb5e7cffc1fd2dc844b3bc6.patch\n",
      "https://github.com/bootique/bootique-undertow/commit/0072f19b2b1677e267b2cbdde20591d2bec35545.patch\n"
     ]
    },
    {
     "name": "stderr",
     "output_type": "stream",
     "text": [
      "Map (num_proc=10):  13%|█▎        | 131/1000 [00:10<00:52, 16.47 examples/s]"
     ]
    },
    {
     "name": "stdout",
     "output_type": "stream",
     "text": [
      "https://github.com/liubenyuan/pyBSBL/commit/01bbc7931a52bf4632f204d1514d9e68a3b0f526.patch\n",
      "https://github.com/meain/dotfiles/commit/000a51610b1331c3f309421614220061323ad8c0.patch\n",
      "https://github.com/jeremyje/gowebserver/commit/0221fda815d22df4281b72a980afcffe81f9bd14.patch\n"
     ]
    },
    {
     "name": "stderr",
     "output_type": "stream",
     "text": [
      "Map (num_proc=10):  13%|█▎        | 134/1000 [00:10<01:06, 13.03 examples/s]"
     ]
    },
    {
     "name": "stdout",
     "output_type": "stream",
     "text": [
      "https://github.com/GNOME/gnome-software/commit/00d66aecb047ac3c41ff91754bc93579ad28912c.patch\n",
      "https://github.com/scalapb/ScalaPB/commit/014aa518e46a58a2e45b01f6edeb96552daeed01.patch\n"
     ]
    },
    {
     "name": "stderr",
     "output_type": "stream",
     "text": [
      "Map (num_proc=10):  14%|█▎        | 136/1000 [00:11<01:15, 11.40 examples/s]"
     ]
    },
    {
     "name": "stdout",
     "output_type": "stream",
     "text": [
      "https://github.com/chromium/chromium/commit/000d669a3d9824f4da1024d27de97806bdaf0aa7.patchhttps://github.com/desihub/desiutil/commit/028684c10ee35ac9abf66d2448b30a054d475d24.patchhttps://github.com/arnaudin/arnaudin.github.io/commit/03c2b8aa9e6a2975c67e5ebc8bfd28b7775a0cc4.patch\n",
      "\n",
      "\n",
      "https://github.com/Southpaw-TACTIC/TACTIC/commit/02ece6b6ed666060c1197ed1e5ec2b2c0c5c2780.patch\n",
      "https://github.com/johngrib/johngrib.github.io/commit/01bd11bced74025a5f6c6bc3104ecb41e4f9eadf.patch\n",
      "https://github.com/rdkcmf/rdkb-webui/commit/014abaff386b401e9d976d8c2ead21b5c27aac7c.patch\n"
     ]
    },
    {
     "name": "stderr",
     "output_type": "stream",
     "text": [
      "Map (num_proc=10):  14%|█▍        | 142/1000 [00:11<00:52, 16.43 examples/s]"
     ]
    },
    {
     "name": "stdout",
     "output_type": "stream",
     "text": [
      "https://github.com/jrsmith3/ibei/commit/0286921ce8411697c66a16e83d3d5c92cdb2e913.patch\n",
      "https://github.com/firebase/superstatic/commit/000e6cbe8c45c283e72c72eede0be506a9447e5b.patchhttps://github.com/Ocramius/OcraCachedViewResolver/commit/03c3bfed798aaa4bcb313c7207d0aaca8f62b3f8.patch\n",
      "\n"
     ]
    },
    {
     "name": "stderr",
     "output_type": "stream",
     "text": [
      "Map (num_proc=10):  14%|█▍        | 144/1000 [00:11<00:58, 14.61 examples/s]"
     ]
    },
    {
     "name": "stdout",
     "output_type": "stream",
     "text": [
      "https://github.com/Code-Inside/KnowYourStack/commit/02ef57974eb2f873bd72ef21d849954239000332.patch\n",
      "https://github.com/kubernetes/cloud-provider-aws/commit/014b60749d050e6214fe595bab7d4338557de928.patch\n"
     ]
    },
    {
     "name": "stderr",
     "output_type": "stream",
     "text": [
      "Map (num_proc=10):  15%|█▍        | 147/1000 [00:11<00:50, 16.98 examples/s]"
     ]
    },
    {
     "name": "stdout",
     "output_type": "stream",
     "text": [
      "https://github.com/annando/friendica/commit/0223c030a9e7918c055d382ebea44003de289b0f.patch\n",
      "https://github.com/artisan-roaster-scope/artisan/commit/035b2408a79b4d47cafc93e05e3440905e50f2a4.patch\n"
     ]
    },
    {
     "name": "stderr",
     "output_type": "stream",
     "text": [
      "Map (num_proc=10):  15%|█▍        | 149/1000 [00:11<00:57, 14.74 examples/s]"
     ]
    },
    {
     "name": "stdout",
     "output_type": "stream",
     "text": [
      "https://github.com/tocco/tocco-client/commit/01bf5a288cae91183c70ee6937fada7faee058fc.patch\n",
      "https://github.com/JabRef/jabref/commit/03c3d5580d2c41a4be55c0351df817b47886a49b.patch\n"
     ]
    },
    {
     "name": "stderr",
     "output_type": "stream",
     "text": [
      "Map (num_proc=10):  15%|█▌        | 151/1000 [00:12<01:05, 12.96 examples/s]"
     ]
    },
    {
     "name": "stdout",
     "output_type": "stream",
     "text": [
      "https://github.com/Nekotekina/rpcs3/commit/035d410a8967e9b7d9ec38f7ef6a3b7f415a2fec.patch\n",
      "https://github.com/GoogleCloudPlatform/ml-testing-accelerators/commit/0073e2dded9a864ce5614438729c54c2cd2825ce.patch\n"
     ]
    },
    {
     "name": "stderr",
     "output_type": "stream",
     "text": [
      "Map (num_proc=10):  15%|█▌        | 153/1000 [00:12<01:05, 13.01 examples/s]"
     ]
    },
    {
     "name": "stdout",
     "output_type": "stream",
     "text": [
      "https://github.com/syuu1228/seastar/commit/02f21256e9ff656eac3f776491c9a4e89eb282b0.patch\n",
      "https://github.com/googleapis/java-errorreporting/commit/014c105373196f486dca38de4cd842cd941489c8.patch\n",
      "https://github.com/docker-library/repo-info/commit/0223eac7fd24cbaa0f891edf593f857c0523bdc4.patchhttps://github.com/kraj/gcc/commit/00d8321124123daf41f7c51526355a5a610cdeb8.patch\n",
      "\n"
     ]
    },
    {
     "name": "stderr",
     "output_type": "stream",
     "text": [
      "Map (num_proc=10):  16%|█▌        | 156/1000 [00:12<01:11, 11.84 examples/s]"
     ]
    },
    {
     "name": "stdout",
     "output_type": "stream",
     "text": [
      "https://github.com/fuqunaga/PrefsGUI/commit/00744ad1003de03b31a515ee02bbbfac1deece20.patch\n",
      "https://github.com/auraphp/Aura.Session/commit/02f220f1deecd2087ae6da90d77b9684f41149b3.patch\n",
      "https://github.com/Yubico/yubioath-desktop/commit/00101b21c7ae12b1eadff1a9b1d292ed45b31584.patch\n",
      "https://github.com/psemiletov/tea-qt/commit/035dae517355054d2f1b2c68ff4def08665776ba.patch\n",
      "https://github.com/skywind3000/vim/commit/0286b9984744500854316bdca41008f14325fa62.patch\n"
     ]
    },
    {
     "name": "stderr",
     "output_type": "stream",
     "text": [
      "Map (num_proc=10):  16%|█▌        | 161/1000 [00:12<01:00, 13.92 examples/s]"
     ]
    },
    {
     "name": "stdout",
     "output_type": "stream",
     "text": [
      "https://github.com/castle/castle-java/commit/02f23932f5f872ef302314964f03fe5404d99235.patch\n",
      "https://github.com/kenjis/CodeIgniter4/commit/0010ce72dfdea7dae48f970ce1e57d417e405f03.patch\n",
      "https://github.com/jakirkham/staged-recipes/commit/014c3b37f4424ec36136d7b6f8b3224fc9753edb.patch\n"
     ]
    },
    {
     "name": "stderr",
     "output_type": "stream",
     "text": [
      "Map (num_proc=10):  16%|█▋        | 165/1000 [00:12<00:54, 15.31 examples/s]"
     ]
    },
    {
     "name": "stdout",
     "output_type": "stream",
     "text": [
      "https://github.com/as0ler/radare2/commit/035e68e3f15faf4e5e02bd7d18d2a4882eb5f6c0.patch\n",
      "https://github.com/pingcap/docs/commit/02f45eb0a0689f7df44829b0589df4b5f2202d62.patch\n"
     ]
    },
    {
     "name": "stderr",
     "output_type": "stream",
     "text": [
      "Map (num_proc=10):  17%|█▋        | 167/1000 [00:13<00:52, 15.90 examples/s]"
     ]
    },
    {
     "name": "stdout",
     "output_type": "stream",
     "text": [
      "https://github.com/lailongwei/llbc/commit/01c07e99af4c02b14b2562090c3ba98c58328121.patch\n",
      "https://github.com/ericgreenmix/marten/commit/007679429e80a25972b904a84e6e683c673405e5.patch\n"
     ]
    },
    {
     "name": "stderr",
     "output_type": "stream",
     "text": [
      "Map (num_proc=10):  17%|█▋        | 169/1000 [00:13<01:00, 13.74 examples/s]"
     ]
    },
    {
     "name": "stdout",
     "output_type": "stream",
     "text": [
      "https://github.com/phtb233/super-blood-busters/commit/02f4fd50c4ff8cde47813e399b542c1b2ecc615c.patch\n",
      "https://github.com/fastlane/fastlane-plugin-firebase_app_distribution/commit/02872e97534d33b1d9b43ee5de6b0ef00d2ad2b1.patch\n",
      "https://github.com/OCA/contract/commit/014c6fefcdc1dca844272c0d8cd12c4516383ae2.patch\n"
     ]
    },
    {
     "name": "stderr",
     "output_type": "stream",
     "text": [
      "Map (num_proc=10):  17%|█▋        | 172/1000 [00:13<00:55, 14.98 examples/s]"
     ]
    },
    {
     "name": "stdout",
     "output_type": "stream",
     "text": [
      "https://github.com/usc-isi-i2/usc-isi-i2.github.io/commit/00dbb94364eafe06cb27e3f670674e55bb9b57e6.patch\n",
      "https://github.com/PMEAL/OpenPNM/commit/035fd7985c7d1d341bfd195463fc2cc3ddf90904.patch\n",
      "https://github.com/boutinb/jasp-desktop/commit/01c2787d64e26ed3eb4d7d177eb56c16fd3f4f72.patch\n"
     ]
    },
    {
     "name": "stderr",
     "output_type": "stream",
     "text": [
      "Map (num_proc=10):  18%|█▊        | 175/1000 [00:13<01:03, 13.05 examples/s]"
     ]
    },
    {
     "name": "stdout",
     "output_type": "stream",
     "text": [
      "https://github.com/laughk/qmk_firmware/commit/00dc764f7268bd2780645eb07ce59892faba0341.patch\n",
      "https://github.com/forefireAPI/firefront/commit/035ff5b8c60781d0453ae17f3f42ce99f31147fb.patch\n",
      "https://github.com/MapTalks/MapTalks.js/commit/007722d8189878cc5e4eeb06c433522265b42509.patch\n"
     ]
    },
    {
     "name": "stderr",
     "output_type": "stream",
     "text": [
      "Map (num_proc=10):  18%|█▊        | 178/1000 [00:13<00:57, 14.28 examples/s]"
     ]
    },
    {
     "name": "stdout",
     "output_type": "stream",
     "text": [
      "https://github.com/ccxt/ccxt/commit/02241b23efcea3ccdc8533b59433e3afad80a743.patch\n",
      "https://github.com/guix-mirror/guix/commit/014fc145f8adc1d3b30be38beb88b632bc41d1fe.patchhttps://github.com/cnblogs/EnyimMemcachedCore/commit/02879d996ac98c21887f675329cb0fb841cd5033.patch\n",
      "\n",
      "https://github.com/lcobucci/jwt/commit/02895a11b8a98bfcef02d85c5379446d5d0d4f06.patchhttps://github.com/uutils/coreutils/commit/03c40b2db24aeb8c37575b9375f23e22f17e0919.patch\n",
      "\n"
     ]
    },
    {
     "name": "stderr",
     "output_type": "stream",
     "text": [
      "Map (num_proc=10):  18%|█▊        | 182/1000 [00:14<01:08, 11.97 examples/s]"
     ]
    },
    {
     "name": "stdout",
     "output_type": "stream",
     "text": [
      "https://github.com/apache/pdfbox/commit/007aa7d0a4e8187bfe8afe682f0496d1c19090f3.patch\n",
      "https://github.com/joeyates/imap-backup/commit/00dcca518cf0fe7d7e3ce0db788dc2f7aefa777f.patch\n",
      "https://github.com/xdamsorg/xDams-core/commit/03620dfef5c038dda0029d8d855601c6bac71029.patch\n"
     ]
    },
    {
     "name": "stderr",
     "output_type": "stream",
     "text": [
      "Map (num_proc=10):  19%|█▊        | 186/1000 [00:14<00:53, 15.16 examples/s]"
     ]
    },
    {
     "name": "stdout",
     "output_type": "stream",
     "text": [
      "https://github.com/tarampampam/mikrotik-hosts-parser/commit/0152ba90bcec86c32a4fd7eeeb2b8a2dca21cae1.patch\n",
      "https://github.com/Qbix/Platform/commit/01c442ba9d2fc06e3c69e3d29412db3b2828cbcf.patch\n",
      "https://github.com/chromium/chromium/commit/007b769aa621bd44358c2ab68fcaaa951ac18173.patch\n"
     ]
    },
    {
     "name": "stderr",
     "output_type": "stream",
     "text": [
      "Map (num_proc=10):  19%|█▉        | 189/1000 [00:15<01:23,  9.67 examples/s]"
     ]
    },
    {
     "name": "stdout",
     "output_type": "stream",
     "text": [
      "https://github.com/SonarSource/sonarqube/commit/01c4dc5db1b4d64babbeb33e6a2d2be043fabeeb.patch\n",
      "https://github.com/mozilla/sccache/commit/03638670766beb79038a6fea4a0367aad98d0859.patch\n",
      "https://github.com/gem/oq-engine/commit/02f58ad5ffd6b57478b832eed8f938d8dc5be6e2.patch\n",
      "https://github.com/GjjvdBurg/labella.py/commit/03c447966440f64afc2c382c3242b27cae19e6ca.patch\n",
      "https://github.com/golang/build/commit/0152d3c176f358d20f917aa65ad59e0963440d7a.patch\n",
      "https://github.com/smeighan/xLights/commit/0289fb067a56bc46d1f625273a1dbdb799696630.patchhttps://github.com/deepchem/deepchem/commit/00dd1382ba30fa29dcc4516028da78ccb370abe0.patch\n",
      "\n"
     ]
    },
    {
     "name": "stderr",
     "output_type": "stream",
     "text": [
      "Map (num_proc=10):  20%|█▉        | 195/1000 [00:15<00:57, 14.05 examples/s]"
     ]
    },
    {
     "name": "stdout",
     "output_type": "stream",
     "text": [
      "https://github.com/openthread/borderrouter/commit/001185f9f34f0397aedc0c148d2361e7d3942ec7.patch\n",
      "https://github.com/draede/cx/commit/0225006fa9152dd2ec92f1f59203a7ffa3529207.patch\n"
     ]
    },
    {
     "name": "stderr",
     "output_type": "stream",
     "text": [
      "Map (num_proc=10):  20%|█▉        | 198/1000 [00:15<00:57, 13.88 examples/s]"
     ]
    },
    {
     "name": "stdout",
     "output_type": "stream",
     "text": [
      "https://github.com/tryton/account_statement/commit/007c1c0162ea8faf91b5022c29dc5acd594c4810.patch\n",
      "https://github.com/cpcloud/ibis/commit/0152f5e4a608c531de146a6aa6df8087d8d4c182.patch\n"
     ]
    },
    {
     "name": "stderr",
     "output_type": "stream",
     "text": [
      "Map (num_proc=10):  20%|██        | 200/1000 [00:15<01:00, 13.26 examples/s]"
     ]
    },
    {
     "name": "stdout",
     "output_type": "stream",
     "text": [
      "https://github.com/keenwon/eazydict/commit/0225a34834d8b1a8d2a930cd95c1443270933fcd.patch\n",
      "https://github.com/MultiMC/MultiMC5-translate/commit/03c44e7ef41899cdad31fa7fa639e583612170fa.patch\n"
     ]
    },
    {
     "name": "stderr",
     "output_type": "stream",
     "text": [
      "Map (num_proc=10):  20%|██        | 202/1000 [00:15<01:08, 11.73 examples/s]"
     ]
    },
    {
     "name": "stdout",
     "output_type": "stream",
     "text": [
      "https://github.com/kubernetes/klog/commit/0013f225ca16fd06d5876420a2e33f4df7f0ff97.patch\n",
      "https://github.com/KevinMidboe/seasonedShows/commit/007d34f994e13224ffa17a0951bf24214b9c20ca.patch\n"
     ]
    },
    {
     "name": "stderr",
     "output_type": "stream",
     "text": [
      "Map (num_proc=10):  20%|██        | 204/1000 [00:16<01:10, 11.33 examples/s]"
     ]
    },
    {
     "name": "stdout",
     "output_type": "stream",
     "text": [
      "https://github.com/Remi-Coulom/joedb/commit/0226035be7682fba662fc3c47dd4b17395c7add4.patch\n",
      "https://github.com/googleapis/google-api-nodejs-client/commit/01c6e8f0e9fc4a9784498de8b9af15612faf2902.patch\n"
     ]
    },
    {
     "name": "stderr",
     "output_type": "stream",
     "text": [
      "Map (num_proc=10):  21%|██        | 206/1000 [00:16<01:22,  9.57 examples/s]"
     ]
    },
    {
     "name": "stdout",
     "output_type": "stream",
     "text": [
      "https://github.com/gregorybesson/PlaygroundGame/commit/02f660180a2ea67dda2def52d31c6abe3e77887c.patch\n",
      "https://github.com/victor-david/panama/commit/036464a33fa4c68d914d6ef5091a9635854ff880.patch\n",
      "https://github.com/dock0/dock0/commit/007f576a1dc4107a8be824edb769a385c8584bd2.patch\n",
      "https://github.com/Wedge009/wesnoth/commit/03c4731be080112f0f8f121909cfb33d998465ce.patch\n"
     ]
    },
    {
     "name": "stderr",
     "output_type": "stream",
     "text": [
      "Map (num_proc=10):  21%|██        | 210/1000 [00:16<00:57, 13.80 examples/s]"
     ]
    },
    {
     "name": "stdout",
     "output_type": "stream",
     "text": [
      "https://github.com/leoloso/PoP/commit/00143b410fd0457c3d2d2b13d760596fa4342010.patch\n",
      "https://github.com/djjudas21/puppet-freeradius/commit/03c5bb883157c80ed8a06a0d6a2a02f95a0798c7.patch\n"
     ]
    },
    {
     "name": "stderr",
     "output_type": "stream",
     "text": [
      "Map (num_proc=10):  21%|██        | 212/1000 [00:16<01:10, 11.13 examples/s]"
     ]
    },
    {
     "name": "stdout",
     "output_type": "stream",
     "text": [
      "https://github.com/PHPMailer/PHPMailer/commit/03649a2ffbcfeee06189f8fbd9ffbb10580c54ee.patch\n",
      "https://github.com/jenkinsci/jenkins/commit/02f6f2dfcdec8b0c22e123a77845fd63737f5863.patch\n",
      "https://github.com/Flash3388/FlashLib/commit/015799075200f712d4444a2696a597bf2e034555.patch\n"
     ]
    },
    {
     "name": "stderr",
     "output_type": "stream",
     "text": [
      "Map (num_proc=10):  22%|██▏       | 215/1000 [00:17<01:14, 10.55 examples/s]"
     ]
    },
    {
     "name": "stdout",
     "output_type": "stream",
     "text": [
      "https://github.com/knative/test-infra/commit/00de1e177bfe1129f8b63a30883926e393356d51.patch\n",
      "https://github.com/CommandPost/CommandPost/commit/0364b0ba8328b445e111fe9a83c1072fe9741bcd.patch\n"
     ]
    },
    {
     "name": "stderr",
     "output_type": "stream",
     "text": [
      "Map (num_proc=10):  22%|██▏       | 217/1000 [00:17<01:23,  9.35 examples/s]"
     ]
    },
    {
     "name": "stdout",
     "output_type": "stream",
     "text": [
      "https://github.com/sfu/canvas-lms/commit/00155eea937bdd9a161428cb67503f044b9ba3ee.patch\n",
      "https://github.com/merlimat/pulsar/commit/0226b99ff48541c432df7d859ce5e198b4e32b1f.patch\n"
     ]
    },
    {
     "name": "stderr",
     "output_type": "stream",
     "text": [
      "Map (num_proc=10):  22%|██▏       | 219/1000 [00:17<01:18,  9.92 examples/s]"
     ]
    },
    {
     "name": "stdout",
     "output_type": "stream",
     "text": [
      "https://github.com/gem/oq-engine/commit/03c6505369f00d4a94e06ef524f0adb8d1483955.patch\n",
      "https://github.com/apache/libcloud/commit/00de44a5bf99e223363b7721da7b347701a63a49.patch\n",
      "https://github.com/bitrepository/reference/commit/01c6fb09ba7e3f82b3681fc051c97b06b3220a9b.patch\n",
      "https://github.com/lucianodato/noise-repellent/commit/02f9aa01a9224755d0dbbc4cb3ed788280503fd7.patch\n"
     ]
    },
    {
     "name": "stderr",
     "output_type": "stream",
     "text": [
      "Map (num_proc=10):  22%|██▏       | 223/1000 [00:17<00:56, 13.74 examples/s]"
     ]
    },
    {
     "name": "stdout",
     "output_type": "stream",
     "text": [
      "https://github.com/gnomeontherun/angular/commit/008111d2c2568951c2ebe20939aaf4377666d736.patch\n",
      "https://github.com/MarkUsProject/Markus/commit/02fa192a9ed1693e772090cd2b79efccf40bb70a.patch\n"
     ]
    },
    {
     "name": "stderr",
     "output_type": "stream",
     "text": [
      "Map (num_proc=10):  22%|██▎       | 225/1000 [00:18<01:14, 10.43 examples/s]"
     ]
    },
    {
     "name": "stdout",
     "output_type": "stream",
     "text": [
      "https://github.com/pingcap/tidb/commit/00169d2fe8671ad947a763b59b500a924f10856d.patch\n",
      "https://github.com/agherzan/meta-raspberrypi/commit/03c6ab0cae20d5d7498ac6fab88c6810a563df65.patch\n"
     ]
    },
    {
     "name": "stderr",
     "output_type": "stream",
     "text": [
      "Map (num_proc=10):  23%|██▎       | 227/1000 [00:18<01:12, 10.68 examples/s]"
     ]
    },
    {
     "name": "stdout",
     "output_type": "stream",
     "text": [
      "https://github.com/metomi/rose/commit/0081e2256a3aaa205a4ad0037645538c0534bb1b.patch\n",
      "https://github.com/github/codeql/commit/01c747ccb7a182a61f69d134cf997ebae57f8f08.patch\n",
      "https://github.com/openjdk/jdk/commit/02fae60740ad6f5d6a2891eac5571155a3ae619c.patch\n",
      "https://github.com/GoogleForCreators/web-stories-wp/commit/00df91d5c5a333d0a763608687626de89371f634.patch\n",
      "https://github.com/kubernetes/enhancements/commit/0157ace1799522809b3eea8894e8340a99f0a28d.patch\n"
     ]
    },
    {
     "name": "stderr",
     "output_type": "stream",
     "text": [
      "Map (num_proc=10):  23%|██▎       | 232/1000 [00:18<00:49, 15.50 examples/s]"
     ]
    },
    {
     "name": "stdout",
     "output_type": "stream",
     "text": [
      "https://github.com/rhusar/wildfly/commit/0227cfb361836dcfd7f9cd4dd99fbdc1579f3076.patch\n",
      "https://github.com/christophd/camel/commit/001726a113bb725cea502de741e3a3757742e2e6.patch\n",
      "https://github.com/ray-project/ray/commit/03c7bca133a1f5917817862c8b386e3c4eb34115.patch\n"
     ]
    },
    {
     "name": "stderr",
     "output_type": "stream",
     "text": [
      "Map (num_proc=10):  24%|██▎       | 235/1000 [00:18<00:43, 17.52 examples/s]"
     ]
    },
    {
     "name": "stdout",
     "output_type": "stream",
     "text": [
      "https://github.com/gschlager/discourse/commit/02fafc9476d8b7860abe9aae2d939dbeded4ac28.patch\n",
      "https://github.com/Ardour/ardour/commit/01c7e14c6e35976afd38bb712e30c5fa1bd35263.patch\n",
      "https://github.com/CroatianMeteorNetwork/RMS/commit/0082ccd5f6051d5e1b87e2a16d6836a6f05b843c.patch\n",
      "https://github.com/eikek/sharry/commit/00e10171fd9db0c250f0ffa424734a6fcfe5bfd0.patchhttps://github.com/galak/zephyr/commit/0364f3ae4d9ad53f89d0b2d9e1b9c7584e589991.patch\n",
      "\n"
     ]
    },
    {
     "name": "stderr",
     "output_type": "stream",
     "text": [
      "Map (num_proc=10):  24%|██▍       | 239/1000 [00:18<00:35, 21.26 examples/s]"
     ]
    },
    {
     "name": "stdout",
     "output_type": "stream",
     "text": [
      "https://github.com/bartdesmet/roslyn/commit/0158ff5c3c2bc438c2562fff7f2d71a88c6dcba0.patch\n",
      "https://github.com/aclemons/java-readline/commit/022842d84830f6ee51b4b1da077474b6b526b5c9.patch\n",
      "https://github.com/cheminfo/jcampconverter/commit/001733cadc9945a8d46a08824c48470ea074aed4.patch\n"
     ]
    },
    {
     "name": "stderr",
     "output_type": "stream",
     "text": [
      "Map (num_proc=10):  24%|██▍       | 243/1000 [00:18<00:44, 16.95 examples/s]"
     ]
    },
    {
     "name": "stdout",
     "output_type": "stream",
     "text": [
      "https://github.com/Ultimaker/CuraEngine/commit/02fde9ccb28375ddb883c750132b4bb5188f77b7.patch\n",
      "https://github.com/skogsbaer/HTF/commit/008551a3e337e2b0797d4d04dcb867e488b4211e.patch\n",
      "https://github.com/yonadev/yona-server/commit/03c858ee06f625e0846020f51c5e54d751a182fe.patch\n"
     ]
    },
    {
     "name": "stderr",
     "output_type": "stream",
     "text": [
      "Map (num_proc=10):  25%|██▍       | 246/1000 [00:19<01:13, 10.23 examples/s]"
     ]
    },
    {
     "name": "stdout",
     "output_type": "stream",
     "text": [
      "https://github.com/Roll20/roll20-character-sheets/commit/00176845b940376d92b71810b174437f288cafa7.patch\n",
      "https://github.com/osmocom/osmo-bts/commit/0087a1137ebaa870cad23fec8d19a51c6843de56.patch\n",
      "https://github.com/ProtonMail/WebClient/commit/01c815a3ec4a8b0c8538a89b648492a12864cac7.patch\n",
      "https://github.com/nbari/homebrew-core/commit/02fe4050751a76efeff25b569290de320c25263e.patch\n"
     ]
    },
    {
     "name": "stderr",
     "output_type": "stream",
     "text": [
      "Map (num_proc=10):  25%|██▌       | 250/1000 [00:19<01:00, 12.47 examples/s]"
     ]
    },
    {
     "name": "stdout",
     "output_type": "stream",
     "text": [
      "https://github.com/EDDiscovery/EDDiscovery/commit/03cb6e299414d7c2c4bcb1bb053e6d06a38b0744.patchhttps://github.com/cnfeat/cnfeat.github.io/commit/0088cacedb4a2873c0888713c55a74f85dde273e.patch\n",
      "\n"
     ]
    },
    {
     "name": "stderr",
     "output_type": "stream",
     "text": [
      "Map (num_proc=10):  25%|██▌       | 252/1000 [00:19<00:55, 13.39 examples/s]"
     ]
    },
    {
     "name": "stdout",
     "output_type": "stream",
     "text": [
      "https://github.com/terraform-google-modules/terraform-example-foundation/commit/0019b006da532b37ec6ed1637ac15a0ccbb9b51b.patch\n",
      "https://github.com/abono/Kaya-CMS/commit/015ebf8acdb504e37d94c9515ca94b238a4a6729.patch\n"
     ]
    },
    {
     "name": "stderr",
     "output_type": "stream",
     "text": [
      "Map (num_proc=10):  25%|██▌       | 254/1000 [00:20<00:57, 12.96 examples/s]"
     ]
    },
    {
     "name": "stdout",
     "output_type": "stream",
     "text": [
      "https://github.com/pmwmedia/tinylog/commit/0366099861c2b3f88f50a8fa04a37bc30dcfce11.patch\n",
      "https://github.com/savonet/liquidsoap/commit/01c95eef56e8f28b5ddd36d474f1f20f4694ae73.patch\n"
     ]
    },
    {
     "name": "stderr",
     "output_type": "stream",
     "text": [
      "Map (num_proc=10):  26%|██▌       | 256/1000 [00:20<01:06, 11.16 examples/s]"
     ]
    },
    {
     "name": "stdout",
     "output_type": "stream",
     "text": [
      "https://github.com/AlexHaxe/haxe-checkstyle/commit/02fe4cc09f85206c9f14f15aa88f171068ce282b.patch\n",
      "https://github.com/folio-org/stripes-core/commit/0088e6cf3a18e78468ac31e717a0526f66c513ad.patchhttps://github.com/facebook/watchman/commit/03cce84a5ef5a6f393706214e48cfb2107fbaea6.patch\n",
      "\n"
     ]
    },
    {
     "name": "stderr",
     "output_type": "stream",
     "text": [
      "Map (num_proc=10):  26%|██▌       | 258/1000 [00:20<01:12, 10.28 examples/s]"
     ]
    },
    {
     "name": "stdout",
     "output_type": "stream",
     "text": [
      "https://github.com/transpect/mml2tex/commit/015f174225228073c7c6ed31a3585b4ead25a586.patchhttps://github.com/CERNDocumentServer/cds-videos/commit/00e62e13858dd3740e5e9bdef3c4944d6b9b9d33.patch\n",
      "\n"
     ]
    },
    {
     "name": "stderr",
     "output_type": "stream",
     "text": [
      "Map (num_proc=10):  26%|██▌       | 260/1000 [00:20<01:06, 11.09 examples/s]"
     ]
    },
    {
     "name": "stdout",
     "output_type": "stream",
     "text": [
      "https://github.com/visionmedia/superagent/commit/0228b9e352430ccadd7f71abc3b5d899dd38ac9a.patch\n",
      "https://github.com/charlenni/Mapsui/commit/01ca77345bc8633377c88b8cc63748e721310ef8.patch\n"
     ]
    },
    {
     "name": "stderr",
     "output_type": "stream",
     "text": [
      "Map (num_proc=10):  26%|██▋       | 263/1000 [00:21<01:21,  9.00 examples/s]"
     ]
    },
    {
     "name": "stdout",
     "output_type": "stream",
     "text": [
      "https://github.com/jumpserver/jumpserver/commit/001e5d857f656f38ee53abcf41ace9d8b10dae9c.patch\n",
      "https://github.com/hydroshare/hydroshare/commit/00eb944ceabceadca17c557603ee1d6bb9f8b1f9.patch\n",
      "https://github.com/kizniche/Mycodo/commit/00891add59fd4e05427b0abd32259143fc2e51ab.patch\n",
      "https://github.com/GoogleCloudPlatform/python-docs-samples/commit/03cd912022a1e232bb6ad16df8c78a86ddd0b625.patchhttps://github.com/conda-forge/staged-recipes/commit/03023d0662539ca745bc267dcce157cf730ac0e8.patch\n",
      "\n"
     ]
    },
    {
     "name": "stderr",
     "output_type": "stream",
     "text": [
      "Map (num_proc=10):  27%|██▋       | 267/1000 [00:21<00:55, 13.13 examples/s]"
     ]
    },
    {
     "name": "stdout",
     "output_type": "stream",
     "text": [
      "https://github.com/openmole/openmole/commit/0366c2ecce92c1108cd0a5c305d26305495ff401.patch\n",
      "https://github.com/clydin/angular-cli/commit/0160f1a99a2990860e7c6adccc99521d0d307c46.patch\n"
     ]
    },
    {
     "name": "stderr",
     "output_type": "stream",
     "text": [
      "Map (num_proc=10):  27%|██▋       | 270/1000 [00:21<01:16,  9.58 examples/s]"
     ]
    },
    {
     "name": "stdout",
     "output_type": "stream",
     "text": [
      "https://github.com/yangw1234/BigDL/commit/01cc90a0e6f5e4e2e15ea49e69fbb846ea64418c.patch\n",
      "https://github.com/eileencodes/puma/commit/0302cc97278d0c49c5cfa08173c3ea5df5dc584f.patch\n"
     ]
    },
    {
     "name": "stderr",
     "output_type": "stream",
     "text": [
      "Map (num_proc=10):  27%|██▋       | 272/1000 [00:21<01:10, 10.32 examples/s]"
     ]
    },
    {
     "name": "stdout",
     "output_type": "stream",
     "text": [
      "https://github.com/caleb531/dotfiles/commit/0161776690cb5038dbc370ee683c5596774775ba.patch\n",
      "https://github.com/googleapis/java-workflow-executions/commit/022c0a3aae4a3d7516415e7f934cf1033c934f04.patch\n"
     ]
    },
    {
     "name": "stderr",
     "output_type": "stream",
     "text": [
      "Map (num_proc=10):  27%|██▋       | 274/1000 [00:22<01:06, 10.89 examples/s]"
     ]
    },
    {
     "name": "stdout",
     "output_type": "stream",
     "text": [
      "https://github.com/sormuras/bach/commit/001ebbe4d275dfcb4befb25a35f6fde26f0a732c.patch\n",
      "https://github.com/gregs1104/pgbench-tools/commit/03032b93dacc2d51c673e7667bf49c031347e34b.patch\n"
     ]
    },
    {
     "name": "stderr",
     "output_type": "stream",
     "text": [
      "Map (num_proc=10):  28%|██▊       | 276/1000 [00:22<01:05, 10.98 examples/s]"
     ]
    },
    {
     "name": "stdout",
     "output_type": "stream",
     "text": [
      "https://github.com/googleapis/release-please/commit/0366cf1504b694282fe2ae966faf89f112b34fc5.patch\n",
      "https://github.com/rainforestapp/rainforest-cli/commit/01622747b6961d0c58446af18d41ddb3764645f9.patch\n",
      "https://github.com/weacast/weacast/commit/022c4355869f0d0fe91a66c7c24ed6f41ab03dcf.patch\n"
     ]
    },
    {
     "name": "stderr",
     "output_type": "stream",
     "text": [
      "Map (num_proc=10):  28%|██▊       | 279/1000 [00:22<00:53, 13.53 examples/s]"
     ]
    },
    {
     "name": "stdout",
     "output_type": "stream",
     "text": [
      "https://github.com/KevinJump/uSync/commit/03ce00a27cd9303e9f7592a8a2fe7136763261d6.patchhttps://github.com/timuralp/s3proxy/commit/00894152cdc62f13341730c511d497e7085e6523.patch\n",
      "\n",
      "https://github.com/google/profit-bidder/commit/03035ae9a2d261873ebe96730afe67979eda3f57.patch"
     ]
    },
    {
     "name": "stderr",
     "output_type": "stream",
     "text": [
      "Map (num_proc=10):  28%|██▊       | 281/1000 [00:22<00:55, 12.93 examples/s]"
     ]
    },
    {
     "name": "stdout",
     "output_type": "stream",
     "text": [
      "\n",
      "https://github.com/quarkusio/quarkus/commit/0162456628b2d815e2ff08dd86e7846106b8dfa4.patch\n",
      "https://github.com/gitlabhq/omnibus-gitlab/commit/03681e66fde20f8a8c9544d8030616abf3bef74c.patch\n",
      "https://github.com/openembedded/meta-openembedded/commit/022e65ccd4c900472e3772ddd461c4040cc816e8.patch\n",
      "https://github.com/BioPhoton/css-star-rating/commit/01ccdb46f8c942a8ccff37f03f61b54ee8da541c.patch\n"
     ]
    },
    {
     "name": "stderr",
     "output_type": "stream",
     "text": [
      "Map (num_proc=10):  29%|██▊       | 286/1000 [00:22<00:41, 17.32 examples/s]"
     ]
    },
    {
     "name": "stdout",
     "output_type": "stream",
     "text": [
      "https://github.com/AOSC-Dev/aosc-os-abbs/commit/00896d382b33986c4af389de36ab49f3a59f219c.patch\n",
      "https://github.com/bestony/TranslateProject/commit/03047c7b30c8ea9c2bed80c5e548c129a4f781fc.patch\n"
     ]
    },
    {
     "name": "stderr",
     "output_type": "stream",
     "text": [
      "Map (num_proc=10):  29%|██▉       | 288/1000 [00:22<00:40, 17.69 examples/s]"
     ]
    },
    {
     "name": "stdout",
     "output_type": "stream",
     "text": [
      "https://github.com/KenanY/find-prime/commit/03ce2ddd357362ea9917af22e22ef6a2c583e016.patch\n",
      "https://github.com/googleapis/google-api-ruby-client/commit/0368c39ee0c774c62ea715d17926fe9f51454e7f.patch\n"
     ]
    },
    {
     "name": "stderr",
     "output_type": "stream",
     "text": [
      "Map (num_proc=10):  29%|██▉       | 290/1000 [00:22<00:40, 17.65 examples/s]"
     ]
    },
    {
     "name": "stdout",
     "output_type": "stream",
     "text": [
      "https://github.com/OCA/account-financial-tools/commit/022f1f7eaacdffc82dda897151d712ac10de153d.patch\n",
      "https://github.com/GoogleCloudPlatform/google-cloud-spanner-hibernate/commit/03d440da5620ceffc6dcfb40e66d37a539271cda.patch\n"
     ]
    },
    {
     "name": "stderr",
     "output_type": "stream",
     "text": [
      "Map (num_proc=10):  29%|██▉       | 292/1000 [00:23<00:43, 16.29 examples/s]"
     ]
    },
    {
     "name": "stdout",
     "output_type": "stream",
     "text": [
      "https://github.com/jenkinsci/console-column-plugin/commit/030699f80abff274570d387842562dded991d3d6.patch\n",
      "https://github.com/ping035627/kubernetes/commit/028ab83d20ab34d9c9024d475d9d699ba3e59aa0.patch\n"
     ]
    },
    {
     "name": "stderr",
     "output_type": "stream",
     "text": [
      "Map (num_proc=10):  29%|██▉       | 294/1000 [00:23<00:51, 13.78 examples/s]"
     ]
    },
    {
     "name": "stdout",
     "output_type": "stream",
     "text": [
      "https://github.com/ContinualAI/avalanche/commit/01651566be1393bf0ba43878e398c38422af1142.patchhttps://github.com/tensorflow/tfjs-models/commit/00ec01f810a58cf8647512a245f7997bb9786ca4.patch\n",
      "\n"
     ]
    },
    {
     "name": "stderr",
     "output_type": "stream",
     "text": [
      "Map (num_proc=10):  30%|██▉       | 296/1000 [00:23<00:59, 11.91 examples/s]"
     ]
    },
    {
     "name": "stdout",
     "output_type": "stream",
     "text": [
      "https://github.com/flowcommerce/api-build/commit/03691c521837b0fce78225174dd47e2091bbc370.patch\n",
      "https://github.com/martincostello/alexa-london-travel/commit/0307c9e422506c62849bc2fa7d26dc5e231491c7.patch\n"
     ]
    },
    {
     "name": "stderr",
     "output_type": "stream",
     "text": [
      "Map (num_proc=10):  30%|██▉       | 298/1000 [00:23<01:06, 10.59 examples/s]"
     ]
    },
    {
     "name": "stdout",
     "output_type": "stream",
     "text": [
      "https://github.com/GoogleCloudPlatform/python-docs-samples/commit/00ec60d6562c34d09a408b3edd7f64b3baccca64.patch\n",
      "https://github.com/xmoto/xmoto/commit/0167daa9134b77d241f926aab77556674ffc43a5.patchhttps://github.com/microting/eform-sdk-dotnet/commit/022f862afc8aa5396c1d2362dec6cf8c68840343.patch\n",
      "\n",
      "https://github.com/mountaindude/butler-sos/commit/028c9ab23695e22f4f44f09ee4a1e89b10c52efa.patch\n"
     ]
    },
    {
     "name": "stderr",
     "output_type": "stream",
     "text": [
      "Map (num_proc=10):  30%|███       | 302/1000 [00:23<00:52, 13.38 examples/s]"
     ]
    },
    {
     "name": "stdout",
     "output_type": "stream",
     "text": [
      "https://github.com/docker-library/ghost/commit/0020d7037237ef58c08978fe2dfb68f1560a544d.patch\n",
      "https://github.com/martinrotter/rssguard/commit/03d56b305460da089d0da9196b10485e3358c4cb.patch\n"
     ]
    },
    {
     "name": "stderr",
     "output_type": "stream",
     "text": [
      "Map (num_proc=10):  30%|███       | 304/1000 [00:24<00:50, 13.84 examples/s]"
     ]
    },
    {
     "name": "stdout",
     "output_type": "stream",
     "text": [
      "https://github.com/arlac77/rtsp-archive/commit/01cd180f1075632f42bb41b508ab4b8ad873b420.patch\n",
      "https://github.com/apigee/apigeelint/commit/00ec98bd36c195b9fe01ea0e67985e17e7699be1.patch\n"
     ]
    },
    {
     "name": "stderr",
     "output_type": "stream",
     "text": [
      "Map (num_proc=10):  31%|███       | 306/1000 [00:24<01:07, 10.29 examples/s]"
     ]
    },
    {
     "name": "stdout",
     "output_type": "stream",
     "text": [
      "https://github.com/pgharts/trusty-cms/commit/0089f2372125838f1f05f6ab61081bbc8ded6fdc.patch\n",
      "https://github.com/ErmiasG/hopsworks/commit/0308addd95e426476c82ff83f121317952dd8409.patch\n"
     ]
    },
    {
     "name": "stderr",
     "output_type": "stream",
     "text": [
      "Map (num_proc=10):  31%|███       | 308/1000 [00:24<00:59, 11.68 examples/s]"
     ]
    },
    {
     "name": "stdout",
     "output_type": "stream",
     "text": [
      "https://github.com/Xmetalfanx/linuxSetup/commit/028e7b01d7b2cbb498a3c59196624b1bcdd8e2ab.patch\n",
      "https://github.com/prestodb/presto/commit/028ef8e6a8f6c20451861bcbb82e050396c68677.patch\n"
     ]
    },
    {
     "name": "stderr",
     "output_type": "stream",
     "text": [
      "Map (num_proc=10):  31%|███       | 310/1000 [00:24<01:21,  8.45 examples/s]"
     ]
    },
    {
     "name": "stdout",
     "output_type": "stream",
     "text": [
      "https://github.com/sibis-platform/ncanda-data-integration/commit/036920a175db9797165ead58826f42150c1513ee.patch\n",
      "https://github.com/Rapporteket/NORIC/commit/0230a465793e5f506e235fa09680b5860f508b6d.patch\n"
     ]
    },
    {
     "name": "stderr",
     "output_type": "stream",
     "text": [
      "Map (num_proc=10):  31%|███       | 312/1000 [00:25<01:16,  9.00 examples/s]"
     ]
    },
    {
     "name": "stdout",
     "output_type": "stream",
     "text": [
      "https://github.com/Trustroots/trustroots/commit/0168059f9f2dd7d83cb55cdb89ab3ad8405bb4fd.patch\n",
      "https://github.com/archlinux/arch-security-tracker/commit/03695574bc4c847c9bfdc45dab6cc98297c2a668.patch\n"
     ]
    },
    {
     "name": "stderr",
     "output_type": "stream",
     "text": [
      "Map (num_proc=10):  31%|███▏      | 314/1000 [00:25<01:35,  7.20 examples/s]"
     ]
    },
    {
     "name": "stdout",
     "output_type": "stream",
     "text": [
      "https://github.com/hyperspy/hyperspyUI/commit/0231b5a8957c683984e9b68750175f46fc08fa1b.patch\n"
     ]
    },
    {
     "name": "stderr",
     "output_type": "stream",
     "text": [
      "Map (num_proc=10):  32%|███▏      | 315/1000 [00:25<01:35,  7.19 examples/s]"
     ]
    },
    {
     "name": "stdout",
     "output_type": "stream",
     "text": [
      "https://github.com/jakirkham/staged-recipes/commit/002120c4d473a71cf2889668b49244a6365cab20.patch\n",
      "https://github.com/yangfuhai/jboot/commit/028f51f796919c1fc6991f1316e8b88ce24e0ea7.patch\n",
      "https://github.com/ppy/osu/commit/01681ee8749c3562672e20fe603597c39a467410.patch\n"
     ]
    },
    {
     "name": "stderr",
     "output_type": "stream",
     "text": [
      "Map (num_proc=10):  32%|███▏      | 318/1000 [00:25<01:04, 10.50 examples/s]"
     ]
    },
    {
     "name": "stdout",
     "output_type": "stream",
     "text": [
      "https://github.com/sfu/canvas-lms/commit/030921463346ee5ef55ab3e408a744fef2ab6a82.patch\n",
      "https://github.com/WarmUpTill/SceneSwitcher/commit/036afb4a4fda7743d4cf3d9e49f3dc39f5880ec8.patch\n",
      "https://github.com/microsoft/playwright/commit/008a85b1436ef5863a976180924c8cbaf23f323c.patch\n"
     ]
    },
    {
     "name": "stderr",
     "output_type": "stream",
     "text": [
      "Map (num_proc=10):  32%|███▏      | 321/1000 [00:25<00:49, 13.61 examples/s]"
     ]
    },
    {
     "name": "stdout",
     "output_type": "stream",
     "text": [
      "https://github.com/olafhering/libvirt/commit/01cf26d41fd1b7e9531d461862dc1da0fa953367.patch\n",
      "https://github.com/Millak/guix/commit/00eda6acec4237298e8361790eb582d36a805ae2.patch\n",
      "https://github.com/ganto/linuxmonk-overlay/commit/02328c89f9e49dcf3b37f0c1e8730bf0e1aa125d.patch\n",
      "https://github.com/toastkidjp/Yobidashi_kt/commit/02949ef5ac8050f44a065702a1f1e81f8eb64447.patch\n"
     ]
    },
    {
     "name": "stderr",
     "output_type": "stream",
     "text": [
      "Map (num_proc=10):  32%|███▎      | 325/1000 [00:25<00:37, 18.01 examples/s]"
     ]
    },
    {
     "name": "stdout",
     "output_type": "stream",
     "text": [
      "https://github.com/cdnjs/cdnjs/commit/03d785d0527e3c2fc594dd8296ba6f07ce4b649f.patch\n",
      "https://github.com/jclgoodwin/bustimes.org.uk/commit/016955ed2b0920a1e75920634a3f2fa755871103.patch\n",
      "https://github.com/ColorfulCakeChen/query-submit-canvas/commit/036c5cd730407e6555e9173015856b8839041001.patch\n"
     ]
    },
    {
     "name": "stderr",
     "output_type": "stream",
     "text": [
      "Map (num_proc=10):  33%|███▎      | 328/1000 [00:26<00:52, 12.86 examples/s]"
     ]
    },
    {
     "name": "stdout",
     "output_type": "stream",
     "text": [
      "https://github.com/gan74/Yave/commit/016c3101482722b49a6c7a7f6e04fa2cee08bcec.patch\n",
      "https://github.com/jrouzierinverse/freeradius-server/commit/002215b7e7f87b579b50387c2b4c2ebe34a84856.patch\n",
      "https://github.com/ankidroid/Anki-Android/commit/0233120c8b768018c870c7a56425d84aeca1c6bf.patch\n",
      "https://github.com/pbek/qmarkdowntextedit/commit/008a8634fc2967eae241185d689db86bdc33ae20.patch\n"
     ]
    },
    {
     "name": "stderr",
     "output_type": "stream",
     "text": [
      "Map (num_proc=10):  33%|███▎      | 332/1000 [00:26<00:40, 16.63 examples/s]"
     ]
    },
    {
     "name": "stdout",
     "output_type": "stream",
     "text": [
      "https://github.com/heanet/heanet.github.io/commit/0294cab449d8bc573ee0f1629836c6f520c76adc.patch\n",
      "https://github.com/kkartaltepe/obs-studio/commit/03d9bda3875be34086f884794d5719763a9fcb87.patch\n",
      "https://github.com/firebase/firebase-cpp-sdk/commit/00eee6a4496fd37439cc06016e0bb07c873dd741.patch\n",
      "https://github.com/simoninireland/epydemic/commit/01d1b9b0cc19d01f28d989ef62c7f5b990c1951c.patch\n",
      "https://github.com/qld-gov-au/orders/commit/016e16c2c74463e0c7243bf73b7d662bf5dcfc91.patch\n"
     ]
    },
    {
     "name": "stderr",
     "output_type": "stream",
     "text": [
      "Map (num_proc=10):  34%|███▎      | 337/1000 [00:26<00:35, 18.59 examples/s]"
     ]
    },
    {
     "name": "stdout",
     "output_type": "stream",
     "text": [
      "https://github.com/cptactionhank/docker-atlassian-jira-software/commit/00231be8c4187930d74da1af76d8f14b332af8f9.patchhttps://github.com/MahdiMajidzadeh/bootstrap-v4-rtl/commit/02331a3a495e715e34541778cb310b2a5b51b8b5.patch\n",
      "\n",
      "https://github.com/bbcrd/homebrew-audiowaveform/commit/01d3333df3e2e81a454e302fbff7ad752df7b132.patch\n"
     ]
    },
    {
     "name": "stderr",
     "output_type": "stream",
     "text": [
      "Map (num_proc=10):  34%|███▍      | 340/1000 [00:26<00:40, 16.32 examples/s]"
     ]
    },
    {
     "name": "stdout",
     "output_type": "stream",
     "text": [
      "https://github.com/bestony/TranslateProject/commit/016ef4a0d665242228bcc653158501376b390e4e.patch\n",
      "https://github.com/kenjis/CodeIgniter4/commit/02341c39259d9864badf67b22f050e81d7c5ff46.patch\n",
      "https://github.com/GNOME/gnome-builder/commit/00245b81437fcff29553e68a61e4ad1ed91db0d5.patch\n",
      "https://github.com/kevbite/CompaniesHouse.NET/commit/00efc2d573798eb310ce77665c206acf3d5eb0f5.patch\n",
      "https://github.com/JohnSnowLabs/spark-nlp/commit/03dc4eb3790ce53662e9da455b01f5f7acb3eb90.patchhttps://github.com/galak/zephyr/commit/0309b77074083a4a888d14a82c2819d7862b2ff3.patch\n",
      "\n"
     ]
    },
    {
     "name": "stderr",
     "output_type": "stream",
     "text": [
      "Map (num_proc=10):  34%|███▍      | 345/1000 [00:27<00:31, 21.10 examples/s]"
     ]
    },
    {
     "name": "stdout",
     "output_type": "stream",
     "text": [
      "https://github.com/Azarien/chocolate-doom/commit/036df9796a134357506f19e4513f1a1f4c165476.patch\n",
      "https://github.com/HostToday/ht-docker-node/commit/00f0fae876a639341ad6c650a6c9b86549161f93.patch\n"
     ]
    },
    {
     "name": "stderr",
     "output_type": "stream",
     "text": [
      "Map (num_proc=10):  35%|███▍      | 348/1000 [00:27<00:32, 20.28 examples/s]"
     ]
    },
    {
     "name": "stdout",
     "output_type": "stream",
     "text": [
      "https://github.com/as0ler/radare2/commit/02989468cdad24e2888f94de7c48fe04c714bad0.patch\n",
      "https://github.com/tensorflow/tensorflow/commit/01d375389fae269dbd5c83479961a1fb88861906.patch\n",
      "https://github.com/qutip/qutip/commit/016f64ff5a6e3c918170c093462d490ece1f6b44.patch\n",
      "https://github.com/deragon/autopoweroff/commit/00248df89233b04c26bc10cfda37005838974401.patch\n",
      "https://github.com/angular/ngtools-webpack-builds/commit/016f80327ed0821eabee94a962d2e1f7beab1fa5.patch\n"
     ]
    },
    {
     "name": "stderr",
     "output_type": "stream",
     "text": [
      "Map (num_proc=10):  35%|███▌      | 353/1000 [00:27<00:34, 18.49 examples/s]"
     ]
    },
    {
     "name": "stdout",
     "output_type": "stream",
     "text": [
      "https://github.com/jmapio/jmap/commit/03dd136e87c11e1a6d6bacc5abafc1bb542db7e2.patch\n",
      "https://github.com/mongodb/mongo-ruby-driver/commit/002940626ecd22a8dc17387066231d3b1b4294a7.patch\n",
      "https://github.com/docker-library/repo-info/commit/030a6b3ff6d4103875ca0acbc18ece1f8d70365d.patch\n",
      "https://github.com/timbeadle/grunt-tv4/commit/023483db08b3667764eb56a28a4cdb6973b356f5.patch\n"
     ]
    },
    {
     "name": "stderr",
     "output_type": "stream",
     "text": [
      "Map (num_proc=10):  36%|███▌      | 357/1000 [00:27<00:34, 18.48 examples/s]"
     ]
    },
    {
     "name": "stdout",
     "output_type": "stream",
     "text": [
      "https://github.com/datacamp/rdocumentation-app/commit/03de8d99c4e09a85feaac24f8ddb54fde5c903c9.patch\n",
      "https://github.com/ioBroker/ioBroker.hm-rpc/commit/023575b6698a8cb9632f4706ff3963be11af8562.patchhttps://github.com/laurentj/lizmap-web-client/commit/030c8146a5b5ad4ac5b5b3d9698e890322f1dc49.patch\n",
      "\n"
     ]
    },
    {
     "name": "stderr",
     "output_type": "stream",
     "text": [
      "Map (num_proc=10):  36%|███▌      | 360/1000 [00:28<00:53, 11.91 examples/s]"
     ]
    },
    {
     "name": "stdout",
     "output_type": "stream",
     "text": [
      "https://github.com/RaananW/Babylon.js/commit/016f83e1581c8a0bd1adbf24acbfd0d4a45451ac.patch\n",
      "https://github.com/FreeRDP/Remmina/commit/036efd0118fbe393d29580103a27f1f31d058cf3.patch\n"
     ]
    },
    {
     "name": "stderr",
     "output_type": "stream",
     "text": [
      "Map (num_proc=10):  36%|███▌      | 362/1000 [00:28<01:07,  9.51 examples/s]"
     ]
    },
    {
     "name": "stdout",
     "output_type": "stream",
     "text": [
      "https://github.com/open-telemetry/opentelemetry-collector-contrib/commit/008b6ab59e75a683675aa18efc3d5feb825bc2da.patch\n",
      "https://github.com/googleapis/java-pubsublite-spark/commit/023642b9438802f3a8f6e15bd669e99feeeadc4b.patch\n",
      "https://github.com/BrianLusina/brianlusina.github.io/commit/030cdbd2086ff0a066a916a0d0ffc8470fe61139.patch\n"
     ]
    },
    {
     "name": "stderr",
     "output_type": "stream",
     "text": [
      "Map (num_proc=10):  36%|███▋      | 365/1000 [00:28<00:55, 11.36 examples/s]"
     ]
    },
    {
     "name": "stdout",
     "output_type": "stream",
     "text": [
      "https://github.com/elgohr/cf-jetbrains-license-server/commit/0029e94c1deb9bdac70a560dd2e103a744dbe6a4.patch\n",
      "https://github.com/CesiumGS/cesium/commit/036fd9543feaa04dfbcde87ea06cc35c26bda15d.patch\n"
     ]
    },
    {
     "name": "stderr",
     "output_type": "stream",
     "text": [
      "Map (num_proc=10):  37%|███▋      | 367/1000 [00:29<01:07,  9.42 examples/s]"
     ]
    },
    {
     "name": "stdout",
     "output_type": "stream",
     "text": [
      "https://github.com/bradharding/doomretro/commit/002a726ae49e2938a99c2627b2f43d22e2ceda11.patch\n",
      "https://github.com/MariaDB/server/commit/03726a36b81b34f48125e7c4cd8448ed293e818e.patch\n"
     ]
    },
    {
     "name": "stderr",
     "output_type": "stream",
     "text": [
      "Map (num_proc=10):  37%|███▋      | 369/1000 [00:29<01:12,  8.75 examples/s]"
     ]
    },
    {
     "name": "stdout",
     "output_type": "stream",
     "text": [
      "https://github.com/SuperJMN/Avalonia/commit/03e01a6e554227613ce5579cf24884e8a94ad629.patch\n",
      "https://github.com/ray-project/ray/commit/01d473b3559a0fd36216c747ddf38d5b9045e251.patch\n",
      "https://github.com/eduardoj/open-build-service/commit/029aaabba18ceab8c4fe231f5dcca5b110539e9e.patch\n",
      "https://github.com/JuliaCloud/AWS.jl/commit/00f24ec040baba78a5765cac4198c956b2299001.patchhttps://github.com/rowanhill/wiremock-php/commit/0236b80ab0729a77d7c9b55f37dd6ecc8f993335.patch\n",
      "\n",
      "https://github.com/protobi/msexcel-builder/commit/008bbe942e6bc513da6db27212c8bb465f97cd83.patch\n"
     ]
    },
    {
     "name": "stderr",
     "output_type": "stream",
     "text": [
      "Map (num_proc=10):  38%|███▊      | 375/1000 [00:29<00:48, 12.80 examples/s]"
     ]
    },
    {
     "name": "stdout",
     "output_type": "stream",
     "text": [
      "https://github.com/rewse/ansible-playbooks/commit/03728980c51a51c283f535fdab8b0b36ba36842b.patch\n",
      "https://github.com/wordpress-mobile/WordPress-iOS/commit/03e13496aca467a22b9ee7c338cce69c13fa21fb.patch\n"
     ]
    },
    {
     "name": "stderr",
     "output_type": "stream",
     "text": [
      "Map (num_proc=10):  38%|███▊      | 377/1000 [00:29<00:47, 13.03 examples/s]"
     ]
    },
    {
     "name": "stdout",
     "output_type": "stream",
     "text": [
      "https://github.com/lmeijvogel/meter-reader-api/commit/002b77fb3c47cff436c4fae29739fd516078dfc0.patch\n",
      "https://github.com/Charcoal-SE/SmokeDetector/commit/008bcc706d08f1ba517bdc303636ed3c0fceb63f.patch\n"
     ]
    },
    {
     "name": "stderr",
     "output_type": "stream",
     "text": [
      "Map (num_proc=10):  38%|███▊      | 379/1000 [00:30<01:22,  7.57 examples/s]"
     ]
    },
    {
     "name": "stdout",
     "output_type": "stream",
     "text": [
      "https://github.com/Chocobozzz/PeerTube/commit/03e143cbf0cf80427e918c6489af450aa4d3f36d.patch\n",
      "https://github.com/craws/OpenAtlas/commit/002c5b8a8cf2e8dcede2deb2466d7adaf2fb0993.patch\n",
      "https://github.com/rabbitmq/rabbitmq-website/commit/0373ed64e3c0be136d02e82e29cc675028eef412.patch\n"
     ]
    },
    {
     "name": "stderr",
     "output_type": "stream",
     "text": [
      "Map (num_proc=10):  38%|███▊      | 382/1000 [00:30<01:04,  9.54 examples/s]"
     ]
    },
    {
     "name": "stdout",
     "output_type": "stream",
     "text": [
      "https://github.com/googleapis/google-cloud-java/commit/00f29457a4e1ed4d2074b63bc1ec01267101aa00.patch\n",
      "https://github.com/podverse/podverse-web/commit/023751d2d5b3e14c8ad7d2f0830d55ddf468f322.patch\n",
      "https://github.com/facebook/litho/commit/029c29ea0ce40eee4d11d95349c58e2a73ee79a8.patch\n"
     ]
    },
    {
     "name": "stderr",
     "output_type": "stream",
     "text": [
      "Map (num_proc=10):  38%|███▊      | 384/1000 [00:31<01:15,  8.16 examples/s]"
     ]
    },
    {
     "name": "stdout",
     "output_type": "stream",
     "text": [
      "https://github.com/KDE/kdenlive/commit/03e2ca4590e443e3d441e0dba81c8fc63e9eaab6.patch\n",
      "https://github.com/laurentj/lizmap-web-client/commit/008e38954c0fb1283d600e21e7187da363ed1176.patch\n"
     ]
    },
    {
     "name": "stderr",
     "output_type": "stream",
     "text": [
      "Map (num_proc=10):  39%|███▊      | 387/1000 [00:31<00:59, 10.34 examples/s]"
     ]
    },
    {
     "name": "stdout",
     "output_type": "stream",
     "text": [
      "https://github.com/libccy/noname/commit/030fc1bd6217fe900b03547a7053a8e535d33601.patch\n",
      "https://github.com/rust-lang/rustc-dev-guide/commit/03752abfa4eec4beed1bec035540ac8d9f4cba90.patch\n"
     ]
    },
    {
     "name": "stderr",
     "output_type": "stream",
     "text": [
      "Map (num_proc=10):  39%|███▉      | 389/1000 [00:31<00:53, 11.38 examples/s]"
     ]
    },
    {
     "name": "stdout",
     "output_type": "stream",
     "text": [
      "https://github.com/quasarframework/quasar/commit/029d05e52e6c6186f5982b96a09d68d198ae8489.patch\n",
      "https://github.com/fabiocannizzo/linux/commit/0237a3a683e4844ddc52782d83d439d6192e11f9.patch\n",
      "https://github.com/tensorflow/decision-forests/commit/00f66d3bd69f1930d1bff061dc4657ac06ca22c3.patch\n",
      "https://github.com/stakira/OpenUtau/commit/016f98c1522747f6abfcdaa2b5f14094345b7bad.patch\n"
     ]
    },
    {
     "name": "stderr",
     "output_type": "stream",
     "text": [
      "Map (num_proc=10):  39%|███▉      | 393/1000 [00:31<00:40, 14.84 examples/s]"
     ]
    },
    {
     "name": "stdout",
     "output_type": "stream",
     "text": [
      "https://github.com/justinhoward/dotfiles/commit/0310d368dd072c31119dfa88b3506d69ea653021.patch\n",
      "https://github.com/docker-library/python/commit/008e5da2192428c97437191969d9b71a05d8acae.patch\n"
     ]
    },
    {
     "name": "stderr",
     "output_type": "stream",
     "text": [
      "Map (num_proc=10):  40%|███▉      | 395/1000 [00:31<01:02,  9.71 examples/s]"
     ]
    },
    {
     "name": "stdout",
     "output_type": "stream",
     "text": [
      "https://github.com/docker-solr/official-images/commit/02a018932d8eecd6b61b9576b87ed9914a4bd8a0.patch\n",
      "https://github.com/xtermjs/xterm.js/commit/03e3105c55fb202939a2f81f59e707f0041d2130.patch\n",
      "https://github.com/dlemstra/Magick.NET/commit/00f9de4b7d5f9572920215e98c45999af348b541.patch\n",
      "https://github.com/vvfosprojects/sovvf/commit/0376e780a6db15658af820ab8243dd108c3e0665.patch\n"
     ]
    },
    {
     "name": "stderr",
     "output_type": "stream",
     "text": [
      "Map (num_proc=10):  40%|███▉      | 399/1000 [00:31<00:43, 13.78 examples/s]"
     ]
    },
    {
     "name": "stdout",
     "output_type": "stream",
     "text": [
      "https://github.com/proxy-wasm/proxy-wasm-cpp-host/commit/0176f43edfcbd854c13313aea6a923effe1d6537.patch\n",
      "https://github.com/node-red/catalogue.nodered.org/commit/002c8859907151921255acdf52d37e70849ec2de.patch\n",
      "https://github.com/vega/vega-embed/commit/0237b1290ed501c8a455325b6c8f80377b4b59c7.patch\n"
     ]
    },
    {
     "name": "stderr",
     "output_type": "stream",
     "text": [
      "Map (num_proc=10):  40%|████      | 402/1000 [00:32<00:52, 11.43 examples/s]"
     ]
    },
    {
     "name": "stdout",
     "output_type": "stream",
     "text": [
      "https://github.com/lukas-krecan/JsonUnit/commit/0312760b389fd0ea11176f7b6f7e78475086330c.patch\n",
      "https://github.com/boycaught/my.dotfiles/commit/02a3221277fa7f16f4776fa7e0f184f94dc7dd64.patch\n"
     ]
    },
    {
     "name": "stderr",
     "output_type": "stream",
     "text": [
      "Map (num_proc=10):  40%|████      | 404/1000 [00:32<00:52, 11.30 examples/s]"
     ]
    },
    {
     "name": "stdout",
     "output_type": "stream",
     "text": [
      "https://github.com/Charcoal-SE/SmokeDetector/commit/0377361089302f89c7c869e81b532114bf0fde15.patch\n",
      "https://github.com/MayamaTakeshi/redmine_rt/commit/008ea707e3430a02efae81922be0ebd34b6fc245.patch\n",
      "https://github.com/andyalm/consul-rx/commit/00fa1dbb5ed6ad24fc1632b699cbd6128b48f666.patchhttps://github.com/github/codeql/commit/03e34e071a0294a52be9c433b624897b8561bac6.patch\n",
      "\n",
      "https://github.com/defivelo/db/commit/0177f04c1aa940974ec2057a1af48c04b7043fa6.patch\n"
     ]
    },
    {
     "name": "stderr",
     "output_type": "stream",
     "text": [
      "Map (num_proc=10):  41%|████      | 409/1000 [00:32<00:34, 16.90 examples/s]"
     ]
    },
    {
     "name": "stdout",
     "output_type": "stream",
     "text": [
      "https://github.com/gridsync/gridsync/commit/0313c7104889b34046863b76242c1eff379f4b28.patch\n",
      "https://github.com/div/dotfiles/commit/023809d66bf893a4c7096c2264c03ff9b07abe2c.patch\n",
      "https://github.com/argilo/contest-sdr/commit/002d2fd8205a24cdfb42dc8b3289d3c48624a1aa.patch\n",
      "https://github.com/KnisterPeter/vscode-github/commit/0377dd359c1b04e386b6154cdbe07c4574fb7f65.patch\n"
     ]
    },
    {
     "name": "stderr",
     "output_type": "stream",
     "text": [
      "Map (num_proc=10):  41%|████▏     | 413/1000 [00:32<00:32, 17.82 examples/s]"
     ]
    },
    {
     "name": "stdout",
     "output_type": "stream",
     "text": [
      "https://github.com/acaprez/recipes/commit/02398a79aa93a9caa0737d863ed9e87054097042.patch\n",
      "https://github.com/turing-tech/MaterialScrollBar/commit/0316e3fc7ef96475c244c7edf516e0c30796ace5.patchhttps://github.com/slevomat/csob-gateway/commit/0378b040b71a41aeb6d9b116c58aeeff26ff075f.patch\n",
      "\n"
     ]
    },
    {
     "name": "stderr",
     "output_type": "stream",
     "text": [
      "Map (num_proc=10):  42%|████▏     | 416/1000 [00:33<00:39, 14.89 examples/s]"
     ]
    },
    {
     "name": "stdout",
     "output_type": "stream",
     "text": [
      "https://github.com/dudebout/matrix.skeleton/commit/01d9b1082bcfa632b2a961ed9fcad5ecf4d3708b.patch\n",
      "https://github.com/nbari/homebrew-core/commit/008f062c8a06b6b590942807c9cbdb9044cc2467.patch\n"
     ]
    },
    {
     "name": "stderr",
     "output_type": "stream",
     "text": [
      "Map (num_proc=10):  42%|████▏     | 418/1000 [00:33<00:43, 13.29 examples/s]"
     ]
    },
    {
     "name": "stdout",
     "output_type": "stream",
     "text": [
      "https://github.com/djessemoody/personalwebsite/commit/00fadc744250270f5b65c0192b8dbe109c7bd60d.patch\n",
      "https://github.com/chromium/chromium/commit/03e5b7f4a51835f429a4b2c3f0c8cb013e91f669.patch\n"
     ]
    },
    {
     "name": "stderr",
     "output_type": "stream",
     "text": [
      "Map (num_proc=10):  42%|████▏     | 420/1000 [00:33<00:42, 13.70 examples/s]"
     ]
    },
    {
     "name": "stdout",
     "output_type": "stream",
     "text": [
      "https://github.com/Dolibarr/dolibarr/commit/023bc7d20e361c906b124c1602084532f7a0082a.patch\n",
      "https://github.com/hajimehoshi/ebiten/commit/017ad69e93c866f9c82eaca4d6bc9777a335c12c.patch\n",
      "https://github.com/akshayaurora/kivy/commit/023bd79b90f9831b45bb8eb449346648aa5fe5f8.patch\n"
     ]
    },
    {
     "name": "stderr",
     "output_type": "stream",
     "text": [
      "Map (num_proc=10):  42%|████▏     | 423/1000 [00:33<00:43, 13.36 examples/s]"
     ]
    },
    {
     "name": "stdout",
     "output_type": "stream",
     "text": [
      "https://github.com/uBlockOrigin/uAssets/commit/01da7b96141194a3aaca29fa4de4c678f83aaf83.patch\n",
      "https://github.com/opentable/otj-pg-embedded/commit/03e6948e03cef2d83cd15346ee3b4b520b41851b.patch\n"
     ]
    },
    {
     "name": "stderr",
     "output_type": "stream",
     "text": [
      "Map (num_proc=10):  42%|████▎     | 425/1000 [00:33<00:42, 13.53 examples/s]"
     ]
    },
    {
     "name": "stdout",
     "output_type": "stream",
     "text": [
      "https://github.com/olgeni/pkgkit/commit/02a3bba20ca555e0a3ada556cc25abbe01b6cd43.patch\n",
      "https://github.com/sdispater/tomlkit/commit/017b4d8ef3f4d48b9433355bac563457e42d86f8.patch\n",
      "https://github.com/MicroWorldwide/SS13-TG-station/commit/031c30fdd4565f35b952f00b032f14f1d019d86a.patch\n"
     ]
    },
    {
     "name": "stderr",
     "output_type": "stream",
     "text": [
      "Map (num_proc=10):  43%|████▎     | 428/1000 [00:34<00:44, 12.72 examples/s]"
     ]
    },
    {
     "name": "stdout",
     "output_type": "stream",
     "text": [
      "https://github.com/tensorflow/tflite-micro/commit/01da7c297affba25664bd5d551fcd05f3f32079d.patch\n",
      "https://github.com/approvals/Approvals.NodeJS/commit/03ea8c489d7078d7d0e4e9f8ccdc442ed4dc8606.patch\n",
      "https://github.com/vcmi/vcmi/commit/002e09fa2dcde35a94feef4cb8579bf62b1fa96e.patch\n",
      "https://github.com/approvals/ApprovalTests.Java/commit/023bfd7c695f27940ad780017d3ca03323dc1273.patch\n",
      "https://github.com/twitter/finagle/commit/008f290798553df2f08928c135cdaa50c13c435a.patch\n",
      "https://github.com/planetlabs/planet-client-python/commit/02a42a237495a406c5980e0bdc878af90ed39474.patch\n"
     ]
    },
    {
     "name": "stderr",
     "output_type": "stream",
     "text": [
      "Map (num_proc=10):  43%|████▎     | 434/1000 [00:34<00:27, 20.27 examples/s]"
     ]
    },
    {
     "name": "stdout",
     "output_type": "stream",
     "text": [
      "https://github.com/youtube/cobalt_sandbox/commit/0379fc73fd7c53f116d0e2ee16ca904d9e46dba4.patch\n",
      "https://github.com/LLK/scratch-www/commit/017b8cfd3dc2c18066ab701e8b9b098f9957cb18.patch\n",
      "https://github.com/thephpleague/flysystem/commit/031ce91c864613a19349611bd46e2549aa0f279f.patch\n"
     ]
    },
    {
     "name": "stderr",
     "output_type": "stream",
     "text": [
      "Map (num_proc=10):  44%|████▎     | 437/1000 [00:34<00:28, 19.66 examples/s]"
     ]
    },
    {
     "name": "stdout",
     "output_type": "stream",
     "text": [
      "https://github.com/sangria-graphql/sangria-play-json/commit/03ea945493028d100bfad19709cd1b2a858fb0dd.patch\n",
      "https://github.com/blackbaud/skyux/commit/01dae7515537269659b95b43b8e66eda61be51d1.patch\n",
      "https://github.com/qtile/qtile/commit/02a47e3561e3be660a937fdb3f00092619fd3266.patch\n"
     ]
    },
    {
     "name": "stderr",
     "output_type": "stream",
     "text": [
      "Map (num_proc=10):  44%|████▍     | 440/1000 [00:34<00:37, 14.74 examples/s]"
     ]
    },
    {
     "name": "stdout",
     "output_type": "stream",
     "text": [
      "https://github.com/feedbin/feedbin/commit/002edae8557fa9108b3a0a09496133e4df315214.patch\n",
      "https://github.com/Novum/vkQuake/commit/023d6e5566dfebec5da4cc83df4f438827a00553.patch\n"
     ]
    },
    {
     "name": "stderr",
     "output_type": "stream",
     "text": [
      "Map (num_proc=10):  44%|████▍     | 442/1000 [00:34<00:41, 13.45 examples/s]"
     ]
    },
    {
     "name": "stdout",
     "output_type": "stream",
     "text": [
      "https://github.com/videolan/vlc/commit/017d2d1c40276abfef6bae9c661626cc0117eebc.patch\n",
      "https://github.com/baku89/glslCanvas4AE/commit/008f7ee1b0d3c6e39163f65440452fe02b7a87cd.patch\n",
      "https://github.com/coreruleset/coreruleset/commit/00fbd0b1b0549aed75caa9b83caa7a105d6f6b89.patch\n",
      "https://github.com/StefanScherer/dotfiles/commit/02a604a88589afe7ac4ba37aa32058309cab8e6b.patch\n",
      "https://github.com/mawww/kakoune/commit/031de6d28ca7279989d431c2e0225803c9389887.patch\n"
     ]
    },
    {
     "name": "stderr",
     "output_type": "stream",
     "text": [
      "Map (num_proc=10):  45%|████▍     | 447/1000 [00:35<00:28, 19.34 examples/s]"
     ]
    },
    {
     "name": "stdout",
     "output_type": "stream",
     "text": [
      "https://github.com/thexerteproject/xerteonlinetoolkits/commit/03eb5c77cf22b7a6f30ab3d0171dceaf5b119c80.patch\n",
      "https://github.com/jaor/python/commit/023e09aaa79ce2c24703688c7c3d115af3045e1d.patch\n",
      "https://github.com/sgrif/diesel/commit/01db0ced9fcff120f8a90e2a3b5213da662fd71f.patch\n"
     ]
    },
    {
     "name": "stderr",
     "output_type": "stream",
     "text": [
      "Map (num_proc=10):  45%|████▌     | 450/1000 [00:35<00:31, 17.64 examples/s]"
     ]
    },
    {
     "name": "stdout",
     "output_type": "stream",
     "text": [
      "https://github.com/hyperspy/hyperspy_gui_ipywidgets/commit/017e12b7754688a94dcf3aa51ff57bae21dffb72.patch\n",
      "https://github.com/GoogleCloudPlatform/alloydb-auth-proxy/commit/0090b977341fd1e7fb3afb58dbe202e6b2863146.patch\n",
      "https://github.com/android/testing-samples/commit/02a642e760ea8d0ff8ed364339020a19e09055f8.patch\n",
      "https://github.com/tcler/bkr-client-improved/commit/031e02fb490f51577e1c819d0f5c7384d340bd43.patch\n",
      "https://github.com/WPO-Foundation/Wappalyzer/commit/00fd58df75fed05bd937108f181e9953df75176e.patch\n"
     ]
    },
    {
     "name": "stderr",
     "output_type": "stream",
     "text": [
      "Map (num_proc=10):  46%|████▌     | 455/1000 [00:35<00:25, 21.69 examples/s]"
     ]
    },
    {
     "name": "stdout",
     "output_type": "stream",
     "text": [
      "https://github.com/ccxt/ccxt/commit/002f7f78998106482e89ca2904d046fe76a27500.patch\n",
      "https://github.com/dhowe/AdNauseam/commit/03ec2f15cf583e5d1b8549b83e1be7d40365112d.patch\n",
      "https://github.com/stefanbode/Sonoff-Tasmota/commit/02408df708bec4b980a305b58a20cb2d5f6c6b11.patch\n"
     ]
    },
    {
     "name": "stderr",
     "output_type": "stream",
     "text": [
      "Map (num_proc=10):  46%|████▌     | 458/1000 [00:35<00:40, 13.49 examples/s]"
     ]
    },
    {
     "name": "stdout",
     "output_type": "stream",
     "text": [
      "https://github.com/lrytz/scala/commit/00fd7503b6f6ef12460173bfc8b6c80e72ccb9a4.patch\n",
      "https://github.com/aarnt/octoxbps/commit/02a6a4e54350e9060a0acb933190e70d4cf3f325.patchhttps://github.com/ColorfulCakeChen/query-submit-canvas/commit/037a18aec1f0911c06a27fc8bdbca27b1958c677.patch\n",
      "\n",
      "https://github.com/tensorflow/docs-l10n/commit/031e37c80ebffd20882ca1d5bdb6ec4f10aa4f6e.patch\n",
      "https://github.com/knative-sandbox/knobots/commit/01db1536edc00718bcf45e70cc892737efe6f492.patch\n"
     ]
    },
    {
     "name": "stderr",
     "output_type": "stream",
     "text": [
      "Map (num_proc=10):  46%|████▋     | 463/1000 [00:36<00:30, 17.40 examples/s]"
     ]
    },
    {
     "name": "stdout",
     "output_type": "stream",
     "text": [
      "https://github.com/all-of-us/workbench/commit/03ec7673eefcb19b875c7d112e1cfcda17c0ff33.patch\n",
      "https://github.com/PyPSA/PyPSA/commit/024117feaed10dbecc66e862e3f6cc7da56fc3b2.patch\n",
      "https://github.com/dnshi/Leetcode/commit/02a6d48eaa9181e29c021b67d775139858afe57d.patch\n"
     ]
    },
    {
     "name": "stderr",
     "output_type": "stream",
     "text": [
      "Map (num_proc=10):  47%|████▋     | 466/1000 [00:36<00:40, 13.25 examples/s]"
     ]
    },
    {
     "name": "stdout",
     "output_type": "stream",
     "text": [
      "https://github.com/davebooth/osis-converters/commit/00fee7398e089cf32191223106b512615b996b58.patch\n",
      "https://github.com/imbasimba/astroquery/commit/03eca88375332d15f7bf91f146281a1900149829.patch\n"
     ]
    },
    {
     "name": "stderr",
     "output_type": "stream",
     "text": [
      "Map (num_proc=10):  47%|████▋     | 468/1000 [00:36<00:44, 11.84 examples/s]"
     ]
    },
    {
     "name": "stdout",
     "output_type": "stream",
     "text": [
      "https://github.com/sio/potyarkin.ml/commit/01db35a45a022db7f7bddce94d4af216383ec55e.patch\n",
      "https://github.com/openjdk/jdk/commit/017e7988b197427f6b464303788a418a1d892ab9.patch\n"
     ]
    },
    {
     "name": "stderr",
     "output_type": "stream",
     "text": [
      "Map (num_proc=10):  47%|████▋     | 470/1000 [00:36<00:43, 12.26 examples/s]"
     ]
    },
    {
     "name": "stdout",
     "output_type": "stream",
     "text": [
      "https://github.com/fcc-joemcintyre/pollster/commit/0242ca6a97981befb1dcfbfc6028d25579adba95.patchhttps://github.com/kendrikat/wegift-ruby-client/commit/00914bc094defe06edcb9ea262390362f6014ca2.patch\n",
      "\n"
     ]
    },
    {
     "name": "stderr",
     "output_type": "stream",
     "text": [
      "Map (num_proc=10):  47%|████▋     | 472/1000 [00:36<00:40, 13.17 examples/s]"
     ]
    },
    {
     "name": "stdout",
     "output_type": "stream",
     "text": [
      "https://github.com/avoidwork/filesize.js/commit/00ff1aea8d56d0f184a7fd0226506428a9edb3dc.patch\n",
      "https://github.com/PanoptikumIO/pan/commit/0031c5e28f9fc9021db1f1a301ff433df0ee1242.patch\n"
     ]
    },
    {
     "name": "stderr",
     "output_type": "stream",
     "text": [
      "Map (num_proc=10):  47%|████▋     | 474/1000 [00:37<01:03,  8.34 examples/s]"
     ]
    },
    {
     "name": "stdout",
     "output_type": "stream",
     "text": [
      "https://github.com/TheEadie/LazyStorage/commit/03ed6e47b50188eb3c778d8eacdf8370349ccf04.patch\n",
      "https://github.com/TYPO3-CMS/core/commit/037abeb74571ce3c31a31ea5632c6cd52b597969.patch\n",
      "https://github.com/siteorigin/vantage/commit/02a781e4c5236c03272cfd91dda81a9d386a45b6.patchhttps://github.com/butcherg/rawproc/commit/0033dc7428b71bb6c2aeef30026271e0ed0e15d7.patch\n",
      "\n"
     ]
    },
    {
     "name": "stderr",
     "output_type": "stream",
     "text": [
      "Map (num_proc=10):  48%|████▊     | 477/1000 [00:38<01:20,  6.51 examples/s]"
     ]
    },
    {
     "name": "stdout",
     "output_type": "stream",
     "text": [
      "https://github.com/archesproject/arches/commit/00917f68d2e06978355bc4600b9549b509245a85.patch\n",
      "https://github.com/usegalaxy-eu/usegalaxy-eu-tools/commit/03f1c2928156a20eaf1804e0af5b4c3dddbc233b.patch\n",
      "https://github.com/stahta01/MINGW-packages/commit/01dc647510b8de1127b6addcc04350c529b60783.patch\n"
     ]
    },
    {
     "name": "stderr",
     "output_type": "stream",
     "text": [
      "Map (num_proc=10):  48%|████▊     | 481/1000 [00:38<00:53,  9.68 examples/s]"
     ]
    },
    {
     "name": "stdout",
     "output_type": "stream",
     "text": [
      "https://github.com/ojrosten/sequoia/commit/031e5bb011512afcad098e5d7da1fd3a4daa5fd4.patch\n",
      "https://github.com/sniffy/sniffy/commit/017f7505050702c34be14a0825b60cff4eb4be08.patch\n",
      "https://github.com/nkgilley/home-assistant/commit/0099560a8d22102cba703dd8e9e5a098c757b44a.patch\n"
     ]
    },
    {
     "name": "stderr",
     "output_type": "stream",
     "text": [
      "Map (num_proc=10):  48%|████▊     | 484/1000 [00:38<00:47, 10.87 examples/s]"
     ]
    },
    {
     "name": "stdout",
     "output_type": "stream",
     "text": [
      "https://github.com/common-voice/common-voice/commit/02433dbc2444611907ba002dac84e7bc197bb7b6.patch\n",
      "https://github.com/indieweb/wiki/commit/01dcb650559d458aff463665ddeb103abdcbf8f0.patch\n",
      "https://github.com/GoogleCloudPlatform/DataflowTemplates/commit/031e93d8dce1285ba66c586f6c4b22e7e81ccfa0.patch\n",
      "https://github.com/radarsh/gradle-test-logger-plugin/commit/03f28ba5fbfbf13d708a6dd9d8553bae1fb68979.patch\n"
     ]
    },
    {
     "name": "stderr",
     "output_type": "stream",
     "text": [
      "Map (num_proc=10):  49%|████▉     | 488/1000 [00:38<00:39, 12.90 examples/s]"
     ]
    },
    {
     "name": "stdout",
     "output_type": "stream",
     "text": [
      "https://github.com/coleifer/huey/commit/03f2c2acf7e9b34087d561a32dc200c4c2f4125c.patch\n",
      "https://github.com/tensorflow/tensorflow/commit/0099736857bfd689496d918e7be88c77abec19ed.patch\n"
     ]
    },
    {
     "name": "stderr",
     "output_type": "stream",
     "text": [
      "Map (num_proc=10):  49%|████▉     | 490/1000 [00:39<00:53,  9.54 examples/s]"
     ]
    },
    {
     "name": "stdout",
     "output_type": "stream",
     "text": [
      "https://github.com/GNOME/libgsf/commit/037aff7b7b149ed3b6e3331b8ccec65b93799add.patch\n",
      "https://github.com/dims/test-infra/commit/0244337af9944ee155a98839028ef93223cf3282.patch\n",
      "https://github.com/JabRef/jabref/commit/0320300a236c6f2320e3b188d1cc7c79f8cfb71d.patch\n",
      "https://github.com/zyantific/zydis/commit/01dddb9364d21226c1fefc47275208822eea8c53.patch\n",
      "https://github.com/Stellarium/stellarium/commit/017f8a810771ebea2f889af1a37fe86e204e78b1.patch\n"
     ]
    },
    {
     "name": "stderr",
     "output_type": "stream",
     "text": [
      "Map (num_proc=10):  50%|████▉     | 495/1000 [00:39<00:37, 13.32 examples/s]"
     ]
    },
    {
     "name": "stdout",
     "output_type": "stream",
     "text": [
      "https://github.com/jenkoian/hacktoberfest-checker/commit/00ff410a46e74bd875711bc37b4538f447bf1195.patch\n",
      "https://github.com/wso2-extensions/identity-inbound-provisioning-scim2/commit/03f5792826a84292d1282c1b2deeed368c97d982.patch\n"
     ]
    },
    {
     "name": "stderr",
     "output_type": "stream",
     "text": [
      "Map (num_proc=10):  50%|████▉     | 497/1000 [00:39<00:41, 12.01 examples/s]"
     ]
    },
    {
     "name": "stdout",
     "output_type": "stream",
     "text": [
      "https://github.com/gavinwahl/django-u2f/commit/017fe7f4cd1099a9e1b0152e29cca96c5e228925.patch\n",
      "https://github.com/huggingface/diffusers/commit/0244e2af4ca354b4fed5a7258cebdd3f28a606c0.patch\n"
     ]
    },
    {
     "name": "stderr",
     "output_type": "stream",
     "text": [
      "Map (num_proc=10):  50%|████▉     | 499/1000 [00:39<00:45, 11.01 examples/s]"
     ]
    },
    {
     "name": "stdout",
     "output_type": "stream",
     "text": [
      "https://github.com/aergonaut/cody/commit/0099c311a03100eb20180cfeb5a144697a8987cd.patch\n",
      "https://github.com/nfrechette/acl/commit/037b800123730dbef8bb8f01c5847fa1abf50730.patch\n"
     ]
    },
    {
     "name": "stderr",
     "output_type": "stream",
     "text": [
      "Map (num_proc=10):  50%|█████     | 501/1000 [00:40<01:05,  7.60 examples/s]"
     ]
    },
    {
     "name": "stdout",
     "output_type": "stream",
     "text": [
      "https://github.com/leanprover-community/mathlib/commit/03f5ac93053efd6290745aa21f4dc51addddfd63.patch\n",
      "https://github.com/bestguy/sveltestrap/commit/00ff7a1e8ac243b9784e822306712147133f533d.patch\n",
      "https://github.com/perimosocordiae/scipy/commit/02a8ac468bf11eec37d9438bc0cbc29a3684850c.patch\n",
      "https://github.com/joshua-cogliati-inl/raven/commit/01de19d168704a60b73e49ea777f884f2fde24cc.patch\n",
      "https://github.com/emundus/v6/commit/032042158313c8f2dbdfc63357a664c8d6c1c5b3.patch\n",
      "https://github.com/facebookexperimental/eden/commit/0034abe5747fa352125e99baa7b07743bf800281.patch\n"
     ]
    },
    {
     "name": "stderr",
     "output_type": "stream",
     "text": [
      "Map (num_proc=10):  51%|█████     | 507/1000 [00:40<00:39, 12.56 examples/s]"
     ]
    },
    {
     "name": "stdout",
     "output_type": "stream",
     "text": [
      "https://github.com/exelearning/iteexe/commit/037bd3cffeb2bea7de5097c5424d0d793979a75b.patch\n",
      "https://github.com/technology16/pgsqlblocks/commit/01011d6a9df6e861479b4905b592721df5864872.patch\n"
     ]
    },
    {
     "name": "stderr",
     "output_type": "stream",
     "text": [
      "Map (num_proc=10):  51%|█████     | 509/1000 [00:40<00:37, 13.13 examples/s]"
     ]
    },
    {
     "name": "stdout",
     "output_type": "stream",
     "text": [
      "https://github.com/hannesa2/owncloud-android/commit/009a5a0b2afd77990964ee2cf25f8f345df41937.patch\n",
      "https://github.com/rloomans/measure-mate/commit/03f8a666a91238b23ce13c288fa812f77bf87274.patch\n",
      "https://github.com/kenjis/CodeIgniter4/commit/01de988b4bd6c33ea8fa8221cb3d497f773ddb72.patch\n",
      "https://github.com/xuxueli/xuxueli.github.io/commit/03213a3f1d826df096d349d1ca8f0dea40361e41.patch\n",
      "https://github.com/mupen64plus/mupen64plus-input-sdl/commit/003599b268d2082a59e23da45846e9d050dbbcee.patch\n"
     ]
    },
    {
     "name": "stderr",
     "output_type": "stream",
     "text": [
      "Map (num_proc=10):  51%|█████▏    | 514/1000 [00:40<00:27, 17.90 examples/s]"
     ]
    },
    {
     "name": "stdout",
     "output_type": "stream",
     "text": [
      "https://github.com/GoogleCloudPlatform/cloud-sql-python-connector/commit/009dfda4da6848ab36f42cec2effc3ad3925da69.patch\n",
      "https://github.com/wikimedia/mediawiki-extensions-GlobalUsage/commit/03f917621ef67459007a95aca3e5042d58392248.patch\n",
      "https://github.com/annando/friendica/commit/0104930fb37933759f5eced266771aaa32687771.patch\n"
     ]
    },
    {
     "name": "stderr",
     "output_type": "stream",
     "text": [
      "Map (num_proc=10):  52%|█████▏    | 517/1000 [00:40<00:28, 17.02 examples/s]"
     ]
    },
    {
     "name": "stdout",
     "output_type": "stream",
     "text": [
      "https://github.com/AntennaPod/AntennaPod/commit/03220d07748d0908c4cf4e6b260ce828dc5ebaac.patch\n",
      "https://github.com/jeonghoonkang/BerePi/commit/01df0c7b4433e3df20fecea77f475def83f0c3f8.patch\n",
      "https://github.com/haml/haml/commit/0322d95341cb6a59df4673fd0b5d0d02d82f9d24.patch\n"
     ]
    },
    {
     "name": "stderr",
     "output_type": "stream",
     "text": [
      "Map (num_proc=10):  52%|█████▏    | 520/1000 [00:41<00:37, 12.71 examples/s]"
     ]
    },
    {
     "name": "stdout",
     "output_type": "stream",
     "text": [
      "https://github.com/hiroyuki-kasai/NMFLibrary/commit/0246625cfa9d4ec6953711f8a469386d05ba7cbe.patch\n",
      "https://github.com/dceoy/docker-bio/commit/01df0d2a5185269cc01c6badb20275fd6d3e4a39.patchhttps://github.com/cminyard/linux-live-app-coredump/commit/00360ebae483e603d55ec9a7231b787cb80ffe13.patch\n",
      "\n"
     ]
    },
    {
     "name": "stderr",
     "output_type": "stream",
     "text": [
      "Map (num_proc=10):  52%|█████▏    | 522/1000 [00:41<00:35, 13.58 examples/s]"
     ]
    },
    {
     "name": "stdout",
     "output_type": "stream",
     "text": [
      "https://github.com/bonigarcia/webdrivermanager-examples/commit/03f937a91b05dfdcb4b2a0d38746c714bea2db16.patchhttps://github.com/aptos-labs/aptos-core/commit/01075ea0c2fe32ec363e5d829ce4ed70f028f5e9.patch\n",
      "\n"
     ]
    },
    {
     "name": "stderr",
     "output_type": "stream",
     "text": [
      "Map (num_proc=10):  52%|█████▏    | 524/1000 [00:41<00:34, 13.68 examples/s]"
     ]
    },
    {
     "name": "stdout",
     "output_type": "stream",
     "text": [
      "https://github.com/nxhack/openwrt-node-packages/commit/0246dc08133c4304f4906cdc918f0d85d7210f4a.patch\n"
     ]
    },
    {
     "name": "stderr",
     "output_type": "stream",
     "text": [
      "Map (num_proc=10):  53%|█████▎    | 526/1000 [00:41<00:48,  9.82 examples/s]"
     ]
    },
    {
     "name": "stdout",
     "output_type": "stream",
     "text": [
      "https://github.com/pagarme/pagarme-js/commit/01e09c97b72e35797e2da85b86bb67ed93ab1586.patch\n",
      "https://github.com/indieweb/wiki/commit/03fbc1945786d89f7bb7f8a0ccf1825d64a6b82b.patch\n",
      "https://github.com/dita-ot/dita-ot/commit/037c3e9d8761ab8779017867c703f7d901734673.patch"
     ]
    },
    {
     "name": "stderr",
     "output_type": "stream",
     "text": [
      "Map (num_proc=10):  53%|█████▎    | 528/1000 [00:42<00:50,  9.29 examples/s]"
     ]
    },
    {
     "name": "stdout",
     "output_type": "stream",
     "text": [
      "\n",
      "https://github.com/Unleash/unleash/commit/010a699a1962ff63ef6224a689e3db328aa7bc59.patch\n",
      "https://github.com/simplabs/website/commit/009f2d33e04ed68646fb0d34434d27f33575ff34.patch\n"
     ]
    },
    {
     "name": "stderr",
     "output_type": "stream",
     "text": [
      "Map (num_proc=10):  53%|█████▎    | 531/1000 [00:42<00:39, 11.99 examples/s]"
     ]
    },
    {
     "name": "stdout",
     "output_type": "stream",
     "text": [
      "https://github.com/NationalSecurityAgency/ghidra/commit/03fbc6ba0964a1f960bf6b6c4d6c4119bda0dba4.patch\n",
      "https://github.com/github/codeql/commit/003866621f8e41c9de7a36b8cc129effa1dbf670.patchhttps://github.com/cpcloud/ibis/commit/010abf10f8541e39b1390100a7b24f752390a418.patch\n",
      "\n"
     ]
    },
    {
     "name": "stderr",
     "output_type": "stream",
     "text": [
      "Map (num_proc=10):  53%|█████▎    | 533/1000 [00:42<00:40, 11.54 examples/s]"
     ]
    },
    {
     "name": "stdout",
     "output_type": "stream",
     "text": [
      "https://github.com/FStarLang/FStar/commit/0247e6674307954242ee16fb5919beb5b2e43096.patch\n",
      "https://github.com/kingjon3377/strategicprimer-viewer/commit/032339ec0b90daf0d9bd59e996ee476e56fe82db.patch\n",
      "https://github.com/DestinyItemManager/DIM/commit/02a8c0e4234246b9184677336aa4dc18f597efec.patch\n"
     ]
    },
    {
     "name": "stderr",
     "output_type": "stream",
     "text": [
      "Map (num_proc=10):  54%|█████▎    | 537/1000 [00:42<00:28, 16.24 examples/s]"
     ]
    },
    {
     "name": "stdout",
     "output_type": "stream",
     "text": [
      "https://github.com/grafana/grafana/commit/00a08afaac20f6b6ce83e960e996549c7d12b3ec.patch\n",
      "https://github.com/adaptlearning/adapt-contrib-media/commit/01e233c1526dc6cb26c0610d5ef39d856ddee0c9.patch\n",
      "https://github.com/josh64x2/vienna-rss/commit/010ade74215cd411fb5a7225afb08a7b10504c57.patch\n"
     ]
    },
    {
     "name": "stderr",
     "output_type": "stream",
     "text": [
      "Map (num_proc=10):  54%|█████▍    | 540/1000 [00:42<00:26, 17.24 examples/s]"
     ]
    },
    {
     "name": "stdout",
     "output_type": "stream",
     "text": [
      "https://github.com/leanprover-community/mathlib/commit/0038a0436f689d37fd3ad00d69d617c338ae6028.patch\n",
      "https://github.com/numba/numba/commit/0323aea4173b4b1b41aa99a62d1d7ff0455fc0d9.patchhttps://github.com/kubernetes/sig-release/commit/0248034710267960b5fa1d46d512c127876582e1.patch\n",
      "\n",
      "https://github.com/docker-library/repo-info/commit/02a9ca187d48f355f96f65164b427b1093c83409.patch\n"
     ]
    },
    {
     "name": "stderr",
     "output_type": "stream",
     "text": [
      "Map (num_proc=10):  54%|█████▍    | 544/1000 [00:42<00:21, 21.42 examples/s]"
     ]
    },
    {
     "name": "stdout",
     "output_type": "stream",
     "text": [
      "https://github.com/cminyard/linux-live-app-coredump/commit/03fe003547975680fdb9ff5ab0e41cb68276c4f2.patchhttps://github.com/jaedb/Iris/commit/018211247698d44d579cb24e92787f79c7dcc284.patch\n",
      "\n",
      "https://github.com/Netflix/atlas/commit/00a0f74fc589811256d0fe57d7762233ad29f665.patch\n",
      "https://github.com/Indicia-Team/warehouse/commit/01e400429a790d81c78b2ce71c251bb0c4de4f17.patchhttps://github.com/ROCm-Developer-Tools/HIP/commit/037cc162d02a020b284233fe60ccdf7f2494e11a.patch\n",
      "\n"
     ]
    },
    {
     "name": "stderr",
     "output_type": "stream",
     "text": [
      "Map (num_proc=10):  55%|█████▍    | 548/1000 [00:42<00:20, 22.48 examples/s]"
     ]
    },
    {
     "name": "stdout",
     "output_type": "stream",
     "text": [
      "https://github.com/Jigsaw-Code/outline-client/commit/010b48c5b19d3079ecd8dea2884249051d5c0f8b.patch\n",
      "https://github.com/bsobotka/amv_tracker/commit/02aa3eaf31fbb1bcf456c0134d4a4fca4953a5d8.patch\n"
     ]
    },
    {
     "name": "stderr",
     "output_type": "stream",
     "text": [
      "Map (num_proc=10):  55%|█████▌    | 551/1000 [00:43<00:22, 19.95 examples/s]"
     ]
    },
    {
     "name": "stdout",
     "output_type": "stream",
     "text": [
      "https://github.com/milljm/moose/commit/003a8a5f876dcef237c48a4b636757713bf0dad4.patch\n",
      "https://github.com/udotdevelopment/ATSPM/commit/02aca140b9790a6d24c6c5521fa20d34989dc95d.patch\n",
      "https://github.com/facebook/fbthrift/commit/0323c14fe01b1fce50669e9014b55741601442d8.patch\n"
     ]
    },
    {
     "name": "stderr",
     "output_type": "stream",
     "text": [
      "Map (num_proc=10):  55%|█████▌    | 554/1000 [00:43<00:30, 14.56 examples/s]"
     ]
    },
    {
     "name": "stdout",
     "output_type": "stream",
     "text": [
      "https://github.com/GenomicsStandardsConsortium/mixs/commit/00a27af3dca731aa2ebe9c461a92d5d2caf533ab.patch\n",
      "https://github.com/tago-io/tago-sdk-js/commit/010b52399ffaf930a4c3330fe763f91b8ec7ee5e.patch\n",
      "https://github.com/Ocramius/OcraCachedViewResolver/commit/024815f41bd386467d3097293c62867cf59c543c.patch\n",
      "https://github.com/wso2/carbon-apimgt/commit/0182b19900d0813ee3385b40a17532dce55344cd.patch\n",
      "https://github.com/kdeldycke/meta-package-manager/commit/01e40e801bfeacd79d672f98e5f3913fda1a52de.patch\n"
     ]
    },
    {
     "name": "stderr",
     "output_type": "stream",
     "text": [
      "Map (num_proc=10):  56%|█████▌    | 559/1000 [00:43<00:23, 18.72 examples/s]"
     ]
    },
    {
     "name": "stdout",
     "output_type": "stream",
     "text": [
      "https://github.com/chrisfinazzo/homebrew-core/commit/02acfaa4789820ed9d7403c5dc13b9da27f3ad1e.patchhttps://github.com/open-telemetry/opentelemetry-dotnet-contrib/commit/03fee189176a1c40fd95f31b401dd835f84cce76.patch\n",
      "\n",
      "https://github.com/Ocramius/GeneratedHydrator/commit/0249ccb5a19bc60e1715ab60abce3cd77de39cd1.patch\n"
     ]
    },
    {
     "name": "stderr",
     "output_type": "stream",
     "text": [
      "Map (num_proc=10):  56%|█████▌    | 562/1000 [00:43<00:22, 19.13 examples/s]"
     ]
    },
    {
     "name": "stdout",
     "output_type": "stream",
     "text": [
      "https://github.com/apache/jena/commit/0182d56377adf5da32e05f02bb0560705c0cd29f.patch\n",
      "https://github.com/UniversalDependencies/tools/commit/00a4353892cf9bd273eb4df692cb435a287b2459.patch\n",
      "https://github.com/stan-dev/math/commit/010c1c82060ef607124f37ee3598d684ee214ac1.patch\n"
     ]
    },
    {
     "name": "stderr",
     "output_type": "stream",
     "text": [
      "Map (num_proc=10):  56%|█████▋    | 565/1000 [00:43<00:24, 18.08 examples/s]"
     ]
    },
    {
     "name": "stdout",
     "output_type": "stream",
     "text": [
      "https://github.com/wordpress-mobile/WordPress-Android/commit/00a6539c093e0053bd990e31013932130f9c5a63.patch\n",
      "https://github.com/Grabacr07/VirtualDesktop/commit/01e5f0751f051a446ff69eacb420a61a0ab05d56.patch\n",
      "https://github.com/jmercouris/NeXT/commit/032463867a4d0e313fec927c02e0ac11c4b1273e.patch\n"
     ]
    },
    {
     "name": "stderr",
     "output_type": "stream",
     "text": [
      "Map (num_proc=10):  57%|█████▋    | 568/1000 [00:44<00:29, 14.55 examples/s]"
     ]
    },
    {
     "name": "stdout",
     "output_type": "stream",
     "text": [
      "https://github.com/google/gops/commit/024cce5849c8771f3afc22ea334ae844ec6418e3.patch\n",
      "https://github.com/JuliaRegistries/Uncurated/commit/037e98ddb79a67292035e633b919cf1cf9109aff.patch\n"
     ]
    },
    {
     "name": "stderr",
     "output_type": "stream",
     "text": [
      "Map (num_proc=10):  57%|█████▋    | 570/1000 [00:44<00:30, 14.31 examples/s]"
     ]
    },
    {
     "name": "stdout",
     "output_type": "stream",
     "text": [
      "https://github.com/kubernetes/autoscaler/commit/01e637767963b677d485b9c9691ca99d9ee8008c.patch\n",
      "https://github.com/galak/zephyr/commit/018375a42bacb79815f25a0c63b9cba6a9c8b9fc.patch\n",
      "https://github.com/open-telemetry/opentelemetry-go/commit/010ca4f2b13f68fbc6cd40f83e174e3b1f61c240.patch\n",
      "https://github.com/martincostello/website/commit/003acdf8fc9646bcfbc74bc71c7d3897f6e4d75b.patch\n",
      "https://github.com/zalando-incubator/kubernetes-on-aws/commit/01e8e695c35728751e27a766b795a1287af4f842.patch\n"
     ]
    },
    {
     "name": "stderr",
     "output_type": "stream",
     "text": [
      "Map (num_proc=10):  57%|█████▊    | 575/1000 [00:44<00:24, 17.51 examples/s]"
     ]
    },
    {
     "name": "stdout",
     "output_type": "stream",
     "text": [
      "https://github.com/m4ns0ur/m4ns0ur.github.io/commit/00a68efc41116db98ea9227e226db2baf02d6d1e.patch\n",
      "https://github.com/robkorv/ubuntu-post-install-todo/commit/0325f78fb7f558046a86ed3b40a0e7e573502f65.patch\n"
     ]
    },
    {
     "name": "stderr",
     "output_type": "stream",
     "text": [
      "Map (num_proc=10):  58%|█████▊    | 577/1000 [00:44<00:30, 13.67 examples/s]"
     ]
    },
    {
     "name": "stdout",
     "output_type": "stream",
     "text": [
      "https://github.com/pac4j/undertow-pac4j-demo/commit/003be9b414d5128c99bf39bfda10b65cd816981c.patch\n",
      "https://github.com/nextgenusfs/funannotate/commit/037f1ec3303a003eef53b5c6443f9648c4fb52b3.patch\n"
     ]
    },
    {
     "name": "stderr",
     "output_type": "stream",
     "text": [
      "Map (num_proc=10):  58%|█████▊    | 579/1000 [00:45<00:30, 13.61 examples/s]"
     ]
    },
    {
     "name": "stdout",
     "output_type": "stream",
     "text": [
      "https://github.com/nkgilley/home-assistant/commit/010e6cb4ba2ccab9a4b02a7d30a6d090ea2253b4.patch\n",
      "https://github.com/Helltar/ANPASIDE/commit/01e9fae28717abfd01dbc6e32aa6dd8c3ba67e6e.patch\n",
      "https://github.com/Sylius/Sylius-Standard/commit/02b0ad316de0c9847f0bc4fee0a5d513caec8143.patch\n"
     ]
    },
    {
     "name": "stderr",
     "output_type": "stream",
     "text": [
      "Map (num_proc=10):  58%|█████▊    | 582/1000 [00:45<00:26, 15.54 examples/s]"
     ]
    },
    {
     "name": "stdout",
     "output_type": "stream",
     "text": [
      "https://github.com/nilesjohnson/yasnippets-latex/commit/03ff46bfc880971d0e9c2eeb3c994d97185d62bf.patch\n",
      "https://github.com/akaunting/akaunting/commit/003c418243d54c5e5a27bbd0106b7327e59d0253.patch\n",
      "https://github.com/TrinityCore/TrinityCore/commit/010e6f7f49744b16e3ecececb7d9605f8b8db4d5.patch\n"
     ]
    },
    {
     "name": "stderr",
     "output_type": "stream",
     "text": [
      "Map (num_proc=10):  58%|█████▊    | 585/1000 [00:45<00:23, 17.32 examples/s]"
     ]
    },
    {
     "name": "stdout",
     "output_type": "stream",
     "text": [
      "https://github.com/ShiftMediaProject/libvpx/commit/03265cd42b3783532de72f2ded5436652e6f5ce3.patch\n",
      "https://github.com/alphagov/whitehall/commit/00a9e505cbed4c11a75f8374788d044b17b60696.patch\n"
     ]
    },
    {
     "name": "stderr",
     "output_type": "stream",
     "text": [
      "Map (num_proc=10):  59%|█████▊    | 587/1000 [00:45<00:30, 13.61 examples/s]"
     ]
    },
    {
     "name": "stdout",
     "output_type": "stream",
     "text": [
      "https://github.com/mahori/homebrew-cask-versions/commit/02b2956d893f40b9bee17dd11d03cdc800904216.patch\n",
      "https://github.com/flutter/flutter/commit/02b2c2cde60d7a489387343235f12b8c97ba7be7.patch\n"
     ]
    },
    {
     "name": "stderr",
     "output_type": "stream",
     "text": [
      "Map (num_proc=10):  59%|█████▉    | 589/1000 [00:45<00:38, 10.67 examples/s]"
     ]
    },
    {
     "name": "stdout",
     "output_type": "stream",
     "text": [
      "https://github.com/reactor/reactor-netty/commit/003ce47d3fe51a2dcf96ce283006b478c18ce530.patch\n",
      "https://github.com/mirkobrombin/Bottles/commit/00ab4466dadde25230d0ee57338ac02e32ae2811.patch\n",
      "https://github.com/pacoorozco/ssham/commit/0401837a14febc6f3872a7dd5b1380032473fa43.patch\n",
      "https://github.com/heroku/heroku-buildpack-php/commit/03271f073a3cd16dc27cf45571fa33ca7609a67c.patch\n",
      "https://github.com/wemake-services/wemake-django-template/commit/0187711ac8c0f0a93c06bb52af58a4bc55b16817.patch\n"
     ]
    },
    {
     "name": "stderr",
     "output_type": "stream",
     "text": [
      "Map (num_proc=10):  59%|█████▉    | 594/1000 [00:45<00:24, 16.84 examples/s]"
     ]
    },
    {
     "name": "stdout",
     "output_type": "stream",
     "text": [
      "https://github.com/googleapis/java-gsuite-addons/commit/02b3118e81379b396eaf01203c2e8dd94648f093.patch\n",
      "https://github.com/rht/zulip/commit/003d086f2e6479804092ecf27ba3ff09a5824b2e.patch\n",
      "https://github.com/facebookexperimental/eden/commit/024e861b201fb8bc9b24971b4f8f9a803cfd4c4d.patch\n"
     ]
    },
    {
     "name": "stderr",
     "output_type": "stream",
     "text": [
      "Map (num_proc=10):  60%|█████▉    | 597/1000 [00:46<00:22, 18.30 examples/s]"
     ]
    },
    {
     "name": "stdout",
     "output_type": "stream",
     "text": [
      "https://github.com/riganti/dotvvm/commit/00abd5be05a1cfbbef3c81843b0f0ee1fb5f3af5.patch\n",
      "https://github.com/angular/material-builds/commit/037f4f3763bb10aedc79ef08b3759d3e70bf94dd.patch\n",
      "https://github.com/firebase/SpecsTesting/commit/02b320a78286de1083a4b539091e69fc8bb5099f.patch\n"
     ]
    },
    {
     "name": "stderr",
     "output_type": "stream",
     "text": [
      "Map (num_proc=10):  60%|██████    | 600/1000 [00:46<00:20, 19.78 examples/s]"
     ]
    },
    {
     "name": "stdout",
     "output_type": "stream",
     "text": [
      "https://github.com/gocd/docs.go.cd/commit/003d1f73b2c97ab52246fd83433f14281886c8cf.patch\n",
      "https://github.com/facebook/wangle/commit/00abeedd70f621bb318daf310dff9bed831c6e76.patchhttps://github.com/webtorrent/webtorrent/commit/024f397b88490de3e8c0c0e4ff4db2eb3dc19abe.patch\n",
      "\n",
      "https://github.com/asciidoctor/asciidoctor-pdf/commit/01ea7111a113eef9aa095773086df216baa1e034.patchhttps://github.com/wikimedia/pywikibot-core/commit/04043768cebf4fa02dc1a37e3566b8df317c47fe.patch\n",
      "\n",
      "https://github.com/aliyun/alibaba-cloud-sdk-go/commit/03280cd6e7fdd170cf24be67b071bb9a43596f82.patch\n",
      "https://github.com/world-federation-of-advertisers/virtual-people-common/commit/0188dd111ad26d28ff3a194dd7a1944444ff946d.patch\n"
     ]
    },
    {
     "name": "stderr",
     "output_type": "stream",
     "text": [
      "Map (num_proc=10):  61%|██████    | 607/1000 [00:46<00:13, 28.69 examples/s]"
     ]
    },
    {
     "name": "stdout",
     "output_type": "stream",
     "text": [
      "https://github.com/uclouvain/osis/commit/02b37d2fad9ab61a6a75c0576e2890e7d2bac95a.patchhttps://github.com/langcog/wordbank/commit/038134d65c9b56e7830d4f85eeeffd77d49eae74.patch\n",
      "\n",
      "https://github.com/dominikh/go-tools/commit/003d277bcf3bcc320b9fddf720cd0d49e0bfb782.patch\n",
      "https://github.com/stripe/stripe-php/commit/024f4330a2a5c48b0c5a5fa2fa77101337d7d9e3.patch\n"
     ]
    },
    {
     "name": "stderr",
     "output_type": "stream",
     "text": [
      "Map (num_proc=10):  61%|██████    | 611/1000 [00:46<00:19, 19.80 examples/s]"
     ]
    },
    {
     "name": "stdout",
     "output_type": "stream",
     "text": [
      "https://github.com/isard-vdi/isard/commit/04044e9ab8bcbc388561380093ef4d22e5d3975b.patch\n",
      "https://github.com/becm/mpt-solver/commit/01eaba5ab2ea8d86d365ff48b1b483647c1db9d1.patchhttps://github.com/jwren/intellij-community/commit/010f9032566164aa5149199ed97272d4d135da1b.patchhttps://github.com/parapluu/Concuerror/commit/0328f6d734ac10f2268a1ef038fe68e69cb83d19.patch\n",
      "\n",
      "\n"
     ]
    },
    {
     "name": "stderr",
     "output_type": "stream",
     "text": [
      "Map (num_proc=10):  61%|██████▏   | 614/1000 [00:46<00:18, 20.61 examples/s]"
     ]
    },
    {
     "name": "stdout",
     "output_type": "stream",
     "text": [
      "https://github.com/jens-maus/amissl/commit/0250b07ebccc4e657a80210a991faa474a42cd2a.patch\n",
      "https://github.com/prebid/prebid.github.io/commit/0381da91796067741065da5de95dbe527e0c932b.patchhttps://github.com/iterate-ch/cyberduck/commit/02b5552a53dbefa96c39b7a0dc42d4ac2a4c4af2.patch\n",
      "\n",
      "https://github.com/compsocialscience/summer-institute/commit/003d2992935b3b76cfbf778ccac750cf22e61462.patch\n"
     ]
    },
    {
     "name": "stderr",
     "output_type": "stream",
     "text": [
      "Map (num_proc=10):  62%|██████▏   | 619/1000 [00:46<00:14, 25.86 examples/s]"
     ]
    },
    {
     "name": "stdout",
     "output_type": "stream",
     "text": [
      "https://github.com/petebankhead/qupath/commit/032924f25c4c42b4a6256a02e53ada3f2b32e1e0.patchhttps://github.com/salilab/imp/commit/01106a0d60aa4fa53b0401a177fa678d59738aa1.patchhttps://github.com/ocsigen/lwt/commit/01eb4583f1f3a782351621248c7cb705056fb63e.patch\n",
      "\n",
      "\n",
      "https://github.com/nexus-uw/make-account-green/commit/00ac0b5b6a43d914bc0e37ec2320e552389e672b.patch\n",
      "https://github.com/jhass/diaspora/commit/0382cb48c15e48ea74397b5082541b1a4fbf1cc8.patch\n"
     ]
    },
    {
     "name": "stderr",
     "output_type": "stream",
     "text": [
      "Map (num_proc=10):  62%|██████▏   | 624/1000 [00:47<00:13, 28.07 examples/s]"
     ]
    },
    {
     "name": "stdout",
     "output_type": "stream",
     "text": [
      "https://github.com/vertelab/odoo-payroll/commit/01ec503a0fb687a7f9f5b12220692198cd5f37f6.patchhttps://github.com/biblat/Biblat/commit/032b19bbda835535639a15920261bcc6b153f569.patch\n",
      "\n",
      "https://github.com/ppy/osu-framework/commit/0111a4241327f3571aa20b9d0abd24f9bf2cabb7.patch\n",
      "https://github.com/olgeni/pkgkit/commit/038342a96108b81654ab89b266b498fd65d9d383.patch\n"
     ]
    },
    {
     "name": "stderr",
     "output_type": "stream",
     "text": [
      "Map (num_proc=10):  63%|██████▎   | 628/1000 [00:47<00:13, 26.80 examples/s]"
     ]
    },
    {
     "name": "stdout",
     "output_type": "stream",
     "text": [
      "https://github.com/angular/material-moment-adapter-builds/commit/025281c830554422d39b6cd6cc50fcf1bde37184.patch\n",
      "https://github.com/junpataleta/moodle-pull/commit/0252da9ed1cffe40f91a66883404ac7117c12c19.patch\n",
      "https://github.com/myint/rstcheck/commit/018a6e301c5f560e751a0d22beb21169ea9e40be.patch\n",
      "https://github.com/worknenjoy/gitpay/commit/01ec553ac1d8c3a0077d9f6c71e717e6614589c3.patch\n"
     ]
    },
    {
     "name": "stderr",
     "output_type": "stream",
     "text": [
      "Map (num_proc=10):  63%|██████▎   | 632/1000 [00:47<00:28, 13.13 examples/s]"
     ]
    },
    {
     "name": "stdout",
     "output_type": "stream",
     "text": [
      "https://github.com/stahta01/MINGW-packages/commit/0404848971d6412542fa9089b43985a43e5b8816.patch\n",
      "https://github.com/rom-rb/rom-sql/commit/02b5e8c0081340ce9b890e15f40d979fec241b23.patch\n",
      "https://github.com/dhowe/p5.js/commit/0112c3aa1adf4404d696e68e116add053e03fd93.patch\n"
     ]
    },
    {
     "name": "stderr",
     "output_type": "stream",
     "text": [
      "Map (num_proc=10):  64%|██████▎   | 635/1000 [00:48<00:27, 13.16 examples/s]"
     ]
    },
    {
     "name": "stdout",
     "output_type": "stream",
     "text": [
      "https://github.com/mattlewis92/calendar-utils/commit/032e6bd61c0b66a37ec5320a68bcb8037e62a397.patch\n",
      "https://github.com/ppy/osu-framework/commit/018a9d7f4f2e31acd6695d6fca8ac2cc2e4d9a65.patch\n"
     ]
    },
    {
     "name": "stderr",
     "output_type": "stream",
     "text": [
      "Map (num_proc=10):  64%|██████▎   | 637/1000 [00:48<00:26, 13.82 examples/s]"
     ]
    },
    {
     "name": "stdout",
     "output_type": "stream",
     "text": [
      "https://github.com/sagemathinc/smc/commit/00ac3668002b390bf6f2edc9aa80e4c633187767.patch\n",
      "https://github.com/mgeisler/lipsum/commit/025427353ab32268daa3d96feda380a96db529c5.patch\n"
     ]
    },
    {
     "name": "stderr",
     "output_type": "stream",
     "text": [
      "Map (num_proc=10):  64%|██████▍   | 639/1000 [00:48<00:25, 14.30 examples/s]"
     ]
    },
    {
     "name": "stdout",
     "output_type": "stream",
     "text": [
      "https://github.com/nbari/homebrew-core/commit/040522256dfc060316d50b56f14891d0cc2f6fd7.patch\n",
      "https://github.com/leifg/formulon/commit/003e536f3990deb0ba312881bde8508d4889b1cf.patch\n",
      "https://github.com/SPARLab/BikeMaps/commit/01eda5a5aea6509411c44cff9c3a27c87a333951.patch\n"
     ]
    },
    {
     "name": "stderr",
     "output_type": "stream",
     "text": [
      "Map (num_proc=10):  64%|██████▍   | 642/1000 [00:48<00:26, 13.27 examples/s]"
     ]
    },
    {
     "name": "stdout",
     "output_type": "stream",
     "text": [
      "https://github.com/TheDuckCow/MCprep/commit/018aade3f6872ab1f2a954879998b408a82c5b16.patch\n",
      "https://github.com/google-research/prompt-tuning/commit/00acbb818887860e4efdfb178faf68b7f8a1173b.patch\n"
     ]
    },
    {
     "name": "stderr",
     "output_type": "stream",
     "text": [
      "Map (num_proc=10):  64%|██████▍   | 644/1000 [00:48<00:31, 11.32 examples/s]"
     ]
    },
    {
     "name": "stdout",
     "output_type": "stream",
     "text": [
      "https://github.com/BloomBooks/BloomDesktop/commit/04057f344e678666428d1a89d516bf721088246c.patch\n",
      "https://github.com/materialsvirtuallab/monty/commit/003e6f6f1b0aa606d63f5154894088785c60351a.patch\n",
      "https://github.com/charlenni/Mapsui/commit/01ee80db10d257e0ab7db80865c548c2cfba364c.patch\n"
     ]
    },
    {
     "name": "stderr",
     "output_type": "stream",
     "text": [
      "Map (num_proc=10):  65%|██████▍   | 647/1000 [00:49<00:30, 11.44 examples/s]"
     ]
    },
    {
     "name": "stdout",
     "output_type": "stream",
     "text": [
      "https://github.com/ad-m/etr-warszawa-ical/commit/032eafdd5ddb7a7c68affcf6083ea6460b765aa0.patch\n",
      "https://github.com/Connections-Business-Directory/Connections/commit/0385f7dde552758607f34c3dabbe1501cd16e05c.patch\n"
     ]
    },
    {
     "name": "stderr",
     "output_type": "stream",
     "text": [
      "Map (num_proc=10):  65%|██████▍   | 649/1000 [00:49<00:30, 11.69 examples/s]"
     ]
    },
    {
     "name": "stdout",
     "output_type": "stream",
     "text": [
      "https://github.com/vemonet/vemonet.github.io/commit/00ad57e707ec2e64da8a135a44a0582be890a7c2.patch\n",
      "https://github.com/youzan/zent/commit/0331114d7936d5a9cf4b3205bbdb7e4a66fc76af.patch\n"
     ]
    },
    {
     "name": "stderr",
     "output_type": "stream",
     "text": [
      "Map (num_proc=10):  65%|██████▌   | 651/1000 [00:49<00:28, 12.30 examples/s]"
     ]
    },
    {
     "name": "stdout",
     "output_type": "stream",
     "text": [
      "https://github.com/PhantomBot/PhantomBot/commit/040589305948134f3b03f283c7432cca6a9d79bd.patch\n",
      "https://github.com/ruma/ruma/commit/003f0abebf885c6857e44dde932875983b360425.patch\n",
      "https://github.com/herenowcoder/webassembly/commit/02b6414c9bfcc9400b127c178f09290e54d4a399.patch\n",
      "https://github.com/freedesktop/libreoffice-core/commit/0112fd253483b7b8fcb90e845e0c58ef53ce88ee.patch\n"
     ]
    },
    {
     "name": "stderr",
     "output_type": "stream",
     "text": [
      "Map (num_proc=10):  66%|██████▌   | 655/1000 [00:49<00:23, 14.63 examples/s]"
     ]
    },
    {
     "name": "stdout",
     "output_type": "stream",
     "text": [
      "https://github.com/ngzax/urbit/commit/02545a730990c807c874837f11553d569ebfd7b6.patch\n",
      "https://github.com/androidx/media/commit/00ae09f4599ee11860d30daee96f4fdeb35ab5f8.patch\n"
     ]
    },
    {
     "name": "stderr",
     "output_type": "stream",
     "text": [
      "Map (num_proc=10):  66%|██████▌   | 657/1000 [00:49<00:27, 12.55 examples/s]"
     ]
    },
    {
     "name": "stdout",
     "output_type": "stream",
     "text": [
      "https://github.com/geopm/geopm/commit/0254bd51d50b8ebee0f96e8753c68098970f1f0b.patchhttps://github.com/jfitz/BASIC-1965/commit/018bdc88df4013549401d4d75979819045852256.patch\n",
      "\n",
      "https://github.com/StylifyYourBlog/stylifyyourblog.github.io/commit/033122a35847fe5f38a3157a7c3c1c6462eed6f4.patch\n",
      "https://github.com/ITAM-DS/analisis-numerico-computo-cientifico/commit/03867339bf91461fc6ae484cf9710133b1f2b845.patchhttps://github.com/SAP/openui5/commit/01153b1fcc107fdfe7c55945484085e07edf8329.patch\n",
      "\n"
     ]
    },
    {
     "name": "stderr",
     "output_type": "stream",
     "text": [
      "Map (num_proc=10):  66%|██████▌   | 661/1000 [00:50<00:20, 16.16 examples/s]"
     ]
    },
    {
     "name": "stdout",
     "output_type": "stream",
     "text": [
      "https://github.com/EDDiscovery/EDDiscoveryData/commit/02b6e223cd69ad365420306f83ffb7c100f0e183.patch\n",
      "https://github.com/upfluence/oss-components/commit/00af1ff7e276e658d9d48483d1f09b7f9959b8c1.patch\n",
      "https://github.com/madsjulia/Mads.jl/commit/018cc0718730833f5a74d0045db6bcd6042a20ae.patchhttps://github.com/cfei18/incubator-airflow/commit/0254f30a5a90f0c3104782525fabdcfdc6d3b7df.patch\n",
      "\n"
     ]
    },
    {
     "name": "stderr",
     "output_type": "stream",
     "text": [
      "Map (num_proc=10):  66%|██████▋   | 665/1000 [00:50<00:16, 20.19 examples/s]"
     ]
    },
    {
     "name": "stdout",
     "output_type": "stream",
     "text": [
      "https://github.com/CreativeMD/CreativeCore/commit/02b77b31ec1e9d72802b053454793ece59894541.patch\n",
      "https://github.com/nkgilley/home-assistant/commit/0407fc45816329d8dbb75afe379a5870947f93fc.patch\n"
     ]
    },
    {
     "name": "stderr",
     "output_type": "stream",
     "text": [
      "Map (num_proc=10):  67%|██████▋   | 668/1000 [00:50<00:26, 12.30 examples/s]"
     ]
    },
    {
     "name": "stdout",
     "output_type": "stream",
     "text": [
      "https://github.com/ornicar/scalachess/commit/003fb41c304482579c0a20febcbbb881c7244f9c.patch\n",
      "https://github.com/gilbitron/laravel-vue-pagination/commit/018d72851a71a0bfc99b366cd55b5700a1635073.patch\n",
      "https://github.com/SoftwareHeritage/puppet-swh-site/commit/0256827f9ef17fba02126492cd26448908803b8c.patch\n",
      "https://github.com/googleapis/nodejs-cloud-tpu/commit/02b93eea8eb23f441a990e7fc50450838cd1a4c8.patch\n"
     ]
    },
    {
     "name": "stderr",
     "output_type": "stream",
     "text": [
      "Map (num_proc=10):  67%|██████▋   | 672/1000 [00:50<00:21, 15.20 examples/s]"
     ]
    },
    {
     "name": "stdout",
     "output_type": "stream",
     "text": [
      "https://github.com/rochacbruno/dynaconf/commit/03873e96e13597c0ac040e2001f25f0b5cf29297.patchhttps://github.com/jskeet/google-api-dotnet-client/commit/0115bd9758dd3f32222534c978150faaa255097e.patch\n",
      "\n",
      "https://github.com/codevise/pageflow/commit/0257950e385c1af0be067d553f09f4d942bbff9a.patchhttps://github.com/jloughry/bibtex/commit/018da6185f4f27f4f695b3eff5734e0eba202a78.patch\n",
      "\n",
      "https://github.com/angular/material2-docs-content/commit/003fcf53322cf7f2efdf59a27e696ba062146d27.patch\n",
      "https://github.com/leotsarev/joinrpg-net/commit/02b95fad0f6015bf6b9d1fcdab07f032a1ada70d.patch\n"
     ]
    },
    {
     "name": "stderr",
     "output_type": "stream",
     "text": [
      "Map (num_proc=10):  68%|██████▊   | 678/1000 [00:51<00:16, 20.01 examples/s]"
     ]
    },
    {
     "name": "stdout",
     "output_type": "stream",
     "text": [
      "https://github.com/dbrady/bin/commit/0117fc21e42f74a429bad0830520d1789f191fba.patchhttps://github.com/IMOKURI/dotfiles/commit/038848ed4bf34d59ba8a9d3cac0620d4698ae76a.patch\n",
      "\n",
      "https://github.com/joshmgrant/selenium/commit/02ba0522b6cb41234828e48ad2c30bd189fe43df.patch\n"
     ]
    },
    {
     "name": "stderr",
     "output_type": "stream",
     "text": [
      "Map (num_proc=10):  68%|██████▊   | 681/1000 [00:51<00:16, 19.20 examples/s]"
     ]
    },
    {
     "name": "stdout",
     "output_type": "stream",
     "text": [
      "https://github.com/JohnSnowLabs/spark-nlp/commit/02bb2e19872f178cd954b8599ee369095b15c796.patch\n",
      "https://github.com/cgwire/zou/commit/02bb44b5d8a1129c6195ef18a5685a779be75f33.patch\n",
      "https://github.com/pac4j/pac4j/commit/003ff3bac93a3891a549079c37735697d2a755c9.patch\n"
     ]
    },
    {
     "name": "stderr",
     "output_type": "stream",
     "text": [
      "Map (num_proc=10):  68%|██████▊   | 684/1000 [00:51<00:22, 14.05 examples/s]"
     ]
    },
    {
     "name": "stdout",
     "output_type": "stream",
     "text": [
      "https://github.com/typeorm/typeorm/commit/03317a3873641d3dff050d47f71dfa7efc7a4648.patch\n",
      "https://github.com/arto70/NDL-VuFind2/commit/0040fd855f9ec41986c3dca9fff0cb769ea9b5ea.patch\n"
     ]
    },
    {
     "name": "stderr",
     "output_type": "stream",
     "text": [
      "Map (num_proc=10):  69%|██████▊   | 686/1000 [00:51<00:23, 13.23 examples/s]"
     ]
    },
    {
     "name": "stdout",
     "output_type": "stream",
     "text": [
      "https://github.com/angular/angular-devkit-build-webpack-builds/commit/0408550ba8c4f44ea32cd742ee4605e14f8763c2.patch\n",
      "https://github.com/WoltLab/WCF/commit/0333eeaa1a71619c3264808e71e54333626cc4d2.patch\n"
     ]
    },
    {
     "name": "stderr",
     "output_type": "stream",
     "text": [
      "Map (num_proc=10):  69%|██████▉   | 688/1000 [00:51<00:22, 13.80 examples/s]"
     ]
    },
    {
     "name": "stdout",
     "output_type": "stream",
     "text": [
      "https://github.com/microsoft/vscode/commit/00414a3755f924bbd5b5438a64e04402d0b4fe8c.patch\n",
      "https://github.com/googleapis/java-bigqueryconnection/commit/01ef07876dbcebf4779c55f5b11309bf494d6164.patch\n"
     ]
    },
    {
     "name": "stderr",
     "output_type": "stream",
     "text": [
      "Map (num_proc=10):  69%|██████▉   | 690/1000 [00:52<00:21, 14.21 examples/s]"
     ]
    },
    {
     "name": "stdout",
     "output_type": "stream",
     "text": [
      "https://github.com/SAP/openui5/commit/040be51656fe098bac5c0c4111e2bf1b1d215efb.patch\n",
      "https://github.com/killercup/cargo-edit/commit/018dc475305014719c6eb16cb2cddd470e19f6ef.patch\n",
      "https://github.com/codevise/pageflow/commit/0259dc8ecfa0269293eec63fc15b03374ebd2a78.patch\n",
      "https://github.com/bring/developer-site/commit/01f05577f6b913f1d610c86fa561189b3e453abb.patch\n"
     ]
    },
    {
     "name": "stderr",
     "output_type": "stream",
     "text": [
      "Map (num_proc=10):  69%|██████▉   | 694/1000 [00:52<00:17, 17.01 examples/s]"
     ]
    },
    {
     "name": "stdout",
     "output_type": "stream",
     "text": [
      "https://github.com/jmachuca77/ardupilot/commit/040e08f4b1401d2d2cb072205ee51fafeb4aafe2.patch\n",
      "https://github.com/google/orbit/commit/011919e7cf27f9fe68a48ced4fc31776c8637a80.patch\n"
     ]
    },
    {
     "name": "stderr",
     "output_type": "stream",
     "text": [
      "Map (num_proc=10):  70%|██████▉   | 696/1000 [00:52<00:22, 13.73 examples/s]"
     ]
    },
    {
     "name": "stdout",
     "output_type": "stream",
     "text": [
      "https://github.com/bengosney/rhgd3/commit/025a7a9d4479ac95244df98257d719e7242e5b6f.patch\n",
      "https://github.com/umbraco/Umbraco-CMS/commit/018e1e926542f160ac02d5e74326ddd2b3fda8e1.patch\n"
     ]
    },
    {
     "name": "stderr",
     "output_type": "stream",
     "text": [
      "Map (num_proc=10):  70%|██████▉   | 698/1000 [00:52<00:24, 12.14 examples/s]"
     ]
    },
    {
     "name": "stdout",
     "output_type": "stream",
     "text": [
      "https://github.com/adrianchia/homebrew-cask/commit/041329d81ba52a85420b1fac1a6d84d2b6e94e68.patch\n",
      "https://github.com/chromium/chromium/commit/02bba7b460857d5a3e7c9c9b89a11c17790dda12.patch\n",
      "https://github.com/yjpark/dotfiles/commit/0389f2b5f18c946fc8c17321533aa02ab5fd53bf.patch\n"
     ]
    },
    {
     "name": "stderr",
     "output_type": "stream",
     "text": [
      "Map (num_proc=10):  70%|███████   | 701/1000 [00:52<00:19, 15.19 examples/s]"
     ]
    },
    {
     "name": "stdout",
     "output_type": "stream",
     "text": [
      "https://github.com/rust-lang/crates.io/commit/01f16ca4bdc611e7a264b6bb154279c30222fbf9.patchhttps://github.com/openjdk/jdk/commit/011958d30b275f0f6a2de097938ceeb34beb314d.patch\n",
      "\n",
      "https://github.com/ecolell/amphipathic/commit/025c0e386abb12a551034a13ca9bc78e03363e08.patch\n",
      "https://github.com/DataBiosphere/jade-data-repo/commit/02bc2de3f744b193e3618c4688ed2edb484e82ac.patch\n"
     ]
    },
    {
     "name": "stderr",
     "output_type": "stream",
     "text": [
      "Map (num_proc=10):  70%|███████   | 705/1000 [00:53<00:27, 10.57 examples/s]"
     ]
    },
    {
     "name": "stdout",
     "output_type": "stream",
     "text": [
      "https://github.com/simulationcraft/simc/commit/025e42e40e5604498f54ee6b8ce84e68cd17f874.patch\n",
      "https://github.com/remlapmot/mrrobust/commit/038a7d031ae7cdae23b18c5e8683e6b307b6948a.patch\n",
      "https://github.com/ryba-io/ryba/commit/018e9a2e72f5b1dd50b699349179b8108757666d.patch\n",
      "https://github.com/galak/zephyr/commit/0334853e42e84c22f6a7b93a1c92c92ac460fc86.patch\n"
     ]
    },
    {
     "name": "stderr",
     "output_type": "stream",
     "text": [
      "Map (num_proc=10):  71%|███████   | 709/1000 [00:53<00:20, 14.33 examples/s]"
     ]
    },
    {
     "name": "stdout",
     "output_type": "stream",
     "text": [
      "https://github.com/leoloso/PoP/commit/00af71e7822bdd2de93d26bc6d6fb993727a5e54.patchhttps://github.com/Roll20/roll20-character-sheets/commit/018eb078e89c3ab96eb3bcc12588bd60510731ba.patch\n",
      "\n",
      "https://github.com/galak/zephyr/commit/02bd0342555fe1294569dddb0b608ef3549664ad.patch\n"
     ]
    },
    {
     "name": "stderr",
     "output_type": "stream",
     "text": [
      "Map (num_proc=10):  71%|███████   | 712/1000 [00:53<00:25, 11.11 examples/s]"
     ]
    },
    {
     "name": "stdout",
     "output_type": "stream",
     "text": [
      "https://github.com/edx/repo-tools/commit/025eace33f9ab702014229e1fd9e503b78558f73.patch\n",
      "https://github.com/mumuy/relationship/commit/04136643b9c6db98685eabae931f12de32db6508.patch\n",
      "https://github.com/24eme/aurouze/commit/01f202bfd954a2023a4d16d3bf614ddcda4ede58.patch\n"
     ]
    },
    {
     "name": "stderr",
     "output_type": "stream",
     "text": [
      "Map (num_proc=10):  72%|███████▏  | 715/1000 [00:53<00:22, 12.93 examples/s]"
     ]
    },
    {
     "name": "stdout",
     "output_type": "stream",
     "text": [
      "https://github.com/CosmosOS/Cosmos/commit/02bdb603e222dad06c0876dcb0d573f808938603.patch\n",
      "https://github.com/AndroidX/androidx/commit/025f6b64c38b22abe1d642993bedcf6cbe0cf8ad.patch\n"
     ]
    },
    {
     "name": "stderr",
     "output_type": "stream",
     "text": [
      "Map (num_proc=10):  72%|███████▏  | 717/1000 [00:54<00:26, 10.76 examples/s]"
     ]
    },
    {
     "name": "stdout",
     "output_type": "stream",
     "text": [
      "https://github.com/gladly-team/tab/commit/02bdcf1104ddc884edef5a2fa895f345c3f3b7aa.patch\n",
      "https://github.com/openstack/sahara/commit/0263bf2dc5ca40c08d1ba19d082397ab8b623c63.patch\n"
     ]
    },
    {
     "name": "stderr",
     "output_type": "stream",
     "text": [
      "Map (num_proc=10):  72%|███████▏  | 719/1000 [00:54<00:25, 11.00 examples/s]"
     ]
    },
    {
     "name": "stdout",
     "output_type": "stream",
     "text": [
      "https://github.com/k0ner/k0ner.github.io/commit/011aa1d8e1e63ae221da29f044b3308cb1bc2bee.patch\n",
      "https://github.com/phac-nml/irida/commit/038aaa7d88439a462f7c13cad199a8ad22e91e9c.patch\n"
     ]
    },
    {
     "name": "stderr",
     "output_type": "stream",
     "text": [
      "Map (num_proc=10):  72%|███████▏  | 721/1000 [00:54<00:23, 12.02 examples/s]"
     ]
    },
    {
     "name": "stdout",
     "output_type": "stream",
     "text": [
      "https://github.com/brndnmtthws/conky/commit/033508a93e6b0440ddbd2376c1e97b69e3308687.patch\n",
      "https://github.com/xylsxyls/xueyelingshuang/commit/0414ecd0c32db12c6c9838eae38129da7b145c72.patch\n",
      "https://github.com/scalameta/scalafmt/commit/0263c75f6efc739f6a42577eb6f89fa6343a86e6.patch\n",
      "https://github.com/nextstrain/auspice/commit/011c19dea6a73a4b635d34748626d3ec03afdff9.patch\n",
      "https://github.com/nicoladl/nicoladelazzari/commit/02bdf1db7571c87c458dd932e88f19f6ed796e3a.patch\n"
     ]
    },
    {
     "name": "stderr",
     "output_type": "stream",
     "text": [
      "Map (num_proc=10):  73%|███████▎  | 726/1000 [00:54<00:17, 15.63 examples/s]"
     ]
    },
    {
     "name": "stdout",
     "output_type": "stream",
     "text": [
      "https://github.com/arcualberta/Catfish/commit/01f224b6051959f4e18750c7a47bfab82d66c288.patch\n",
      "https://github.com/leoloso/PoP/commit/0335784f5107d86a72d69a48270f8d2085ad4a29.patchhttps://github.com/konstruktoid/ansible-role-hardening/commit/00420a50c258318997ab7e5cf2fcfaf3abb2e986.patch\n",
      "\n"
     ]
    },
    {
     "name": "stderr",
     "output_type": "stream",
     "text": [
      "Map (num_proc=10):  73%|███████▎  | 728/1000 [00:55<00:23, 11.46 examples/s]"
     ]
    },
    {
     "name": "stdout",
     "output_type": "stream",
     "text": [
      "https://github.com/DigitalCampus/django-oppia/commit/04152536612cbc9e4d1c3ca208bce0822deb6a8e.patch\n",
      "https://github.com/dpo/HSL.jl/commit/0263d51fa73d1f8ac95c35532f5024379c1e1085.patch\n",
      "https://github.com/nibbula/lish/commit/011cafc00f51a30ab62b6b9448ac2f781165e681.patch\n",
      "https://github.com/linux-audit/audit-userspace/commit/018ec805b47fce9eb83c0898c317458aa72b3592.patch\n"
     ]
    },
    {
     "name": "stderr",
     "output_type": "stream",
     "text": [
      "Map (num_proc=10):  73%|███████▎  | 733/1000 [00:55<00:21, 12.19 examples/s]"
     ]
    },
    {
     "name": "stdout",
     "output_type": "stream",
     "text": [
      "https://github.com/firebase/SpecsStaging/commit/00af973a6de4deb7e0b4f7551a8f9af77e3c4269.patch\n",
      "https://github.com/khmarbaise/maven-buildtime-profiler/commit/02be61ca9a80192577f13fe1b18666c9379e54e7.patch\n",
      "https://github.com/abseil/abseil-cpp/commit/0335c3d2a035d1ed1c25882bdb6080ffc8c98cf8.patch\n",
      "https://github.com/phetsims/sun/commit/0042e9454ec116e00acb2046858acdad3c880ff9.patch"
     ]
    },
    {
     "name": "stderr",
     "output_type": "stream",
     "text": [
      "Map (num_proc=10):  74%|███████▎  | 736/1000 [00:55<00:21, 12.07 examples/s]"
     ]
    },
    {
     "name": "stdout",
     "output_type": "stream",
     "text": [
      "https://github.com/hashview/hashview/commit/041580eee7fba69de5cb4e6f8eaa13ca2608b656.patchhttps://github.com/googleapis/google-cloud-go/commit/0264133e727bef468645df39e386c559558989dc.patch\n",
      "\n",
      "\n",
      "https://github.com/nyroDev/UtilityBundle/commit/00b012d83323e02188aaf4b3a1ed9eb03135efcc.patch\n"
     ]
    },
    {
     "name": "stderr",
     "output_type": "stream",
     "text": [
      "Map (num_proc=10):  74%|███████▍  | 740/1000 [00:55<00:18, 13.71 examples/s]"
     ]
    },
    {
     "name": "stdout",
     "output_type": "stream",
     "text": [
      "https://github.com/pcengines/coreboot/commit/01f255000b8bc7dc8203403adc005d5c5decafd5.patch\n",
      "https://github.com/cminyard/linux-live-app-coredump/commit/00b022f8f876a3a036b0df7f971001bef6398605.patch\n"
     ]
    },
    {
     "name": "stderr",
     "output_type": "stream",
     "text": [
      "Map (num_proc=10):  74%|███████▍  | 742/1000 [00:56<00:19, 13.30 examples/s]"
     ]
    },
    {
     "name": "stdout",
     "output_type": "stream",
     "text": [
      "https://github.com/oasis-open/cti-documentation/commit/01f321551f8722023711aeccc0e679bac9648cb1.patch\n",
      "https://github.com/yangw1234/BigDL/commit/00431bfbb3ea2efe82d8b4f59128207328cd410a.patchhttps://github.com/laravel-doctrine/orm/commit/041857e2d83b7397e6c05e04a497d4446abcaefb.patchhttps://github.com/lablup/backend.ai-manager/commit/02bf6a9f44add4d8b7b64fd4e7c41f3fe3300a7f.patch\n",
      "\n",
      "\n"
     ]
    },
    {
     "name": "stderr",
     "output_type": "stream",
     "text": [
      "Map (num_proc=10):  74%|███████▍  | 744/1000 [00:56<00:19, 13.34 examples/s]"
     ]
    },
    {
     "name": "stdout",
     "output_type": "stream",
     "text": [
      "https://github.com/fau-fablab/oerp-pricelist/commit/0264300036155ca56285e27f9c8cbf798a7b401b.patch\n",
      "https://github.com/kaltura/KalturaGeneratedAPIClientsCsharp/commit/00b09b41fec0f3ca2d987e14dd77ac128b3dce62.patch\n",
      "https://github.com/symfony/polyfill/commit/011cd09329d193d3e4ce49f1a9f710698df90e48.patch\n",
      "https://github.com/firebirdberlin/nightdream/commit/01f3b184611042e44f4b55e8e2822adc7a75edad.patch\n",
      "https://github.com/cminyard/linux-live-app-coredump/commit/019024e563fc859b2ee86fc004c6acb12381276c.patch\n"
     ]
    },
    {
     "name": "stderr",
     "output_type": "stream",
     "text": [
      "Map (num_proc=10):  75%|███████▌  | 751/1000 [00:56<00:11, 21.22 examples/s]"
     ]
    },
    {
     "name": "stdout",
     "output_type": "stream",
     "text": [
      "https://github.com/madsjulia/Mads.jl/commit/00438198e1e3f40b5ee1de5e4f556a061a07e5f6.patchhttps://github.com/rht/zulip/commit/02c1196e3e79ef8a4f29638ceb8c09e8335c550f.patch\n",
      "\n",
      "https://github.com/nbari/homebrew-core/commit/03361b2aa6725af5bfa7e7aa1ecc5b41db82f692.patch\n",
      "https://github.com/easemob/kefu-webim/commit/01fc1cedf766e4bcad4e7606f731ac8f7f7ffb97.patch\n"
     ]
    },
    {
     "name": "stderr",
     "output_type": "stream",
     "text": [
      "Map (num_proc=10):  76%|███████▌  | 755/1000 [00:56<00:10, 24.20 examples/s]"
     ]
    },
    {
     "name": "stdout",
     "output_type": "stream",
     "text": [
      "https://github.com/ManageIQ/azure-armrest/commit/019138e450d9f2591c34881952f70bba689769fc.patch\n",
      "https://github.com/Jackett/Jackett/commit/0337bfdec71944f719469074cedc1888fd373a30.patch\n",
      "https://github.com/languagetool-org/languagetool/commit/011f0b20205229ea0bad2b2c56a3163381653972.patch\n"
     ]
    },
    {
     "name": "stderr",
     "output_type": "stream",
     "text": [
      "Map (num_proc=10):  76%|███████▌  | 758/1000 [00:56<00:10, 22.13 examples/s]"
     ]
    },
    {
     "name": "stdout",
     "output_type": "stream",
     "text": [
      "https://github.com/vinayakkulkarni/v-image/commit/038bb7a7917e0d8553479291481b1a8e748fed8f.patch\n",
      "https://github.com/googleapis/java-redis/commit/03384c3559160233a096aeef9b7db710fca399de.patch\n",
      "https://github.com/Charcoal-SE/SmokeDetector/commit/011f398a22947c271fcac87cca7f90c0fb05a754.patch\n"
     ]
    },
    {
     "name": "stderr",
     "output_type": "stream",
     "text": [
      "Map (num_proc=10):  76%|███████▌  | 761/1000 [00:56<00:11, 20.62 examples/s]"
     ]
    },
    {
     "name": "stdout",
     "output_type": "stream",
     "text": [
      "https://github.com/e-sensing/sits/commit/041af74506617b53b4d89c7b719698ab899db7e7.patch\n",
      "https://github.com/plioi/parsley/commit/0265f979b04583f23d180f9db0e0fb8fc90ea930.patchhttps://github.com/orumin/dotfiles/commit/00b0e02e4c23b1002d8a4ba402499a40b74af6d3.patch\n",
      "\n"
     ]
    },
    {
     "name": "stderr",
     "output_type": "stream",
     "text": [
      "Map (num_proc=10):  76%|███████▋  | 764/1000 [00:56<00:10, 22.23 examples/s]"
     ]
    },
    {
     "name": "stdout",
     "output_type": "stream",
     "text": [
      "https://github.com/iree-org/iree/commit/01fe2ffdf1e20865639bf8b4bfb62e9daa697719.patch\n",
      "https://github.com/world-federation-of-advertisers/cross-media-measurement/commit/038bd4724e35499aba23ee756bd854692a67c33f.patch\n",
      "https://github.com/MeeseeksBox/MeeseeksDev/commit/041b30825969269a652b881b483c09292252dc9d.patch\n"
     ]
    },
    {
     "name": "stderr",
     "output_type": "stream",
     "text": [
      "Map (num_proc=10):  77%|███████▋  | 767/1000 [00:57<00:10, 21.57 examples/s]"
     ]
    },
    {
     "name": "stdout",
     "output_type": "stream",
     "text": [
      "https://github.com/pexip/meson/commit/038d0723647f58d62754afb8f4dca7dc716a5ba8.patch\n",
      "https://github.com/beltoforion/muparser/commit/012005f3c058f92dd4c9e81e628c8c66b8547dac.patch\n",
      "https://github.com/mooming/hardbopengine/commit/01feabb2d72102884c7a97013b3fd27812f7b71a.patch\n"
     ]
    },
    {
     "name": "stderr",
     "output_type": "stream",
     "text": [
      "Map (num_proc=10):  77%|███████▋  | 770/1000 [00:57<00:16, 14.22 examples/s]"
     ]
    },
    {
     "name": "stdout",
     "output_type": "stream",
     "text": [
      "https://github.com/luxonis/depthai-core/commit/038d455e6caf2d4e7e96545b061a8e2d2f34e0f9.patch\n",
      "https://github.com/althonos/fs.archive/commit/02001194a36ed675e5ccd12013ea8a6aa87bd30d.patch\n"
     ]
    },
    {
     "name": "stderr",
     "output_type": "stream",
     "text": [
      "Map (num_proc=10):  77%|███████▋  | 772/1000 [00:58<00:25,  8.98 examples/s]"
     ]
    },
    {
     "name": "stdout",
     "output_type": "stream",
     "text": [
      "https://github.com/pieroproietti/penguins-eggs/commit/033a9e33a961fa3a37e36cf215f8074104f42597.patch\n",
      "https://github.com/AnySoftKeyboard/AnySoftKeyboard/commit/0266c1f3a6a4356b526393d72cf22a975acffba7.patch\n",
      "https://github.com/rht/zulip/commit/0043c0b6b2d78f4ccbee4c422b7324a1690857b5.patchhttps://github.com/n2o/dpb/commit/00b25cf200ef86ce5fad5e1a0ef631dede905d6e.patch"
     ]
    },
    {
     "name": "stderr",
     "output_type": "stream",
     "text": [
      "Map (num_proc=10):  77%|███████▋  | 774/1000 [00:58<00:22, 10.09 examples/s]"
     ]
    },
    {
     "name": "stdout",
     "output_type": "stream",
     "text": [
      "\n",
      "\n",
      "https://github.com/justindujardin/angular-rpg/commit/033b8d5ccc4fda1ea3fc706c174c9743cac0fceb.patch\n",
      "https://github.com/jfic-japan/jfic-jekyll/commit/038ea774250b48f63196bd9e3cc885da8cf83db6.patch\n"
     ]
    },
    {
     "name": "stderr",
     "output_type": "stream",
     "text": [
      "Map (num_proc=10):  78%|███████▊  | 778/1000 [00:58<00:16, 13.81 examples/s]"
     ]
    },
    {
     "name": "stdout",
     "output_type": "stream",
     "text": [
      "https://github.com/cim--/colonia-database/commit/041ca52ff15f406be347b01acdee6146c9ebf21e.patch\n",
      "https://github.com/yduf/yduf.github.io/commit/02c14e043f7485b3607b45c5dce695495bec58d2.patch\n",
      "https://github.com/mlibrary/heliotrope/commit/0267382b51f147f15c93fbc29d85b2c281140295.patchhttps://github.com/Automattic/wp-calypso/commit/0044d936cd77d5cfb1ec561c832f6fc4538e6ea2.patch\n",
      "\n",
      "https://github.com/matrix-org/dendrite/commit/00b3545b14ca5e6987be93cabafc51e771f8bcc7.patch\n"
     ]
    },
    {
     "name": "stderr",
     "output_type": "stream",
     "text": [
      "Map (num_proc=10):  78%|███████▊  | 783/1000 [00:58<00:11, 19.14 examples/s]"
     ]
    },
    {
     "name": "stdout",
     "output_type": "stream",
     "text": [
      "https://github.com/Jordie0608/tgstation/commit/0191c803e1d53ec54afe7da6a0a9a0baadad0f48.patch\n",
      "https://github.com/hasadna/anyway/commit/041ca54bd8be10b245b4a7de78ec96fda2fb33cf.patch\n",
      "https://github.com/kdeldycke/meta-package-manager/commit/02675b05606005d2fa7e8bcab21c6d77a756df00.patch\n"
     ]
    },
    {
     "name": "stderr",
     "output_type": "stream",
     "text": [
      "Map (num_proc=10):  79%|███████▊  | 786/1000 [00:58<00:14, 15.06 examples/s]"
     ]
    },
    {
     "name": "stdout",
     "output_type": "stream",
     "text": [
      "https://github.com/opnsense/core/commit/041e92a3201f1d06518771f1f20e81cb08efd908.patchhttps://github.com/chromium/chromium/commit/02685004dce9a7e3e6067af1b07bdcfaeaf6cdd8.patch\n",
      "\n",
      "https://github.com/sosedoff/rack-revision/commit/0046c1ef970098eec2227c0f59a9a223aa6ba179.patch\n",
      "https://github.com/googleapis/java-conformance-tests/commit/0391d29ab761479ea8f822a0335761c574538543.patch"
     ]
    },
    {
     "name": "stderr",
     "output_type": "stream",
     "text": [
      "Map (num_proc=10):  79%|███████▉  | 789/1000 [00:58<00:14, 14.53 examples/s]"
     ]
    },
    {
     "name": "stdout",
     "output_type": "stream",
     "text": [
      "\n",
      "https://github.com/RefreshAV/www/commit/0192192e350b08fcb4fec1e4550468c60cc45023.patch\n",
      "https://github.com/StefanScherer/packer-windows/commit/02c28376379d68d7e03f0056cfedd241e93879b3.patch\n",
      "https://github.com/admpub/nging/commit/0120c9af1cd73d77591682a6ded411fcf207b6e8.patch\n"
     ]
    },
    {
     "name": "stderr",
     "output_type": "stream",
     "text": [
      "Map (num_proc=10):  79%|███████▉  | 793/1000 [00:59<00:12, 17.00 examples/s]"
     ]
    },
    {
     "name": "stdout",
     "output_type": "stream",
     "text": [
      "https://github.com/Deleplace/programming-idioms/commit/0268635357d10bf639f3c1f9a4cc30fcba94f460.patch\n",
      "https://github.com/jwren/intellij-community/commit/033c04556c6855ee0deebe13558755a8212e8e20.patch\n",
      "https://github.com/php-http/react-adapter/commit/01214df31a273080572f7db7c2581e09bb607d02.patch\n"
     ]
    },
    {
     "name": "stderr",
     "output_type": "stream",
     "text": [
      "Map (num_proc=10):  80%|███████▉  | 796/1000 [00:59<00:19, 10.22 examples/s]"
     ]
    },
    {
     "name": "stdout",
     "output_type": "stream",
     "text": [
      "https://github.com/stepancheg/rust-protobuf/commit/00b3bde813029bedd70fa2d5b07517256cc399b3.patch\n",
      "https://github.com/confluentinc/rest-utils/commit/020039567167c159e4de443ea35b0e48a1d4028b.patch\n",
      "https://github.com/GoogleCloudPlatform/cloud-foundation-fabric/commit/01218060e80d05fe2a6f7d74bd3a48b4a26c153d.patch\n"
     ]
    },
    {
     "name": "stderr",
     "output_type": "stream",
     "text": [
      "Map (num_proc=10):  80%|███████▉  | 799/1000 [00:59<00:17, 11.46 examples/s]"
     ]
    },
    {
     "name": "stdout",
     "output_type": "stream",
     "text": [
      "https://github.com/Pryaxis/TShock/commit/02694fcec04c7d5f65618e2d5507427eb88fa496.patch\n",
      "https://github.com/googleapis/google-api-java-client-services/commit/033c0a9960233ee4d34d2e921881967ba3b8cbe4.patch\n",
      "https://github.com/nmote/flow/commit/0200d59760ed741b6e11164c29737105a7994731.patch\n",
      "https://github.com/reskit/moodlemobile/commit/02c2a5e508d915deae6813d58fe26eba92dae328.patch\n"
     ]
    },
    {
     "name": "stderr",
     "output_type": "stream",
     "text": [
      "Map (num_proc=10):  80%|████████  | 803/1000 [01:00<00:14, 13.53 examples/s]"
     ]
    },
    {
     "name": "stdout",
     "output_type": "stream",
     "text": [
      "https://github.com/janoside/btc-rpc-explorer/commit/041f7fe301331a2fde9913b1c58cca513357558e.patch\n",
      "https://github.com/GoogleForCreators/wp.stories.google/commit/020211a1f201f578e559063de92c4d32f5488fbe.patch\n"
     ]
    },
    {
     "name": "stderr",
     "output_type": "stream",
     "text": [
      "Map (num_proc=10):  80%|████████  | 805/1000 [01:00<00:19,  9.78 examples/s]"
     ]
    },
    {
     "name": "stdout",
     "output_type": "stream",
     "text": [
      "https://github.com/arielk/elementor/commit/012362055a67ec71aee084090dcb2ef16c958b97.patch\n",
      "https://github.com/johanneskoester/staged-recipes/commit/0196437126ba496ee6d991ea4f9f5f9e2ef48295.patch\n",
      "https://github.com/SuperJMN/Avalonia/commit/041fdb6bc9bcb06711c7715692e2d5771ad6a2eb.patch\n",
      "https://github.com/gene1wood/chef/commit/02c33fa13fc8a99112080ab2a2d8c9d654a1a91a.patch\n",
      "https://github.com/chromium/chromium/commit/004929c32456f6adf85c2a0a374a282881585c47.patch\n"
     ]
    },
    {
     "name": "stderr",
     "output_type": "stream",
     "text": [
      "Map (num_proc=10):  81%|████████  | 810/1000 [01:00<00:15, 12.18 examples/s]"
     ]
    },
    {
     "name": "stdout",
     "output_type": "stream",
     "text": [
      "https://github.com/moodpulse/l2/commit/0269f984385cc2eed886fe1a7887bc0a64fcce0d.patch\n",
      "https://github.com/konstruktoid/ansible-role-hardening/commit/02c3b3e860d68b75ff0b0cdccf23013c4149d87c.patch\n"
     ]
    },
    {
     "name": "stderr",
     "output_type": "stream",
     "text": [
      "Map (num_proc=10):  81%|████████  | 812/1000 [01:01<00:18,  9.97 examples/s]"
     ]
    },
    {
     "name": "stdout",
     "output_type": "stream",
     "text": [
      "https://github.com/stahta01/MINGW-packages/commit/0123c86c833e218afa1191bb0d45147dccbaea50.patch\n",
      "https://github.com/nbari/homebrew-core/commit/0197687d2b559959e89e503a9f2d34ea0c172717.patch\n"
     ]
    },
    {
     "name": "stderr",
     "output_type": "stream",
     "text": [
      "Map (num_proc=10):  81%|████████▏ | 814/1000 [01:01<00:19,  9.39 examples/s]"
     ]
    },
    {
     "name": "stdout",
     "output_type": "stream",
     "text": [
      "https://github.com/kukeiko/entity-space/commit/033d179f5d9982f08ef2d9b345c1d8c9783448e5.patch\n",
      "https://github.com/samgozman/YoptaScript/commit/042317eadff97f9f0ebd53dfb575e9e89e4816b4.patch\n",
      "https://github.com/skypjack/entt/commit/039341de69deb7da9431b758e4a0259428f98cb5.patch\n",
      "https://github.com/kubernetes/release/commit/00b6498ffc05bae52bbbbf09f4207bb5ba4d36fe.patch\n"
     ]
    },
    {
     "name": "stderr",
     "output_type": "stream",
     "text": [
      "Map (num_proc=10):  82%|████████▏ | 818/1000 [01:01<00:16, 11.25 examples/s]"
     ]
    },
    {
     "name": "stdout",
     "output_type": "stream",
     "text": [
      "https://github.com/thombergs/code-examples/commit/02c73d52f391dc6084acd4371bcb9361fbf842dd.patch\n",
      "https://github.com/twosigma/waiter/commit/00b6941f1e9e52e9a79531b511901771f89b57b6.patch\n"
     ]
    },
    {
     "name": "stderr",
     "output_type": "stream",
     "text": [
      "Map (num_proc=10):  82%|████████▏ | 820/1000 [01:01<00:16, 11.15 examples/s]"
     ]
    },
    {
     "name": "stdout",
     "output_type": "stream",
     "text": [
      "https://github.com/BoD/irondad/commit/02c942f21ca1fcf32a280868353348c62ff6f5fd.patch\n",
      "https://github.com/quisas/albus/commit/0197e9b9e7d80f874a69c24a7531ce110f9426f9.patch\n"
     ]
    },
    {
     "name": "stderr",
     "output_type": "stream",
     "text": [
      "Map (num_proc=10):  82%|████████▏ | 822/1000 [01:01<00:14, 12.35 examples/s]"
     ]
    },
    {
     "name": "stdout",
     "output_type": "stream",
     "text": [
      "https://github.com/Eden-Kramer-Lab/spectral_connectivity/commit/004b8ebab461004e36bfba3d0a368c0d6ce66835.patch\n",
      "https://github.com/scallionpancake/scallionpancake.github.io/commit/00b7a3a52150ef300d7eca67aacabbfd35135bd4.patchhttps://github.com/DreamSourceLab/DSView/commit/02c9bff1ffff93df4eaf5fee86e99f2c54444a21.patch\n",
      "\n",
      "https://github.com/LLK/scratch-gui/commit/0203ae28e6d46032d7908e1e3a5502baa5683be9.patch\n"
     ]
    },
    {
     "name": "stderr",
     "output_type": "stream",
     "text": [
      "Map (num_proc=10):  83%|████████▎ | 826/1000 [01:02<00:10, 16.55 examples/s]"
     ]
    },
    {
     "name": "stdout",
     "output_type": "stream",
     "text": [
      "https://github.com/GIScience/openrouteservice/commit/026abacdcfbdbc7b35602b1de37eb790d8cdd7c7.patch\n",
      "https://github.com/languagetool-org/languagetool/commit/00b7b989dc7ba23e9564ccce30f6e73c3c750caf.patch\n",
      "https://github.com/materialsvirtuallab/nano266/commit/012415ffdf9087219cf58a1463db032878fef4c3.patch\n"
     ]
    },
    {
     "name": "stderr",
     "output_type": "stream",
     "text": [
      "Map (num_proc=10):  83%|████████▎ | 829/1000 [01:02<00:15, 11.17 examples/s]"
     ]
    },
    {
     "name": "stdout",
     "output_type": "stream",
     "text": [
      "https://github.com/arx/ArxLibertatis/commit/020510085c0ac2512de2159fba8157ff20fc26ad.patch\n",
      "https://github.com/tabatkins/bikeshed-data/commit/004e707ec73e1a75024e19eb5095c371171efe6d.patch\n",
      "https://github.com/coreruleset/coreruleset/commit/00bb86e3c64324cfd07add0c1322a577d3777d9c.patchhttps://github.com/KIZI/EasyMiner-EasyMinerCenter/commit/026c58ec2570ad3f914e006135f771edccd4d82e.patch\n",
      "\n",
      "https://github.com/graphpaperpress/Sell-Media/commit/033e98e457a6be138948ba297cd7eacafc151b9d.patch\n"
     ]
    },
    {
     "name": "stderr",
     "output_type": "stream",
     "text": [
      "Map (num_proc=10):  83%|████████▎ | 834/1000 [01:02<00:10, 16.10 examples/s]"
     ]
    },
    {
     "name": "stdout",
     "output_type": "stream",
     "text": [
      "https://github.com/DemocracyClub/UK-Polling-Stations/commit/039412f09504c9550a38954b7beb56b9195f8fcb.patch\n",
      "https://github.com/apache/bigtop/commit/02ca97bec055bb64d42b134a0110e19ef2277db2.patch\n",
      "https://github.com/songleo/songleo.github.io/commit/04236d5191b1547f81bda22ed79f78c34bbf00f0.patch\n"
     ]
    },
    {
     "name": "stderr",
     "output_type": "stream",
     "text": [
      "Map (num_proc=10):  84%|████████▎ | 837/1000 [01:03<00:14, 11.26 examples/s]"
     ]
    },
    {
     "name": "stdout",
     "output_type": "stream",
     "text": [
      "https://github.com/jwren/intellij-community/commit/012633dec654dcf3380c419d1c9830bde4455496.patch\n",
      "https://github.com/qunitjs/qunit/commit/033f35fccd3bcf9c3213c66fa1483eaead63db91.patchhttps://github.com/opentripplanner/otp-react-redux/commit/026dafac9be843e60cc4fac78c0cf539d112e9c8.patch\n",
      "\n",
      "https://github.com/mojohaus/keytool/commit/0394e0d5c4b71990ff78e4b7281c3ed88f1e3c0a.patch\n"
     ]
    },
    {
     "name": "stderr",
     "output_type": "stream",
     "text": [
      "Map (num_proc=10):  84%|████████▍ | 841/1000 [01:03<00:12, 12.55 examples/s]"
     ]
    },
    {
     "name": "stdout",
     "output_type": "stream",
     "text": [
      "https://github.com/erikbrinkman/d3-dag/commit/033fb198fce2f7db3f4b84a2185eaf73d985718f.patch\n",
      "https://github.com/thomsen67/GekkoTimeseries/commit/020559b18beb8a5e8b8c206c543be67a7e4356ab.patch\n"
     ]
    },
    {
     "name": "stderr",
     "output_type": "stream",
     "text": [
      "Map (num_proc=10):  84%|████████▍ | 843/1000 [01:03<00:16,  9.76 examples/s]"
     ]
    },
    {
     "name": "stdout",
     "output_type": "stream",
     "text": [
      "https://github.com/nejla/auth-service/commit/00bd60949b22f79f66bdf612a676dc2ce187fb01.patch\n",
      "https://github.com/sanikoyes/godot/commit/026de65e5ffadb02067e2b80c20f39f888ad0904.patch\n",
      "https://github.com/RRZE-Webteam/FAU-Einrichtungen/commit/0424dfd730df1c28062b73ad1bc4d67587f550ff.patchhttps://github.com/silverorange/swat/commit/0128f88d5d5aac9b059a850ff4eaa53f8bf3bc6a.patch\n",
      "\n",
      "https://github.com/openwrt/luci/commit/03959c670f13085e1f80ebde2a22a2346576130b.patch\n"
     ]
    },
    {
     "name": "stderr",
     "output_type": "stream",
     "text": [
      "Map (num_proc=10):  85%|████████▍ | 848/1000 [01:03<00:10, 14.05 examples/s]"
     ]
    },
    {
     "name": "stdout",
     "output_type": "stream",
     "text": [
      "https://github.com/cpmech/gemlab/commit/004fb3575c698fb2fa55b99408e79da69cc41153.patch\n",
      "https://github.com/CORE-POS/IS4C/commit/0197fbfa7a0282f7f0654fa60f4693fbab287495.patch\n",
      "https://github.com/resin-os/meta-resin/commit/0396efaf0964dc46e0a72792c7dfc0ce17955231.patch\n"
     ]
    },
    {
     "name": "stderr",
     "output_type": "stream",
     "text": [
      "Map (num_proc=10):  85%|████████▌ | 851/1000 [01:04<00:10, 13.58 examples/s]"
     ]
    },
    {
     "name": "stdout",
     "output_type": "stream",
     "text": [
      "https://github.com/aevri/mel/commit/033fc30c383a146619bf74f571f69f89d127e791.patch\n",
      "https://github.com/AxonFramework/AxonFramework/commit/0208011575d2e28e1217a6d7d30f78a82d89db32.patch\n"
     ]
    },
    {
     "name": "stderr",
     "output_type": "stream",
     "text": [
      "Map (num_proc=10):  85%|████████▌ | 853/1000 [01:04<00:11, 13.31 examples/s]"
     ]
    },
    {
     "name": "stdout",
     "output_type": "stream",
     "text": [
      "https://github.com/reduxjs/redux-toolkit/commit/00502fad1439a41daf5cc04e7e463a53708d3fd1.patch\n",
      "https://github.com/polagoab/deployconf/commit/0198d9047bfc90ad0af35761983d8b9d6c514350.patch\n"
     ]
    },
    {
     "name": "stderr",
     "output_type": "stream",
     "text": [
      "Map (num_proc=10):  86%|████████▌ | 855/1000 [01:04<00:14, 10.27 examples/s]"
     ]
    },
    {
     "name": "stdout",
     "output_type": "stream",
     "text": [
      "https://github.com/ousnius/BodySlide-and-Outfit-Studio/commit/03986ca0a2f35fec3efef70d4a37737401f0ae06.patch\n",
      "https://github.com/xanzy/go-gitlab/commit/02caff7c54fb2c591bbcb80fae6e48bf3e0105ba.patch\n"
     ]
    },
    {
     "name": "stderr",
     "output_type": "stream",
     "text": [
      "Map (num_proc=10):  86%|████████▌ | 857/1000 [01:05<00:17,  8.01 examples/s]"
     ]
    },
    {
     "name": "stdout",
     "output_type": "stream",
     "text": [
      "https://github.com/developit/preact-cli/commit/00bea83baa1d8ce8774453ee9542880da1314b7f.patch\n",
      "https://github.com/ckan/ckanext-showcase/commit/02cbc03e1458df68b7fabb6370b99a101ac29d20.patch\n"
     ]
    },
    {
     "name": "stderr",
     "output_type": "stream",
     "text": [
      "Map (num_proc=10):  86%|████████▌ | 859/1000 [01:05<00:16,  8.53 examples/s]"
     ]
    },
    {
     "name": "stdout",
     "output_type": "stream",
     "text": [
      "https://github.com/CloudI/CloudI/commit/0051117a09080caedce253e5385b0c7e3276aa41.patchhttps://github.com/compas-dev/compas/commit/01998a39c059dbd14f6822406bb982c10727f423.patch\n",
      "\n",
      "https://github.com/node-red/node-red/commit/0398ef3b9099cc9ca249a73d9461e6a80775904e.patch\n",
      "https://github.com/KDE/kdenlive/commit/02086acf31aecdeb22c3e71731140227b61d480b.patch\n",
      "https://github.com/cfei18/incubator-airflow/commit/026f1bb98cd05a26075bd4e4fb68f7c3860ce8db.patch\n",
      "https://github.com/adaptris/interlok/commit/0399b7b5adc54846f0806b7475e7e53f63b0125b.patchhttps://github.com/HaroldMills/Vesper/commit/0051aa721305ae2f0ae78bf4cf666577d16162b2.patchhttps://github.com/digabi/rich-text-editor/commit/0341302ce2fb08afa1051dd64078fe0c09a66820.patchhttps://github.com/kukeiko/entity-space/commit/019a574eb8488f50af846a3830885a57b1ee6b1c.patch\n",
      "\n",
      "\n",
      "\n"
     ]
    },
    {
     "name": "stderr",
     "output_type": "stream",
     "text": [
      "Map (num_proc=10):  86%|████████▋ | 865/1000 [01:05<00:14,  9.58 examples/s]"
     ]
    },
    {
     "name": "stdout",
     "output_type": "stream",
     "text": [
      "https://github.com/alefore/edge/commit/0209424e2bab34f82b550a28147735060d4df19d.patch\n",
      "https://github.com/duskpoet/emocks/commit/0270be83a8e1449b64e7f2f6f37cfd5f825b37ac.patch\n",
      "https://github.com/YosysHQ/yosys/commit/00bef0b534d28e6881f6ce145351d4ac7a050187.patch\n"
     ]
    },
    {
     "name": "stderr",
     "output_type": "stream",
     "text": [
      "Map (num_proc=10):  87%|████████▋ | 871/1000 [01:06<00:09, 14.07 examples/s]"
     ]
    },
    {
     "name": "stdout",
     "output_type": "stream",
     "text": [
      "https://github.com/ICTU/quality-time/commit/039a9d53caaf9413cebcc8833654efc764b7422c.patchhttps://github.com/VioletGiraffe/cppcheck-vs-addin/commit/019a82c83f9be57b0bdad781e968545523f7fc44.patchhttps://github.com/riganti/dotvvm/commit/0342a3bbcdfa5eca5f3244c2cbbec1c551ca3130.patchhttps://github.com/larsbijl/trending_archive/commit/00526417e7aca32e08f1a9448039a63840729019.patch\n",
      "\n",
      "\n",
      "\n",
      "https://github.com/sbcgua/abapGit/commit/01297df9a5f68f3443bee0d8864f61e54eb412d0.patch\n",
      "https://github.com/googleapis/google-cloud-java/commit/02714d5407d2b0341914c1d49ca56b09b66c5af6.patch\n",
      "https://github.com/ragnese/G4CMP/commit/02cd88d241f878715c9ea6baac9925333607a411.patch\n"
     ]
    },
    {
     "name": "stderr",
     "output_type": "stream",
     "text": [
      "Map (num_proc=10):  88%|████████▊ | 878/1000 [01:06<00:06, 18.60 examples/s]"
     ]
    },
    {
     "name": "stdout",
     "output_type": "stream",
     "text": [
      "https://github.com/WNProject/WNFramework/commit/0271ea40df99c5fc184538e8f3047fea9b85eaee.patch\n",
      "https://github.com/sapcc/helm-charts/commit/0426909b44669360181f0272be7a25fa89877a41.patch\n",
      "https://github.com/Xyce/Xyce/commit/02ce1efb57867d1d281c29203dc0b87081475f30.patch\n"
     ]
    },
    {
     "name": "stderr",
     "output_type": "stream",
     "text": [
      "Map (num_proc=10):  88%|████████▊ | 881/1000 [01:06<00:06, 17.84 examples/s]"
     ]
    },
    {
     "name": "stdout",
     "output_type": "stream",
     "text": [
      "https://github.com/alvistack/ansible-role-docker/commit/02ce7304192b1eb08c901012d005195bc47fea35.patch\n",
      "https://github.com/genialis/django-rest-framework-reactive/commit/02ce95ccb5c4150ab34beb6f0a477c4d3fd01de6.patch\n",
      "https://github.com/instedd/planwise/commit/034403d94bdad89500660414cf4942c981670824.patch\n"
     ]
    },
    {
     "name": "stderr",
     "output_type": "stream",
     "text": [
      "Map (num_proc=10):  88%|████████▊ | 884/1000 [01:06<00:08, 14.23 examples/s]"
     ]
    },
    {
     "name": "stdout",
     "output_type": "stream",
     "text": [
      "https://github.com/stamparm/maltrail/commit/019bb28789bcd263c8f8e04f241ebee9c0219e8a.patch\n",
      "https://github.com/ubergeek42/domjudge/commit/012ac708edf740de029ab6eae54056a3e5c8fe46.patch\n",
      "https://github.com/containers/storage/commit/039ca9855c831bf402dfeb5d19566b2540876db7.patch\n",
      "https://github.com/marchelzo/ty/commit/005535df77c32a8246e994104b21402a896db29a.patch\n",
      "https://github.com/rht/zulip/commit/02cf8e831f4594bbaeeedd3943584818b90d3d3d.patch\n"
     ]
    },
    {
     "name": "stderr",
     "output_type": "stream",
     "text": [
      "Map (num_proc=10):  89%|████████▉ | 889/1000 [01:06<00:06, 17.27 examples/s]"
     ]
    },
    {
     "name": "stdout",
     "output_type": "stream",
     "text": [
      "https://github.com/Viincenttt/MollieApi/commit/019bbd676defb5c60da0978d010a5aa0e908de53.patchhttps://github.com/leoloso/PoP/commit/03442a7ce6c8ab58087b22a8869c0d2b4bc82338.patch\n",
      "\n",
      "https://github.com/jdm64/GenesisChess-Android/commit/04274c992de17fc9271e8bfc9ddfd91a47a16986.patch\n",
      "https://github.com/renatofb/weblate/commit/019c333dc9bf981b69bd2a5728902f7d88aa8506.patchhttps://github.com/eis-os/Froxlor/commit/02d0194b9ffc5439296d56932fb1aa13ee776b52.patchhttps://github.com/Xlythe/WeatherService/commit/0345d6c2285b2d56c39b7d0c32330207e0948c05.patch\n",
      "\n",
      "\n",
      "https://github.com/CoughDrop/coughdrop/commit/042a446456107ba847c07c3b504b56be1eb640d5.patch"
     ]
    },
    {
     "name": "stderr",
     "output_type": "stream",
     "text": [
      "Map (num_proc=10):  89%|████████▉ | 893/1000 [01:07<00:05, 18.23 examples/s]"
     ]
    },
    {
     "name": "stdout",
     "output_type": "stream",
     "text": [
      "\n",
      "https://github.com/Connexions/cnx-rulesets/commit/039e3216fa2207de4ac1c3b94eda929586723d21.patchhttps://github.com/mk12/scripts/commit/012ad4e51be7a9ec5369899cb0f9d05b20745afa.patch\n",
      "\n",
      "https://github.com/phetsims/sun/commit/00bf2e4c68630a4880fae0740b672d68aeb45882.patch\n",
      "https://github.com/jackc/pgx/commit/0056156904301c6cf65de73354034ee0968233d1.patchhttps://github.com/Jordie0608/tgstation/commit/012b0abdd1372846212a7720a2afc53959dfe60d.patchhttps://github.com/notator/Moritz/commit/03a033e1b7053e4d52397092ea76c46e076c08f6.patchhttps://github.com/csc027/qmk_firmware/commit/00c02e3bd8e0a3856bcc42c2879391d9b4e284c7.patch\n",
      "\n",
      "\n",
      "\n"
     ]
    },
    {
     "name": "stderr",
     "output_type": "stream",
     "text": [
      "Map (num_proc=10):  90%|█████████ | 900/1000 [01:07<00:04, 21.73 examples/s]"
     ]
    },
    {
     "name": "stdout",
     "output_type": "stream",
     "text": [
      "https://github.com/Bill-Gray/lunar/commit/02096ca1f17c03ac6cfe0c4e1f2305f95deb0114.patch\n"
     ]
    },
    {
     "name": "stderr",
     "output_type": "stream",
     "text": [
      "Map (num_proc=10):  90%|█████████ | 904/1000 [01:07<00:04, 21.94 examples/s]"
     ]
    },
    {
     "name": "stdout",
     "output_type": "stream",
     "text": [
      "https://github.com/tjtrabue/dotfiles/commit/02725dd8ed417ec96c0d4b199322f6590a0559b8.patch\n",
      "https://github.com/WPO-Foundation/Wappalyzer/commit/020c21c690d3c2db9747216f1df491f79bb9d40a.patch\n",
      "https://github.com/chromium/chromium/commit/02742064c76cb4630d11ae3ed837b9d828d68a21.patch\n"
     ]
    },
    {
     "name": "stderr",
     "output_type": "stream",
     "text": [
      "Map (num_proc=10):  91%|█████████ | 907/1000 [01:07<00:05, 17.12 examples/s]"
     ]
    },
    {
     "name": "stdout",
     "output_type": "stream",
     "text": [
      "https://github.com/ntop/ntopng/commit/021086e44f66814b8b86157fa2df1b2604bcf5b2.patch\n",
      "https://github.com/v1s1t0r1sh3r3/airgeddon/commit/012b6e1fce42384e3dd826f895bbcf15646ece58.patchhttps://github.com/google/praxis/commit/0057f1d1c27e0b6fd1dc4582948043ed10f4fe5f.patchhttps://github.com/apache/solr/commit/03a053aad059efeba6a60359f703196e57c0a81a.patch\n",
      "\n",
      "\n",
      "https://github.com/acaprez/recipes/commit/00c0f4d8137594c8e8df3afc308b8b9b69378a03.patch\n",
      "https://github.com/sfu/canvas-lms/commit/021092d6c3d7a8738c99200ab93f04aa81735bf5.patch\n"
     ]
    },
    {
     "name": "stderr",
     "output_type": "stream",
     "text": [
      "Map (num_proc=10):  91%|█████████▏| 913/1000 [01:08<00:04, 20.66 examples/s]"
     ]
    },
    {
     "name": "stdout",
     "output_type": "stream",
     "text": [
      "https://github.com/nandub/brew/commit/012bd1f1348224d12d4888aa7c5af841dad4cbd8.patch\n",
      "https://github.com/infobloxopen/infoblox-client/commit/021116e2070b960cae4959414c1bdc9b009b5e0f.patch\n",
      "https://github.com/jcugat/django-custom-user/commit/0211973323b19b812a5b66db376dc8ccd7ac03d8.patch\n"
     ]
    },
    {
     "name": "stderr",
     "output_type": "stream",
     "text": [
      "Map (num_proc=10):  92%|█████████▏| 916/1000 [01:08<00:06, 12.36 examples/s]"
     ]
    },
    {
     "name": "stdout",
     "output_type": "stream",
     "text": [
      "https://github.com/KhronosGroup/Vulkan-CTS/commit/02d09f4e20bff584e5502f66a26117e8b768962c.patchhttps://github.com/Broxzier/OpenRCT2/commit/019ed54a481be61c104c9688e45f4e18f9facd46.patchhttps://github.com/Azure/azure-sdk-for-java/commit/042aa47cf0f30dec6c06d9534d9840fb197a4d06.patch\n",
      "\n",
      "\n",
      "https://github.com/craig-reahl/reahl/commit/0211c0502191af6b69ed664ed40403125c181252.patch\n"
     ]
    },
    {
     "name": "stderr",
     "output_type": "stream",
     "text": [
      "Map (num_proc=10):  92%|█████████▏| 920/1000 [01:08<00:05, 14.15 examples/s]"
     ]
    },
    {
     "name": "stdout",
     "output_type": "stream",
     "text": [
      "https://github.com/yangw1234/BigDL/commit/042acdf8157d8becf7acad3ede0c4cf64fb2a82b.patchhttps://github.com/AJIXuMuK/sp-dev-fx-webparts/commit/01a1ba50a1ad9cde2a3f80973508b81a359714af.patchhttps://github.com/GoogleCloudPlatform/buildpacks/commit/02d15402918fe2c1d39a837928d3c988c9e87c72.patch\n",
      "\n",
      "\n",
      "https://github.com/bitrise-steplib/steps-cache-pull/commit/02d25fa07cc1755b043298faffa6dda49d16811c.patchhttps://github.com/MethodicalAcceleratorDesign/MAD/commit/042b7dcb2354e016c0bbc42f12e385470ff25e79.patchhttps://github.com/nbari/homebrew-core/commit/01a2ac4d29e2cb8a37739b75b7f3da08ad21503a.patch\n",
      "\n",
      "\n"
     ]
    },
    {
     "name": "stderr",
     "output_type": "stream",
     "text": [
      "Map (num_proc=10):  92%|█████████▏| 924/1000 [01:09<00:04, 15.65 examples/s]"
     ]
    },
    {
     "name": "stdout",
     "output_type": "stream",
     "text": [
      "https://github.com/jeffreykegler/libmarpa/commit/02d343e64127275d4ba84d4573645bad14ebfb88.patch\n"
     ]
    },
    {
     "name": "stderr",
     "output_type": "stream",
     "text": [
      "Map (num_proc=10):  93%|█████████▎| 927/1000 [01:09<00:05, 12.27 examples/s]"
     ]
    },
    {
     "name": "stdout",
     "output_type": "stream",
     "text": [
      "https://github.com/lerna/lerna/commit/012d31d1dee36bfacb392cb9f6503aab78cdd4d1.patch\n",
      "https://github.com/KunYi/DumpSMBIOS/commit/02d5ace21178d9ddacf97b67217acf036bd4408b.patch\n"
     ]
    },
    {
     "name": "stderr",
     "output_type": "stream",
     "text": [
      "Map (num_proc=10):  93%|█████████▎| 929/1000 [01:09<00:05, 12.12 examples/s]"
     ]
    },
    {
     "name": "stdout",
     "output_type": "stream",
     "text": [
      "https://github.com/apple/swift/commit/01a32639f072c5cd2548b367ed23793cfa1db7b9.patchhttps://github.com/Wedmer/packages/commit/042bf16072627d763ba22a4d80c03cb32406a936.patch\n",
      "\n"
     ]
    },
    {
     "name": "stderr",
     "output_type": "stream",
     "text": [
      "Map (num_proc=10):  93%|█████████▎| 931/1000 [01:09<00:05, 12.34 examples/s]"
     ]
    },
    {
     "name": "stdout",
     "output_type": "stream",
     "text": [
      "https://github.com/ruivieira/crystal-gsl/commit/012da664cca76e653a57c33a747ad32d743c6e0f.patch\n",
      "https://github.com/ATLauncher/ATLauncher/commit/02d7b831f265b07243738f0fdefa903e3e215fa1.patch\n",
      "https://github.com/centreon/centreon/commit/0059d49ff1fe0a686d02b001dfabb55b10e43406.patch\n"
     ]
    },
    {
     "name": "stderr",
     "output_type": "stream",
     "text": [
      "Map (num_proc=10):  93%|█████████▎| 934/1000 [01:10<00:07,  9.32 examples/s]"
     ]
    },
    {
     "name": "stdout",
     "output_type": "stream",
     "text": [
      "https://github.com/maticnetwork/bor/commit/00c2b3329cddebd37c4f1af72ed4762afea728ed.patch\n",
      "https://github.com/civicrm/civicrm-l10n-extensions/commit/01a3d0b94b0991e65cca3204edeb601368363f52.patchhttps://github.com/Wargus/stargus/commit/042d1475bdfb19e45a4c27cd53680f56843776cf.patch\n",
      "\n"
     ]
    },
    {
     "name": "stderr",
     "output_type": "stream",
     "text": [
      "Map (num_proc=10):  94%|█████████▎| 936/1000 [01:10<00:07,  8.91 examples/s]"
     ]
    },
    {
     "name": "stdout",
     "output_type": "stream",
     "text": [
      "https://github.com/openconfig/gnmi/commit/03a2461d1813391151ad1bd1cdf03aef3b1ea716.patch\n"
     ]
    },
    {
     "name": "stderr",
     "output_type": "stream",
     "text": [
      "Map (num_proc=10):  94%|█████████▍| 938/1000 [01:10<00:06,  9.93 examples/s]"
     ]
    },
    {
     "name": "stdout",
     "output_type": "stream",
     "text": [
      "https://github.com/GoogleCloudPlatform/cloud-sql-iam-db-authn-groups/commit/005c67c7fc4dc8f5707d78c97b87b8365ec4e0f7.patch\n",
      "https://github.com/reyandme/kam_remake/commit/01a42c33e66e913951cd4ecf1014e75154415df3.patch\n",
      "https://github.com/vertexproject/synapse/commit/02d7c35aa358c7c5e430cadea028897622821370.patch\n"
     ]
    },
    {
     "name": "stderr",
     "output_type": "stream",
     "text": [
      "Map (num_proc=10):  94%|█████████▍| 941/1000 [01:10<00:04, 12.82 examples/s]"
     ]
    },
    {
     "name": "stdout",
     "output_type": "stream",
     "text": [
      "https://github.com/pydata/conf_site/commit/01a52b89f252f1353f0d7386243934d1998bc15b.patchhttps://github.com/Polymer/lit-html/commit/005c68fa656dd2f96ffdd4c05ef59aa7679193df.patch\n",
      "\n",
      "https://github.com/OCA/l10n-brazil/commit/03a33327d337084ca683c6e4785f01e7b6d9743c.patch\n"
     ]
    },
    {
     "name": "stderr",
     "output_type": "stream",
     "text": [
      "Map (num_proc=10):  94%|█████████▍| 944/1000 [01:11<00:04, 11.74 examples/s]"
     ]
    },
    {
     "name": "stdout",
     "output_type": "stream",
     "text": [
      "https://github.com/leanprover-community/mathlib/commit/02128fe4e46d10e3d15574bc6aa38baab14384be.patch\n",
      "https://github.com/torakiki/sambox/commit/01a71efb09213c338334bd4579286711f4ab66fc.patch\n"
     ]
    },
    {
     "name": "stderr",
     "output_type": "stream",
     "text": [
      "Map (num_proc=10):  95%|█████████▍| 946/1000 [01:11<00:06,  7.97 examples/s]"
     ]
    },
    {
     "name": "stdout",
     "output_type": "stream",
     "text": [
      "https://github.com/apache/drill/commit/0213d8e77d6739fcd9072719743ba06a4a3744ba.patch\n",
      "https://github.com/davidhampgonsalves/hourweather/commit/00c2ed889a237e7cdddf8a7e7ddafe5898a38b13.patch\n"
     ]
    },
    {
     "name": "stderr",
     "output_type": "stream",
     "text": [
      "Map (num_proc=10):  95%|█████████▍| 948/1000 [01:11<00:05,  9.28 examples/s]"
     ]
    },
    {
     "name": "stdout",
     "output_type": "stream",
     "text": [
      "https://github.com/stillwater-sc/universal/commit/03a5cc3f206bc33015e5ad86a10e0c77159d8c3c.patch\n",
      "https://github.com/http4s/http4s/commit/0213e2f5989b7f22463f7a587b298be3d35ccabb.patch\n"
     ]
    },
    {
     "name": "stderr",
     "output_type": "stream",
     "text": [
      "Map (num_proc=10):  95%|█████████▌| 950/1000 [01:12<00:07,  6.47 examples/s]"
     ]
    },
    {
     "name": "stdout",
     "output_type": "stream",
     "text": [
      "https://github.com/nestlabs/connectedhomeip/commit/012ec2ea99e2908b97ea6ea0cba324adc680de5f.patchhttps://github.com/thelia-modules/SupportTicket/commit/00c40c8b6173d2df7d72074e1bd97b1995f77ba2.patch\n",
      "\n",
      "https://github.com/jepegit/cellpy/commit/03a5eb12c056f6d35463aeda7429d68d132e3e48.patch\n"
     ]
    },
    {
     "name": "stderr",
     "output_type": "stream",
     "text": [
      "Map (num_proc=10):  95%|█████████▌| 953/1000 [01:12<00:05,  8.96 examples/s]"
     ]
    },
    {
     "name": "stdout",
     "output_type": "stream",
     "text": [
      "https://github.com/wellenvogel/avnav/commit/00c565d2fefd6b40d11924c41fc232ec50747485.patch\n",
      "https://github.com/fwupd/fwupd/commit/01304a5feae0238938790a24b3039720b44b350e.patch\n"
     ]
    },
    {
     "name": "stderr",
     "output_type": "stream",
     "text": [
      "Map (num_proc=10):  96%|█████████▌| 955/1000 [01:12<00:04,  9.96 examples/s]"
     ]
    },
    {
     "name": "stdout",
     "output_type": "stream",
     "text": [
      "https://github.com/jeremyje/gowebserver/commit/005c9485fe1f5818ee2dd37cc381ed2012ab745c.patch\n",
      "https://github.com/alphagov/whitehall/commit/02154355611bbf7e88b3d78a2fd4482e498e3d91.patch\n"
     ]
    },
    {
     "name": "stderr",
     "output_type": "stream",
     "text": [
      "Map (num_proc=10):  96%|█████████▌| 957/1000 [01:12<00:03, 11.14 examples/s]"
     ]
    },
    {
     "name": "stdout",
     "output_type": "stream",
     "text": [
      "https://github.com/angelariggs/angelariggs.github.io/commit/00c6bd1c05c8ad6d01e296c691c2cbf1fbf6b0da.patch\n",
      "https://github.com/bradharding/doomretro/commit/0130d65e1e58845d3bf70fd2023cdeb3846fde80.patch\n",
      "https://github.com/sergiocazzolato/snapd/commit/005d66c376706eee82eba4077bb706ba45bd57ff.patch\n"
     ]
    },
    {
     "name": "stderr",
     "output_type": "stream",
     "text": [
      "Map (num_proc=10):  96%|█████████▌| 960/1000 [01:12<00:03, 13.25 examples/s]"
     ]
    },
    {
     "name": "stdout",
     "output_type": "stream",
     "text": [
      "https://github.com/nbari/homebrew-core/commit/01314e9f82809b982bcc5a56274f9a66cdd78cf0.patch\n",
      "https://github.com/0xMF/dotfiles/commit/021648be07052e72cbfede4addf4aeef21c41785.patch\n"
     ]
    },
    {
     "name": "stderr",
     "output_type": "stream",
     "text": [
      "Map (num_proc=10):  96%|█████████▌| 962/1000 [01:12<00:03, 11.69 examples/s]"
     ]
    },
    {
     "name": "stdout",
     "output_type": "stream",
     "text": [
      "https://github.com/ghostgzt/ExView/commit/00c6f18670eadbe479bb3bd21c682b1ab030dd17.patch\n",
      "https://github.com/Freeyourgadget/Gadgetbridge/commit/0216bd28e5325fa924a0e84fa308adb85aca72f9.patch\n"
     ]
    },
    {
     "name": "stderr",
     "output_type": "stream",
     "text": [
      "Map (num_proc=10):  96%|█████████▋| 964/1000 [01:13<00:04,  8.32 examples/s]"
     ]
    },
    {
     "name": "stdout",
     "output_type": "stream",
     "text": [
      "https://github.com/commercialhaskell/all-cabal-metadata/commit/00c808d6e4fca2c3d48c80c423f3543ed9f5b584.patch\n",
      "https://github.com/EndPointCorp/lg_ros_nodes/commit/03a6f211888c3bb34919b908c842d2d0b9b0a01e.patch\n"
     ]
    },
    {
     "name": "stderr",
     "output_type": "stream",
     "text": [
      "Map (num_proc=10):  97%|█████████▋| 966/1000 [01:13<00:03,  9.88 examples/s]"
     ]
    },
    {
     "name": "stdout",
     "output_type": "stream",
     "text": [
      "https://github.com/NamelessMC/Nameless/commit/02175dcb6b7329e407fcebb928876d65d274d174.patch\n",
      "https://github.com/EBIBioSamples/biosamples-v4/commit/00c823d4f66bc8f75e468e9dd93c2efd3703d341.patch\n"
     ]
    },
    {
     "name": "stderr",
     "output_type": "stream",
     "text": [
      "Map (num_proc=10):  97%|█████████▋| 968/1000 [01:13<00:02, 11.04 examples/s]"
     ]
    },
    {
     "name": "stdout",
     "output_type": "stream",
     "text": [
      "https://github.com/SylvainDe/ProjectEulerPython/commit/0217c79cd3f874f2594c98efd676cd023c0a6f5f.patch\n",
      "https://github.com/FStarLang/FStar/commit/00c8bf9995b94cd17da4fe5e68210e3e4eaf3ea3.patch\n"
     ]
    },
    {
     "name": "stderr",
     "output_type": "stream",
     "text": [
      "Map (num_proc=10):  97%|█████████▋| 970/1000 [01:13<00:02, 11.06 examples/s]"
     ]
    },
    {
     "name": "stdout",
     "output_type": "stream",
     "text": [
      "https://github.com/ppy/osu/commit/005e47580189ff7e9ccd1359e8731e00acd595f9.patch\n",
      "https://github.com/zakki/openhsp/commit/0217ce9286968bb959c98ae72a040511ea80a450.patch\n"
     ]
    },
    {
     "name": "stderr",
     "output_type": "stream",
     "text": [
      "Map (num_proc=10):  97%|█████████▋| 972/1000 [01:13<00:02, 12.29 examples/s]"
     ]
    },
    {
     "name": "stdout",
     "output_type": "stream",
     "text": [
      "https://github.com/moddevices/mod-panel/commit/00c923589bcfbe09cc6ed2cf41bea19060d9f404.patch\n",
      "https://github.com/cfei18/incubator-airflow/commit/03a81b66de408631147f9353de6ffd3c1df45dbf.patch\n"
     ]
    },
    {
     "name": "stderr",
     "output_type": "stream",
     "text": [
      "Map (num_proc=10):  97%|█████████▋| 974/1000 [01:14<00:02, 12.89 examples/s]"
     ]
    },
    {
     "name": "stdout",
     "output_type": "stream",
     "text": [
      "https://github.com/jopohl/urh/commit/02183da14b21e634333d0dfac183f0d98ac1a1b8.patch\n",
      "https://github.com/wordpress-mobile/WordPress-Stores-Android/commit/00c936016c0b31d3719ea7162803bc2dd79717ac.patch\n"
     ]
    },
    {
     "name": "stderr",
     "output_type": "stream",
     "text": [
      "Map (num_proc=10):  98%|█████████▊| 976/1000 [01:14<00:01, 14.21 examples/s]"
     ]
    },
    {
     "name": "stdout",
     "output_type": "stream",
     "text": [
      "https://github.com/pkiraly/metadata-qa-marc/commit/03a92529d3f88fbff3f54d8e04b36eacf826da8b.patch\n",
      "https://github.com/31z4/official-images/commit/005ef92ed8b7c059cdac45b5b2f794cbf02a98ed.patch\n"
     ]
    },
    {
     "name": "stderr",
     "output_type": "stream",
     "text": [
      "Map (num_proc=10):  98%|█████████▊| 978/1000 [01:15<00:04,  5.34 examples/s]"
     ]
    },
    {
     "name": "stdout",
     "output_type": "stream",
     "text": [
      "https://github.com/BnMcGn/warflagger/commit/03aa8ea66203d245ac60e305c20a5c6c4d716e1c.patch\n",
      "https://github.com/AmadeusITGroup/CoreDumper/commit/005f66d188731a966dac996aa61ca2e84e816c71.patch\n"
     ]
    },
    {
     "name": "stderr",
     "output_type": "stream",
     "text": [
      "Map (num_proc=10):  98%|█████████▊| 980/1000 [01:15<00:03,  6.35 examples/s]"
     ]
    },
    {
     "name": "stdout",
     "output_type": "stream",
     "text": [
      "https://github.com/jeme/lucenenet/commit/03ab6d52ea850b303cf88edee8af371bbf89984e.patch\n",
      "https://github.com/podlove/podlove-publisher/commit/0132dcc311989ac95892044b835ef5f7c55750c1.patch\n"
     ]
    },
    {
     "name": "stderr",
     "output_type": "stream",
     "text": [
      "Map (num_proc=10):  98%|█████████▊| 982/1000 [01:15<00:02,  7.69 examples/s]"
     ]
    },
    {
     "name": "stdout",
     "output_type": "stream",
     "text": [
      "https://github.com/grpc/grpc-java/commit/03abe8a088c77e1b362b4f32922eed0f488b789f.patch\n",
      "https://github.com/as0ler/radare2/commit/0133e927099272612e5d7900a74870b2c91efbe3.patch\n"
     ]
    },
    {
     "name": "stderr",
     "output_type": "stream",
     "text": [
      "Map (num_proc=10):  98%|█████████▊| 984/1000 [01:15<00:01,  8.12 examples/s]"
     ]
    },
    {
     "name": "stdout",
     "output_type": "stream",
     "text": [
      "https://github.com/goblint/analyzer/commit/03ac9b6024cad0b6feaf00bb5607de9f868e72bd.patch\n",
      "https://github.com/kkartaltepe/obs-studio/commit/0135af9c348c5c37d728949cba854aac44de5e1a.patch\n"
     ]
    },
    {
     "name": "stderr",
     "output_type": "stream",
     "text": [
      "Map (num_proc=10):  99%|█████████▊| 986/1000 [01:16<00:02,  6.72 examples/s]"
     ]
    },
    {
     "name": "stdout",
     "output_type": "stream",
     "text": [
      "https://github.com/toy/fspath/commit/005fd22a4db9bfa576e26d2982a5e8a31a95cfd9.patch\n"
     ]
    },
    {
     "name": "stderr",
     "output_type": "stream",
     "text": [
      "Map (num_proc=10):  99%|█████████▊| 987/1000 [01:16<00:03,  3.86 examples/s]"
     ]
    },
    {
     "name": "stdout",
     "output_type": "stream",
     "text": [
      "https://github.com/conveyal/r5/commit/0136c41a56debde17f0328530928a50d9f69e5d4.patch\n"
     ]
    },
    {
     "name": "stderr",
     "output_type": "stream",
     "text": [
      "Map (num_proc=10):  99%|█████████▉| 988/1000 [01:17<00:03,  3.96 examples/s]"
     ]
    },
    {
     "name": "stdout",
     "output_type": "stream",
     "text": [
      "https://github.com/ferrarimarco/home-lab/commit/03af3c1c5a7763c78d91ae1f1e1e89e55dc2f8b1.patch\n",
      "https://github.com/bnied/kernel-ml-aufs/commit/005fd51bb87942623b0250a2c8b9df11ba7858b1.patch\n"
     ]
    },
    {
     "name": "stderr",
     "output_type": "stream",
     "text": [
      "Map (num_proc=10):  99%|█████████▉| 990/1000 [01:17<00:01,  5.25 examples/s]"
     ]
    },
    {
     "name": "stdout",
     "output_type": "stream",
     "text": [
      "https://github.com/GNOME/gnome-software/commit/0136d0b717fee432ca141c83bed44d7d4cd3edcb.patch\n",
      "https://github.com/SpineEventEngine/base/commit/03aff704a0795acfe0447606e33e13fc0cf16e7b.patch\n"
     ]
    },
    {
     "name": "stderr",
     "output_type": "stream",
     "text": [
      "Map (num_proc=10):  99%|█████████▉| 992/1000 [01:17<00:01,  6.99 examples/s]"
     ]
    },
    {
     "name": "stdout",
     "output_type": "stream",
     "text": [
      "https://github.com/kubevirt/kubevirt/commit/01374fe0ddaf43857bc83551f67d822edb67f31c.patchhttps://github.com/phetsims/hookes-law/commit/0062c6fe5d5b87c88068caa9576aa4de9994c1ee.patch\n",
      "\n"
     ]
    },
    {
     "name": "stderr",
     "output_type": "stream",
     "text": [
      "Map (num_proc=10):  99%|█████████▉| 994/1000 [01:17<00:00,  8.38 examples/s]"
     ]
    },
    {
     "name": "stdout",
     "output_type": "stream",
     "text": [
      "https://github.com/phpmyadmin/composer/commit/0062ce6b01696422d885f5826cbbc368c6640cc4.patch\n",
      "https://github.com/betterscientificsoftware/betterscientificsoftware.github.io/commit/013868f22c6295416c06959014f9a12feb4aca99.patch\n",
      "https://github.com/sev-/scummvm/commit/00637f3c094013a3c14718ecc361b24d27260b91.patch\n"
     ]
    },
    {
     "name": "stderr",
     "output_type": "stream",
     "text": [
      "Map (num_proc=10): 100%|█████████▉| 997/1000 [01:18<00:00,  5.70 examples/s]"
     ]
    },
    {
     "name": "stdout",
     "output_type": "stream",
     "text": [
      "https://github.com/arineng/puppet-hiera/commit/01398b9d752fcae1bdd183e1d861cac40b47f79a.patch\n",
      "https://github.com/CarGuo/GSYVideoPlayer/commit/006852d3e85a68607d194120d5cdcc2c73af6aa8.patch\n"
     ]
    },
    {
     "name": "stderr",
     "output_type": "stream",
     "text": [
      "Map (num_proc=10): 100%|█████████▉| 999/1000 [01:18<00:00,  6.56 examples/s]"
     ]
    },
    {
     "name": "stdout",
     "output_type": "stream",
     "text": [
      "https://github.com/gregs1104/pgbench-tools/commit/0069ddfddaae8f0c758f35f7bf61ed1f26720b12.patch\n"
     ]
    },
    {
     "name": "stderr",
     "output_type": "stream",
     "text": [
      "Map (num_proc=10): 100%|██████████| 1000/1000 [01:19<00:00, 12.51 examples/s]\n",
      "/opt/anaconda3/envs/research/lib/python3.12/site-packages/datasets/table.py:1421: FutureWarning: promote has been superseded by promote_options='default'.\n",
      "  table = cls._concat_blocks(blocks, axis=0)\n"
     ]
    }
   ],
   "source": [
    "def get_patch(row):\n",
    "    repo_name = row['repos'].split(\",\")[0].replace(\"[\", \"\").replace(\"]\", \"\")\n",
    "    url = f\"https://github.com/{repo_name}/commit/{row['commit']}.patch\"\n",
    "    r = requests.get(url)\n",
    "    print(url)\n",
    "    text = r.text\n",
    "    row[\"patch_text\"] = text\n",
    "    return row\n",
    "\n",
    "ds = ds.map(get_patch, num_proc=10)"
   ]
  },
  {
   "cell_type": "code",
   "execution_count": 26,
   "metadata": {},
   "outputs": [
    {
     "data": {
      "text/plain": [
       "Dataset({\n",
       "    features: ['commit', 'subject', 'message', 'repos', 'patch_text'],\n",
       "    num_rows: 1000\n",
       "})"
      ]
     },
     "execution_count": 26,
     "metadata": {},
     "output_type": "execute_result"
    }
   ],
   "source": [
    "ds"
   ]
  },
  {
   "cell_type": "code",
   "execution_count": 30,
   "metadata": {},
   "outputs": [
    {
     "data": {
      "text/plain": [
       "{'commit': ['0000223925c786b59c79f33a70a57508ded91322',\n",
       "  '0001ed84db74acaf9a9b7569668fae663764c5c1',\n",
       "  '000266f0c242ccf31eba11333df916c5641c227e',\n",
       "  '0003323beb2a617393cabf1914b5c31cccab5870',\n",
       "  '000489e9a6a68b7d3ac7c55d1ba44bf9d63dd54c',\n",
       "  '00057477312afe3eafcbd95a6598d8bcfecf53f8',\n",
       "  '0006cdec2ee4293aee6128673f8fd991c710d7ba',\n",
       "  '00071c976f9a16b5684697d10b086fc1b0be7145',\n",
       "  '0009d9532ee669dc8022ef1a62c72ad4961f9bb5',\n",
       "  '0009f2bf1c5b0c21607025c0aef6d67e2ddeb7d6'],\n",
       " 'subject': ['Use == and != with enum values.',\n",
       "  \"Merge branch 'main' into develop.\",\n",
       "  'Bump tzinfo from 1.2.7 to 1.2.10',\n",
       "  'Update Kotlin plugin',\n",
       "  'closes #603',\n",
       "  'dynamically set python host in vimrc',\n",
       "  '[internal] Refactor `GenerateJvmLockfileFromTool` to work with `scalac_plugins.py` (#14230)',\n",
       "  'Fix some confusing names in xterm.c',\n",
       "  'Extend LUKS2 decryption with datashift API tests.',\n",
       "  'kernel: rename gap95w.c to main.c and always use it'],\n",
       " 'message': [\"Use == and != with enum values.\\n\\nWhen porting I didn't remember whether that was the convention, so I went with equals(),\\nbut the inspection pointed out that == is better.\\n\",\n",
       "  \"Merge branch 'main' into develop.\\n\",\n",
       "  'Bump tzinfo from 1.2.7 to 1.2.10\\n\\nBumps [tzinfo](https://github.com/tzinfo/tzinfo) from 1.2.7 to 1.2.10.\\n- [Release notes](https://github.com/tzinfo/tzinfo/releases)\\n- [Changelog](https://github.com/tzinfo/tzinfo/blob/master/CHANGES.md)\\n- [Commits](https://github.com/tzinfo/tzinfo/compare/v1.2.7...v1.2.10)\\n\\n---\\nupdated-dependencies:\\n- dependency-name: tzinfo\\n  dependency-type: indirect\\n...\\n\\nSigned-off-by: dependabot[bot] <5bdcd3c0d4d24ae3e71b3b452a024c6324c7e4bb@github.com>',\n",
       "  'Update Kotlin plugin\\n',\n",
       "  'closes #603\\n',\n",
       "  'dynamically set python host in vimrc\\n',\n",
       "  \"[internal] Refactor `GenerateJvmLockfileFromTool` to work with `scalac_plugins.py` (#14230)\\n\\nWhen we have a tool lockfile, we must have a rule that goes from a subclass of `GenerateToolLockfileSentinel -> GenerateJvmLockfile`. To accommodate that `[tool].artifacts` can be either coordinate strings or addresses to `jvm_artifact` targets, we had an intermediate `GenerateJvmLockfileFromTool` type to do that normalization.\\r\\n\\r\\nBut, `scalac_plugins.py` does not use a normal `JvmToolBase`, so the original factoring did not work. We were duplicating the setup and violating DRY.\\r\\n\\r\\nNow, when you have a tool, we have one single way to set up the `GenerateJvmLockfile` for that tool.\\r\\n\\r\\n--\\r\\n\\r\\nNote that I tried to inline `GatherJvmCoordinatesRequest` in the `GenerateJvmLockfileFromTool` rule, but we can't because we use it for a non-lockfile usage:\\r\\n\\r\\nhttps://github.com/pantsbuild/pants/blob/c184d0af42a6670bdd43da12f10d7c59c100144e/src/python/pants/backend/codegen/protobuf/scala/rules.py#L239-L254\\r\\n\\r\\n[ci skip-rust]\",\n",
       "  \"Fix some confusing names in xterm.c\\n\\n* src/xterm.c (enum xm_targets_table_byte_order): Rename to\\n`xm_byte_order'.  All uses changed.\\n\",\n",
       "  'Extend LUKS2 decryption with datashift API tests.\\n',\n",
       "  'kernel: rename gap95w.c to main.c and always use it\\n\\nSo now there is just one definition for function `main`. Also,\\nlibgap now does not contain `main` anymore (oops)\\n'],\n",
       " 'repos': ['[kingjon3377/strategicprimer-viewer]',\n",
       "  '[google/site-kit-wp]',\n",
       "  '[KleoPetroff/kleopetroff.github.io]',\n",
       "  '[fr3ts0n/AndrOBD]',\n",
       "  '[microting/eform-sdk-dotnet]',\n",
       "  '[stevebosworth/dotfiles]',\n",
       "  '[benjyw/pants,pantsbuild/pants]',\n",
       "  '[stinsonga/emacs-mirror,0xAX/emacs,dkogan/emacs-snapshot,kfowler/emacs]',\n",
       "  '[mbroz/cryptsetup]',\n",
       "  '[gap-system/gap,wilfwilson/gap,hulpke/gap]'],\n",
       " 'patch_text': ['From 0000223925c786b59c79f33a70a57508ded91322 Mon Sep 17 00:00:00 2001\\nFrom: Jonathan Lovelace <kingjon3377@gmail.com>\\nDate: Sun, 6 Feb 2022 12:25:42 -0500\\nSubject: [PATCH] Use == and != with enum values.\\n\\nWhen porting I didn\\'t remember whether that was the convention, so I went with equals(),\\nbut the inspection pointed out that == is better.\\n---\\n .../exploration/common/ExplorationModel.java     | 16 ++++++++--------\\n .../java/exploration/common/HuntingModel.java    |  6 +++---\\n .../exploration/common/SimpleMovementModel.java  | 12 ++++++------\\n .../exploration/old/ExplorationRunner.java       |  2 +-\\n .../drivers/exploration/old/TerrainTable.java    |  4 ++--\\n .../generators/PopulationGeneratingModel.java    |  2 +-\\n .../drivers/generators/SampleMapPopulator.java   |  2 +-\\n .../java/drivers/generators/TownGenerator.java   | 16 ++++++++--------\\n drivers.query/src/main/java/query/QueryCLI.java  |  4 ++--\\n .../src/main/java/utility/CountingCLI.java       |  6 +++---\\n .../src/main/java/utility/MapCheckerCLI.java     |  8 ++++----\\n .../src/main/java/utility/TodoFixerCLI.java      |  4 ++--\\n .../main/java/utility/UtilityDriverModel.java    |  4 ++--\\n main/src/main/java/drivers/DriverWrapper.java    |  2 +-\\n .../exploration/ExplorationAutomationConfig.java |  4 ++--\\n .../exploration/ExplorationCLIHelper.java        | 10 +++++-----\\n .../drivers/exploration/ExplorationPanel.java    |  6 +++---\\n .../map_viewer/FixtureFilterTableModel.java      |  2 +-\\n .../drivers/map_viewer/FixtureListModel.java     |  6 +++---\\n .../drivers/map_viewer/SelectTileDialog.java     |  6 +++---\\n .../drivers/map_viewer/TerrainChangingMenu.java  | 10 +++++-----\\n .../java/drivers/map_viewer/TileTypeFixture.java |  2 +-\\n .../turnrunning/applets/TrappingApplet.java      |  2 +-\\n model/src/main/java/common/map/SPMapNG.java      |  8 +++-----\\n .../common/map/fixtures/resources/Meadow.java    |  6 +++---\\n .../java/common/map/fixtures/resources/Mine.java |  6 +++---\\n .../map/fixtures/resources/StoneDeposit.java     |  4 ++--\\n .../common/map/fixtures/towns/AbstractTown.java  |  8 ++++----\\n .../common/map/fixtures/towns/FortressImpl.java  |  2 +-\\n .../java/common/map/fixtures/towns/Village.java  |  8 ++++----\\n .../impl/xmlio/fluidxml/FluidTerrainHandler.java |  2 +-\\n .../java/impl/xmlio/fluidxml/SPFluidWriter.java  |  2 +-\\n .../main/java/impl/xmlio/yaxml/YAMapReader.java  |  2 +-\\n .../main/java/impl/xmlio/yaxml/YATownReader.java |  2 +-\\n model/src/test/java/common/map/SubsetTest.java   | 12 ++++++------\\n model/src/test/java/impl/dbio/TestDBIO.java      |  6 +++---\\n model/src/test/java/impl/xmlio/TestXMLIO.java    |  6 +++---\\n 37 files changed, 104 insertions(+), 106 deletions(-)\\n\\ndiff --git a/drivers.exploration.common/src/main/java/exploration/common/ExplorationModel.java b/drivers.exploration.common/src/main/java/exploration/common/ExplorationModel.java\\nindex 1742d9069..386fa3867 100644\\n--- a/drivers.exploration.common/src/main/java/exploration/common/ExplorationModel.java\\n+++ b/drivers.exploration.common/src/main/java/exploration/common/ExplorationModel.java\\n@@ -403,8 +403,8 @@ public int move(final Direction direction, final Speed speed) throws TraversalIm\\n \\t\\tTileType startingTerrain = getMap().getBaseTerrain(point);\\n \\t\\tif (terrain != null && startingTerrain != null &&\\n \\t\\t\\t\\t((SimpleMovementModel.landMovementPossible(terrain) &&\\n-\\t\\t\\t\\t\\t!TileType.Ocean.equals(startingTerrain)) ||\\n-\\t\\t\\t\\t(TileType.Ocean.equals(startingTerrain) &&\\n+\\t\\t\\t\\t\\t\\t  TileType.Ocean != startingTerrain) ||\\n+\\t\\t\\t\\t(TileType.Ocean == startingTerrain &&\\n \\t\\t\\t\\t\\tterrain == TileType.Ocean))) {\\n \\t\\t\\tint base;\\n \\t\\t\\tif (dest.equals(point)) {\\n@@ -444,13 +444,13 @@ public int move(final Direction direction, final Speed speed) throws TraversalIm\\n \\t\\t\\t\\tLOGGER.fine(\"Main map doesn\\'t have terrain for destination\");\\n \\t\\t\\t} else {\\n \\t\\t\\t\\tif (SimpleMovementModel.landMovementPossible(terrain) &&\\n-\\t\\t\\t\\t\\t\\tTileType.Ocean.equals(startingTerrain)) {\\n+\\t\\t\\t\\t\\t\\t    TileType.Ocean == startingTerrain) {\\n \\t\\t\\t\\t\\tLOGGER.fine(\"Starting in ocean, trying to get to \" + terrain);\\n-\\t\\t\\t\\t} else if (TileType.Ocean.equals(startingTerrain) &&\\n-\\t\\t\\t\\t\\t\\t!TileType.Ocean.equals(terrain)) {\\n+\\t\\t\\t\\t} else if (TileType.Ocean == startingTerrain &&\\n+\\t\\t\\t\\t\\t\\t                                                                                              TileType.Ocean != terrain) {\\n \\t\\t\\t\\t\\tLOGGER.fine(\"Land movement not possible from ocean to \" + terrain);\\n-\\t\\t\\t\\t} else if (!TileType.Ocean.equals(startingTerrain) &&\\n-\\t\\t\\t\\t\\t\\tTileType.Ocean.equals(terrain)) {\\n+\\t\\t\\t\\t} else if (TileType.Ocean != startingTerrain &&\\n+\\t\\t\\t\\t\\t\\t           TileType.Ocean == terrain) {\\n \\t\\t\\t\\t\\tLOGGER.fine(String.format(\"Starting in %s, trying to get to ocean\",\\n \\t\\t\\t\\t\\t\\tstartingTerrain));\\n \\t\\t\\t\\t} else {\\n@@ -763,7 +763,7 @@ public void copyTerrainToSubMaps(final Point location) {\\n \\t\\t\\t}\\n \\t\\t\\tTileType terrain = getMap().getBaseTerrain(location);\\n \\t\\t\\tif (terrain != null &&\\n-\\t\\t\\t\\t\\t!terrain.equals(subMap.getBaseTerrain(location))) {\\n+\\t\\t\\t\\t\\t    terrain != subMap.getBaseTerrain(location)) {\\n \\t\\t\\t\\tsubMap.setBaseTerrain(location, terrain);\\n \\t\\t\\t\\tsubMap.setModified(true);\\n \\t\\t\\t}\\ndiff --git a/drivers.exploration.common/src/main/java/exploration/common/HuntingModel.java b/drivers.exploration.common/src/main/java/exploration/common/HuntingModel.java\\nindex 39ffa5330..7c0cae36d 100644\\n--- a/drivers.exploration.common/src/main/java/exploration/common/HuntingModel.java\\n+++ b/drivers.exploration.common/src/main/java/exploration/common/HuntingModel.java\\n@@ -245,7 +245,7 @@ public Iterator<Type> iterator() {\\n \\tpublic HuntingModel(final IMapNG map) {\\n \\t\\tthis.map = map;\\n \\t\\tfishKinds = map.streamLocations()\\n-\\t\\t\\t.filter(l -> TileType.Ocean.equals(map.getBaseTerrain(l)))\\n+\\t\\t\\t.filter(l -> TileType.Ocean == map.getBaseTerrain(l))\\n \\t\\t\\t.flatMap(l -> map.getFixtures(l).stream())\\n \\t\\t\\t.filter(Animal.class::isInstance)\\n \\t\\t\\t.map(Animal.class::cast)\\n@@ -303,9 +303,9 @@ private Collection<TileFixture> plants(final Point point) {\\n \\t\\t\\t.collect(Collectors.toList());\\n \\t\\tdouble nothingProportion;\\n \\t\\tTileType tileType = map.getBaseTerrain(point);\\n-\\t\\tif (TileType.Desert.equals(tileType) || TileType.Tundra.equals(tileType)) {\\n+\\t\\tif (TileType.Desert == tileType || TileType.Tundra == tileType) {\\n \\t\\t\\tnothingProportion = 0.75;\\n-\\t\\t} else if (TileType.Jungle.equals(tileType)) {\\n+\\t\\t} else if (TileType.Jungle == tileType) {\\n \\t\\t\\tnothingProportion = 1.0 / 3.0;\\n \\t\\t} else {\\n \\t\\t\\tnothingProportion = 0.5;\\ndiff --git a/drivers.exploration.common/src/main/java/exploration/common/SimpleMovementModel.java b/drivers.exploration.common/src/main/java/exploration/common/SimpleMovementModel.java\\nindex 9245c163f..3481aa4bc 100644\\n--- a/drivers.exploration.common/src/main/java/exploration/common/SimpleMovementModel.java\\n+++ b/drivers.exploration.common/src/main/java/exploration/common/SimpleMovementModel.java\\n@@ -55,7 +55,7 @@ private SimpleMovementModel() {\\n \\t * Whether land movement is possible on the given terrain.\\n \\t */\\n \\tpublic static boolean landMovementPossible(final TileType terrain) {\\n-\\t\\treturn !TileType.Ocean.equals(terrain);\\n+\\t\\treturn TileType.Ocean != terrain;\\n \\t}\\n \\n \\t/**\\n@@ -103,16 +103,16 @@ public static int movementCost(@Nullable final TileType terrain, final boolean f\\n \\t                               final boolean river, final Iterable<TileFixture> fixtures) {\\n \\t\\tif (terrain == null) {\\n \\t\\t\\treturn Integer.MAX_VALUE - 1;\\n-\\t\\t} else if (TileType.Ocean.equals(terrain)) {\\n+\\t\\t} else if (TileType.Ocean == terrain) {\\n \\t\\t\\treturn Integer.MAX_VALUE - 1;\\n \\t\\t} else if (forest || mountain || Stream.of(fixtures)\\n \\t\\t\\t\\t\\t.anyMatch(fix -> fix instanceof Forest || fix instanceof Hill) ||\\n-\\t\\t\\t\\tTileType.Desert.equals(terrain)) {\\n+\\t\\t\\t\\t           TileType.Desert == terrain) {\\n \\t\\t\\treturn (river) ? 2 : 3;\\n-\\t\\t} else if (TileType.Jungle.equals(terrain) || TileType.Swamp.equals(terrain)) {\\n+\\t\\t} else if (TileType.Jungle == terrain || TileType.Swamp == terrain) {\\n \\t\\t\\treturn (river) ? 4 : 6;\\n-\\t\\t} else if (TileType.Steppe.equals(terrain) || TileType.Plains.equals(terrain) ||\\n-\\t\\t\\t\\tTileType.Tundra.equals(terrain)) {\\n+\\t\\t} else if (TileType.Steppe == terrain || TileType.Plains == terrain ||\\n+\\t\\t\\t\\t           TileType.Tundra == terrain) {\\n \\t\\t\\treturn (river) ? 1 : 2;\\n \\t\\t} else {\\n \\t\\t\\tthrow new IllegalStateException(\"Unhandled terrain type\");\\ndiff --git a/drivers.exploration.old/src/main/java/drivers/exploration/old/ExplorationRunner.java b/drivers.exploration.old/src/main/java/drivers/exploration/old/ExplorationRunner.java\\nindex 63ed90fce..9ceee1b61 100644\\n--- a/drivers.exploration.old/src/main/java/drivers/exploration/old/ExplorationRunner.java\\n+++ b/drivers.exploration.old/src/main/java/drivers/exploration/old/ExplorationRunner.java\\n@@ -269,7 +269,7 @@ public String defaultResults(final Point location, final TileType terrain, final\\n \\t                             final Iterable<TileFixture> fixtures, final MapDimensions mapDimensions)\\n \\t\\t\\tthrows MissingTableException {\\n \\t\\tif (StreamSupport.stream(fixtures.spliterator(), true).anyMatch(Forest.class::isInstance)\\n-\\t\\t\\t\\t&& (terrain.equals(TileType.Steppe) || terrain.equals(TileType.Plains))) {\\n+\\t\\t\\t\\t&& (terrain == TileType.Steppe || terrain == TileType.Plains)) {\\n \\t\\t\\treturn String.format(\\n \\t\\t\\t\\t\"The primary rock type here is %s.%nThe main kind of tree here is %s.%n\",\\n \\t\\t\\t\\tgetPrimaryRock(location, terrain, mountainous, fixtures, mapDimensions),\\ndiff --git a/drivers.exploration.old/src/main/java/drivers/exploration/old/TerrainTable.java b/drivers.exploration.old/src/main/java/drivers/exploration/old/TerrainTable.java\\nindex 4fcff5baa..1ef38632f 100644\\n--- a/drivers.exploration.old/src/main/java/drivers/exploration/old/TerrainTable.java\\n+++ b/drivers.exploration.old/src/main/java/drivers/exploration/old/TerrainTable.java\\n@@ -47,9 +47,9 @@ public String generateEvent(final Point point, @Nullable final TileType terrain,\\n \\t\\t\\t.anyMatch(Forest.class::isInstance);\\n \\t\\tif (mountainous) {\\n \\t\\t\\tactual = \"mountain\";\\n-\\t\\t} else if (TileType.Plains.equals(terrain) && forested) {\\n+\\t\\t} else if (TileType.Plains == terrain && forested) {\\n \\t\\t\\tactual = \"temperate_forest\";\\n-\\t\\t} else if (TileType.Steppe.equals(terrain) && forested) {\\n+\\t\\t} else if (TileType.Steppe == terrain && forested) {\\n \\t\\t\\tactual = \"boreal_forest\";\\n \\t\\t} else {\\n \\t\\t\\tactual = terrain.getXml();\\ndiff --git a/drivers.generators/src/main/java/drivers/generators/PopulationGeneratingModel.java b/drivers.generators/src/main/java/drivers/generators/PopulationGeneratingModel.java\\nindex a0652b80d..cdf77d2f5 100644\\n--- a/drivers.generators/src/main/java/drivers/generators/PopulationGeneratingModel.java\\n+++ b/drivers.generators/src/main/java/drivers/generators/PopulationGeneratingModel.java\\n@@ -142,7 +142,7 @@ public boolean setFieldExtent(final Point location, final Meadow field, final do\\n \\t\\t\\t\\t.filter(m -> field.getKind().equals(m.getKind()))\\n \\t\\t\\t\\t.filter(m -> field.isField() == m.isField())\\n \\t\\t\\t\\t.filter(m -> field.isCultivated() == m.isCultivated())\\n-\\t\\t\\t\\t.filter(m -> field.getStatus().equals(m.getStatus()))\\n+\\t\\t\\t\\t.filter(m -> field.getStatus() == m.getStatus())\\n \\t\\t\\t\\t.filter(m -> field.getId() == m.getId())\\n \\t\\t\\t\\t.findAny(); // TODO: only match without an existing extent?\\n \\t\\t\\tif (existing.isPresent()) {\\ndiff --git a/drivers.generators/src/main/java/drivers/generators/SampleMapPopulator.java b/drivers.generators/src/main/java/drivers/generators/SampleMapPopulator.java\\nindex c0ce62ab0..678f7490d 100644\\n--- a/drivers.generators/src/main/java/drivers/generators/SampleMapPopulator.java\\n+++ b/drivers.generators/src/main/java/drivers/generators/SampleMapPopulator.java\\n@@ -21,7 +21,7 @@\\n \\tpublic boolean isSuitable(final IMapNG map, final Point location) {\\n \\t\\tTileType terrain = map.getBaseTerrain(location);\\n \\t\\treturn terrain != null && !map.isMountainous(location) &&\\n-\\t\\t\\t!TileType.Ocean.equals(terrain) &&\\n+\\t\\t\\t\\t       TileType.Ocean != terrain &&\\n \\t\\t\\t\\t       map.getFixtures(location).stream().noneMatch(Forest.class::isInstance);\\n \\t}\\n \\ndiff --git a/drivers.generators/src/main/java/drivers/generators/TownGenerator.java b/drivers.generators/src/main/java/drivers/generators/TownGenerator.java\\nindex a1b9068f9..a116f07ee 100644\\n--- a/drivers.generators/src/main/java/drivers/generators/TownGenerator.java\\n+++ b/drivers.generators/src/main/java/drivers/generators/TownGenerator.java\\n@@ -156,7 +156,7 @@ List<Pair<Point, ITownFixture>> unstattedTowns(final IMapNG map) {\\n \\t\\treturn map.streamLocations()\\n \\t\\t\\t.flatMap(l -> map.getFixtures(l).stream().filter(ITownFixture.class::isInstance)\\n \\t\\t\\t\\t.map(ITownFixture.class::cast)\\n-\\t\\t\\t\\t.filter(t -> TownStatus.Active.equals(t.getStatus()))\\n+\\t\\t\\t\\t.filter(t -> TownStatus.Active == t.getStatus())\\n \\t\\t\\t\\t.map(f -> Pair.with(l, f)))\\n \\t\\t\\t.collect(Collectors.toList());\\n \\t}\\n@@ -212,9 +212,9 @@ private boolean isUnclaimedField(final IMapNG map, final int id) {\\n \\t * and the other is not, return false; otherwise, return true.\\n \\t */\\n \\tprivate boolean bothOrNeitherOcean(@Nullable final TileType one, @Nullable final TileType two) {\\n-\\t\\tif (TileType.Ocean.equals(one)) {\\n-\\t\\t\\treturn TileType.Ocean.equals(two);\\n-\\t\\t} else if (TileType.Ocean.equals(two)) {\\n+\\t\\tif (TileType.Ocean == one) {\\n+\\t\\t\\treturn TileType.Ocean == two;\\n+\\t\\t} else if (TileType.Ocean == two) {\\n \\t\\t\\treturn false;\\n \\t\\t} else {\\n \\t\\t\\treturn true;\\n@@ -234,7 +234,7 @@ private boolean isReallyClaimable(final HarvestableFixture fix) {\\n \\t\\t} else if (fix instanceof Grove) {\\n \\t\\t\\treturn ((Grove) fix).isCultivated();\\n \\t\\t} else if (fix instanceof Mine) {\\n-\\t\\t\\treturn TownStatus.Active.equals(((Mine) fix).getStatus());\\n+\\t\\t\\treturn TownStatus.Active == ((Mine) fix).getStatus();\\n \\t\\t} else if (fix instanceof CacheFixture) {\\n \\t\\t\\treturn false;\\n \\t\\t} else if (fix instanceof Shrub || fix instanceof StoneDeposit) {\\n@@ -310,7 +310,7 @@ private CommunityStats enterStats(final ICLIHelper cli, final IDRegistrar idf, f\\n \\t\\t\\t} else if (fieldLoc != null) {\\n \\t\\t\\t\\tif (!bothOrNeitherOcean(map.getBaseTerrain(location),\\n \\t\\t\\t\\t\\t\\tmap.getBaseTerrain(fieldLoc))) {\\n-\\t\\t\\t\\t\\tif (TileType.Ocean.equals(map.getBaseTerrain(location))) {\\n+\\t\\t\\t\\t\\tif (TileType.Ocean == map.getBaseTerrain(location)) {\\n \\t\\t\\t\\t\\t\\tcli.println(\\n \\t\\t\\t\\t\\t\\t\\t\"That would be a land resource worked by an aquatic town.\");\\n \\t\\t\\t\\t\\t} else {\\n@@ -454,7 +454,7 @@ private CommunityStats generateStats(final IDRegistrar idf, final Point location\\n \\t\\tIntSupplier skillLevelSource;\\n \\t\\tint resourceCount;\\n \\t\\tif (town instanceof Village) {\\n-\\t\\t\\tif (!TownSize.Small.equals(town.getTownSize())) {\\n+\\t\\t\\tif (TownSize.Small != town.getTownSize()) {\\n \\t\\t\\t\\tthrow new IllegalStateException(\\n \\t\\t\\t\\t\\t\"Don\\'t know how to handle non-small villages\");\\n \\t\\t\\t}\\n@@ -493,7 +493,7 @@ private CommunityStats generateStats(final IDRegistrar idf, final Point location\\n \\t\\tif (terrain == null) {\\n \\t\\t\\tskillTable = \"plains_skills\";\\n \\t\\t\\tconsumptionTableName = \"plains\";\\n-\\t\\t} else if (TileType.Ocean.equals(terrain)) {\\n+\\t\\t} else if (TileType.Ocean == terrain) {\\n \\t\\t\\tskillTable = \"ocean_skills\";\\n \\t\\t\\tconsumptionTableName = \"ocean\";\\n \\t\\t} else if (map.isMountainous(location)) {\\ndiff --git a/drivers.query/src/main/java/query/QueryCLI.java b/drivers.query/src/main/java/query/QueryCLI.java\\nindex 1e3fdc19b..30226cd06 100644\\n--- a/drivers.query/src/main/java/query/QueryCLI.java\\n+++ b/drivers.query/src/main/java/query/QueryCLI.java\\n@@ -206,7 +206,7 @@ private Point findUnexplored(final Point base) {\\n \\t\\t\\t} else if (currentTerrain == null) {\\n \\t\\t\\t\\tretval.add(current);\\n \\t\\t\\t} else {\\n-\\t\\t\\t\\tif (!TileType.Ocean.equals(currentTerrain)) {\\n+\\t\\t\\t\\tif (TileType.Ocean != currentTerrain) {\\n \\t\\t\\t\\t\\tdouble baseDistance = distance(base, current, dimensions);\\n \\t\\t\\t\\t\\tfor (Point neighbor : new SurroundingPointIterable(current,\\n \\t\\t\\t\\t\\t\\t\\tdimensions, 1)) {\\n@@ -233,7 +233,7 @@ private void suggestTrade(final Point base, final int distance) {\\n \\t\\t\\tfor (ITownFixture town : map.getFixtures(location).stream()\\n \\t\\t\\t\\t\\t.filter(ITownFixture.class::isInstance)\\n \\t\\t\\t\\t\\t.map(ITownFixture.class::cast).collect(Collectors.toList())) {\\n-\\t\\t\\t\\tif (TownStatus.Active.equals(town.getStatus()) &&\\n+\\t\\t\\t\\tif (TownStatus.Active == town.getStatus() &&\\n \\t\\t\\t\\t\\t\\ttown.getPopulation() != null &&\\n \\t\\t\\t\\t\\t\\t!town.getPopulation().getYearlyProduction().isEmpty()) {\\n \\t\\t\\t\\t\\tcli.print(\"At \", location.toString());\\ndiff --git a/drivers.utility/src/main/java/utility/CountingCLI.java b/drivers.utility/src/main/java/utility/CountingCLI.java\\nindex 625bcc149..548439bd4 100644\\n--- a/drivers.utility/src/main/java/utility/CountingCLI.java\\n+++ b/drivers.utility/src/main/java/utility/CountingCLI.java\\n@@ -148,7 +148,7 @@ private static boolean hasLake(final Iterable<River> iter) {\\n \\t}\\n \\n \\tprivate static boolean withNonLake(final Iterable<River> iter) {\\n-\\t\\treturn StreamSupport.stream(iter.spliterator(), true).anyMatch(r -> !River.Lake.equals(r));\\n+\\t\\treturn StreamSupport.stream(iter.spliterator(), true).anyMatch(r -> River.Lake != r);\\n \\t}\\n \\n \\tprivate static String countOfKind(final Pair<String, ? extends Number> pair) {\\n@@ -275,7 +275,7 @@ public void startDriver() { // TODO: Reduce duplication\\n \\t\\tcli.println(String.format(\"- %d active towns, cities, or fortifications of any size\",\\n \\t\\t\\tallFixtures.stream().filter(AbstractTown.class::isInstance)\\n \\t\\t\\t\\t.map(AbstractTown.class::cast)\\n-\\t\\t\\t\\t.filter(t -> TownStatus.Active.equals(t.getStatus())).count()));\\n+\\t\\t\\t\\t.filter(t -> TownStatus.Active == t.getStatus()).count()));\\n \\n \\t\\tMappedCounter<Village, String, Integer> villages = simpleCounter(Village::getRace);\\n \\t\\tallFixtures.stream().filter(Village.class::isInstance).map(Village.class::cast)\\n@@ -285,7 +285,7 @@ public void startDriver() { // TODO: Reduce duplication\\n \\t\\tMappedCounter<AbstractTown, String, Integer> inactiveTowns = simpleCounter(\\n \\t\\t\\tCountingCLI::townSummary);\\n \\t\\tallFixtures.stream().filter(AbstractTown.class::isInstance).map(AbstractTown.class::cast)\\n-\\t\\t\\t.filter(t -> !TownStatus.Active.equals(t.getStatus())).forEach(inactiveTowns::add);\\n+\\t\\t\\t.filter(t -> TownStatus.Active != t.getStatus()).forEach(inactiveTowns::add);\\n \\t\\tprintSummary(inactiveTowns, \"Inactive Communities:\");\\n \\n \\t\\tMappedCounter<IUnit, String, Integer> independentUnits =\\ndiff --git a/drivers.utility/src/main/java/utility/MapCheckerCLI.java b/drivers.utility/src/main/java/utility/MapCheckerCLI.java\\nindex 6496bc773..a8d4cc664 100644\\n--- a/drivers.utility/src/main/java/utility/MapCheckerCLI.java\\n+++ b/drivers.utility/src/main/java/utility/MapCheckerCLI.java\\n@@ -118,8 +118,8 @@ public boolean check(final TileType terrain, final Point context, final IFixture\\n \\tprivate static boolean lateriteChecker(final TileType terrain, final Point context, final IFixture fixture,\\n \\t                                       final Warning warner) {\\n \\t\\tif (fixture instanceof StoneDeposit &&\\n-\\t\\t\\t\\tStoneKind.Laterite.equals(((StoneDeposit) fixture).getStone()) &&\\n-\\t\\t\\t\\t!TileType.Jungle.equals(terrain)) {\\n+\\t\\t\\t\\t    StoneKind.Laterite == ((StoneDeposit) fixture).getStone() &&\\n+\\t\\t\\t\\t    TileType.Jungle != terrain) {\\n \\t\\t\\twarner.handle(new SPContentWarning(context, \"Laterite stone in non-jungle\"));\\n \\t\\t\\treturn true;\\n \\t\\t} else {\\n@@ -129,7 +129,7 @@ private static boolean lateriteChecker(final TileType terrain, final Point conte\\n \\n \\tprivate static boolean oasisChecker(final TileType terrain, final Point context, final IFixture fixture,\\n \\t                                    final Warning warner) {\\n-\\t\\tif (fixture instanceof Oasis && !TileType.Desert.equals(terrain)) {\\n+\\t\\tif (fixture instanceof Oasis && TileType.Desert != terrain) {\\n \\t\\t\\twarner.handle(new SPContentWarning(context, \"Oasis in non-desert\"));\\n \\t\\t\\treturn true;\\n \\t\\t} else {\\n@@ -152,7 +152,7 @@ private static boolean aquaticVillageChecker(final TileType terrain, final Point\\n \\t                                             final IFixture fixture, final Warning warner) {\\n \\t\\tif (fixture instanceof Village &&\\n \\t\\t\\t\\tLandRaces.LAND_RACES.contains(((Village) fixture).getRace()) &&\\n-\\t\\t\\t\\tTileType.Ocean.equals(terrain)) {\\n+\\t\\t\\t\\t    TileType.Ocean == terrain) {\\n \\t\\t\\twarner.handle(new SPContentWarning(context, \"Aquatic village has non-aquatic race\"));\\n \\t\\t\\treturn true;\\n \\t\\t} else {\\ndiff --git a/drivers.utility/src/main/java/utility/TodoFixerCLI.java b/drivers.utility/src/main/java/utility/TodoFixerCLI.java\\nindex 0d497cb67..0450f358b 100644\\n--- a/drivers.utility/src/main/java/utility/TodoFixerCLI.java\\n+++ b/drivers.utility/src/main/java/utility/TodoFixerCLI.java\\n@@ -156,7 +156,7 @@ private ExplorationRunner getRunner() throws IOException {\\n \\n \\tprivate String simpleTerrain(final IMapNG map, final Point loc) {\\n \\t\\tTileType terrain = map.getBaseTerrain(loc);\\n-\\t\\tif (TileType.Ocean.equals(terrain)) {\\n+\\t\\tif (TileType.Ocean == terrain) {\\n \\t\\t\\treturn \"ocean\";\\n \\t\\t} else if (map.isMountainous(loc)) {\\n \\t\\t\\treturn \"mountain\";\\n@@ -183,7 +183,7 @@ private static boolean anyEmptySkills(final Pair<Point, CommunityStats> pair) {\\n \\t */\\n \\tprivate void fixAllVillages(final IMapNG map) throws MissingTableException, IOException {\\n \\t\\tList<Village> villages = map.streamLocations()\\n-\\t\\t\\t.filter(l -> TileType.Ocean.equals(map.getBaseTerrain(l)))\\n+\\t\\t\\t.filter(l -> TileType.Ocean == map.getBaseTerrain(l))\\n \\t\\t\\t.flatMap(l -> map.getFixtures(l).stream())\\n \\t\\t\\t.filter(Village.class::isInstance).map(Village.class::cast)\\n \\t\\t\\t.filter(v -> LandRaces.LAND_RACES.contains(v.getRace()))\\ndiff --git a/drivers.utility/src/main/java/utility/UtilityDriverModel.java b/drivers.utility/src/main/java/utility/UtilityDriverModel.java\\nindex dde010570..e1e8be8ad 100644\\n--- a/drivers.utility/src/main/java/utility/UtilityDriverModel.java\\n+++ b/drivers.utility/src/main/java/utility/UtilityDriverModel.java\\n@@ -101,7 +101,7 @@ public void copyRiversAt(final Point location) {\\n \\t\\tfor (IMutableMapNG subordinateMap : getRestrictedSubordinateMaps()) {\\n \\t\\t\\tTileType mainTerrain = map.getBaseTerrain(location);\\n \\t\\t\\tTileType subTerrain = subordinateMap.getBaseTerrain(location);\\n-\\t\\t\\tif (mainTerrain != null && subTerrain != null && mainTerrain.equals(subTerrain) &&\\n+\\t\\t\\tif (mainTerrain != null && subTerrain != null && mainTerrain == subTerrain &&\\n \\t\\t\\t\\t\\t!map.getRivers(location).isEmpty() &&\\n \\t\\t\\t\\t\\tsubordinateMap.getRivers(location).isEmpty()) {\\n \\t\\t\\t\\tsubordinateMap.addRivers(location,\\n@@ -247,7 +247,7 @@ public void subtractAtPoint(final Point location) {\\n \\t\\t\\tsubMap.setModified(true);\\n \\t\\t\\tTileType terrain = map.getBaseTerrain(location);\\n \\t\\t\\tTileType ours = subMap.getBaseTerrain(location);\\n-\\t\\t\\tif (terrain != null && ours != null && terrain.equals(ours)) {\\n+\\t\\t\\tif (terrain != null && ours != null && terrain == ours) {\\n \\t\\t\\t\\tsubMap.setBaseTerrain(location, null);\\n \\t\\t\\t}\\n \\t\\t\\tsubMap.removeRivers(location,\\ndiff --git a/main/src/main/java/drivers/DriverWrapper.java b/main/src/main/java/drivers/DriverWrapper.java\\nindex 237dd4642..6aa13e54b 100644\\n--- a/main/src/main/java/drivers/DriverWrapper.java\\n+++ b/main/src/main/java/drivers/DriverWrapper.java\\n@@ -118,7 +118,7 @@ public void startCatchingErrors(final ICLIHelper cli, final SPOptions options, f\\n \\t\\t\\t\\t((UtilityDriverFactory) factory).createDriver(cli, options).startDriver(args);\\n \\t\\t\\t} else if (factory instanceof ModelDriverFactory) { // TODO: refactor to avoid successive instanceof tests\\n \\t\\t\\t\\tif (factory instanceof GUIDriverFactory) {\\n-\\t\\t\\t\\t\\tif (ParamCount.One.equals(factory.getUsage().getParamsWanted()) && args.length > 1) {\\n+\\t\\t\\t\\t\\tif (ParamCount.One == factory.getUsage().getParamsWanted() && args.length > 1) {\\n \\t\\t\\t\\t\\t\\tfor (String arg : args) {\\n \\t\\t\\t\\t\\t\\t\\tstartCatchingErrors(cli, options, arg);\\n \\t\\t\\t\\t\\t\\t}\\ndiff --git a/main/src/main/java/drivers/exploration/ExplorationAutomationConfig.java b/main/src/main/java/drivers/exploration/ExplorationAutomationConfig.java\\nindex 23e3b2912..24fd65068 100644\\n--- a/main/src/main/java/drivers/exploration/ExplorationAutomationConfig.java\\n+++ b/main/src/main/java/drivers/exploration/ExplorationAutomationConfig.java\\n@@ -28,11 +28,11 @@ public ExplorationAutomationConfig(final Player player) {\\n \\t\\t\\t\\t\\t\\t\\tfixture -> \"a fortress belonging to \" + fixture.getOwner(), IFortress.class),\\n \\t\\t\\t\\t\\tnew Condition<>(\"at active towns\",\\n \\t\\t\\t\\t\\t\\t\\tfixture -> String.format(\"a %s active %s\", fixture.getTownSize(), fixture.getKind()),\\n-\\t\\t\\t\\t\\t\\t\\tAbstractTown.class, t -> TownStatus.Active.equals(t.getStatus())),\\n+\\t\\t\\t\\t\\t\\t\\tAbstractTown.class, t -> TownStatus.Active == t.getStatus()),\\n \\t\\t\\t\\t\\tnew Condition<>(\"at inactive towns\",\\n \\t\\t\\t\\t\\t\\t\\tfixture -> String.format(\"a %s %s %s\", fixture.getTownSize(), AbstractTown.class,\\n \\t\\t\\t\\t\\t\\t\\t\\t\\tfixture.getStatus(), fixture.getKind()),\\n-\\t\\t\\t\\t\\t\\t\\tAbstractTown.class, t -> !TownStatus.Active.equals(t.getStatus())),\\n+\\t\\t\\t\\t\\t\\t\\tAbstractTown.class, t -> TownStatus.Active != t.getStatus()),\\n \\t\\t\\t\\t\\tnew Condition<>(\"at independent villages\", \"an independent village\",\\n \\t\\t\\t\\t\\t\\t\\tVillage.class, v -> v.getOwner().isIndependent()),\\n \\t\\t\\t\\t\\tnew Condition<>(\"at other players\\' villages\", \"another player\\'s village\",\\ndiff --git a/main/src/main/java/drivers/exploration/ExplorationCLIHelper.java b/main/src/main/java/drivers/exploration/ExplorationCLIHelper.java\\nindex abe642054..508de1e8f 100644\\n--- a/main/src/main/java/drivers/exploration/ExplorationCLIHelper.java\\n+++ b/main/src/main/java/drivers/exploration/ExplorationCLIHelper.java\\n@@ -227,7 +227,7 @@ public void moveOneStep() {\\n \\t\\t\\t\\t\\t.findAny().orElse(Direction.Nowhere);\\n \\t\\t\\t\\tif (proposedDestination.equals(point)) {\\n \\t\\t\\t\\t\\treturn;\\n-\\t\\t\\t\\t} else if (Direction.Nowhere.equals(direction)) {\\n+\\t\\t\\t\\t} else if (Direction.Nowhere == direction) {\\n \\t\\t\\t\\t\\tcli.println(String.format(\"Next step %s isn\\'t adjacent to %s\",\\n \\t\\t\\t\\t\\t\\tproposedDestination, point));\\n \\t\\t\\t\\t\\treturn;\\n@@ -261,7 +261,7 @@ public void moveOneStep() {\\n \\n \\t\\t\\t// Since not-visible terrain is impassable, by this point we know the tile is visible.\\n \\t\\t\\tTileType terrain = map.getBaseTerrain(destPoint);\\n-\\t\\t\\tif (TileType.Ocean.equals(terrain)) {\\n+\\t\\t\\tif (TileType.Ocean == terrain) {\\n \\t\\t\\t\\ttracksAnimal = huntingModel.fish(destPoint).iterator().next().getValue1();\\n \\t\\t\\t} else {\\n \\t\\t\\t\\ttracksAnimal = huntingModel.hunt(destPoint).iterator().next().getValue1();\\n@@ -273,7 +273,7 @@ public void moveOneStep() {\\n \\t\\t\\t\\tallFixtures.add(tracksAnimal.copy(false));\\n \\t\\t\\t}\\n \\n-\\t\\t\\tif (Direction.Nowhere.equals(direction)) {\\n+\\t\\t\\tif (Direction.Nowhere == direction) {\\n \\t\\t\\t\\twhile (true) {\\n \\t\\t\\t\\tBoolean response = cli.inputBooleanInSeries(\"Take an action here?\");\\n \\t\\t\\t\\tif (response == null) {\\n@@ -315,7 +315,7 @@ public void moveOneStep() {\\n \\t\\t\\tboolean anyRivers;\\n \\t\\t\\tif (rivers.contains(River.Lake)) {\\n \\t\\t\\t\\tanyRivers = true;\\n-\\t\\t\\t\\tif (rivers.stream().anyMatch(r -> !River.Lake.equals(r))) {\\n+\\t\\t\\t\\tif (rivers.stream().anyMatch(r -> River.Lake != r)) {\\n \\t\\t\\t\\t\\tcli.print(\" with a lake and (a) river(s) flowing \");\\n \\t\\t\\t\\t} else {\\n \\t\\t\\t\\t\\tcli.print(\" with a lake\");\\n@@ -326,7 +326,7 @@ public void moveOneStep() {\\n \\t\\t\\t} else {\\n \\t\\t\\t\\tanyRivers = false;\\n \\t\\t\\t}\\n-\\t\\t\\tcli.println(rivers.stream().filter(r -> !River.Lake.equals(r)).map(River::toString)\\n+\\t\\t\\tcli.println(rivers.stream().filter(r -> River.Lake != r).map(River::toString)\\n \\t\\t\\t\\t.collect(Collectors.joining(\", \")));\\n \\n \\t\\t\\tif (!map.getRoads(destPoint).isEmpty()) {\\ndiff --git a/main/src/main/java/drivers/exploration/ExplorationPanel.java b/main/src/main/java/drivers/exploration/ExplorationPanel.java\\nindex cb87a0a89..b7d2f9dbd 100644\\n--- a/main/src/main/java/drivers/exploration/ExplorationPanel.java\\n+++ b/main/src/main/java/drivers/exploration/ExplorationPanel.java\\n@@ -197,7 +197,7 @@ public ExplorationPanel(final SpinnerNumberModel mpModel, final ComboBoxModel<Sp\\n \\n \\t\\t\\tExplorationClickListener ecl = new ExplorationClickListener(driverModel, this, this::movementDeductionTracker,\\n \\t\\t\\t\\t\\tdirection, mainList);\\n-\\t\\t\\tif (Direction.Nowhere.equals(direction)) {\\n+\\t\\t\\tif (Direction.Nowhere == direction) {\\n \\t\\t\\t\\tdtb.setComponentPopupMenu(ecl.getExplorerActionsMenu());\\n \\t\\t\\t}\\n \\t\\t\\tcreateHotKey(dtb, direction.toString(), ecl, JComponent.WHEN_IN_FOCUSED_WINDOW,\\n@@ -329,7 +329,7 @@ private AnimalTracks tracksCreator(final Point point) {\\n \\t\\t}\\n \\t\\tLOGGER.finer(\"In ExplorationPanel.tracksCreator\");\\n \\t\\tFunction<Point, Iterable<Pair<Point, TileFixture>>> source;\\n-\\t\\tif (TileType.Ocean.equals(terrain)) {\\n+\\t\\tif (TileType.Ocean == terrain) {\\n \\t\\t\\tsource = huntingModel::fish;\\n \\t\\t} else {\\n \\t\\t\\tsource = huntingModel::hunt;\\n@@ -457,7 +457,7 @@ public JPopupMenu getExplorerActionsMenu() {\\n \\t\\tprivate void actionPerformedImpl() {\\n \\t\\t\\ttry {\\n \\t\\t\\t\\tList<TileFixture> fixtures = getSelectedValuesList();\\n-\\t\\t\\t\\tif (Direction.Nowhere.equals(direction)) {\\n+\\t\\t\\t\\tif (Direction.Nowhere == direction) {\\n \\t\\t\\t\\t\\texplorerActionsMenu.show(mainList, mainList.getWidth(), 0);\\n \\t\\t\\t\\t} else {\\n \\t\\t\\t\\t\\tdriverModel.move(direction, speedSource.get());\\ndiff --git a/main/src/main/java/drivers/map_viewer/FixtureFilterTableModel.java b/main/src/main/java/drivers/map_viewer/FixtureFilterTableModel.java\\nindex bac553f97..1cb1dd070 100644\\n--- a/main/src/main/java/drivers/map_viewer/FixtureFilterTableModel.java\\n+++ b/main/src/main/java/drivers/map_viewer/FixtureFilterTableModel.java\\n@@ -74,7 +74,7 @@ public FixtureFilterTableModel() {\\n \\t\\tFixtureMatcher.complements(IUnit.class, u -> !u.getOwner().isIndependent(),\\n \\t\\t\\t\"Units\", \"Independent Units\").forEach(matchers::add);\\n \\t\\tmatchers.add(FixtureMatcher.trivialMatcher(IFortress.class, \"Fortresses\"));\\n-\\t\\tFixtureMatcher.complements(AbstractTown.class, t -> TownStatus.Active.equals(t.getStatus()),\\n+\\t\\tFixtureMatcher.complements(AbstractTown.class, t -> TownStatus.Active == t.getStatus(),\\n \\t\\t\\t\"Active Cities, Towns, & Fortifications\",\\n \\t\\t\\t\"Ruined, Abandoned, & Burned Communities\").forEach(matchers::add);\\n \\t\\t// TODO: break up by owner beyond owned/independent\\ndiff --git a/main/src/main/java/drivers/map_viewer/FixtureListModel.java b/main/src/main/java/drivers/map_viewer/FixtureListModel.java\\nindex 2e817548d..ca07125ed 100644\\n--- a/main/src/main/java/drivers/map_viewer/FixtureListModel.java\\n+++ b/main/src/main/java/drivers/map_viewer/FixtureListModel.java\\n@@ -214,7 +214,7 @@ public boolean addFixture(final TileFixture fixture) {\\n \\t\\t\\tTileType existingTerrain = terrainSource.apply(point);\\n \\t\\t\\tTileTypeFixture ttf = (TileTypeFixture) fixture;\\n \\t\\t\\tif (existingTerrain != null) {\\n-\\t\\t\\t\\tif (existingTerrain.equals(ttf.getTileType())) {\\n+\\t\\t\\t\\tif (existingTerrain == ttf.getTileType()) {\\n \\t\\t\\t\\t\\treturn true;\\n \\t\\t\\t\\t} else if (terrainSink != null) {\\n \\t\\t\\t\\t\\tterrainSink.accept(point, ttf.getTileType());\\n@@ -307,8 +307,8 @@ public boolean removeAll(final Collection<? extends TileFixture> fixtures) {\\n \\t\\t\\tif (fixture instanceof TileTypeFixture) {\\n \\t\\t\\t\\tTileType currentTerrain = terrainSource.apply(point);\\n \\t\\t\\t\\tif (currentTerrain != null &&\\n-\\t\\t\\t\\t\\t\\tcurrentTerrain.equals(((TileTypeFixture) fixture)\\n-\\t\\t\\t\\t\\t\\t\\t.getTileType())) {\\n+\\t\\t\\t\\t\\t\\t    currentTerrain == ((TileTypeFixture) fixture)\\n+\\t\\t\\t\\t\\t\\t\\t\\t    .getTileType()) {\\n \\t\\t\\t\\t\\tif (terrainSink != null) {\\n \\t\\t\\t\\t\\t\\tterrainSink.accept(point, null);\\n \\t\\t\\t\\t\\t\\tfireIntervalRemoved(new Range(0, 0));\\ndiff --git a/main/src/main/java/drivers/map_viewer/SelectTileDialog.java b/main/src/main/java/drivers/map_viewer/SelectTileDialog.java\\nindex e441e06e3..e3189c40a 100644\\n--- a/main/src/main/java/drivers/map_viewer/SelectTileDialog.java\\n+++ b/main/src/main/java/drivers/map_viewer/SelectTileDialog.java\\n@@ -134,7 +134,7 @@ private void handleOK(final ActionEvent ignored) { // Param needed because added\\n \\t\\terrorLabel.setText(\"\");\\n \\t\\tMapDimensions dimensions = model.getMapDimensions();\\n \\t\\tNumberState columnState = checkNumber(columnText, dimensions.getColumns() - 1);\\n-\\t\\tif (!NumberState.Valid.equals(columnState)) {\\n+\\t\\tif (NumberState.Valid != columnState) {\\n \\t\\t\\terrorLabel.setText(errorLabel.getText() + \"Column\" +\\n \\t\\t\\t\\tgetErrorMessage(columnState, dimensions.getColumns()));\\n \\t\\t\\tcolumnField.setText(\"-1\");\\n@@ -142,14 +142,14 @@ private void handleOK(final ActionEvent ignored) { // Param needed because added\\n \\t\\t}\\n \\n \\t\\tNumberState rowState = checkNumber(rowText, dimensions.getRows() - 1);\\n-\\t\\tif (!NumberState.Valid.equals(rowState)) {\\n+\\t\\tif (NumberState.Valid != rowState) {\\n \\t\\t\\terrorLabel.setText(errorLabel.getText() + \"Row \" +\\n \\t\\t\\t\\tgetErrorMessage(rowState, dimensions.getRows()));\\n \\t\\t\\trowField.setText(\"-1\");\\n \\t\\t\\trowField.selectAll();\\n \\t\\t}\\n \\n-\\t\\tif (NumberState.Valid.equals(rowState) && NumberState.Valid.equals(columnState)) {\\n+\\t\\tif (NumberState.Valid == rowState && NumberState.Valid == columnState) {\\n \\t\\t\\ttry {\\n \\t\\t\\t\\tmodel.setSelection(new Point(NUM_PARSER.parse(rowText).intValue(),\\n \\t\\t\\t\\t\\tNUM_PARSER.parse(columnText).intValue()));\\ndiff --git a/main/src/main/java/drivers/map_viewer/TerrainChangingMenu.java b/main/src/main/java/drivers/map_viewer/TerrainChangingMenu.java\\nindex 8af069c80..edb180673 100644\\n--- a/main/src/main/java/drivers/map_viewer/TerrainChangingMenu.java\\n+++ b/main/src/main/java/drivers/map_viewer/TerrainChangingMenu.java\\n@@ -124,7 +124,7 @@ public TerrainChangingMenu(final int mapVersion, final IViewerModel model) {\\n \\tprivate void toggleMountains() {\\n \\t\\tPoint localPoint = point;\\n \\t\\tTileType terrain = model.getMap().getBaseTerrain(localPoint);\\n-\\t\\tif (localPoint.isValid() && terrain != null && !TileType.Ocean.equals(terrain)) {\\n+\\t\\tif (localPoint.isValid() && terrain != null && TileType.Ocean != terrain) {\\n \\t\\t\\tboolean newValue = !model.getMap().isMountainous(localPoint); // TODO: syntax sugar\\n \\t\\t\\tmodel.setMountainous(localPoint, newValue);\\n \\t\\t\\tmountainItem.getModel().setSelected(newValue);\\n@@ -136,7 +136,7 @@ private void toggleMountains() {\\n \\tprivate void toggleHill() {\\n \\t\\tPoint localPoint = point;\\n \\t\\tTileType terrain = model.getMap().getBaseTerrain(localPoint);\\n-\\t\\tif (localPoint.isValid() && terrain != null && !TileType.Ocean.equals(terrain)) {\\n+\\t\\tif (localPoint.isValid() && terrain != null && TileType.Ocean != terrain) {\\n \\t\\t\\tif (model.getMap().getFixtures(localPoint).stream()\\n \\t\\t\\t\\t\\t.noneMatch(Hill.class::isInstance)) {\\n \\t\\t\\t\\tmodel.addFixture(localPoint, new Hill(idf.createID()));\\n@@ -178,7 +178,7 @@ private Runnable toggleRiver(final River river, final JCheckBoxMenuItem item) {\\n \\t\\treturn () -> {\\n \\t\\t\\tPoint localPoint = point;\\n \\t\\t\\tTileType terrain = model.getMap().getBaseTerrain(localPoint);\\n-\\t\\t\\tif (localPoint.isValid() && terrain != null && !TileType.Ocean.equals(terrain)) {\\n+\\t\\t\\tif (localPoint.isValid() && terrain != null && TileType.Ocean != terrain) {\\n \\t\\t\\t\\tif (model.getMap().getRivers(localPoint).contains(river)) {\\n \\t\\t\\t\\t\\tmodel.removeRiver(localPoint, river);\\n \\t\\t\\t\\t\\titem.getModel().setSelected(false);\\n@@ -287,7 +287,7 @@ public void interactionPointChanged() {\\n \\t\\t} else {\\n \\t\\t\\tnewUnitItem.setEnabled(false);\\n \\t\\t}\\n-\\t\\tif (point.isValid() && terrain != null && !TileType.Ocean.equals(terrain)) {\\n+\\t\\tif (point.isValid() && terrain != null && TileType.Ocean != terrain) {\\n \\t\\t\\tmountainItem.getModel().setSelected(model.getMap().isMountainous(point));\\n \\t\\t\\tmountainItem.setEnabled(true);\\n \\t\\t\\thillItem.getModel().setSelected(model.getMap().getFixtures(point).stream()\\n@@ -301,7 +301,7 @@ public void interactionPointChanged() {\\n \\t\\t\\thillItem.setEnabled(false);\\n \\t\\t\\tnewForestItem.setEnabled(false);\\n \\t\\t}\\n-\\t\\tif (point.isValid() && terrain != null && !TileType.Ocean.equals(terrain)) {\\n+\\t\\tif (point.isValid() && terrain != null && TileType.Ocean != terrain) {\\n \\t\\t\\t// TODO: combine with earlier if(s)\\n \\t\\t\\tCollection<River> rivers = model.getMap().getRivers(point);\\n \\t\\t\\tfor (Map.Entry<River, JCheckBoxMenuItem> entry : riverItems.entrySet()) {\\ndiff --git a/main/src/main/java/drivers/map_viewer/TileTypeFixture.java b/main/src/main/java/drivers/map_viewer/TileTypeFixture.java\\nindex 72a12c96c..919d1a2c3 100644\\n--- a/main/src/main/java/drivers/map_viewer/TileTypeFixture.java\\n+++ b/main/src/main/java/drivers/map_viewer/TileTypeFixture.java\\n@@ -37,7 +37,7 @@ public TileTypeFixture copy(final boolean zero) {\\n \\n \\t@Override\\n \\tpublic boolean equals(final Object obj) {\\n-\\t\\treturn obj instanceof TileTypeFixture && ((TileTypeFixture) obj).tileType.equals(tileType);\\n+\\t\\treturn obj instanceof TileTypeFixture && ((TileTypeFixture) obj).tileType == tileType;\\n \\t}\\n \\n \\t@Override\\ndiff --git a/main/src/main/java/drivers/turnrunning/applets/TrappingApplet.java b/main/src/main/java/drivers/turnrunning/applets/TrappingApplet.java\\nindex 90171a72c..983922219 100644\\n--- a/main/src/main/java/drivers/turnrunning/applets/TrappingApplet.java\\n+++ b/main/src/main/java/drivers/turnrunning/applets/TrappingApplet.java\\n@@ -113,7 +113,7 @@ public String run() {\\n \\t\\twhile (time > 0) {\\n \\t\\t\\tfinal TrapperCommand command = cli.chooseFromList(trapperCommands, prompt,\\n \\t\\t\\t\\t\"Oops! No commands\", \"Next action: \", false).getValue1();\\n-\\t\\t\\tif (command == null || TrapperCommand.Quit.equals(command)) {\\n+\\t\\t\\tif (command == null || TrapperCommand.Quit == command) {\\n \\t\\t\\t\\tbreak;\\n \\t\\t\\t}\\n \\t\\t\\tboolean out = false;\\ndiff --git a/model/src/main/java/common/map/SPMapNG.java b/model/src/main/java/common/map/SPMapNG.java\\nindex 4df654004..448514edc 100644\\n--- a/model/src/main/java/common/map/SPMapNG.java\\n+++ b/model/src/main/java/common/map/SPMapNG.java\\n@@ -292,7 +292,7 @@ public Map<Direction, Integer> getRoads(final Point location) {\\n \\n \\t@Override\\n \\tpublic void setRoadLevel(final Point point, final Direction direction, final int quality) {\\n-\\t\\tif (direction.equals(Direction.Nowhere)) {\\n+\\t\\tif (direction == Direction.Nowhere) {\\n \\t\\t\\treturn;\\n \\t\\t} else if (quality < 0) {\\n \\t\\t\\tthrow new IllegalArgumentException(\"Road quality must be nonnegative\");\\n@@ -505,8 +505,7 @@ public boolean equals(final Object obj) {\\n \\t\\t\\t\\t\\tcurrentTurn == ((IMapNG) obj).getCurrentTurn() &&\\n \\t\\t\\t\\t\\tgetCurrentPlayer().equals(((IMapNG) obj).getCurrentPlayer())) {\\n \\t\\t\\t\\tfor (Point point : getLocations()) {\\n-\\t\\t\\t\\t\\tif (!Objects.equals(getBaseTerrain(point),\\n-\\t\\t\\t\\t\\t\\t\\t\\t((IMapNG) obj).getBaseTerrain(point)) ||\\n+\\t\\t\\t\\t\\tif (getBaseTerrain(point) != ((IMapNG) obj).getBaseTerrain(point) ||\\n \\t\\t\\t\\t\\t\\t\\tisMountainous(point) !=\\n \\t\\t\\t\\t\\t\\t\\t\\t((IMapNG) obj).isMountainous(point) ||\\n \\t\\t\\t\\t\\t\\t\\t!getRivers(point).equals(\\n@@ -700,8 +699,7 @@ public boolean isSubset(final IMapNG obj, final Consumer<String> report) {\\n \\t\\t\\t\\t\\t\\t\"At %s:\\\\t%s\", point.toString(), str));\\n \\t\\t\\t\\tif (obj.getBaseTerrain(point) != null) {\\n \\t\\t\\t\\t\\tif (terrain.containsKey(point)) {\\n-\\t\\t\\t\\t\\t\\tif (!getBaseTerrain(point)\\n-\\t\\t\\t\\t\\t\\t\\t\\t.equals(obj.getBaseTerrain(point))) {\\n+\\t\\t\\t\\t\\t\\tif (getBaseTerrain(point) != obj.getBaseTerrain(point)) {\\n \\t\\t\\t\\t\\t\\t\\tlocalReport.accept(\"Base terrain differs\");\\n \\t\\t\\t\\t\\t\\t\\tretval = false;\\n \\t\\t\\t\\t\\t\\t\\tcontinue;\\ndiff --git a/model/src/main/java/common/map/fixtures/resources/Meadow.java b/model/src/main/java/common/map/fixtures/resources/Meadow.java\\nindex 4fa8e8607..399686476 100644\\n--- a/model/src/main/java/common/map/fixtures/resources/Meadow.java\\n+++ b/model/src/main/java/common/map/fixtures/resources/Meadow.java\\n@@ -172,7 +172,7 @@ public boolean equals(final Object obj) {\\n \\t\\t\\t// TODO: Make NumberComparator.compare() static first, with the dynamic one delegating?\\n \\t\\t\\treturn kind.equals(((Meadow) obj).getKind()) &&\\n \\t\\t\\t\\tfield == ((Meadow) obj).isField() &&\\n-\\t\\t\\t\\tstatus.equals(((Meadow) obj).getStatus()) &&\\n+\\t\\t\\t\\t\\t       status == ((Meadow) obj).getStatus() &&\\n \\t\\t\\t\\tcultivated == ((Meadow) obj).isCultivated() &&\\n \\t\\t\\t\\tid == ((Meadow) obj).getId() &&\\n \\t\\t\\t\\tnew NumberComparator().compare(acres, ((Meadow) obj).getAcres()) == 0;\\n@@ -186,7 +186,7 @@ public boolean equalsIgnoringID(final IFixture fixture) {\\n \\t\\tif (fixture instanceof Meadow) {\\n \\t\\t\\treturn kind.equals(((Meadow) fixture).getKind()) &&\\n \\t\\t\\t\\tfield == ((Meadow) fixture).isField() &&\\n-\\t\\t\\t\\tstatus.equals(((Meadow) fixture).getStatus()) &&\\n+\\t\\t\\t\\t\\t       status == ((Meadow) fixture).getStatus() &&\\n \\t\\t\\t\\tcultivated == ((Meadow) fixture).isCultivated() &&\\n \\t\\t\\t\\tnew NumberComparator().compare(acres, ((Meadow) fixture).getAcres()) == 0;\\n \\t\\t} else {\\n@@ -218,7 +218,7 @@ public boolean isSubset(final IFixture other, final Consumer<String> report) {\\n \\t\\t\\t\\t\\tkind, id, s));\\n \\t\\t\\t}\\n \\t\\t\\tboolean retval = true;\\n-\\t\\t\\tif (!status.equals(((Meadow) other).getStatus())) {\\n+\\t\\t\\tif (status != ((Meadow) other).getStatus()) {\\n \\t\\t\\t\\tlocalReport.accept(\"Field status differs\");\\n \\t\\t\\t\\tretval = false;\\n \\t\\t\\t}\\ndiff --git a/model/src/main/java/common/map/fixtures/resources/Mine.java b/model/src/main/java/common/map/fixtures/resources/Mine.java\\nindex e09f0827d..1138a811c 100644\\n--- a/model/src/main/java/common/map/fixtures/resources/Mine.java\\n+++ b/model/src/main/java/common/map/fixtures/resources/Mine.java\\n@@ -105,7 +105,7 @@ public String toString() {\\n \\tpublic boolean equals(final Object obj) {\\n \\t\\tif (obj instanceof Mine) {\\n \\t\\t\\treturn kind.equals(((Mine) obj).getKind()) &&\\n-\\t\\t\\t\\tstatus.equals(((Mine) obj).getStatus()) &&\\n+\\t\\t\\t\\t\\t       status == ((Mine) obj).getStatus() &&\\n \\t\\t\\t\\tid == ((Mine) obj).getId();\\n \\t\\t} else {\\n \\t\\t\\treturn false;\\n@@ -121,7 +121,7 @@ public int hashCode() {\\n \\tpublic boolean equalsIgnoringID(final IFixture fixture) {\\n \\t\\tif (fixture instanceof Mine) {\\n \\t\\treturn kind.equals(((Mine) fixture).getKind()) &&\\n-\\t\\t\\tstatus.equals(((Mine) fixture).getStatus());\\n+\\t\\t\\t\\t       status == ((Mine) fixture).getStatus();\\n \\t\\t} else {\\n \\t\\t\\treturn false;\\n \\t\\t}\\n@@ -139,6 +139,6 @@ public String getShortDescription() {\\n \\t */\\n \\t@Override\\n \\tpublic int getDC() {\\n-\\t\\treturn (TownStatus.Active.equals(status)) ? 15 : 25;\\n+\\t\\treturn (TownStatus.Active == status) ? 15 : 25;\\n \\t}\\n }\\ndiff --git a/model/src/main/java/common/map/fixtures/resources/StoneDeposit.java b/model/src/main/java/common/map/fixtures/resources/StoneDeposit.java\\nindex 97817b77b..4a8636d8e 100644\\n--- a/model/src/main/java/common/map/fixtures/resources/StoneDeposit.java\\n+++ b/model/src/main/java/common/map/fixtures/resources/StoneDeposit.java\\n@@ -91,7 +91,7 @@ public StoneDeposit copy(final boolean zero) {\\n \\t@Override\\n \\tpublic boolean equals(final Object obj) {\\n \\t\\tif (obj instanceof StoneDeposit) {\\n-\\t\\t\\treturn ((StoneDeposit) obj).getStone().equals(stone) &&\\n+\\t\\t\\treturn ((StoneDeposit) obj).getStone() == stone &&\\n \\t\\t\\t\\t((StoneDeposit) obj).getId() == id;\\n \\t\\t} else {\\n \\t\\t\\treturn false;\\n@@ -119,7 +119,7 @@ public String getDefaultImage() {\\n \\t@Override\\n \\tpublic boolean equalsIgnoringID(final IFixture fixture) {\\n \\t\\tif (fixture instanceof StoneDeposit) {\\n-\\t\\t\\treturn ((StoneDeposit) fixture).getStone().equals(stone);\\n+\\t\\t\\treturn ((StoneDeposit) fixture).getStone() == stone;\\n \\t\\t} else {\\n \\t\\t\\treturn false;\\n \\t\\t}\\ndiff --git a/model/src/main/java/common/map/fixtures/towns/AbstractTown.java b/model/src/main/java/common/map/fixtures/towns/AbstractTown.java\\nindex 91e6f6369..3d3d0670d 100644\\n--- a/model/src/main/java/common/map/fixtures/towns/AbstractTown.java\\n+++ b/model/src/main/java/common/map/fixtures/towns/AbstractTown.java\\n@@ -183,11 +183,11 @@ public final boolean isSubset(final AbstractTown other, final Consumer<String> r\\n \\t\\tConsumer<String> localReport = s -> report.accept(String.format(\\n \\t\\t\\t\"In %s %s, ID #%d:\\\\t%s\", getKind(), name, getId(), s));\\n \\t\\tboolean retval = true;\\n-\\t\\tif (!status.equals(other.getStatus())) {\\n+\\t\\tif (status != other.getStatus()) {\\n \\t\\t\\tlocalReport.accept(\"Town status differs\");\\n \\t\\t\\tretval = false;\\n \\t\\t}\\n-\\t\\tif (!townSize.equals(other.getTownSize())) {\\n+\\t\\tif (townSize != other.getTownSize()) {\\n \\t\\t\\tlocalReport.accept(\"Town size differs\");\\n \\t\\t\\tretval = false;\\n \\t\\t}\\n@@ -212,8 +212,8 @@ public final boolean isSubset(final AbstractTown other, final Consumer<String> r\\n \\t * A helper method for equals() that checks everything except the type of the object.\\n \\t */\\n \\tprotected final boolean equalsContents(final AbstractTown fixture) {\\n-\\t\\treturn fixture.getTownSize().equals(townSize) &&\\n-\\t\\t\\tfixture.getName().equals(name) && fixture.getStatus().equals(status) &&\\n+\\t\\treturn fixture.getTownSize() == townSize &&\\n+\\t\\t\\tfixture.getName().equals(name) && fixture.getStatus() == status &&\\n \\t\\t\\tfixture.getOwner().equals(owner) &&\\n \\t\\t\\tObjects.equals(population, fixture.getPopulation());\\n \\t}\\ndiff --git a/model/src/main/java/common/map/fixtures/towns/FortressImpl.java b/model/src/main/java/common/map/fixtures/towns/FortressImpl.java\\nindex ad8de8c21..94fa5bc7e 100644\\n--- a/model/src/main/java/common/map/fixtures/towns/FortressImpl.java\\n+++ b/model/src/main/java/common/map/fixtures/towns/FortressImpl.java\\n@@ -277,7 +277,7 @@ public boolean isSubset(final IFixture obj, final Consumer<String> report) {\\n \\t\\t\\treport.accept(\"ID mismatch between Fortresses\");\\n \\t\\t\\treturn false;\\n \\t\\t}\\n-\\t\\tif (!townSize.equals(fort.getTownSize())) {\\n+\\t\\tif (townSize != fort.getTownSize()) {\\n \\t\\t\\treport.accept(\"Size mismatch between Fortresses\");\\n \\t\\t\\treturn false;\\n \\t\\t}\\ndiff --git a/model/src/main/java/common/map/fixtures/towns/Village.java b/model/src/main/java/common/map/fixtures/towns/Village.java\\nindex 0c8c806dd..c066f58fb 100644\\n--- a/model/src/main/java/common/map/fixtures/towns/Village.java\\n+++ b/model/src/main/java/common/map/fixtures/towns/Village.java\\n@@ -214,7 +214,7 @@ public String toString() {\\n \\t */\\n \\t@Override\\n \\tpublic boolean equals(final Object obj) {\\n-\\t\\tif (obj instanceof Village && status.equals(((Village) obj).getStatus()) &&\\n+\\t\\tif (obj instanceof Village && status == ((Village) obj).getStatus() &&\\n \\t\\t\\t\\tname.equals(((Village) obj).getName()) && id == ((Village) obj).getId() &&\\n \\t\\t\\t\\towner.equals(((Village) obj).getOwner()) &&\\n \\t\\t\\t\\trace.equals(((Village) obj).getRace())) {\\n@@ -238,7 +238,7 @@ public int hashCode() {\\n \\t */\\n \\t@Override\\n \\tpublic boolean equalsIgnoringID(final IFixture fixture) {\\n-\\t\\tif (fixture instanceof Village && status.equals(((Village) fixture).getStatus()) &&\\n+\\t\\tif (fixture instanceof Village && status == ((Village) fixture).getStatus() &&\\n \\t\\t\\t\\tname.equals(((Village) fixture).getName()) &&\\n \\t\\t\\t\\towner.equals(((Village) fixture).getOwner())) {\\n \\t\\t\\treturn Objects.equals(population, ((Village) fixture).getPopulation());\\n@@ -271,7 +271,7 @@ public boolean isSubset(final IFixture obj, final Consumer<String> report) {\\n \\t\\tif (obj instanceof Village) {\\n \\t\\t\\tif (id != ((Village) obj).getId()) {\\n \\t\\t\\t\\treport.accept(\"IDs differ\");\\n-\\t\\t\\t} else if (!status.equals(((Village) obj).getStatus())) {\\n+\\t\\t\\t} else if (status != ((Village) obj).getStatus()) {\\n \\t\\t\\t\\treport.accept(String.format(\"In village (ID #%d):\\\\tVillage status differs\",\\n \\t\\t\\t\\t\\tid));\\n \\t\\t\\t} else if (name.equals(((Village) obj).getName())) {\\n@@ -311,7 +311,7 @@ public String getKind() {\\n \\t */\\n \\t@Override\\n \\tpublic int getDC() {\\n-\\t\\tif (TownStatus.Active.equals(status)) {\\n+\\t\\tif (TownStatus.Active == status) {\\n \\t\\t\\tif (population == null) {\\n \\t\\t\\t\\treturn 15;\\n \\t\\t\\t} else if (population.getPopulation() < 10) {\\ndiff --git a/model/src/main/java/impl/xmlio/fluidxml/FluidTerrainHandler.java b/model/src/main/java/impl/xmlio/fluidxml/FluidTerrainHandler.java\\nindex d8a2b0ce8..201c46000 100644\\n--- a/model/src/main/java/impl/xmlio/fluidxml/FluidTerrainHandler.java\\n+++ b/model/src/main/java/impl/xmlio/fluidxml/FluidTerrainHandler.java\\n@@ -99,7 +99,7 @@ public static River readRiver(final StartElement element, final QName parent, fi\\n \\n \\tpublic static void writeRiver(final XMLStreamWriter ostream, final River obj, final int indent)\\n \\t\\t\\tthrows MalformedXMLException {\\n-\\t\\tif (River.Lake.equals(obj)) {\\n+\\t\\tif (River.Lake == obj) {\\n \\t\\t\\twriteTag(ostream, \"lake\", indent, true);\\n \\t\\t} else {\\n \\t\\t\\twriteTag(ostream, \"river\", indent, true);\\ndiff --git a/model/src/main/java/impl/xmlio/fluidxml/SPFluidWriter.java b/model/src/main/java/impl/xmlio/fluidxml/SPFluidWriter.java\\nindex b63de302e..6a26a398a 100644\\n--- a/model/src/main/java/impl/xmlio/fluidxml/SPFluidWriter.java\\n+++ b/model/src/main/java/impl/xmlio/fluidxml/SPFluidWriter.java\\n@@ -251,7 +251,7 @@ private void writeFortress(final XMLStreamWriter ostream, final IFortress obj, f\\n \\t\\twriteTag(ostream, \"fortress\", indentation, false);\\n \\t\\twriteAttributes(ostream, Pair.with(\"owner\", obj.getOwner().getPlayerId()));\\n \\t\\twriteNonEmptyAttributes(ostream, Pair.with(\"name\", obj.getName()));\\n-\\t\\tif (!TownSize.Small.equals(obj.getTownSize())) {\\n+\\t\\tif (TownSize.Small != obj.getTownSize()) {\\n \\t\\t\\twriteAttributes(ostream, Pair.with(\"size\", obj.getTownSize().toString()));\\n \\t\\t}\\n \\t\\twriteAttributes(ostream, Pair.with(\"id\", obj.getId()));\\ndiff --git a/model/src/main/java/impl/xmlio/yaxml/YAMapReader.java b/model/src/main/java/impl/xmlio/yaxml/YAMapReader.java\\nindex 8b8985a26..54c2a8eb4 100644\\n--- a/model/src/main/java/impl/xmlio/yaxml/YAMapReader.java\\n+++ b/model/src/main/java/impl/xmlio/yaxml/YAMapReader.java\\n@@ -145,7 +145,7 @@ public River parseRiver(final StartElement element, final QName parent) throws S\\n \\t * Write a river.\\n \\t */\\n \\tpublic void writeRiver(final ThrowingConsumer<String, IOException> ostream, final River obj, final int indent) throws IOException {\\n-\\t\\tif (River.Lake.equals(obj)) {\\n+\\t\\tif (River.Lake == obj) {\\n \\t\\t\\twriteTag(ostream, \"lake\", indent);\\n \\t\\t} else {\\n \\t\\t\\twriteTag(ostream, \"river\", indent);\\ndiff --git a/model/src/main/java/impl/xmlio/yaxml/YATownReader.java b/model/src/main/java/impl/xmlio/yaxml/YATownReader.java\\nindex 58a34e28a..5e091436e 100644\\n--- a/model/src/main/java/impl/xmlio/yaxml/YATownReader.java\\n+++ b/model/src/main/java/impl/xmlio/yaxml/YATownReader.java\\n@@ -429,7 +429,7 @@ public void write(final ThrowingConsumer<String, IOException> ostream, final ITo\\n \\t\\t\\twriteTag(ostream, \"fortress\", tabs);\\n \\t\\t\\twriteProperty(ostream, \"owner\", ((IFortress) obj).getOwner().getPlayerId());\\n \\t\\t\\twriteNonemptyProperty(ostream, \"name\", ((IFortress) obj).getName());\\n-\\t\\t\\tif (!TownSize.Small.equals(((IFortress) obj).getTownSize())) {\\n+\\t\\t\\tif (TownSize.Small != ((IFortress) obj).getTownSize()) {\\n \\t\\t\\t\\twriteProperty(ostream, \"size\", ((IFortress) obj).getTownSize().toString());\\n \\t\\t\\t}\\n \\t\\t\\twriteProperty(ostream, \"id\", ((IFortress) obj).getId());\\ndiff --git a/model/src/test/java/common/map/SubsetTest.java b/model/src/test/java/common/map/SubsetTest.java\\nindex 48b0a583c..50fcb133e 100644\\n--- a/model/src/test/java/common/map/SubsetTest.java\\n+++ b/model/src/test/java/common/map/SubsetTest.java\\n@@ -296,12 +296,12 @@ public void testTownSubsets(final TownSize size, final TownStatus status) {\\n \\t\\tfinal Player playerOne = new PlayerImpl(0, \"playerOne\");\\n \\t\\tfinal Player playerTwo = new PlayerImpl(1, \"playerTwo\");\\n \\t\\tfinal Player independent = new PlayerImpl(2, \"independent\");\\n-\\t\\tif (size.equals(TownSize.Small)) {\\n+\\t\\tif (size == TownSize.Small) {\\n \\t\\t\\tdifferentSize = TownSize.Large;\\n \\t\\t} else {\\n \\t\\t\\tdifferentSize = TownSize.Small;\\n \\t\\t}\\n-\\t\\tif (status.equals(TownStatus.Active)) {\\n+\\t\\tif (status == TownStatus.Active) {\\n \\t\\t\\tdifferentStatus = TownStatus.Ruined;\\n \\t\\t} else {\\n \\t\\t\\tdifferentStatus = TownStatus.Active;\\n@@ -364,12 +364,12 @@ public void testCitySubsets(final TownSize size, final TownStatus status) {\\n \\t\\tfinal Player playerOne = new PlayerImpl(0, \"playerOne\");\\n \\t\\tfinal Player playerTwo = new PlayerImpl(1, \"playerTwo\");\\n \\t\\tfinal Player independent = new PlayerImpl(2, \"independent\");\\n-\\t\\tif (size.equals(TownSize.Small)) {\\n+\\t\\tif (size == TownSize.Small) {\\n \\t\\t\\tdifferentSize = TownSize.Large;\\n \\t\\t} else {\\n \\t\\t\\tdifferentSize = TownSize.Small;\\n \\t\\t}\\n-\\t\\tif (status.equals(TownStatus.Active)) {\\n+\\t\\tif (status == TownStatus.Active) {\\n \\t\\t\\tdifferentStatus = TownStatus.Ruined;\\n \\t\\t} else {\\n \\t\\t\\tdifferentStatus = TownStatus.Active;\\n@@ -433,12 +433,12 @@ public void testFortificationSubsets(final TownSize size, final TownStatus statu\\n \\t\\tfinal Player playerOne = new PlayerImpl(0, \"playerOne\");\\n \\t\\tfinal Player playerTwo = new PlayerImpl(1, \"playerTwo\");\\n \\t\\tfinal Player independent = new PlayerImpl(2, \"independent\");\\n-\\t\\tif (size.equals(TownSize.Small)) {\\n+\\t\\tif (size == TownSize.Small) {\\n \\t\\t\\tdifferentSize = TownSize.Large;\\n \\t\\t} else {\\n \\t\\t\\tdifferentSize = TownSize.Small;\\n \\t\\t}\\n-\\t\\tif (status.equals(TownStatus.Active)) {\\n+\\t\\tif (status == TownStatus.Active) {\\n \\t\\t\\tdifferentStatus = TownStatus.Ruined;\\n \\t\\t} else {\\n \\t\\t\\tdifferentStatus = TownStatus.Active;\\ndiff --git a/model/src/test/java/impl/dbio/TestDBIO.java b/model/src/test/java/impl/dbio/TestDBIO.java\\nindex c8cbfc784..3afce1559 100644\\n--- a/model/src/test/java/impl/dbio/TestDBIO.java\\n+++ b/model/src/test/java/impl/dbio/TestDBIO.java\\n@@ -591,13 +591,13 @@ private static Stream<Arguments> testRoadSerialization() {\\n \\t@MethodSource\\n \\tpublic void testRoadSerialization(final Direction directionOne, final int qualityOne, final Direction directionTwo,\\n \\t                                  final int qualityTwo) {\\n-\\t\\tassumeFalse(directionOne.equals(directionTwo),  \"We can\\'t have the same direction twice\");\\n+\\t\\tassumeFalse(directionOne == directionTwo,  \"We can\\'t have the same direction twice\");\\n \\t\\tIMutableMapNG map = new SPMapNG(new MapDimensionsImpl(1, 1, 2), new PlayerCollection(), 1);\\n \\t\\tmap.setBaseTerrain(new Point(0, 0), TileType.Plains);\\n-\\t\\tif (!Direction.Nowhere.equals(directionOne)) {\\n+\\t\\tif (Direction.Nowhere != directionOne) {\\n \\t\\t\\tmap.setRoadLevel(new Point(0, 0), directionOne, qualityOne);\\n \\t\\t}\\n-\\t\\tif (!Direction.Nowhere.equals(directionTwo)) {\\n+\\t\\tif (Direction.Nowhere != directionTwo) {\\n \\t\\t\\tmap.setRoadLevel(new Point(0, 0), directionTwo, qualityTwo);\\n \\t\\t}\\n \\t\\tassertDatabaseSerialization(map);\\ndiff --git a/model/src/test/java/impl/xmlio/TestXMLIO.java b/model/src/test/java/impl/xmlio/TestXMLIO.java\\nindex 1a7fb294a..12f7f0b4c 100644\\n--- a/model/src/test/java/impl/xmlio/TestXMLIO.java\\n+++ b/model/src/test/java/impl/xmlio/TestXMLIO.java\\n@@ -2229,15 +2229,15 @@ private static Stream<Arguments> testRoadSerialization() {\\n \\tpublic void testRoadSerialization(final Direction directionOne, final int qualityOne, final Direction directionTwo,\\n \\t                                  final int qualityTwo)\\n \\t\\t\\tthrows SPFormatException, MalformedXMLException, IOException {\\n-\\t\\tassumeFalse(directionOne.equals(directionTwo),  \"We can\\'t have the same direction twice\");\\n+\\t\\tassumeFalse(directionOne == directionTwo,  \"We can\\'t have the same direction twice\");\\n \\t\\tassumeTrue(qualityOne >= 0, \"Road quality can\\'t be negative\");\\n \\t\\tassumeTrue(qualityTwo >= 0, \"Road quality can\\'t be negative\");\\n \\t\\tIMutableMapNG map = createSimpleMap(new Point(1, 1),\\n \\t\\t\\tPair.with(new Point(0, 0), TileType.Plains));\\n-\\t\\tif (!Direction.Nowhere.equals(directionOne)) {\\n+\\t\\tif (Direction.Nowhere != directionOne) {\\n \\t\\t\\tmap.setRoadLevel(new Point(0, 0), directionOne, qualityOne);\\n \\t\\t}\\n-\\t\\tif (!Direction.Nowhere.equals(directionTwo)) {\\n+\\t\\tif (Direction.Nowhere != directionTwo) {\\n \\t\\t\\tmap.setRoadLevel(new Point(0, 0), directionTwo, qualityTwo);\\n \\t\\t}\\n \\t\\tassertSerialization(\"Map with roads is serialized properly.\", map, Warning.DIE);\\n',\n",
       "  'From ce09a30063466fc7f5f393a9c2600474f169e5f2 Mon Sep 17 00:00:00 2001\\nFrom: Hussain Thajutheen <hussain.thajutheen@10up.com>\\nDate: Tue, 4 Oct 2022 13:33:12 +0530\\nSubject: [PATCH 01/15] Render TwG supporter wall notification if the module is\\n available. Fix error if ssl is not enabled.\\n\\n---\\n assets/js/components/notifications/BannerNotifications.js | 5 ++++-\\n 1 file changed, 4 insertions(+), 1 deletion(-)\\n\\ndiff --git a/assets/js/components/notifications/BannerNotifications.js b/assets/js/components/notifications/BannerNotifications.js\\nindex 13bc8ff2536..9204a6417fb 100644\\n--- a/assets/js/components/notifications/BannerNotifications.js\\n+++ b/assets/js/components/notifications/BannerNotifications.js\\n@@ -56,6 +56,9 @@ export default function BannerNotifications() {\\n \\tconst adSenseModuleActive = useSelect( ( select ) =>\\n \\t\\tselect( CORE_MODULES ).isModuleActive( \\'adsense\\' )\\n \\t);\\n+\\tconst twGModuleAvailable = useSelect( ( select ) =>\\n+\\t\\tselect( CORE_MODULES ).isModuleAvailable( \\'thank-with-google\\' )\\n+\\t);\\n \\n \\tconst [ notification ] = useQueryArg( \\'notification\\' );\\n \\n@@ -70,7 +73,7 @@ export default function BannerNotifications() {\\n \\t\\t\\t\\t\\t{ isAuthenticated && <CoreSiteBannerNotifications /> }\\n \\t\\t\\t\\t\\t{ dashboardSharingEnabled && <ModuleRecoveryAlert /> }\\n \\t\\t\\t\\t\\t{ ga4ActivationBannerEnabled && <ActivationBanner /> }\\n-\\t\\t\\t\\t\\t{ twgEnabled && (\\n+\\t\\t\\t\\t\\t{ twgEnabled && twGModuleAvailable && (\\n \\t\\t\\t\\t\\t\\t<ThankWithGoogleSupporterWallNotification />\\n \\t\\t\\t\\t\\t) }\\n \\t\\t\\t\\t</Fragment>\\n\\nFrom 44faca06361f45d466492716944936f6549b5da4 Mon Sep 17 00:00:00 2001\\nFrom: Maciej <ostromaciej@gmail.com>\\nDate: Tue, 4 Oct 2022 14:11:17 +0200\\nSubject: [PATCH 02/15] Return values only.\\n\\n---\\n includes/Core/Modules/Module_Sharing_Settings.php | 2 +-\\n 1 file changed, 1 insertion(+), 1 deletion(-)\\n\\ndiff --git a/includes/Core/Modules/Module_Sharing_Settings.php b/includes/Core/Modules/Module_Sharing_Settings.php\\nindex 93bae400ae4..a21f7144b0d 100644\\n--- a/includes/Core/Modules/Module_Sharing_Settings.php\\n+++ b/includes/Core/Modules/Module_Sharing_Settings.php\\n@@ -125,7 +125,7 @@ function( $role_slug ) {\\n \\t\\t\\t}\\n \\t\\t);\\n \\n-\\t\\treturn $filtered_shared_roles;\\n+\\t\\treturn array_values( $filtered_shared_roles );\\n \\t}\\n \\n \\t/**\\n\\nFrom fa8a312e9b1afc76becd40bf211cc8ac7ca81e6f Mon Sep 17 00:00:00 2001\\nFrom: Hussain Thajutheen <hussain.thajutheen@10up.com>\\nDate: Tue, 4 Oct 2022 22:32:56 +0530\\nSubject: [PATCH 03/15] Prefetch supporter-wall-prompt call.\\n\\n---\\n includes/Modules/Thank_With_Google.php | 17 +++++++++++++++--\\n 1 file changed, 15 insertions(+), 2 deletions(-)\\n\\ndiff --git a/includes/Modules/Thank_With_Google.php b/includes/Modules/Thank_With_Google.php\\nindex 82d2c7a855d..cdb69df53b7 100644\\n--- a/includes/Modules/Thank_With_Google.php\\n+++ b/includes/Modules/Thank_With_Google.php\\n@@ -29,6 +29,7 @@\\n use Google\\\\Site_Kit\\\\Core\\\\Modules\\\\Module_With_Settings_Trait;\\n use Google\\\\Site_Kit\\\\Core\\\\REST_API\\\\Data_Request;\\n use Google\\\\Site_Kit\\\\Core\\\\REST_API\\\\Exception\\\\Invalid_Datapoint_Exception;\\n+use Google\\\\Site_Kit\\\\Core\\\\REST_API\\\\REST_Routes;\\n use Google\\\\Site_Kit\\\\Core\\\\Storage\\\\Options;\\n use Google\\\\Site_Kit\\\\Core\\\\Storage\\\\Transients;\\n use Google\\\\Site_Kit\\\\Core\\\\Storage\\\\User_Options;\\n@@ -133,6 +134,18 @@ function() {\\n \\t\\t\\t}\\n \\t\\t);\\n \\n+\\t\\tadd_filter(\\n+\\t\\t\\t\\'googlesitekit_apifetch_preload_paths\\',\\n+\\t\\t\\tfunction ( $paths ) {\\n+\\t\\t\\t\\treturn array_merge(\\n+\\t\\t\\t\\t\\t$paths,\\n+\\t\\t\\t\\t\\tarray(\\n+\\t\\t\\t\\t\\t\\t\\'/\\' . REST_Routes::REST_ROOT . \\'/modules/thank-with-google/data/supporter-wall-prompt\\',\\n+\\t\\t\\t\\t\\t)\\n+\\t\\t\\t\\t);\\n+\\t\\t\\t}\\n+\\t\\t);\\n+\\n \\t\\tif ( ! $this->is_connected() ) {\\n \\t\\t\\treturn;\\n \\t\\t}\\n@@ -410,9 +423,9 @@ function ( $host ) {\\n \\t\\t\\t\\t\\t$is_connected            = $this->is_connected();\\n \\t\\t\\t\\t\\t$setup_transient         = $this->transients->get( self::TRANSIENT_SETUP_TIMER );\\n \\t\\t\\t\\t\\tif ( $is_connected && empty( $supporter_wall_sidebars ) && ! $setup_transient ) {\\n-\\t\\t\\t\\t\\t\\treturn true;\\n+\\t\\t\\t\\t\\t\\treturn array( \\'supporterWallPrompt\\' => true );\\n \\t\\t\\t\\t\\t}\\n-\\t\\t\\t\\t\\treturn false;\\n+\\t\\t\\t\\t\\treturn array( \\'supporterWallPrompt\\' => false );\\n \\t\\t\\t\\t};\\n \\t\\t}\\n \\n\\nFrom 7855b486e01b84a91354496b110e7bc8b0d72e3d Mon Sep 17 00:00:00 2001\\nFrom: Hussain Thajutheen <hussain.thajutheen@10up.com>\\nDate: Tue, 4 Oct 2022 22:33:19 +0530\\nSubject: [PATCH 04/15] Update tests to assert filters.\\n\\n---\\n tests/phpunit/integration/Modules/Thank_With_GoogleTest.php | 2 ++\\n 1 file changed, 2 insertions(+)\\n\\ndiff --git a/tests/phpunit/integration/Modules/Thank_With_GoogleTest.php b/tests/phpunit/integration/Modules/Thank_With_GoogleTest.php\\nindex e40a3e9fd50..0c0687c8267 100644\\n--- a/tests/phpunit/integration/Modules/Thank_With_GoogleTest.php\\n+++ b/tests/phpunit/integration/Modules/Thank_With_GoogleTest.php\\n@@ -93,12 +93,14 @@ public function test_register__after_module_is_connected() {\\n \\t\\tremove_all_actions( \\'googlesitekit_auth_scopes\\' );\\n \\t\\tremove_all_actions( \\'googlesitekit_pre_save_settings_\\' . Thank_With_Google::MODULE_SLUG );\\n \\t\\tremove_all_actions( \\'googlesitekit_save_settings_\\' . Thank_With_Google::MODULE_SLUG );\\n+\\t\\tremove_all_filters( \\'googlesitekit_apifetch_preload_paths\\' );\\n \\n \\t\\t$this->thank_with_google->register();\\n \\n \\t\\t$this->assertTrue( has_filter( \\'googlesitekit_auth_scopes\\' ) );\\n \\t\\t$this->assertTrue( has_action( \\'googlesitekit_pre_save_settings_\\' . Thank_With_Google::MODULE_SLUG ) );\\n \\t\\t$this->assertTrue( has_action( \\'googlesitekit_save_settings_\\' . Thank_With_Google::MODULE_SLUG ) );\\n+\\t\\t$this->assertTrue( has_filter( \\'googlesitekit_apifetch_preload_paths\\' ) );\\n \\t}\\n \\n \\tpublic function test_data_settings_endpoint__transient_timer_success() {\\n\\nFrom 6be7aae4c574aacfc93fb1d7885deb60f6034faa Mon Sep 17 00:00:00 2001\\nFrom: Hussain Thajutheen <hussain.thajutheen@10up.com>\\nDate: Tue, 4 Oct 2022 22:34:12 +0530\\nSubject: [PATCH 05/15] Update response to receive object property.\\n\\n---\\n assets/js/modules/thank-with-google/datastore/supporter-wall.js | 2 +-\\n 1 file changed, 1 insertion(+), 1 deletion(-)\\n\\ndiff --git a/assets/js/modules/thank-with-google/datastore/supporter-wall.js b/assets/js/modules/thank-with-google/datastore/supporter-wall.js\\nindex 587cac2ab2a..c4037686d17 100644\\n--- a/assets/js/modules/thank-with-google/datastore/supporter-wall.js\\n+++ b/assets/js/modules/thank-with-google/datastore/supporter-wall.js\\n@@ -58,7 +58,7 @@ const fetchGetSupporterWallPromptStore = createFetchStore( {\\n \\t\\t\\t}\\n \\t\\t);\\n \\t},\\n-\\treducerCallback: ( state, supporterWallPrompt ) => {\\n+\\treducerCallback: ( state, { supporterWallPrompt } ) => {\\n \\t\\treturn {\\n \\t\\t\\t...state,\\n \\t\\t\\tsupporterWallPrompt,\\n\\nFrom 837e4a696d50a95eab218b3f8812b803b27b6a6f Mon Sep 17 00:00:00 2001\\nFrom: Hussain Thajutheen <hussain.thajutheen@10up.com>\\nDate: Tue, 4 Oct 2022 22:34:55 +0530\\nSubject: [PATCH 06/15] Update receiveGetSupporterWallPrompt with object.\\n\\n---\\n .../ThankWithGoogleSupporterWallNotification.stories.js     | 4 +++-\\n .../thank-with-google/datastore/supporter-wall.test.js      | 6 ++++--\\n 2 files changed, 7 insertions(+), 3 deletions(-)\\n\\ndiff --git a/assets/js/components/notifications/ThankWithGoogleSupporterWallNotification.stories.js b/assets/js/components/notifications/ThankWithGoogleSupporterWallNotification.stories.js\\nindex 69bce9aaa0d..707f377fae0 100644\\n--- a/assets/js/components/notifications/ThankWithGoogleSupporterWallNotification.stories.js\\n+++ b/assets/js/components/notifications/ThankWithGoogleSupporterWallNotification.stories.js\\n@@ -37,7 +37,9 @@ export default {\\n \\t\\t\\t\\tprovideSiteInfo( registry );\\n \\t\\t\\t\\tregistry\\n \\t\\t\\t\\t\\t.dispatch( MODULES_THANK_WITH_GOOGLE )\\n-\\t\\t\\t\\t\\t.receiveGetSupporterWallPrompt( true );\\n+\\t\\t\\t\\t\\t.receiveGetSupporterWallPrompt( {\\n+\\t\\t\\t\\t\\t\\tsupporterWallPrompt: true,\\n+\\t\\t\\t\\t\\t} );\\n \\n \\t\\t\\t\\tprovideModules( registry, [\\n \\t\\t\\t\\t\\t{\\ndiff --git a/assets/js/modules/thank-with-google/datastore/supporter-wall.test.js b/assets/js/modules/thank-with-google/datastore/supporter-wall.test.js\\nindex 33e66461b6d..ea781355253 100644\\n--- a/assets/js/modules/thank-with-google/datastore/supporter-wall.test.js\\n+++ b/assets/js/modules/thank-with-google/datastore/supporter-wall.test.js\\n@@ -115,7 +115,7 @@ describe( \\'modules/thank-with-google supporter-wall\\', () => {\\n \\t\\tdescribe( \\'getSupporterWallPrompt\\', () => {\\n \\t\\t\\tit( \\'should use a resolver to get supporter wall prompt data when requested\\', async () => {\\n \\t\\t\\t\\tfetchMock.getOnce( supporterWallPromptEndpoint, {\\n-\\t\\t\\t\\t\\tbody: true,\\n+\\t\\t\\t\\t\\tbody: { supporterWallPrompt: true },\\n \\t\\t\\t\\t} );\\n \\n \\t\\t\\t\\t// The supporter wall prompt state will be `undefined` whilst loading.\\n@@ -172,7 +172,9 @@ describe( \\'modules/thank-with-google supporter-wall\\', () => {\\n \\t\\t\\tit( \\'should not make a network request if data is already in state\\', () => {\\n \\t\\t\\t\\tregistry\\n \\t\\t\\t\\t\\t.dispatch( MODULES_THANK_WITH_GOOGLE )\\n-\\t\\t\\t\\t\\t.receiveGetSupporterWallPrompt( true );\\n+\\t\\t\\t\\t\\t.receiveGetSupporterWallPrompt( {\\n+\\t\\t\\t\\t\\t\\tsupporterWallPrompt: true,\\n+\\t\\t\\t\\t\\t} );\\n \\n \\t\\t\\t\\tconst supporterWallPrompt = registry\\n \\t\\t\\t\\t\\t.select( MODULES_THANK_WITH_GOOGLE )\\n\\nFrom 7da84c87dc7b5ae936b32eede29cebf4c81ef42c Mon Sep 17 00:00:00 2001\\nFrom: Hussain Thajutheen <hussain.thajutheen@10up.com>\\nDate: Tue, 4 Oct 2022 22:35:23 +0530\\nSubject: [PATCH 07/15] Fix react warning for nested p tags.\\n\\n---\\n .../ThankWithGoogleSupporterWallNotification.js          | 9 +++++----\\n 1 file changed, 5 insertions(+), 4 deletions(-)\\n\\ndiff --git a/assets/js/components/notifications/ThankWithGoogleSupporterWallNotification.js b/assets/js/components/notifications/ThankWithGoogleSupporterWallNotification.js\\nindex daf4f02a51b..a56b7691483 100644\\n--- a/assets/js/components/notifications/ThankWithGoogleSupporterWallNotification.js\\n+++ b/assets/js/components/notifications/ThankWithGoogleSupporterWallNotification.js\\n@@ -47,24 +47,25 @@ export default function ThankWithGoogleSupporterWallNotification() {\\n \\treturn (\\n \\t\\t<BannerNotification\\n \\t\\t\\tid=\"twg-supporter-wall-prompt\"\\n+\\t\\t\\tclassName=\"googlesitekit-twg-supporter-wall-banner\"\\n \\t\\t\\ttitle={ __(\\n \\t\\t\\t\\t\\'Add a Thank with Google supporter wall\\',\\n \\t\\t\\t\\t\\'google-site-kit\\'\\n \\t\\t\\t) }\\n \\t\\t\\tdescription={\\n \\t\\t\\t\\t<Fragment>\\n-\\t\\t\\t\\t\\t<p>\\n+\\t\\t\\t\\t\\t<span className=\"googlesitekit-twg-supporter-wall-banner__description\">\\n \\t\\t\\t\\t\\t\\t{ __(\\n \\t\\t\\t\\t\\t\\t\\t\\'A supporter wall widget shows the list of everyone who has supported your site using Thank with Google. It’s a nice way to thank your supporters back.\\',\\n \\t\\t\\t\\t\\t\\t\\t\\'google-site-kit\\'\\n \\t\\t\\t\\t\\t\\t) }\\n-\\t\\t\\t\\t\\t</p>\\n-\\t\\t\\t\\t\\t<p>\\n+\\t\\t\\t\\t\\t</span>\\n+\\t\\t\\t\\t\\t<span className=\"googlesitekit-twg-supporter-wall-banner__description\">\\n \\t\\t\\t\\t\\t\\t{ __(\\n \\t\\t\\t\\t\\t\\t\\t\\'You can find and add the supporter wall widget from your site’s Appearance settings.\\',\\n \\t\\t\\t\\t\\t\\t\\t\\'google-site-kit\\'\\n \\t\\t\\t\\t\\t\\t) }\\n-\\t\\t\\t\\t\\t</p>\\n+\\t\\t\\t\\t\\t</span>\\n \\t\\t\\t\\t</Fragment>\\n \\t\\t\\t}\\n \\t\\t\\tctaLabel={ __( \\'Add Supporter Wall widget\\', \\'google-site-kit\\' ) }\\n\\nFrom 24506c74803a57137207497811d2f79aa78c08fb Mon Sep 17 00:00:00 2001\\nFrom: Hussain Thajutheen <hussain.thajutheen@10up.com>\\nDate: Tue, 4 Oct 2022 22:35:39 +0530\\nSubject: [PATCH 08/15] Add googlesitekit-twg-supporter-wall-banner class.\\n\\n---\\n .../_googlesitekit-twg-supporter-wall.scss                 | 7 +++++++\\n 1 file changed, 7 insertions(+)\\n\\ndiff --git a/assets/sass/components/thank-with-google/_googlesitekit-twg-supporter-wall.scss b/assets/sass/components/thank-with-google/_googlesitekit-twg-supporter-wall.scss\\nindex 1e7ac36284f..c6b96d3c79d 100644\\n--- a/assets/sass/components/thank-with-google/_googlesitekit-twg-supporter-wall.scss\\n+++ b/assets/sass/components/thank-with-google/_googlesitekit-twg-supporter-wall.scss\\n@@ -41,4 +41,11 @@\\n \\t\\t\\tmargin-top: 30px;\\n \\t\\t}\\n \\t}\\n+\\n+\\t.googlesitekit-twg-supporter-wall-banner {\\n+\\n+\\t\\t.googlesitekit-twg-supporter-wall-banner__description {\\n+\\t\\t\\tdisplay: block;\\n+\\t\\t}\\n+\\t}\\n }\\n\\nFrom 6dbad5bd13e237cad42f9d76582672c34accda74 Mon Sep 17 00:00:00 2001\\nFrom: nfmohit <nahid.mohit@10up.com>\\nDate: Wed, 5 Oct 2022 00:25:25 +0600\\nSubject: [PATCH 09/15] Allow `VIEW_DASHBOARD` cap access `permissions`\\n endpoint.\\n\\n---\\n includes/Core/Permissions/Permissions.php | 2 +-\\n 1 file changed, 1 insertion(+), 1 deletion(-)\\n\\ndiff --git a/includes/Core/Permissions/Permissions.php b/includes/Core/Permissions/Permissions.php\\nindex 613576e30d1..3c59adab7a6 100644\\n--- a/includes/Core/Permissions/Permissions.php\\n+++ b/includes/Core/Permissions/Permissions.php\\n@@ -716,7 +716,7 @@ private function get_rest_routes() {\\n \\t\\t\\t\\t\\t\\t\\treturn new WP_REST_Response( $this->check_all_for_current_user() );\\n \\t\\t\\t\\t\\t\\t},\\n \\t\\t\\t\\t\\t\\t\\'permission_callback\\' => function() {\\n-\\t\\t\\t\\t\\t\\t\\treturn current_user_can( Permissions::VIEW_SPLASH );\\n+\\t\\t\\t\\t\\t\\t\\treturn current_user_can( Permissions::VIEW_SPLASH ) || current_user_can( Permissions::VIEW_DASHBOARD );\\n \\t\\t\\t\\t\\t\\t},\\n \\t\\t\\t\\t\\t),\\n \\t\\t\\t\\t)\\n\\nFrom 94c09d0ad8bb601a3b611f0f66dbce2e508804ce Mon Sep 17 00:00:00 2001\\nFrom: Hussain Thajutheen <hussain.thajutheen@10up.com>\\nDate: Wed, 5 Oct 2022 21:59:01 +0530\\nSubject: [PATCH 10/15] Move the prefetch call when the module is connected.\\n\\n---\\n includes/Modules/Thank_With_Google.php | 24 ++++++++++++------------\\n 1 file changed, 12 insertions(+), 12 deletions(-)\\n\\ndiff --git a/includes/Modules/Thank_With_Google.php b/includes/Modules/Thank_With_Google.php\\nindex cdb69df53b7..cc0970df713 100644\\n--- a/includes/Modules/Thank_With_Google.php\\n+++ b/includes/Modules/Thank_With_Google.php\\n@@ -134,18 +134,6 @@ function() {\\n \\t\\t\\t}\\n \\t\\t);\\n \\n-\\t\\tadd_filter(\\n-\\t\\t\\t\\'googlesitekit_apifetch_preload_paths\\',\\n-\\t\\t\\tfunction ( $paths ) {\\n-\\t\\t\\t\\treturn array_merge(\\n-\\t\\t\\t\\t\\t$paths,\\n-\\t\\t\\t\\t\\tarray(\\n-\\t\\t\\t\\t\\t\\t\\'/\\' . REST_Routes::REST_ROOT . \\'/modules/thank-with-google/data/supporter-wall-prompt\\',\\n-\\t\\t\\t\\t\\t)\\n-\\t\\t\\t\\t);\\n-\\t\\t\\t}\\n-\\t\\t);\\n-\\n \\t\\tif ( ! $this->is_connected() ) {\\n \\t\\t\\treturn;\\n \\t\\t}\\n@@ -171,6 +159,18 @@ function() {\\n \\t\\t\\t}\\n \\t\\t);\\n \\n+\\t\\tadd_filter(\\n+\\t\\t\\t\\'googlesitekit_apifetch_preload_paths\\',\\n+\\t\\t\\tfunction ( $paths ) {\\n+\\t\\t\\t\\treturn array_merge(\\n+\\t\\t\\t\\t\\t$paths,\\n+\\t\\t\\t\\t\\tarray(\\n+\\t\\t\\t\\t\\t\\t\\'/\\' . REST_Routes::REST_ROOT . \\'/modules/thank-with-google/data/supporter-wall-prompt\\',\\n+\\t\\t\\t\\t\\t)\\n+\\t\\t\\t\\t);\\n+\\t\\t\\t}\\n+\\t\\t);\\n+\\n \\t\\tadd_filter(\\n \\t\\t\\t\\'rest_pre_dispatch\\',\\n \\t\\t\\tfunction( $result, $server, $request ) {\\n\\nFrom db0599d4205268fecc857987ee701ebbf008d8ec Mon Sep 17 00:00:00 2001\\nFrom: Hussain Thajutheen <hussain.thajutheen@10up.com>\\nDate: Wed, 5 Oct 2022 22:00:29 +0530\\nSubject: [PATCH 11/15] Return an error if the module is not connected. Do not\\n allow the API call if the module is not connected.\\n\\n---\\n includes/Modules/Thank_With_Google.php | 6 ++++--\\n 1 file changed, 4 insertions(+), 2 deletions(-)\\n\\ndiff --git a/includes/Modules/Thank_With_Google.php b/includes/Modules/Thank_With_Google.php\\nindex cc0970df713..1f882eb738a 100644\\n--- a/includes/Modules/Thank_With_Google.php\\n+++ b/includes/Modules/Thank_With_Google.php\\n@@ -419,10 +419,12 @@ function ( $host ) {\\n \\t\\t\\t\\t};\\n \\t\\t\\tcase \\'GET:supporter-wall-prompt\\':\\n \\t\\t\\t\\treturn function() {\\n+\\t\\t\\t\\t\\tif ( ! $this->is_connected() ) {\\n+\\t\\t\\t\\t\\t\\treturn new WP_Error( \\'module_not_connected\\', __( \\'Module is not connected.\\', \\'google-site-kit\\' ), array( \\'status\\' => 400 ) );\\n+\\t\\t\\t\\t\\t}\\n \\t\\t\\t\\t\\t$supporter_wall_sidebars = $this->get_supporter_wall_sidebars();\\n-\\t\\t\\t\\t\\t$is_connected            = $this->is_connected();\\n \\t\\t\\t\\t\\t$setup_transient         = $this->transients->get( self::TRANSIENT_SETUP_TIMER );\\n-\\t\\t\\t\\t\\tif ( $is_connected && empty( $supporter_wall_sidebars ) && ! $setup_transient ) {\\n+\\t\\t\\t\\t\\tif ( empty( $supporter_wall_sidebars ) && ! $setup_transient ) {\\n \\t\\t\\t\\t\\t\\treturn array( \\'supporterWallPrompt\\' => true );\\n \\t\\t\\t\\t\\t}\\n \\t\\t\\t\\t\\treturn array( \\'supporterWallPrompt\\' => false );\\n\\nFrom e68e42c11afb56dd8e2c7efb237ebb2b9e9f31ec Mon Sep 17 00:00:00 2001\\nFrom: Hussain Thajutheen <hussain.thajutheen@10up.com>\\nDate: Wed, 5 Oct 2022 22:00:55 +0530\\nSubject: [PATCH 12/15] Remove the new display block class.\\n\\n---\\n .../_googlesitekit-twg-supporter-wall.scss                 | 7 -------\\n 1 file changed, 7 deletions(-)\\n\\ndiff --git a/assets/sass/components/thank-with-google/_googlesitekit-twg-supporter-wall.scss b/assets/sass/components/thank-with-google/_googlesitekit-twg-supporter-wall.scss\\nindex c6b96d3c79d..1e7ac36284f 100644\\n--- a/assets/sass/components/thank-with-google/_googlesitekit-twg-supporter-wall.scss\\n+++ b/assets/sass/components/thank-with-google/_googlesitekit-twg-supporter-wall.scss\\n@@ -41,11 +41,4 @@\\n \\t\\t\\tmargin-top: 30px;\\n \\t\\t}\\n \\t}\\n-\\n-\\t.googlesitekit-twg-supporter-wall-banner {\\n-\\n-\\t\\t.googlesitekit-twg-supporter-wall-banner__description {\\n-\\t\\t\\tdisplay: block;\\n-\\t\\t}\\n-\\t}\\n }\\n\\nFrom 41d7b6ffc9154f06d1caadf7f370d731d12a71d7 Mon Sep 17 00:00:00 2001\\nFrom: Hussain Thajutheen <hussain.thajutheen@10up.com>\\nDate: Wed, 5 Oct 2022 22:01:22 +0530\\nSubject: [PATCH 13/15] Use existing googlesitekit-display-block class.\\n\\n---\\n .../notifications/ThankWithGoogleSupporterWallNotification.js | 4 ++--\\n 1 file changed, 2 insertions(+), 2 deletions(-)\\n\\ndiff --git a/assets/js/components/notifications/ThankWithGoogleSupporterWallNotification.js b/assets/js/components/notifications/ThankWithGoogleSupporterWallNotification.js\\nindex a56b7691483..d8ed541b9ec 100644\\n--- a/assets/js/components/notifications/ThankWithGoogleSupporterWallNotification.js\\n+++ b/assets/js/components/notifications/ThankWithGoogleSupporterWallNotification.js\\n@@ -54,13 +54,13 @@ export default function ThankWithGoogleSupporterWallNotification() {\\n \\t\\t\\t) }\\n \\t\\t\\tdescription={\\n \\t\\t\\t\\t<Fragment>\\n-\\t\\t\\t\\t\\t<span className=\"googlesitekit-twg-supporter-wall-banner__description\">\\n+\\t\\t\\t\\t\\t<span className=\"googlesitekit-display-block\">\\n \\t\\t\\t\\t\\t\\t{ __(\\n \\t\\t\\t\\t\\t\\t\\t\\'A supporter wall widget shows the list of everyone who has supported your site using Thank with Google. It’s a nice way to thank your supporters back.\\',\\n \\t\\t\\t\\t\\t\\t\\t\\'google-site-kit\\'\\n \\t\\t\\t\\t\\t\\t) }\\n \\t\\t\\t\\t\\t</span>\\n-\\t\\t\\t\\t\\t<span className=\"googlesitekit-twg-supporter-wall-banner__description\">\\n+\\t\\t\\t\\t\\t<span className=\"googlesitekit-display-block\">\\n \\t\\t\\t\\t\\t\\t{ __(\\n \\t\\t\\t\\t\\t\\t\\t\\'You can find and add the supporter wall widget from your site’s Appearance settings.\\',\\n \\t\\t\\t\\t\\t\\t\\t\\'google-site-kit\\'\\n\\nFrom c5488d102610c77c386d3586d3b97599ef834007 Mon Sep 17 00:00:00 2001\\nFrom: Hussain Thajutheen <hussain.thajutheen@10up.com>\\nDate: Wed, 5 Oct 2022 22:02:13 +0530\\nSubject: [PATCH 14/15] Render the TwG notification if the module is connected.\\n\\n---\\n assets/js/components/notifications/BannerNotifications.js | 7 +++----\\n 1 file changed, 3 insertions(+), 4 deletions(-)\\n\\ndiff --git a/assets/js/components/notifications/BannerNotifications.js b/assets/js/components/notifications/BannerNotifications.js\\nindex 9204a6417fb..22f888b8597 100644\\n--- a/assets/js/components/notifications/BannerNotifications.js\\n+++ b/assets/js/components/notifications/BannerNotifications.js\\n@@ -46,7 +46,6 @@ export default function BannerNotifications() {\\n \\tconst ideaHubModuleEnabled = useFeature( \\'ideaHubModule\\' );\\n \\tconst userInputEnabled = useFeature( \\'userInput\\' );\\n \\tconst ga4ActivationBannerEnabled = useFeature( \\'ga4ActivationBanner\\' );\\n-\\tconst twgEnabled = useFeature( \\'twgModule\\' );\\n \\n \\tconst viewOnly = useViewOnly();\\n \\n@@ -56,8 +55,8 @@ export default function BannerNotifications() {\\n \\tconst adSenseModuleActive = useSelect( ( select ) =>\\n \\t\\tselect( CORE_MODULES ).isModuleActive( \\'adsense\\' )\\n \\t);\\n-\\tconst twGModuleAvailable = useSelect( ( select ) =>\\n-\\t\\tselect( CORE_MODULES ).isModuleAvailable( \\'thank-with-google\\' )\\n+\\tconst twGModuleConnected = useSelect( ( select ) =>\\n+\\t\\tselect( CORE_MODULES ).isModuleConnected( \\'thank-with-google\\' )\\n \\t);\\n \\n \\tconst [ notification ] = useQueryArg( \\'notification\\' );\\n@@ -73,7 +72,7 @@ export default function BannerNotifications() {\\n \\t\\t\\t\\t\\t{ isAuthenticated && <CoreSiteBannerNotifications /> }\\n \\t\\t\\t\\t\\t{ dashboardSharingEnabled && <ModuleRecoveryAlert /> }\\n \\t\\t\\t\\t\\t{ ga4ActivationBannerEnabled && <ActivationBanner /> }\\n-\\t\\t\\t\\t\\t{ twgEnabled && twGModuleAvailable && (\\n+\\t\\t\\t\\t\\t{ twGModuleConnected && (\\n \\t\\t\\t\\t\\t\\t<ThankWithGoogleSupporterWallNotification />\\n \\t\\t\\t\\t\\t) }\\n \\t\\t\\t\\t</Fragment>\\n\\nFrom b10fb6a1cc5e00f5eb9855dbddb903451cee62de Mon Sep 17 00:00:00 2001\\nFrom: Hussain Thajutheen <hussain.thajutheen@10up.com>\\nDate: Wed, 5 Oct 2022 23:00:10 +0530\\nSubject: [PATCH 15/15] Remove the module is not connected condition.\\n\\n---\\n includes/Modules/Thank_With_Google.php | 3 ---\\n 1 file changed, 3 deletions(-)\\n\\ndiff --git a/includes/Modules/Thank_With_Google.php b/includes/Modules/Thank_With_Google.php\\nindex 1f882eb738a..dc068539349 100644\\n--- a/includes/Modules/Thank_With_Google.php\\n+++ b/includes/Modules/Thank_With_Google.php\\n@@ -419,9 +419,6 @@ function ( $host ) {\\n \\t\\t\\t\\t};\\n \\t\\t\\tcase \\'GET:supporter-wall-prompt\\':\\n \\t\\t\\t\\treturn function() {\\n-\\t\\t\\t\\t\\tif ( ! $this->is_connected() ) {\\n-\\t\\t\\t\\t\\t\\treturn new WP_Error( \\'module_not_connected\\', __( \\'Module is not connected.\\', \\'google-site-kit\\' ), array( \\'status\\' => 400 ) );\\n-\\t\\t\\t\\t\\t}\\n \\t\\t\\t\\t\\t$supporter_wall_sidebars = $this->get_supporter_wall_sidebars();\\n \\t\\t\\t\\t\\t$setup_transient         = $this->transients->get( self::TRANSIENT_SETUP_TIMER );\\n \\t\\t\\t\\t\\tif ( empty( $supporter_wall_sidebars ) && ! $setup_transient ) {\\n',\n",
       "  'From 000266f0c242ccf31eba11333df916c5641c227e Mon Sep 17 00:00:00 2001\\nFrom: \"dependabot[bot]\" <49699333+dependabot[bot]@users.noreply.github.com>\\nDate: Fri, 22 Jul 2022 02:40:51 +0000\\nSubject: [PATCH] Bump tzinfo from 1.2.7 to 1.2.10\\n\\nBumps [tzinfo](https://github.com/tzinfo/tzinfo) from 1.2.7 to 1.2.10.\\n- [Release notes](https://github.com/tzinfo/tzinfo/releases)\\n- [Changelog](https://github.com/tzinfo/tzinfo/blob/master/CHANGES.md)\\n- [Commits](https://github.com/tzinfo/tzinfo/compare/v1.2.7...v1.2.10)\\n\\n---\\nupdated-dependencies:\\n- dependency-name: tzinfo\\n  dependency-type: indirect\\n...\\n\\nSigned-off-by: dependabot[bot] <support@github.com>\\n---\\n Gemfile.lock | 2 +-\\n 1 file changed, 1 insertion(+), 1 deletion(-)\\n\\ndiff --git a/Gemfile.lock b/Gemfile.lock\\nindex d42e9ec..e593ad9 100644\\n--- a/Gemfile.lock\\n+++ b/Gemfile.lock\\n@@ -69,7 +69,7 @@ GEM\\n     terminal-table (1.8.0)\\n       unicode-display_width (~> 1.1, >= 1.1.1)\\n     thread_safe (0.3.6)\\n-    tzinfo (1.2.7)\\n+    tzinfo (1.2.10)\\n       thread_safe (~> 0.1)\\n     tzinfo-data (1.2020.4)\\n       tzinfo (>= 1.0.0)\\n',\n",
       "  'From 0003323beb2a617393cabf1914b5c31cccab5870 Mon Sep 17 00:00:00 2001\\nFrom: fr3ts0n <fr3ts0n@gmx.at>\\nDate: Mon, 1 Aug 2022 22:17:50 +0200\\nSubject: [PATCH] Update Kotlin plugin\\n\\n---\\n build.gradle | 2 +-\\n 1 file changed, 1 insertion(+), 1 deletion(-)\\n\\ndiff --git a/build.gradle b/build.gradle\\nindex cd80d9cd..bf863c5b 100644\\n--- a/build.gradle\\n+++ b/build.gradle\\n@@ -6,7 +6,7 @@ buildscript {\\n     }\\n     dependencies {\\n         classpath \\'com.android.tools.build:gradle:7.2.1\\'\\n-        classpath \"org.jetbrains.kotlin:kotlin-gradle-plugin:1.6.0\"\\n+        classpath \"org.jetbrains.kotlin:kotlin-gradle-plugin:1.7.10\"\\n     }\\n }\\n \\n',\n",
       "  'From 000489e9a6a68b7d3ac7c55d1ba44bf9d63dd54c Mon Sep 17 00:00:00 2001\\nFrom: =?UTF-8?q?Ren=C3=A9=20Schultz=20Madsen?= <rm@microting.com>\\nDate: Thu, 10 Feb 2022 20:09:13 +0100\\nSubject: [PATCH] closes #603\\n\\n---\\n eFormCore/Microting.eForm.csproj | 2 +-\\n 1 file changed, 1 insertion(+), 1 deletion(-)\\n\\ndiff --git a/eFormCore/Microting.eForm.csproj b/eFormCore/Microting.eForm.csproj\\nindex 5f30867df..8470ba7ab 100644\\n--- a/eFormCore/Microting.eForm.csproj\\n+++ b/eFormCore/Microting.eForm.csproj\\n@@ -271,7 +271,7 @@\\n         <PackageReference Include=\"Castle.Core\" Version=\"4.4.1\" />\\n         <PackageReference Include=\"Castle.Windsor\" Version=\"5.1.1\" />\\n         <PackageReference Include=\"DocumentFormat.OpenXml\" Version=\"2.15.0\" />\\n-        <PackageReference Include=\"Magick.NET-Q16-x64\" Version=\"9.1.0\" />\\n+        <PackageReference Include=\"Magick.NET-Q16-x64\" Version=\"9.1.1\" />\\n         <PackageReference Include=\"Microsoft.EntityFrameworkCore\" Version=\"6.0.1\" />\\n         <PackageReference Include=\"Microsoft.EntityFrameworkCore.Design\" Version=\"6.0.1\">\\n           <IncludeAssets>runtime; build; native; contentfiles; analyzers; buildtransitive</IncludeAssets>\\n',\n",
       "  'From 00057477312afe3eafcbd95a6598d8bcfecf53f8 Mon Sep 17 00:00:00 2001\\nFrom: stevebosworth <stevebosworth@gmail.com>\\nDate: Sun, 13 Nov 2022 20:16:13 -0500\\nSubject: [PATCH] dynamically set python host in vimrc\\n\\n---\\n vim/vimrc.symlink | 2 +-\\n zsh/zshrc.symlink | 2 ++\\n 2 files changed, 3 insertions(+), 1 deletion(-)\\n\\ndiff --git a/vim/vimrc.symlink b/vim/vimrc.symlink\\nindex 6d221b7..c0da554 100644\\n--- a/vim/vimrc.symlink\\n+++ b/vim/vimrc.symlink\\n@@ -122,7 +122,7 @@ set exrc\\n let mapleader = \",\"\\n \\n \" set python version for neovim\\n-let g:python3_host_prog = \"/opt/homebrew/bin/python3\"\\n+let g:python3_host_prog = $PYTHON3_PATH\\n \\n \" map <leader>q and <leader>w to buffer prev/next buffer\\n noremap <leader>q :bp<CR>\\ndiff --git a/zsh/zshrc.symlink b/zsh/zshrc.symlink\\nindex 242325a..4a7ba37 100644\\n--- a/zsh/zshrc.symlink\\n+++ b/zsh/zshrc.symlink\\n@@ -61,6 +61,8 @@ bindkey \"^[[B\" down-line-or-beginning-search # Down\\n \\n setopt auto_cd\\n \\n+export PYTHON3_PATH=\"$(which python3)\"\\n+\\n export NVM_DIR=\"$HOME/.nvm\"\\n [ -s \"$NVM_DIR/nvm.sh\" ] && . \"$NVM_DIR/nvm.sh\"  # This loads nvm\\n \\n',\n",
       "  'From 0006cdec2ee4293aee6128673f8fd991c710d7ba Mon Sep 17 00:00:00 2001\\nFrom: Eric Arellano <14852634+Eric-Arellano@users.noreply.github.com>\\nDate: Mon, 24 Jan 2022 12:01:33 -0700\\nSubject: [PATCH] [internal] Refactor `GenerateJvmLockfileFromTool` to work\\n with `scalac_plugins.py` (#14230)\\n\\nWhen we have a tool lockfile, we must have a rule that goes from a subclass of `GenerateToolLockfileSentinel -> GenerateJvmLockfile`. To accommodate that `[tool].artifacts` can be either coordinate strings or addresses to `jvm_artifact` targets, we had an intermediate `GenerateJvmLockfileFromTool` type to do that normalization.\\n\\nBut, `scalac_plugins.py` does not use a normal `JvmToolBase`, so the original factoring did not work. We were duplicating the setup and violating DRY.\\n\\nNow, when you have a tool, we have one single way to set up the `GenerateJvmLockfile` for that tool.\\n\\n--\\n\\nNote that I tried to inline `GatherJvmCoordinatesRequest` in the `GenerateJvmLockfileFromTool` rule, but we can\\'t because we use it for a non-lockfile usage:\\n\\nhttps://github.com/pantsbuild/pants/blob/c184d0af42a6670bdd43da12f10d7c59c100144e/src/python/pants/backend/codegen/protobuf/scala/rules.py#L239-L254\\n\\n[ci skip-rust]\\n---\\n .../pants/backend/codegen/avro/java/rules.py  | 13 +++---\\n .../backend/codegen/protobuf/scala/rules.py   | 15 ++++---\\n .../backend/codegen/thrift/scrooge/rules.py   |  9 ++--\\n .../codegen/avro/java/register.py             | 20 ++++-----\\n .../java/lint/google_java_format/register.py  |  7 ++--\\n .../java/lint/google_java_format/rules.py     | 13 +++---\\n .../backend/scala/compile/scalac_plugins.py   | 20 +++------\\n .../backend/scala/lint/scalafmt/rules.py      |  9 ++--\\n .../pants/backend/scala/test/scalatest.py     |  9 ++--\\n src/python/pants/jvm/goals/lockfile.py        | 38 +----------------\\n src/python/pants/jvm/resolve/jvm_tool.py      | 41 +++++++++++++++++++\\n src/python/pants/jvm/resolve/jvm_tool_test.py | 12 +++---\\n src/python/pants/jvm/test/junit.py            |  9 ++--\\n 13 files changed, 104 insertions(+), 111 deletions(-)\\n\\ndiff --git a/src/python/pants/backend/codegen/avro/java/rules.py b/src/python/pants/backend/codegen/avro/java/rules.py\\nindex 8506658da2c..59cfc7ea306 100644\\n--- a/src/python/pants/backend/codegen/avro/java/rules.py\\n+++ b/src/python/pants/backend/codegen/avro/java/rules.py\\n@@ -34,15 +34,14 @@\\n     HydrateSourcesRequest,\\n )\\n from pants.engine.unions import UnionRule\\n-from pants.jvm.goals import lockfile\\n-from pants.jvm.goals.lockfile import GenerateJvmLockfile, GenerateJvmLockfileFromTool\\n from pants.jvm.jdk_rules import JdkSetup\\n+from pants.jvm.resolve import jvm_tool\\n from pants.jvm.resolve.coursier_fetch import (\\n     CoursierResolvedLockfile,\\n     MaterializedClasspath,\\n     MaterializedClasspathRequest,\\n )\\n-from pants.jvm.resolve.jvm_tool import ValidatedJvmToolLockfileRequest\\n+from pants.jvm.resolve.jvm_tool import GenerateJvmLockfileFromTool, ValidatedJvmToolLockfileRequest\\n from pants.source.source_root import SourceRoot, SourceRootRequest\\n from pants.util.logging import LogLevel\\n \\n@@ -217,16 +216,16 @@ def make_avro_process(\\n \\n \\n @rule\\n-async def generate_avro_tools_lockfile_request(\\n+def generate_avro_tools_lockfile_request(\\n     _: AvroToolLockfileSentinel, tool: AvroSubsystem\\n-) -> GenerateJvmLockfile:\\n-    return await Get(GenerateJvmLockfile, GenerateJvmLockfileFromTool(tool))\\n+) -> GenerateJvmLockfileFromTool:\\n+    return GenerateJvmLockfileFromTool.create(tool)\\n \\n \\n def rules():\\n     return (\\n         *collect_rules(),\\n-        *lockfile.rules(),\\n+        *jvm_tool.rules(),\\n         UnionRule(GenerateSourcesRequest, GenerateJavaFromAvroRequest),\\n         UnionRule(GenerateToolLockfileSentinel, AvroToolLockfileSentinel),\\n     )\\ndiff --git a/src/python/pants/backend/codegen/protobuf/scala/rules.py b/src/python/pants/backend/codegen/protobuf/scala/rules.py\\nindex b6643bf9cc4..d7229a8a215 100644\\n--- a/src/python/pants/backend/codegen/protobuf/scala/rules.py\\n+++ b/src/python/pants/backend/codegen/protobuf/scala/rules.py\\n@@ -45,7 +45,6 @@\\n from pants.engine.unions import UnionRule\\n from pants.jvm.compile import ClasspathEntry\\n from pants.jvm.goals import lockfile\\n-from pants.jvm.goals.lockfile import GenerateJvmLockfile, GenerateJvmLockfileFromTool\\n from pants.jvm.jdk_rules import JdkSetup\\n from pants.jvm.resolve.common import ArtifactRequirements, Coordinate\\n from pants.jvm.resolve.coursier_fetch import (\\n@@ -53,7 +52,11 @@\\n     MaterializedClasspath,\\n     MaterializedClasspathRequest,\\n )\\n-from pants.jvm.resolve.jvm_tool import GatherJvmCoordinatesRequest, ValidatedJvmToolLockfileRequest\\n+from pants.jvm.resolve.jvm_tool import (\\n+    GatherJvmCoordinatesRequest,\\n+    GenerateJvmLockfileFromTool,\\n+    ValidatedJvmToolLockfileRequest,\\n+)\\n from pants.source.source_root import SourceRoot, SourceRootRequest\\n from pants.util.logging import LogLevel\\n from pants.util.ordered_set import FrozenOrderedSet\\n@@ -242,7 +245,7 @@ async def materialize_jvm_plugin(request: MaterializeJvmPluginRequest) -> Materi\\n         ArtifactRequirements,\\n         GatherJvmCoordinatesRequest(\\n             artifact_inputs=FrozenOrderedSet([request.plugin.artifact]),\\n-            option_name=\"--scalapb-plugin-artifacts\",\\n+            option_name=\"[scalapb].jvm_plugins\",\\n         ),\\n     )\\n     classpath = await Get(\\n@@ -375,10 +378,10 @@ async def setup_scalapb_shim_classfiles(\\n \\n \\n @rule\\n-async def generate_scalapbc_lockfile_request(\\n+def generate_scalapbc_lockfile_request(\\n     _: ScalapbcToolLockfileSentinel, tool: ScalaPBSubsystem\\n-) -> GenerateJvmLockfile:\\n-    return await Get(GenerateJvmLockfile, GenerateJvmLockfileFromTool(tool))\\n+) -> GenerateJvmLockfileFromTool:\\n+    return GenerateJvmLockfileFromTool.create(tool)\\n \\n \\n def rules():\\ndiff --git a/src/python/pants/backend/codegen/thrift/scrooge/rules.py b/src/python/pants/backend/codegen/thrift/scrooge/rules.py\\nindex 8bc514276a0..99534013b73 100644\\n--- a/src/python/pants/backend/codegen/thrift/scrooge/rules.py\\n+++ b/src/python/pants/backend/codegen/thrift/scrooge/rules.py\\n@@ -16,14 +16,13 @@\\n from pants.engine.target import TransitiveTargets, TransitiveTargetsRequest, WrappedTarget\\n from pants.engine.unions import UnionRule\\n from pants.jvm.goals import lockfile\\n-from pants.jvm.goals.lockfile import GenerateJvmLockfile, GenerateJvmLockfileFromTool\\n from pants.jvm.jdk_rules import JdkSetup\\n from pants.jvm.resolve.coursier_fetch import (\\n     CoursierResolvedLockfile,\\n     MaterializedClasspath,\\n     MaterializedClasspathRequest,\\n )\\n-from pants.jvm.resolve.jvm_tool import ValidatedJvmToolLockfileRequest\\n+from pants.jvm.resolve.jvm_tool import GenerateJvmLockfileFromTool, ValidatedJvmToolLockfileRequest\\n from pants.source.source_root import SourceRootsRequest, SourceRootsResult\\n from pants.util.logging import LogLevel\\n \\n@@ -141,10 +140,10 @@ async def generate_scrooge_thrift_sources(\\n \\n \\n @rule\\n-async def generate_scrooge_lockfile_request(\\n+def generate_scrooge_lockfile_request(\\n     _: ScroogeToolLockfileSentinel, scrooge: ScroogeSubsystem\\n-) -> GenerateJvmLockfile:\\n-    return await Get(GenerateJvmLockfile, GenerateJvmLockfileFromTool(scrooge))\\n+) -> GenerateJvmLockfileFromTool:\\n+    return GenerateJvmLockfileFromTool.create(scrooge)\\n \\n \\n def rules():\\ndiff --git a/src/python/pants/backend/experimental/codegen/avro/java/register.py b/src/python/pants/backend/experimental/codegen/avro/java/register.py\\nindex 1bcf7525a20..f45d00e5485 100644\\n--- a/src/python/pants/backend/experimental/codegen/avro/java/register.py\\n+++ b/src/python/pants/backend/experimental/codegen/avro/java/register.py\\n@@ -1,15 +1,13 @@\\n # Copyright 2021 Pants project contributors (see CONTRIBUTORS.md).\\n # Licensed under the Apache License, Version 2.0 (see LICENSE).\\n+\\n from pants.backend.codegen.avro.java.rules import rules as avro_java_rules\\n from pants.backend.codegen.avro.rules import rules as avro_rules\\n from pants.backend.codegen.avro.target_types import AvroSourcesGeneratorTarget, AvroSourceTarget\\n from pants.core.util_rules import config_files, source_files, stripped_source_files\\n-from pants.core.util_rules.external_tool import rules as external_tool_rules\\n-from pants.jvm import classpath\\n-from pants.jvm.compile import rules as jvm_compile_rules\\n-from pants.jvm.jdk_rules import rules as jdk_rules\\n-from pants.jvm.resolve.coursier_fetch import rules as coursier_fetch_rules\\n-from pants.jvm.resolve.coursier_setup import rules as coursier_setup_rules\\n+from pants.jvm import classpath, compile, jdk_rules\\n+from pants.jvm.goals import lockfile\\n+from pants.jvm.resolve import coursier_fetch, jvm_tool\\n from pants.jvm.util_rules import rules as util_rules\\n \\n \\n@@ -24,12 +22,12 @@ def rules():\\n         # Re-export rules necessary to avoid rule graph errors.\\n         *config_files.rules(),\\n         *classpath.rules(),\\n-        *coursier_fetch_rules(),\\n-        *coursier_setup_rules(),\\n-        *external_tool_rules(),\\n+        *coursier_fetch.rules(),\\n+        *jvm_tool.rules(),\\n         *source_files.rules(),\\n         *util_rules(),\\n-        *jdk_rules(),\\n+        *jdk_rules.rules(),\\n         *stripped_source_files.rules(),\\n-        *jvm_compile_rules(),\\n+        *compile.rules(),\\n+        *lockfile.rules(),\\n     ]\\ndiff --git a/src/python/pants/backend/experimental/java/lint/google_java_format/register.py b/src/python/pants/backend/experimental/java/lint/google_java_format/register.py\\nindex 6d82fa0428e..b3de32808e4 100644\\n--- a/src/python/pants/backend/experimental/java/lint/google_java_format/register.py\\n+++ b/src/python/pants/backend/experimental/java/lint/google_java_format/register.py\\n@@ -3,8 +3,8 @@\\n \\n from pants.backend.java.lint.google_java_format import rules as fmt_rules\\n from pants.backend.java.lint.google_java_format import skip_field\\n-from pants.jvm import jdk_rules\\n-from pants.jvm import util_rules as jvm_util_rules\\n+from pants.jvm import jdk_rules, util_rules\\n+from pants.jvm.goals import lockfile\\n from pants.jvm.resolve import coursier_fetch, jvm_tool\\n \\n \\n@@ -13,7 +13,8 @@ def rules():\\n         *fmt_rules.rules(),\\n         *skip_field.rules(),\\n         *jdk_rules.rules(),\\n+        *lockfile.rules(),\\n         *jvm_tool.rules(),\\n         *coursier_fetch.rules(),\\n-        *jvm_util_rules.rules(),\\n+        *util_rules.rules(),\\n     ]\\ndiff --git a/src/python/pants/backend/java/lint/google_java_format/rules.py b/src/python/pants/backend/java/lint/google_java_format/rules.py\\nindex dc8fcd2e181..fdff895fef3 100644\\n--- a/src/python/pants/backend/java/lint/google_java_format/rules.py\\n+++ b/src/python/pants/backend/java/lint/google_java_format/rules.py\\n@@ -17,15 +17,14 @@\\n from pants.engine.rules import collect_rules, rule\\n from pants.engine.target import FieldSet, Target\\n from pants.engine.unions import UnionRule\\n-from pants.jvm.goals import lockfile\\n-from pants.jvm.goals.lockfile import GenerateJvmLockfile, GenerateJvmLockfileFromTool\\n from pants.jvm.jdk_rules import JdkSetup\\n+from pants.jvm.resolve import jvm_tool\\n from pants.jvm.resolve.coursier_fetch import (\\n     CoursierResolvedLockfile,\\n     MaterializedClasspath,\\n     MaterializedClasspathRequest,\\n )\\n-from pants.jvm.resolve.jvm_tool import ValidatedJvmToolLockfileRequest\\n+from pants.jvm.resolve.jvm_tool import GenerateJvmLockfileFromTool, ValidatedJvmToolLockfileRequest\\n from pants.util.logging import LogLevel\\n from pants.util.strutil import pluralize\\n \\n@@ -168,16 +167,16 @@ async def google_java_format_lint(\\n \\n \\n @rule\\n-async def generate_google_java_format_lockfile_request(\\n+def generate_google_java_format_lockfile_request(\\n     _: GoogleJavaFormatToolLockfileSentinel, tool: GoogleJavaFormatSubsystem\\n-) -> GenerateJvmLockfile:\\n-    return await Get(GenerateJvmLockfile, GenerateJvmLockfileFromTool(tool))\\n+) -> GenerateJvmLockfileFromTool:\\n+    return GenerateJvmLockfileFromTool.create(tool)\\n \\n \\n def rules():\\n     return [\\n         *collect_rules(),\\n-        *lockfile.rules(),\\n+        *jvm_tool.rules(),\\n         UnionRule(FmtRequest, GoogleJavaFormatRequest),\\n         UnionRule(LintRequest, GoogleJavaFormatRequest),\\n         UnionRule(GenerateToolLockfileSentinel, GoogleJavaFormatToolLockfileSentinel),\\ndiff --git a/src/python/pants/backend/scala/compile/scalac_plugins.py b/src/python/pants/backend/scala/compile/scalac_plugins.py\\nindex ad1687cd936..9add65c60ec 100644\\n--- a/src/python/pants/backend/scala/compile/scalac_plugins.py\\n+++ b/src/python/pants/backend/scala/compile/scalac_plugins.py\\n@@ -18,14 +18,12 @@\\n from pants.engine.target import WrappedTarget\\n from pants.engine.unions import UnionRule\\n from pants.jvm.goals import lockfile\\n-from pants.jvm.goals.lockfile import GenerateJvmLockfile\\n-from pants.jvm.resolve.common import ArtifactRequirements\\n from pants.jvm.resolve.coursier_fetch import (\\n     CoursierResolvedLockfile,\\n     MaterializedClasspath,\\n     MaterializedClasspathRequest,\\n )\\n-from pants.jvm.resolve.jvm_tool import GatherJvmCoordinatesRequest\\n+from pants.jvm.resolve.jvm_tool import GenerateJvmLockfileFromTool\\n from pants.jvm.resolve.jvm_tool import rules as jvm_tool_rules\\n from pants.util.ordered_set import FrozenOrderedSet\\n from pants.util.strutil import bullet_list\\n@@ -72,20 +70,14 @@ class GlobalScalacPluginsToolLockfileSentinel(GenerateToolLockfileSentinel):\\n \\n \\n @rule\\n-async def generate_global_scalac_plugins_lockfile_request(\\n+def generate_global_scalac_plugins_lockfile_request(\\n     _: GlobalScalacPluginsToolLockfileSentinel,\\n     loaded_global_plugins: _LoadedGlobalScalacPlugins,\\n     scalac_plugins: Scalac,\\n-) -> GenerateJvmLockfile:\\n-    artifacts = await Get(\\n-        ArtifactRequirements,\\n-        GatherJvmCoordinatesRequest(\\n-            FrozenOrderedSet(loaded_global_plugins.artifact_address_inputs),\\n-            f\"[{scalac_plugins.options_scope}].plugins_global\",\\n-        ),\\n-    )\\n-    return GenerateJvmLockfile(\\n-        artifacts=artifacts,\\n+) -> GenerateJvmLockfileFromTool:\\n+    return GenerateJvmLockfileFromTool(\\n+        FrozenOrderedSet(loaded_global_plugins.artifact_address_inputs),\\n+        artifact_option_name=f\"[{scalac_plugins.options_scope}].plugins_global\",\\n         resolve_name=\"scalac-plugins\",\\n         lockfile_dest=scalac_plugins.plugins_global_lockfile,\\n     )\\ndiff --git a/src/python/pants/backend/scala/lint/scalafmt/rules.py b/src/python/pants/backend/scala/lint/scalafmt/rules.py\\nindex 9f82a0bc18c..47c04f08f71 100644\\n--- a/src/python/pants/backend/scala/lint/scalafmt/rules.py\\n+++ b/src/python/pants/backend/scala/lint/scalafmt/rules.py\\n@@ -30,14 +30,13 @@\\n from pants.engine.target import FieldSet, Target\\n from pants.engine.unions import UnionRule\\n from pants.jvm.goals import lockfile\\n-from pants.jvm.goals.lockfile import GenerateJvmLockfile, GenerateJvmLockfileFromTool\\n from pants.jvm.jdk_rules import JdkSetup\\n from pants.jvm.resolve.coursier_fetch import (\\n     CoursierResolvedLockfile,\\n     MaterializedClasspath,\\n     MaterializedClasspathRequest,\\n )\\n-from pants.jvm.resolve.jvm_tool import ValidatedJvmToolLockfileRequest\\n+from pants.jvm.resolve.jvm_tool import GenerateJvmLockfileFromTool, ValidatedJvmToolLockfileRequest\\n from pants.util.frozendict import FrozenDict\\n from pants.util.logging import LogLevel\\n from pants.util.strutil import pluralize\\n@@ -325,10 +324,10 @@ async def scalafmt_lint(field_sets: ScalafmtRequest, tool: ScalafmtSubsystem) ->\\n \\n \\n @rule\\n-async def generate_scalafmt_lockfile_request(\\n+def generate_scalafmt_lockfile_request(\\n     _: ScalafmtToolLockfileSentinel, tool: ScalafmtSubsystem\\n-) -> GenerateJvmLockfile:\\n-    return await Get(GenerateJvmLockfile, GenerateJvmLockfileFromTool(tool))\\n+) -> GenerateJvmLockfileFromTool:\\n+    return GenerateJvmLockfileFromTool.create(tool)\\n \\n \\n def rules():\\ndiff --git a/src/python/pants/backend/scala/test/scalatest.py b/src/python/pants/backend/scala/test/scalatest.py\\nindex 5c13b6e4c77..0dd33c62ce5 100644\\n--- a/src/python/pants/backend/scala/test/scalatest.py\\n+++ b/src/python/pants/backend/scala/test/scalatest.py\\n@@ -22,14 +22,13 @@\\n from pants.engine.unions import UnionRule\\n from pants.jvm.classpath import Classpath\\n from pants.jvm.goals import lockfile\\n-from pants.jvm.goals.lockfile import GenerateJvmLockfile, GenerateJvmLockfileFromTool\\n from pants.jvm.jdk_rules import JdkSetup\\n from pants.jvm.resolve.coursier_fetch import (\\n     CoursierResolvedLockfile,\\n     MaterializedClasspath,\\n     MaterializedClasspathRequest,\\n )\\n-from pants.jvm.resolve.jvm_tool import ValidatedJvmToolLockfileRequest\\n+from pants.jvm.resolve.jvm_tool import GenerateJvmLockfileFromTool, ValidatedJvmToolLockfileRequest\\n from pants.jvm.subsystems import JvmSubsystem\\n from pants.util.logging import LogLevel\\n \\n@@ -169,10 +168,10 @@ async def setup_scalatest_debug_request(field_set: ScalatestTestFieldSet) -> Tes\\n \\n \\n @rule\\n-async def generate_scalatest_lockfile_request(\\n+def generate_scalatest_lockfile_request(\\n     _: ScalatestToolLockfileSentinel, scalatest: Scalatest\\n-) -> GenerateJvmLockfile:\\n-    return await Get(GenerateJvmLockfile, GenerateJvmLockfileFromTool(scalatest))\\n+) -> GenerateJvmLockfileFromTool:\\n+    return GenerateJvmLockfileFromTool.create(scalatest)\\n \\n \\n def rules():\\ndiff --git a/src/python/pants/jvm/goals/lockfile.py b/src/python/pants/jvm/goals/lockfile.py\\nindex 6e098d90077..dfe57978923 100644\\n--- a/src/python/pants/jvm/goals/lockfile.py\\n+++ b/src/python/pants/jvm/goals/lockfile.py\\n@@ -20,17 +20,14 @@\\n from pants.engine.rules import Get, collect_rules, rule\\n from pants.engine.target import AllTargets\\n from pants.engine.unions import UnionRule\\n-from pants.jvm.resolve import coursier_fetch, jvm_tool\\n+from pants.jvm.resolve import coursier_fetch\\n from pants.jvm.resolve.common import ArtifactRequirement, ArtifactRequirements\\n from pants.jvm.resolve.coursier_fetch import CoursierResolvedLockfile\\n-from pants.jvm.resolve.jvm_tool import GatherJvmCoordinatesRequest, JvmToolBase\\n from pants.jvm.resolve.key import CoursierResolveKey\\n from pants.jvm.resolve.lockfile_metadata import JVMLockfileMetadata\\n from pants.jvm.subsystems import JvmSubsystem\\n from pants.jvm.target_types import JvmArtifactCompatibleResolvesField\\n from pants.util.logging import LogLevel\\n-from pants.util.meta import frozen_after_init\\n-from pants.util.ordered_set import FrozenOrderedSet\\n \\n \\n @dataclass(frozen=True)\\n@@ -38,38 +35,6 @@ class GenerateJvmLockfile(GenerateLockfile):\\n     artifacts: ArtifactRequirements\\n \\n \\n-@frozen_after_init\\n-@dataclass(unsafe_hash=True)\\n-class GenerateJvmLockfileFromTool:\\n-    artifact_inputs: FrozenOrderedSet[str]\\n-    options_scope: str\\n-    lockfile_dest: str\\n-\\n-    def __init__(self, tool: JvmToolBase) -> None:\\n-        # Note that `JvmToolBase` is not hashable, so we extract the relevant information eagerly.\\n-        self.artifact_inputs = FrozenOrderedSet(tool.artifact_inputs)\\n-        self.options_scope = tool.options_scope\\n-        self.lockfile_dest = tool.lockfile\\n-\\n-\\n-@rule\\n-async def setup_lockfile_request_from_tool(\\n-    request: GenerateJvmLockfileFromTool,\\n-) -> GenerateJvmLockfile:\\n-    artifacts = await Get(\\n-        ArtifactRequirements,\\n-        GatherJvmCoordinatesRequest(\\n-            request.artifact_inputs,\\n-            f\"[{request.options_scope}].artifacts\",\\n-        ),\\n-    )\\n-    return GenerateJvmLockfile(\\n-        artifacts=artifacts,\\n-        resolve_name=request.options_scope,\\n-        lockfile_dest=request.lockfile_dest,\\n-    )\\n-\\n-\\n @rule\\n def wrap_jvm_lockfile_request(request: GenerateJvmLockfile) -> WrappedGenerateLockfile:\\n     return WrappedGenerateLockfile(request)\\n@@ -164,7 +129,6 @@ def rules():\\n     return (\\n         *collect_rules(),\\n         *coursier_fetch.rules(),\\n-        *jvm_tool.rules(),\\n         UnionRule(GenerateLockfile, GenerateJvmLockfile),\\n         UnionRule(KnownUserResolveNamesRequest, KnownJVMUserResolveNamesRequest),\\n         UnionRule(RequestedUserResolveNames, RequestedJVMserResolveNames),\\ndiff --git a/src/python/pants/jvm/resolve/jvm_tool.py b/src/python/pants/jvm/resolve/jvm_tool.py\\nindex 7cae96fcc4d..4f8c8441335 100644\\n--- a/src/python/pants/jvm/resolve/jvm_tool.py\\n+++ b/src/python/pants/jvm/resolve/jvm_tool.py\\n@@ -12,6 +12,7 @@\\n from pants.engine.internals.selectors import Get, MultiGet\\n from pants.engine.rules import collect_rules, rule\\n from pants.engine.target import Targets\\n+from pants.jvm.goals.lockfile import GenerateJvmLockfile\\n from pants.jvm.resolve.common import ArtifactRequirement, ArtifactRequirements, Coordinate\\n from pants.jvm.resolve.coursier_fetch import CoursierResolvedLockfile\\n from pants.jvm.target_types import JvmArtifactFieldSet\\n@@ -105,6 +106,9 @@ def resolved_lockfile(self) -> CoursierResolvedLockfile:\\n \\n @dataclass(frozen=True)\\n class GatherJvmCoordinatesRequest:\\n+    \"\"\"A request to turn strings of coordinates (`group:artifact:version`) and/or addresses to\\n+    `jar_artifact` targets into `ArtifactRequirements`.\"\"\"\\n+\\n     artifact_inputs: FrozenOrderedSet[str]\\n     option_name: str\\n \\n@@ -199,5 +203,42 @@ async def validate_jvm_lockfile(\\n     return lockfile\\n \\n \\n+@dataclass(frozen=True)\\n+class GenerateJvmLockfileFromTool:\\n+    \"\"\"Create a `GenerateJvmLockfile` request for a JVM tool.\\n+\\n+    We allow tools to either use coordinates or addresses to `jvm_artifact` targets for the artifact\\n+    inputs. This is a convenience to parse those artifact inputs to create a standardized\\n+    `GenerateJvmLockfile`.\\n+    \"\"\"\\n+\\n+    artifact_inputs: FrozenOrderedSet[str]\\n+    artifact_option_name: str\\n+    resolve_name: str\\n+    lockfile_dest: str\\n+\\n+    @classmethod\\n+    def create(cls, tool: JvmToolBase) -> GenerateJvmLockfileFromTool:\\n+        return GenerateJvmLockfileFromTool(\\n+            FrozenOrderedSet(tool.artifact_inputs),\\n+            artifact_option_name=f\"[{tool.options_scope}].artifacts\",\\n+            resolve_name=tool.options_scope,\\n+            lockfile_dest=tool.lockfile,\\n+        )\\n+\\n+\\n+@rule\\n+async def setup_lockfile_request_from_tool(\\n+    request: GenerateJvmLockfileFromTool,\\n+) -> GenerateJvmLockfile:\\n+    artifacts = await Get(\\n+        ArtifactRequirements,\\n+        GatherJvmCoordinatesRequest(request.artifact_inputs, request.artifact_option_name),\\n+    )\\n+    return GenerateJvmLockfile(\\n+        artifacts=artifacts, resolve_name=request.resolve_name, lockfile_dest=request.lockfile_dest\\n+    )\\n+\\n+\\n def rules():\\n     return collect_rules()\\ndiff --git a/src/python/pants/jvm/resolve/jvm_tool_test.py b/src/python/pants/jvm/resolve/jvm_tool_test.py\\nindex 7c409db56b2..4f4b31ef3de 100644\\n--- a/src/python/pants/jvm/resolve/jvm_tool_test.py\\n+++ b/src/python/pants/jvm/resolve/jvm_tool_test.py\\n@@ -9,14 +9,14 @@\\n from pants.core.util_rules import config_files, source_files\\n from pants.core.util_rules.external_tool import rules as external_tool_rules\\n from pants.engine.fs import Digest, DigestContents\\n-from pants.engine.rules import Get, SubsystemRule, rule\\n-from pants.jvm.goals.lockfile import GenerateJvmLockfile, GenerateJvmLockfileFromTool\\n+from pants.engine.rules import SubsystemRule, rule\\n+from pants.jvm.goals.lockfile import GenerateJvmLockfile\\n from pants.jvm.goals.lockfile import rules as lockfile_rules\\n from pants.jvm.resolve import jvm_tool\\n from pants.jvm.resolve.common import Coordinate\\n from pants.jvm.resolve.coursier_fetch import rules as coursier_fetch_rules\\n from pants.jvm.resolve.coursier_setup import rules as coursier_setup_rules\\n-from pants.jvm.resolve.jvm_tool import JvmToolBase\\n+from pants.jvm.resolve.jvm_tool import GenerateJvmLockfileFromTool, JvmToolBase\\n from pants.jvm.target_types import JvmArtifactTarget\\n from pants.jvm.util_rules import rules as util_rules\\n from pants.testutil.rule_runner import PYTHON_BOOTSTRAP_ENV, QueryRule, RuleRunner\\n@@ -37,10 +37,10 @@ class MockJvmToolLockfileSentinel(GenerateToolLockfileSentinel):\\n \\n \\n @rule\\n-async def generate_test_tool_lockfile_request(\\n+def generate_test_tool_lockfile_request(\\n     _: MockJvmToolLockfileSentinel, tool: MockJvmTool\\n-) -> GenerateJvmLockfile:\\n-    return await Get(GenerateJvmLockfile, GenerateJvmLockfileFromTool(tool))\\n+) -> GenerateJvmLockfileFromTool:\\n+    return GenerateJvmLockfileFromTool.create(tool)\\n \\n \\n def test_jvm_tool_base_extracts_correct_coordinates() -> None:\\ndiff --git a/src/python/pants/jvm/test/junit.py b/src/python/pants/jvm/test/junit.py\\nindex 3af625ae318..96461b50590 100644\\n--- a/src/python/pants/jvm/test/junit.py\\n+++ b/src/python/pants/jvm/test/junit.py\\n@@ -21,14 +21,13 @@\\n from pants.engine.unions import UnionRule\\n from pants.jvm.classpath import Classpath\\n from pants.jvm.goals import lockfile\\n-from pants.jvm.goals.lockfile import GenerateJvmLockfile, GenerateJvmLockfileFromTool\\n from pants.jvm.jdk_rules import JdkSetup\\n from pants.jvm.resolve.coursier_fetch import (\\n     CoursierResolvedLockfile,\\n     MaterializedClasspath,\\n     MaterializedClasspathRequest,\\n )\\n-from pants.jvm.resolve.jvm_tool import ValidatedJvmToolLockfileRequest\\n+from pants.jvm.resolve.jvm_tool import GenerateJvmLockfileFromTool, ValidatedJvmToolLockfileRequest\\n from pants.jvm.subsystems import JvmSubsystem\\n from pants.jvm.target_types import JunitTestSourceField\\n from pants.util.logging import LogLevel\\n@@ -166,10 +165,10 @@ async def setup_junit_debug_request(field_set: JunitTestFieldSet) -> TestDebugRe\\n \\n \\n @rule\\n-async def generate_junit_lockfile_request(\\n+def generate_junit_lockfile_request(\\n     _: JunitToolLockfileSentinel, junit: JUnit\\n-) -> GenerateJvmLockfile:\\n-    return await Get(GenerateJvmLockfile, GenerateJvmLockfileFromTool(junit))\\n+) -> GenerateJvmLockfileFromTool:\\n+    return GenerateJvmLockfileFromTool.create(junit)\\n \\n \\n def rules():\\n',\n",
       "  \"From 00071c976f9a16b5684697d10b086fc1b0be7145 Mon Sep 17 00:00:00 2001\\nFrom: Po Lu <luangruo@yahoo.com>\\nDate: Tue, 12 Apr 2022 21:08:36 +0800\\nSubject: [PATCH] Fix some confusing names in xterm.c\\n\\n* src/xterm.c (enum xm_targets_table_byte_order): Rename to\\n`xm_byte_order'.  All uses changed.\\n---\\n src/xterm.c | 80 ++++++++++++++++++++++++++---------------------------\\n 1 file changed, 40 insertions(+), 40 deletions(-)\\n\\ndiff --git a/src/xterm.c b/src/xterm.c\\nindex 1bc92c67c0e..12707fc9a20 100644\\n--- a/src/xterm.c\\n+++ b/src/xterm.c\\n@@ -1020,16 +1020,16 @@ static bool x_dnd_use_toplevels;\\n \\n /* Motif drag-and-drop protocol support.  */\\n \\n-typedef enum xm_targets_table_byte_order\\n+typedef enum xm_byte_order\\n   {\\n-    XM_TARGETS_TABLE_LSB = 'l',\\n-    XM_TARGETS_TABLE_MSB = 'B',\\n+    XM_BYTE_ORDER_LSB_FIRST = 'l',\\n+    XM_BYTE_ORDER_MSB_FIRST = 'B',\\n #ifndef WORDS_BIGENDIAN\\n-    XM_TARGETS_TABLE_CUR = 'l',\\n+    XM_BYTE_ORDER_CUR_FIRST = 'l',\\n #else\\n-    XM_TARGETS_TABLE_CUR = 'B',\\n+    XM_BYTE_ORDER_CUR_FIRST = 'B',\\n #endif\\n-  } xm_targets_table_byte_order;\\n+  } xm_byte_order;\\n \\n #define SWAPCARD32(l)\\t\\t\\t\\t\\\\\\n   {\\t\\t\\t\\t\\t\\t\\\\\\n@@ -1204,7 +1204,7 @@ xm_side_effect_from_action (struct x_display_info *dpyinfo, Atom action)\\n static int\\n xm_read_targets_table_header (uint8_t *bytes, ptrdiff_t length,\\n \\t\\t\\t      xm_targets_table_header *header_return,\\n-\\t\\t\\t      xm_targets_table_byte_order *byteorder_return)\\n+\\t\\t\\t      xm_byte_order *byteorder_return)\\n {\\n   if (length < 8)\\n     return -1;\\n@@ -1215,20 +1215,20 @@ xm_read_targets_table_header (uint8_t *bytes, ptrdiff_t length,\\n   header_return->target_list_count = *(uint16_t *) bytes;\\n   header_return->total_data_size = *(uint32_t *) (bytes + 2);\\n \\n-  if (header_return->byte_order != XM_TARGETS_TABLE_CUR)\\n+  if (header_return->byte_order != XM_BYTE_ORDER_CUR_FIRST)\\n     {\\n       SWAPCARD16 (header_return->target_list_count);\\n       SWAPCARD32 (header_return->total_data_size);\\n     }\\n \\n-  header_return->byte_order = XM_TARGETS_TABLE_CUR;\\n+  header_return->byte_order = XM_BYTE_ORDER_CUR_FIRST;\\n \\n   return 8;\\n }\\n \\n static xm_targets_table_rec *\\n xm_read_targets_table_rec (uint8_t *bytes, ptrdiff_t length,\\n-\\t\\t\\t   xm_targets_table_byte_order byteorder)\\n+\\t\\t\\t   xm_byte_order byteorder)\\n {\\n   uint16_t nitems, i;\\n   xm_targets_table_rec *rec;\\n@@ -1241,7 +1241,7 @@ xm_read_targets_table_rec (uint8_t *bytes, ptrdiff_t length,\\n   if (length < 2 + nitems * 4)\\n     return NULL;\\n \\n-  if (byteorder != XM_TARGETS_TABLE_CUR)\\n+  if (byteorder != XM_BYTE_ORDER_CUR_FIRST)\\n     SWAPCARD16 (nitems);\\n \\n   rec = xmalloc (FLEXSIZEOF (struct xm_targets_table_rec,\\n@@ -1252,7 +1252,7 @@ xm_read_targets_table_rec (uint8_t *bytes, ptrdiff_t length,\\n     {\\n       rec->targets[i] = ((uint32_t *) (bytes + 2))[i];\\n \\n-      if (byteorder != XM_TARGETS_TABLE_CUR)\\n+      if (byteorder != XM_BYTE_ORDER_CUR_FIRST)\\n \\tSWAPCARD32 (rec->targets[i]);\\n     }\\n \\n@@ -1450,7 +1450,7 @@ xm_setup_dnd_targets (struct x_display_info *dpyinfo,\\n   int rc, actual_format, idx;\\n   xm_targets_table_header header;\\n   xm_targets_table_rec **recs;\\n-  xm_targets_table_byte_order byteorder;\\n+  xm_byte_order byteorder;\\n   uint8_t *data;\\n   ptrdiff_t total_bytes, total_items, i;\\n \\n@@ -1536,7 +1536,7 @@ xm_setup_dnd_targets (struct x_display_info *dpyinfo,\\n \\n   if (!rc)\\n     {\\n-      header.byte_order = XM_TARGETS_TABLE_CUR;\\n+      header.byte_order = XM_BYTE_ORDER_CUR_FIRST;\\n       header.protocol = 0;\\n       header.target_list_count = 1;\\n       header.total_data_size = 8 + 2 + ntargets * 4;\\n@@ -1604,7 +1604,7 @@ xm_setup_drag_info (struct x_display_info *dpyinfo,\\n \\n   if (idx != -1)\\n     {\\n-      drag_initiator_info.byteorder = XM_TARGETS_TABLE_CUR;\\n+      drag_initiator_info.byteorder = XM_BYTE_ORDER_CUR_FIRST;\\n       drag_initiator_info.protocol = 0;\\n       drag_initiator_info.table_index = idx;\\n       drag_initiator_info.selection = dpyinfo->Xatom_XdndSelection;\\n@@ -1719,7 +1719,7 @@ xm_send_top_level_leave_message (struct x_display_info *dpyinfo, Window source,\\n     {\\n       mmsg.reason = XM_DRAG_REASON (XM_DRAG_ORIGINATOR_INITIATOR,\\n \\t\\t\\t\\t    XM_DRAG_REASON_DRAG_MOTION);\\n-      mmsg.byteorder = XM_TARGETS_TABLE_CUR;\\n+      mmsg.byteorder = XM_BYTE_ORDER_CUR_FIRST;\\n       mmsg.side_effects = XM_DRAG_SIDE_EFFECT (xm_side_effect_from_action (dpyinfo,\\n \\t\\t\\t\\t\\t\\t\\t\\t\\t   x_dnd_wanted_action),\\n \\t\\t\\t\\t\\t       XM_DROP_SITE_NONE, XM_DRAG_NOOP,\\n@@ -1774,14 +1774,14 @@ xm_read_drop_start_reply (const XEvent *msg, xm_drop_start_reply *reply)\\n   reply->better_x = *(uint16_t *) (data + 2);\\n   reply->better_y = *(uint16_t *) (data + 4);\\n \\n-  if (reply->byte_order != XM_TARGETS_TABLE_CUR)\\n+  if (reply->byte_order != XM_BYTE_ORDER_CUR_FIRST)\\n     {\\n       SWAPCARD16 (reply->side_effects);\\n       SWAPCARD16 (reply->better_x);\\n       SWAPCARD16 (reply->better_y);\\n     }\\n \\n-  reply->byte_order = XM_TARGETS_TABLE_CUR;\\n+  reply->byte_order = XM_BYTE_ORDER_CUR_FIRST;\\n \\n   return 0;\\n }\\n@@ -1823,14 +1823,14 @@ xm_read_drag_receiver_info (struct x_display_info *dpyinfo,\\n       rec->unspecified2 = *(uint32_t *) &data[8];\\n       rec->unspecified3 = *(uint32_t *) &data[12];\\n \\n-      if (rec->byteorder != XM_TARGETS_TABLE_CUR)\\n+      if (rec->byteorder != XM_BYTE_ORDER_CUR_FIRST)\\n \\t{\\n \\t  SWAPCARD32 (rec->unspecified1);\\n \\t  SWAPCARD32 (rec->unspecified2);\\n \\t  SWAPCARD32 (rec->unspecified3);\\n \\t}\\n \\n-      rec->byteorder = XM_TARGETS_TABLE_CUR;\\n+      rec->byteorder = XM_BYTE_ORDER_CUR_FIRST;\\n     }\\n \\n   if (tmp_data)\\n@@ -1848,7 +1848,7 @@ x_dnd_send_xm_leave_for_drop (struct x_display_info *dpyinfo,\\n \\n   lmsg.reason = XM_DRAG_REASON (XM_DRAG_ORIGINATOR_INITIATOR,\\n \\t\\t\\t\\tXM_DRAG_REASON_TOP_LEVEL_LEAVE);\\n-  lmsg.byteorder = XM_TARGETS_TABLE_CUR;\\n+  lmsg.byteorder = XM_BYTE_ORDER_CUR_FIRST;\\n   lmsg.zero = 0;\\n   lmsg.timestamp = timestamp;\\n   lmsg.source_window = FRAME_X_WINDOW (f);\\n@@ -3545,7 +3545,7 @@ x_dnd_cleanup_drag_and_drop (void *frame)\\n \\t{\\n \\t  dmsg.reason = XM_DRAG_REASON (XM_DRAG_ORIGINATOR_INITIATOR,\\n \\t\\t\\t\\t\\tXM_DRAG_REASON_DROP_START);\\n-\\t  dmsg.byte_order = XM_TARGETS_TABLE_CUR;\\n+\\t  dmsg.byte_order = XM_BYTE_ORDER_CUR_FIRST;\\n \\t  dmsg.timestamp = FRAME_DISPLAY_INFO (f)->last_user_time;\\n \\t  dmsg.side_effects\\n \\t    = XM_DRAG_SIDE_EFFECT (xm_side_effect_from_action (FRAME_DISPLAY_INFO (f),\\n@@ -9613,7 +9613,7 @@ x_dnd_begin_drag_and_drop (struct frame *f, Time time, Atom xaction,\\n \\t\\t{\\n \\t\\t  dmsg.reason = XM_DRAG_REASON (XM_DRAG_ORIGINATOR_INITIATOR,\\n \\t\\t\\t\\t\\t\\tXM_DRAG_REASON_DROP_START);\\n-\\t\\t  dmsg.byte_order = XM_TARGETS_TABLE_CUR;\\n+\\t\\t  dmsg.byte_order = XM_BYTE_ORDER_CUR_FIRST;\\n \\t\\t  dmsg.timestamp = hold_quit.timestamp;\\n \\t\\t  dmsg.side_effects\\n \\t\\t    = XM_DRAG_SIDE_EFFECT (xm_side_effect_from_action (FRAME_DISPLAY_INFO (f),\\n@@ -13346,7 +13346,7 @@ x_dnd_update_state (struct x_display_info *dpyinfo, Time timestamp)\\n \\n \\t\\t  lmsg.reason = XM_DRAG_REASON (XM_DRAG_ORIGINATOR_INITIATOR,\\n \\t\\t\\t\\t\\t\\tXM_DRAG_REASON_TOP_LEVEL_LEAVE);\\n-\\t\\t  lmsg.byteorder = XM_TARGETS_TABLE_CUR;\\n+\\t\\t  lmsg.byteorder = XM_BYTE_ORDER_CUR_FIRST;\\n \\t\\t  lmsg.zero = 0;\\n \\t\\t  lmsg.timestamp = timestamp;\\n \\t\\t  lmsg.source_window = FRAME_X_WINDOW (x_dnd_frame);\\n@@ -13385,7 +13385,7 @@ x_dnd_update_state (struct x_display_info *dpyinfo, Time timestamp)\\n \\n \\t      lmsg.reason = XM_DRAG_REASON (XM_DRAG_ORIGINATOR_INITIATOR,\\n \\t\\t\\t\\t\\t    XM_DRAG_REASON_TOP_LEVEL_LEAVE);\\n-\\t      lmsg.byteorder = XM_TARGETS_TABLE_CUR;\\n+\\t      lmsg.byteorder = XM_BYTE_ORDER_CUR_FIRST;\\n \\t      lmsg.zero = 0;\\n \\t      lmsg.timestamp = timestamp;\\n \\t      lmsg.source_window = FRAME_X_WINDOW (x_dnd_frame);\\n@@ -13410,7 +13410,7 @@ x_dnd_update_state (struct x_display_info *dpyinfo, Time timestamp)\\n \\n \\t      emsg.reason = XM_DRAG_REASON (XM_DRAG_ORIGINATOR_INITIATOR,\\n \\t\\t\\t\\t\\t    XM_DRAG_REASON_TOP_LEVEL_ENTER);\\n-\\t      emsg.byteorder = XM_TARGETS_TABLE_CUR;\\n+\\t      emsg.byteorder = XM_BYTE_ORDER_CUR_FIRST;\\n \\t      emsg.zero = 0;\\n \\t      emsg.timestamp = timestamp;\\n \\t      emsg.source_window = FRAME_X_WINDOW (x_dnd_frame);\\n@@ -13435,7 +13435,7 @@ x_dnd_update_state (struct x_display_info *dpyinfo, Time timestamp)\\n \\n \\t  dmsg.reason = XM_DRAG_REASON (XM_DRAG_ORIGINATOR_INITIATOR,\\n \\t\\t\\t\\t\\tXM_DRAG_REASON_DRAG_MOTION);\\n-\\t  dmsg.byteorder = XM_TARGETS_TABLE_CUR;\\n+\\t  dmsg.byteorder = XM_BYTE_ORDER_CUR_FIRST;\\n \\t  dmsg.side_effects\\n \\t    = XM_DRAG_SIDE_EFFECT (xm_side_effect_from_action (dpyinfo,\\n \\t\\t\\t\\t\\t\\t\\t       x_dnd_wanted_action),\\n@@ -13468,7 +13468,7 @@ x_dnd_update_state (struct x_display_info *dpyinfo, Time timestamp)\\n \\t{\\n \\t  dsmsg.reason = XM_DRAG_REASON (XM_DRAG_ORIGINATOR_INITIATOR,\\n \\t\\t\\t\\t\\t XM_DRAG_REASON_DROP_START);\\n-\\t  dmsg.byteorder = XM_TARGETS_TABLE_CUR;\\n+\\t  dmsg.byteorder = XM_BYTE_ORDER_CUR_FIRST;\\n \\t  dsmsg.timestamp = timestamp;\\n \\t  dsmsg.side_effects\\n \\t    = XM_DRAG_SIDE_EFFECT (xm_side_effect_from_action (dpyinfo,\\n@@ -15088,7 +15088,7 @@ handle_one_xevent (struct x_display_info *dpyinfo,\\n \\n \\t\\t\\tlmsg.reason = XM_DRAG_REASON (XM_DRAG_ORIGINATOR_INITIATOR,\\n \\t\\t\\t\\t\\t\\t      XM_DRAG_REASON_TOP_LEVEL_LEAVE);\\n-\\t\\t\\tlmsg.byteorder = XM_TARGETS_TABLE_CUR;\\n+\\t\\t\\tlmsg.byteorder = XM_BYTE_ORDER_CUR_FIRST;\\n \\t\\t\\tlmsg.zero = 0;\\n \\t\\t\\tlmsg.timestamp = event->xmotion.time;\\n \\t\\t\\tlmsg.source_window = FRAME_X_WINDOW (x_dnd_frame);\\n@@ -15133,7 +15133,7 @@ handle_one_xevent (struct x_display_info *dpyinfo,\\n \\n \\t\\t    dmsg.reason = XM_DRAG_REASON (XM_DRAG_ORIGINATOR_INITIATOR,\\n \\t\\t\\t\\t\\t\\t  XM_DRAG_REASON_DRAG_MOTION);\\n-\\t\\t    dmsg.byteorder = XM_TARGETS_TABLE_CUR;\\n+\\t\\t    dmsg.byteorder = XM_BYTE_ORDER_CUR_FIRST;\\n \\t\\t    dmsg.side_effects = XM_DRAG_SIDE_EFFECT (xm_side_effect_from_action (dpyinfo,\\n \\t\\t\\t\\t\\t\\t\\t\\t\\t\\t\\t x_dnd_wanted_action),\\n \\t\\t\\t\\t\\t\\t\\t     XM_DROP_SITE_NONE, XM_DRAG_NOOP,\\n@@ -15144,7 +15144,7 @@ handle_one_xevent (struct x_display_info *dpyinfo,\\n \\n \\t\\t    lmsg.reason = XM_DRAG_REASON (XM_DRAG_ORIGINATOR_INITIATOR,\\n \\t\\t\\t\\t\\t\\t  XM_DRAG_REASON_TOP_LEVEL_LEAVE);\\n-\\t\\t    lmsg.byteorder = XM_TARGETS_TABLE_CUR;\\n+\\t\\t    lmsg.byteorder = XM_BYTE_ORDER_CUR_FIRST;\\n \\t\\t    lmsg.zero = 0;\\n \\t\\t    lmsg.timestamp = event->xbutton.time;\\n \\t\\t    lmsg.source_window = FRAME_X_WINDOW (x_dnd_frame);\\n@@ -15173,7 +15173,7 @@ handle_one_xevent (struct x_display_info *dpyinfo,\\n \\n \\t\\t    emsg.reason = XM_DRAG_REASON (XM_DRAG_ORIGINATOR_INITIATOR,\\n \\t\\t\\t\\t\\t\\t  XM_DRAG_REASON_TOP_LEVEL_ENTER);\\n-\\t\\t    emsg.byteorder = XM_TARGETS_TABLE_CUR;\\n+\\t\\t    emsg.byteorder = XM_BYTE_ORDER_CUR_FIRST;\\n \\t\\t    emsg.zero = 0;\\n \\t\\t    emsg.timestamp = event->xbutton.time;\\n \\t\\t    emsg.source_window = FRAME_X_WINDOW (x_dnd_frame);\\n@@ -15199,7 +15199,7 @@ handle_one_xevent (struct x_display_info *dpyinfo,\\n \\n \\t\\tdmsg.reason = XM_DRAG_REASON (XM_DRAG_ORIGINATOR_INITIATOR,\\n \\t\\t\\t\\t\\t      XM_DRAG_REASON_DRAG_MOTION);\\n-\\t\\tdmsg.byteorder = XM_TARGETS_TABLE_CUR;\\n+\\t\\tdmsg.byteorder = XM_BYTE_ORDER_CUR_FIRST;\\n \\t\\tdmsg.side_effects = XM_DRAG_SIDE_EFFECT (xm_side_effect_from_action (dpyinfo,\\n \\t\\t\\t\\t\\t\\t\\t\\t\\t\\t     x_dnd_wanted_action),\\n \\t\\t\\t\\t\\t\\t\\t XM_DROP_SITE_VALID,\\n@@ -15677,7 +15677,7 @@ handle_one_xevent (struct x_display_info *dpyinfo,\\n \\n \\t\\t\\t    dmsg.reason = XM_DRAG_REASON (XM_DRAG_ORIGINATOR_INITIATOR,\\n \\t\\t\\t\\t\\t\\t\\t  XM_DRAG_REASON_DROP_START);\\n-\\t\\t\\t    dmsg.byte_order = XM_TARGETS_TABLE_CUR;\\n+\\t\\t\\t    dmsg.byte_order = XM_BYTE_ORDER_CUR_FIRST;\\n \\t\\t\\t    dmsg.side_effects\\n \\t\\t\\t      = XM_DRAG_SIDE_EFFECT (xm_side_effect_from_action (dpyinfo,\\n \\t\\t\\t\\t\\t\\t\\t\\t\\t\\t x_dnd_wanted_action),\\n@@ -16615,7 +16615,7 @@ handle_one_xevent (struct x_display_info *dpyinfo,\\n \\n \\t\\t\\t      lmsg.reason = XM_DRAG_REASON (XM_DRAG_ORIGINATOR_INITIATOR,\\n \\t\\t\\t\\t\\t\\t\\t    XM_DRAG_REASON_TOP_LEVEL_LEAVE);\\n-\\t\\t\\t      lmsg.byteorder = XM_TARGETS_TABLE_CUR;\\n+\\t\\t\\t      lmsg.byteorder = XM_BYTE_ORDER_CUR_FIRST;\\n \\t\\t\\t      lmsg.zero = 0;\\n \\t\\t\\t      lmsg.timestamp = event->xmotion.time;\\n \\t\\t\\t      lmsg.source_window = FRAME_X_WINDOW (x_dnd_frame);\\n@@ -16661,7 +16661,7 @@ handle_one_xevent (struct x_display_info *dpyinfo,\\n \\n \\t\\t\\t  dmsg.reason = XM_DRAG_REASON (XM_DRAG_ORIGINATOR_INITIATOR,\\n \\t\\t\\t\\t\\t\\t\\tXM_DRAG_REASON_DRAG_MOTION);\\n-\\t\\t\\t  dmsg.byteorder = XM_TARGETS_TABLE_CUR;\\n+\\t\\t\\t  dmsg.byteorder = XM_BYTE_ORDER_CUR_FIRST;\\n \\t\\t\\t  dmsg.side_effects\\n \\t\\t\\t    = XM_DRAG_SIDE_EFFECT (xm_side_effect_from_action (dpyinfo,\\n \\t\\t\\t\\t\\t\\t\\t\\t\\t       x_dnd_wanted_action),\\n@@ -16673,7 +16673,7 @@ handle_one_xevent (struct x_display_info *dpyinfo,\\n \\n \\t\\t\\t  lmsg.reason = XM_DRAG_REASON (XM_DRAG_ORIGINATOR_INITIATOR,\\n \\t\\t\\t\\t\\t\\t\\tXM_DRAG_REASON_TOP_LEVEL_LEAVE);\\n-\\t\\t\\t  lmsg.byteorder = XM_TARGETS_TABLE_CUR;\\n+\\t\\t\\t  lmsg.byteorder = XM_BYTE_ORDER_CUR_FIRST;\\n \\t\\t\\t  lmsg.zero = 0;\\n \\t\\t\\t  lmsg.timestamp = xev->time;\\n \\t\\t\\t  lmsg.source_window = FRAME_X_WINDOW (x_dnd_frame);\\n@@ -16702,7 +16702,7 @@ handle_one_xevent (struct x_display_info *dpyinfo,\\n \\n \\t\\t\\t  emsg.reason = XM_DRAG_REASON (XM_DRAG_ORIGINATOR_INITIATOR,\\n \\t\\t\\t\\t\\t\\t\\tXM_DRAG_REASON_TOP_LEVEL_ENTER);\\n-\\t\\t\\t  emsg.byteorder = XM_TARGETS_TABLE_CUR;\\n+\\t\\t\\t  emsg.byteorder = XM_BYTE_ORDER_CUR_FIRST;\\n \\t\\t\\t  emsg.zero = 0;\\n \\t\\t\\t  emsg.timestamp = xev->time;\\n \\t\\t\\t  emsg.source_window = FRAME_X_WINDOW (x_dnd_frame);\\n@@ -16727,7 +16727,7 @@ handle_one_xevent (struct x_display_info *dpyinfo,\\n \\n \\t\\t      dmsg.reason = XM_DRAG_REASON (XM_DRAG_ORIGINATOR_INITIATOR,\\n \\t\\t\\t\\t\\t\\t    XM_DRAG_REASON_DRAG_MOTION);\\n-\\t\\t      dmsg.byteorder = XM_TARGETS_TABLE_CUR;\\n+\\t\\t      dmsg.byteorder = XM_BYTE_ORDER_CUR_FIRST;\\n \\t\\t      dmsg.side_effects\\n \\t\\t\\t= XM_DRAG_SIDE_EFFECT (xm_side_effect_from_action (dpyinfo,\\n \\t\\t\\t\\t\\t\\t\\t\\t\\t   x_dnd_wanted_action),\\n@@ -16893,7 +16893,7 @@ handle_one_xevent (struct x_display_info *dpyinfo,\\n \\n \\t\\t\\t\\t  dmsg.reason = XM_DRAG_REASON (XM_DRAG_ORIGINATOR_INITIATOR,\\n \\t\\t\\t\\t\\t\\t\\t\\tXM_DRAG_REASON_DROP_START);\\n-\\t\\t\\t\\t  dmsg.byte_order = XM_TARGETS_TABLE_CUR;\\n+\\t\\t\\t\\t  dmsg.byte_order = XM_BYTE_ORDER_CUR_FIRST;\\n \\t\\t\\t\\t  dmsg.side_effects\\n \\t\\t\\t\\t    = XM_DRAG_SIDE_EFFECT (xm_side_effect_from_action (dpyinfo,\\n \\t\\t\\t\\t\\t\\t\\t\\t\\t\\t       x_dnd_wanted_action),\\n\",\n",
       "  'From 0009d9532ee669dc8022ef1a62c72ad4961f9bb5 Mon Sep 17 00:00:00 2001\\nFrom: Ondrej Kozina <okozina@redhat.com>\\nDate: Mon, 27 Jun 2022 15:18:35 +0200\\nSubject: [PATCH] Extend LUKS2 decryption with datashift API tests.\\n\\n---\\n tests/api-test-2.c |  76 ++++++++++++++++++++++-\\n tests/api_test.h   |  11 ++++\\n tests/test_utils.c | 148 +++++++++++++++++++++++++++++++++++++++++++++\\n 3 files changed, 234 insertions(+), 1 deletion(-)\\n\\ndiff --git a/tests/api-test-2.c b/tests/api-test-2.c\\nindex cc5fcb46c..b2cc69f5e 100644\\n--- a/tests/api-test-2.c\\n+++ b/tests/api-test-2.c\\n@@ -414,6 +414,9 @@ static int _setup(void)\\n \\t_system(\"dmsetup create \" DEVICE_EMPTY_name \" --table \\\\\"0 10000 zero\\\\\"\", 1);\\n \\t_system(\"dmsetup create \" DEVICE_ERROR_name \" --table \\\\\"0 10000 error\\\\\"\", 1);\\n \\n+\\tif (t_set_readahead(DEVICE_ERROR, 0))\\n+\\t\\tprintf(\"cannot set read ahead on device %s\\\\n\", DEVICE_ERROR);\\n+\\n \\t_system(\" [ ! -e \" IMAGE1 \" ] && xz -dk \" IMAGE1 \".xz\", 1);\\n \\tfd = loop_attach(&DEVICE_1, IMAGE1, 0, 0, &ro);\\n \\tclose(fd);\\n@@ -4566,7 +4569,78 @@ static void Luks2Reencryption(void)\\n \\tOK_(crypt_activate_by_volume_key(cd, NULL, key, key_size, 0));\\n \\tOK_(crypt_keyslot_destroy(cd, 9));\\n \\tOK_(crypt_activate_by_volume_key(cd, NULL, key, key_size, 0));\\n-\\tcrypt_free(cd);\\n+\\tCRYPT_FREE(cd);\\n+\\n+\\t_cleanup_dmdevices();\\n+\\tOK_(create_dmdevice_over_loop(L_DEVICE_OK, 2 * r_header_size));\\n+\\tOK_(create_dmdevice_over_loop(H_DEVICE, r_header_size));\\n+\\n+\\trparams = (struct crypt_params_reencrypt) {\\n+\\t\\t.mode = CRYPT_REENCRYPT_DECRYPT,\\n+\\t\\t.direction = CRYPT_REENCRYPT_FORWARD,\\n+\\t\\t.resilience = \"datashift-checksum\",\\n+\\t\\t.hash = \"sha256\",\\n+\\t\\t.data_shift = r_header_size,\\n+\\t\\t.flags = CRYPT_REENCRYPT_INITIALIZE_ONLY | CRYPT_REENCRYPT_MOVE_FIRST_SEGMENT\\n+\\t};\\n+\\n+\\tOK_(crypt_init(&cd, DMDIR L_DEVICE_OK));\\n+\\tOK_(set_fast_pbkdf(cd));\\n+\\tOK_(crypt_format(cd, CRYPT_LUKS2, \"aes\", \"xts-plain64\", NULL, NULL, 64, NULL));\\n+\\tEQ_(0, crypt_keyslot_add_by_volume_key(cd, 0, NULL, 64, PASSPHRASE, strlen(PASSPHRASE)));\\n+\\tOK_(crypt_header_backup(cd, CRYPT_LUKS2, BACKUP_FILE));\\n+\\tCRYPT_FREE(cd);\\n+\\n+\\tparams2.data_device = DMDIR L_DEVICE_OK;\\n+\\tparams2.sector_size = 512;\\n+\\n+\\t/* create detached LUKS2 header (with data_offset == 0) */\\n+\\tOK_(crypt_init(&cd, DMDIR H_DEVICE));\\n+\\tOK_(crypt_format(cd, CRYPT_LUKS2, \"aes\", \"xts-plain64\", NULL, NULL, 64, &params2));\\n+\\tEQ_(crypt_get_data_offset(cd), 0);\\n+\\tOK_(set_fast_pbkdf(cd));\\n+\\tEQ_(0, crypt_keyslot_add_by_volume_key(cd, 0, NULL, 64, PASSPHRASE, strlen(PASSPHRASE)));\\n+\\tCRYPT_FREE(cd);\\n+\\n+\\t/* initiate LUKS2 decryption with datashift on bogus LUKS2 header (data_offset == 0) */\\n+\\tOK_(crypt_init_data_device(&cd, DMDIR H_DEVICE, DMDIR L_DEVICE_OK));\\n+\\tOK_(crypt_load(cd, CRYPT_LUKS2, NULL));\\n+\\tFAIL_(crypt_reencrypt_init_by_passphrase(cd, NULL, PASSPHRASE, strlen(PASSPHRASE), 0, CRYPT_ANY_SLOT, NULL, NULL, &rparams), \"Illegal data offset\");\\n+\\t/* reencryption must not initalize */\\n+\\tEQ_(crypt_reencrypt_status(cd, NULL), CRYPT_REENCRYPT_NONE);\\n+\\tCRYPT_FREE(cd);\\n+\\t/* original data device must stay untouched */\\n+\\tOK_(crypt_init(&cd, DMDIR L_DEVICE_OK));\\n+\\tOK_(crypt_load(cd, CRYPT_LUKS2, NULL));\\n+\\tEQ_(crypt_reencrypt_status(cd, NULL), CRYPT_REENCRYPT_NONE);\\n+\\tCRYPT_FREE(cd);\\n+\\n+\\tOK_(chmod(BACKUP_FILE, S_IRUSR|S_IWUSR));\\n+\\tOK_(crypt_init_data_device(&cd, BACKUP_FILE, DMDIR L_DEVICE_OK));\\n+\\tOK_(crypt_load(cd, CRYPT_LUKS2, NULL));\\n+\\n+\\t/* simulate read error at first segment beyond data offset*/\\n+\\tOK_(dmdevice_error_io(L_DEVICE_OK, DMDIR L_DEVICE_OK, DEVICE_ERROR, 0, r_header_size, 8, ERR_RD));\\n+\\n+\\tFAIL_(crypt_reencrypt_init_by_passphrase(cd, NULL, PASSPHRASE, strlen(PASSPHRASE), 0, CRYPT_ANY_SLOT, NULL, NULL, &rparams), \"Could not read first data segment\");\\n+\\tCRYPT_FREE(cd);\\n+\\n+\\t/* Device must not be in reencryption */\\n+\\tOK_(crypt_init_data_device(&cd, BACKUP_FILE, DMDIR L_DEVICE_OK));\\n+\\tOK_(crypt_load(cd, CRYPT_LUKS2, NULL));\\n+\\tEQ_(crypt_reencrypt_status(cd, NULL), CRYPT_REENCRYPT_NONE);\\n+\\n+\\t/* simulate write error in original LUKS2 header area */\\n+\\tOK_(dmdevice_error_io(L_DEVICE_OK, DMDIR L_DEVICE_OK, DEVICE_ERROR, 0, 0, 8, ERR_WR));\\n+\\n+\\tFAIL_(crypt_reencrypt_init_by_passphrase(cd, NULL, PASSPHRASE, strlen(PASSPHRASE), 0, CRYPT_ANY_SLOT, NULL, NULL, &rparams), \"Could not write first data segment\");\\n+\\tCRYPT_FREE(cd);\\n+\\n+\\t/* Device must not be in reencryption */\\n+\\tOK_(crypt_init_data_device(&cd, BACKUP_FILE, DMDIR L_DEVICE_OK));\\n+\\tOK_(crypt_load(cd, CRYPT_LUKS2, NULL));\\n+\\tEQ_(crypt_reencrypt_status(cd, NULL), CRYPT_REENCRYPT_NONE);\\n+\\tCRYPT_FREE(cd);\\n \\n \\t_cleanup_dmdevices();\\n }\\ndiff --git a/tests/api_test.h b/tests/api_test.h\\nindex da81c54e7..cfcab604b 100644\\n--- a/tests/api_test.h\\n+++ b/tests/api_test.h\\n@@ -38,6 +38,7 @@ int t_dm_check_versions(void);\\n int t_dm_crypt_keyring_support(void);\\n int t_dm_crypt_cpu_switch_support(void);\\n int t_dm_crypt_discard_support(void);\\n+int t_set_readahead(const char *device, unsigned value);\\n \\n int fips_mode(void);\\n \\n@@ -132,4 +133,14 @@ int loop_detach(const char *loop);\\n int t_device_size_by_devno(dev_t devno, uint64_t *retval);\\n int t_get_devno(const char *dev, dev_t *devno);\\n \\n+typedef enum { ERR_RD = 0, ERR_WR, ERR_RW, ERR_REMOVE } error_io_info;\\n+\\n+int dmdevice_error_io(const char *dm_name,\\n+\\tconst char *dm_device,\\n+\\tconst char *error_device,\\n+\\tuint64_t data_offset,\\n+\\tuint64_t offset,\\n+\\tuint64_t length,\\n+\\terror_io_info ei);\\n+\\n #endif\\ndiff --git a/tests/test_utils.c b/tests/test_utils.c\\nindex 707f36a98..c6080a5c6 100644\\n--- a/tests/test_utils.c\\n+++ b/tests/test_utils.c\\n@@ -19,6 +19,7 @@\\n  * Foundation, Inc., 51 Franklin Street, Fifth Floor, Boston, MA 02110-1301 USA.\\n  */\\n \\n+#include <assert.h>\\n #include <errno.h>\\n #include <fcntl.h>\\n #include <inttypes.h>\\n@@ -161,6 +162,20 @@ int t_device_size(const char *device, uint64_t *size)\\n \\treturn r;\\n }\\n \\n+int t_set_readahead(const char *device, unsigned value)\\n+{\\n+\\tint devfd, r = 0;\\n+\\n+\\tdevfd = open(device, O_RDONLY);\\n+\\tif(devfd == -1)\\n+\\t\\treturn -EINVAL;\\n+\\n+\\tif (ioctl(devfd, BLKRASET, value) < 0)\\n+\\t\\tr = -EINVAL;\\n+\\tclose(devfd);\\n+\\treturn r;\\n+}\\n+\\n int fips_mode(void)\\n {\\n \\tint fd;\\n@@ -207,6 +222,139 @@ int create_dmdevice_over_loop(const char *dm_name, const uint64_t size)\\n \\treturn r;\\n }\\n \\n+__attribute__((format(printf, 3, 4)))\\n+static int _snprintf(char **r_ptr, size_t *r_remains, const char *format, ...)\\n+{\\n+\\tint len;\\n+\\tva_list argp;\\n+\\n+\\tassert(r_remains);\\n+\\tassert(r_ptr);\\n+\\n+\\tva_start(argp, format);\\n+\\n+\\tlen = vsnprintf(*r_ptr, *r_remains, format, argp);\\n+\\tif (len < 0 || (size_t)len >= *r_remains)\\n+\\t\\treturn -EINVAL;\\n+\\n+\\t*r_ptr += len;\\n+\\t*r_remains -= len;\\n+\\n+\\tva_end(argp);\\n+\\n+\\treturn 0;\\n+}\\n+\\n+int dmdevice_error_io(const char *dm_name,\\n+\\tconst char *dm_device,\\n+\\tconst char *error_device,\\n+\\tuint64_t data_offset,\\n+\\tuint64_t offset,\\n+\\tuint64_t length,\\n+\\terror_io_info ei)\\n+{\\n+\\tchar str[256], cmd[384];\\n+\\tint r;\\n+\\tuint64_t dev_size;\\n+\\tsize_t remains;\\n+\\tchar *ptr;\\n+\\n+\\tif (t_device_size(dm_device, &dev_size) < 0 || !length)\\n+\\t\\treturn -1;\\n+\\n+\\tdev_size >>= TST_SECTOR_SHIFT;\\n+\\n+\\tif (dev_size <= offset)\\n+\\t\\treturn -1;\\n+\\n+\\tif (ei == ERR_REMOVE) {\\n+\\t\\tr = snprintf(cmd, sizeof(cmd),\\n+\\t\\t\\t     \"dmsetup load %s --table \\\\\"0 %\" PRIu64 \" linear %s %\" PRIu64 \"\\\\\"\",\\n+\\t\\t\\t     dm_name, dev_size, THE_LOOP_DEV, data_offset);\\n+\\t\\tif (r < 0 || (size_t)r >= sizeof(str))\\n+\\t\\t\\treturn -3;\\n+\\n+\\t\\tif ((r = _system(cmd, 1)))\\n+\\t\\t\\treturn r;\\n+\\n+\\t\\tr = snprintf(cmd, sizeof(cmd), \"dmsetup resume %s\", dm_name);\\n+\\t\\tif (r < 0 || (size_t)r >= sizeof(cmd))\\n+\\t\\t\\treturn -3;\\n+\\n+\\t\\treturn _system(cmd, 1);\\n+\\t}\\n+\\n+\\tif ((dev_size - offset) < length) {\\n+\\t\\tprintf(\"Not enough space on target device\\\\n.\");\\n+\\t\\treturn -2;\\n+\\t}\\n+\\n+\\tremains = sizeof(str);\\n+\\tptr = str;\\n+\\n+\\tif (offset) {\\n+\\t\\tr = _snprintf(&ptr, &remains,\\n+\\t\\t\\t     \"0 %\" PRIu64 \" linear %s %\" PRIu64 \"\\\\n\",\\n+\\t\\t\\t     offset, THE_LOOP_DEV, data_offset);\\n+\\t\\tif (r < 0)\\n+\\t\\t\\treturn r;\\n+\\t}\\n+\\tr = _snprintf(&ptr, &remains, \"%\" PRIu64 \" %\" PRIu64 \" delay \",\\n+\\t\\t      offset, length);\\n+\\tif (r < 0)\\n+\\t\\treturn r;\\n+\\n+\\tif (ei == ERR_RW || ei == ERR_RD) {\\n+\\t\\tr = _snprintf(&ptr, &remains, \"%s 0 0\",\\n+\\t\\t\\t     error_device);\\n+\\t\\tif (r < 0)\\n+\\t\\t\\treturn r;\\n+\\t\\tif (ei == ERR_RD) {\\n+\\t\\t\\tr = _snprintf(&ptr, &remains, \" %s %\" PRIu64 \" 0\",\\n+\\t\\t\\t\\t     THE_LOOP_DEV, data_offset + offset);\\n+\\t\\t\\tif (r < 0)\\n+\\t\\t\\t\\treturn r;\\n+\\t\\t}\\n+\\t} else if (ei == ERR_WR) {\\n+\\t\\tr = _snprintf(&ptr, &remains, \"%s %\" PRIu64 \" 0 %s 0 0\",\\n+\\t\\t\\t     THE_LOOP_DEV, data_offset + offset, error_device);\\n+\\t\\tif (r < 0)\\n+\\t\\t\\treturn r;\\n+\\t}\\n+\\n+\\tif (dev_size > (offset + length)) {\\n+\\t\\tr = _snprintf(&ptr, &remains,\\n+\\t\\t\\t     \"\\\\n%\" PRIu64 \" %\" PRIu64 \" linear %s %\" PRIu64,\\n+\\t\\t\\t     offset + length, dev_size - offset - length, THE_LOOP_DEV,\\n+\\t\\t\\t     data_offset + offset + length);\\n+\\t\\tif (r < 0)\\n+\\t\\t\\treturn r;\\n+\\t}\\n+\\n+\\t/*\\n+\\t * Hello darkness, my old friend...\\n+\\t *\\n+\\t * On few old distributions there\\'s issue with\\n+\\t * processing multiline tables via dmsetup load --table.\\n+\\t * This workaround passes on all systems we run tests on.\\n+\\t */\\n+\\tr = snprintf(cmd, sizeof(cmd), \"dmsetup load %s <<EOF\\\\n%s\\\\nEOF\", dm_name, str);\\n+\\tif (r < 0 || (size_t)r >= sizeof(cmd))\\n+\\t\\treturn -3;\\n+\\n+\\tif ((r = _system(cmd, 1)))\\n+\\t\\treturn r;\\n+\\n+\\tr = snprintf(cmd, sizeof(cmd), \"dmsetup resume %s\", dm_name);\\n+\\tif (r < 0 || (size_t)r >= sizeof(cmd))\\n+\\t\\treturn -3;\\n+\\n+\\tif ((r = _system(cmd, 1)))\\n+\\t\\treturn r;\\n+\\n+\\treturn t_set_readahead(dm_device, 0);\\n+}\\n+\\n // Get key from kernel dm mapping table using dm-ioctl\\n int get_key_dm(const char *name, char *buffer, unsigned int buffer_size)\\n {\\n',\n",
       "  'From 0009f2bf1c5b0c21607025c0aef6d67e2ddeb7d6 Mon Sep 17 00:00:00 2001\\nFrom: Max Horn <max@quendi.de>\\nDate: Fri, 7 Oct 2022 17:31:30 +0200\\nSubject: [PATCH] kernel: rename gap95w.c to main.c and always use it\\n\\nSo now there is just one definition for function `main`. Also,\\nlibgap now does not contain `main` anymore (oops)\\n---\\n Makefile.rules           | 16 ++++++----------\\n src/gap.c                | 14 --------------\\n src/{gapw95.c => main.c} | 15 +++++++++++++++\\n 3 files changed, 21 insertions(+), 24 deletions(-)\\n rename src/{gapw95.c => main.c} (69%)\\n\\ndiff --git a/Makefile.rules b/Makefile.rules\\nindex 03b0a3c62c..8a855a6c89 100644\\n--- a/Makefile.rules\\n+++ b/Makefile.rules\\n@@ -137,6 +137,7 @@ endif\\n # deal with C sources generated by gac\\n SOURCES_NOCOMP := $(SOURCES)\\n SOURCES_NOCOMP += src/compstat_empty.c\\n+SOURCES_NOCOMP += src/main.c\\n \\n SOURCE_C_OPER1 := build/c_oper1.c\\n SOURCE_C_TYPE1 := build/c_type1.c\\n@@ -163,6 +164,7 @@ SOURCES += src/compstat.c\\n \\n SOURCES_ALL := $(SOURCES)\\n SOURCES_ALL += src/compstat_empty.c\\n+SOURCES_ALL += src/main.c\\n \\n ########################################################################\\n # Preprocessor flags\\n@@ -442,8 +444,6 @@ bin/instcygwinterminfo.sh: $(srcdir)/cnf/cygwin/instcygwinterminfo.sh\\n bin/cygwin-version.txt:\\n \\tuname -a > $@\\n \\n-GAP_CPPFLAGS += \"-DCOMPILECYGWINDLL\"\\n-\\n # increase stack size, the default is too small (see issue #1522)\\n GAP_LDFLAGS += -Wl,--stack,16777216\\n \\n@@ -465,15 +465,15 @@ bin/$(GAPARCH)/gap.dll: libgap.la\\n \\t@$(MKDIR_P) bin/$(GAPARCH)\\n \\tcp .libs/cyggap-*.dll $@\\n \\n-gap$(EXEEXT): libgap.la cnf/GAP-LDFLAGS cnf/GAP-LIBS cnf/GAP-OBJS\\n-\\t$(QUIET_LINK)$(LINK) $(GAP_LDFLAGS) $(srcdir)/src/gapw95.c $(GAP_LIBS) libgap.la -o $@\\n+gap$(EXEEXT): libgap.la cnf/GAP-LDFLAGS cnf/GAP-LIBS cnf/GAP-OBJS build/obj/src/main.c.lo\\n+\\t$(QUIET_LINK)$(LINK) $(GAP_LDFLAGS) build/obj/src/main.c.lo $(GAP_LIBS) libgap.la -o $@\\n \\t@( if which peflags > /dev/null ; then peflags --cygwin-heap=2048 gap$(EXEEXT) ; fi )\\n \\n else\\n \\n # Linking rule and dependencies for the main gap executable\\n-gap$(EXEEXT): $(OBJS) cnf/GAP-LDFLAGS cnf/GAP-LIBS cnf/GAP-OBJS\\n-\\t$(QUIET_LINK)$(LINK) $(GAP_LDFLAGS) $(OBJS) $(GAP_LIBS) -o $@\\n+gap$(EXEEXT): $(OBJS) cnf/GAP-LDFLAGS cnf/GAP-LIBS cnf/GAP-OBJS build/obj/src/main.c.lo\\n+\\t$(QUIET_LINK)$(LINK) $(GAP_LDFLAGS) build/obj/src/main.c.lo $(GAP_LIBS) $(OBJS) -o $@\\n \\n endif\\n \\n@@ -481,10 +481,6 @@ endif\\n # Rules for rebuilding C code generated from GAP code via gac.\\n ########################################################################\\n \\n-ifeq ($(SYS_IS_CYGWIN32),yes)\\n-SOURCES_NOCOMP += src/gapw95.c\\n-endif\\n-\\n build/gap-nocomp$(EXEEXT): $(OBJS_NOCOMP) cnf/GAP-LDFLAGS cnf/GAP-LIBS cnf/GAP-OBJS\\n \\t$(QUIET_LINK)$(LINK) $(GAP_LDFLAGS) $(OBJS_NOCOMP) $(GAP_LIBS) -o $@\\n \\ndiff --git a/src/gap.c b/src/gap.c\\nindex 6fde152bef..fa529a10cc 100644\\n--- a/src/gap.c\\n+++ b/src/gap.c\\n@@ -420,20 +420,6 @@ int realmain( int argc, char * argv[] )\\n   return SystemErrorCode;\\n }\\n \\n-#if !defined(COMPILECYGWINDLL)\\n-int main ( int argc, char * argv[] )\\n-{\\n-  InstallBacktraceHandlers();\\n-\\n-#ifdef HPCGAP\\n-  RunThreadedMain(realmain, argc, argv);\\n-  return 0;\\n-#else\\n-  return realmain(argc, argv);\\n-#endif\\n-}\\n-\\n-#endif\\n \\n /****************************************************************************\\n **\\ndiff --git a/src/gapw95.c b/src/main.c\\nsimilarity index 69%\\nrename from src/gapw95.c\\nrename to src/main.c\\nindex 83649ce942..b2ceffa7e9 100644\\n--- a/src/gapw95.c\\n+++ b/src/main.c\\n@@ -8,9 +8,24 @@\\n **  SPDX-License-Identifier: GPL-2.0-or-later\\n */\\n \\n+#include \"common.h\"\\n+\\n+#ifdef HPCGAP\\n+#include \"hpc/thread.h\"\\n+#endif\\n+\\n+#include \"config.h\"\\n+\\n extern int realmain(int argc, char *argv[]);\\n \\n int main(int argc, char *argv[])\\n {\\n+    InstallBacktraceHandlers();\\n+\\n+#ifdef HPCGAP\\n+    RunThreadedMain(realmain, argc, argv);\\n+    return 0;\\n+#else\\n     return realmain(argc, argv);\\n+#endif\\n }\\n']}"
      ]
     },
     "execution_count": 30,
     "metadata": {},
     "output_type": "execute_result"
    }
   ],
   "source": [
    "ds[:10]"
   ]
  },
  {
   "cell_type": "code",
   "execution_count": 31,
   "metadata": {},
   "outputs": [
    {
     "name": "stderr",
     "output_type": "stream",
     "text": [
      "Filter (num_proc=10):   0%|          | 0/1000 [00:00<?, ? examples/s]/opt/anaconda3/envs/research/lib/python3.12/site-packages/datasets/table.py:1387: FutureWarning: promote has been superseded by promote_options='default'.\n",
      "  return cls._concat_blocks(pa_tables_to_concat_vertically, axis=0)\n",
      "/opt/anaconda3/envs/research/lib/python3.12/site-packages/datasets/table.py:1387: FutureWarning: promote has been superseded by promote_options='default'.\n",
      "  return cls._concat_blocks(pa_tables_to_concat_vertically, axis=0)\n",
      "/opt/anaconda3/envs/research/lib/python3.12/site-packages/datasets/table.py:1387: FutureWarning: promote has been superseded by promote_options='default'.\n",
      "  return cls._concat_blocks(pa_tables_to_concat_vertically, axis=0)\n",
      "/opt/anaconda3/envs/research/lib/python3.12/site-packages/datasets/table.py:1387: FutureWarning: promote has been superseded by promote_options='default'.\n",
      "  return cls._concat_blocks(pa_tables_to_concat_vertically, axis=0)\n",
      "/opt/anaconda3/envs/research/lib/python3.12/site-packages/datasets/table.py:1387: FutureWarning: promote has been superseded by promote_options='default'.\n",
      "  return cls._concat_blocks(pa_tables_to_concat_vertically, axis=0)\n",
      "/opt/anaconda3/envs/research/lib/python3.12/site-packages/datasets/table.py:1387: FutureWarning: promote has been superseded by promote_options='default'.\n",
      "  return cls._concat_blocks(pa_tables_to_concat_vertically, axis=0)\n",
      "/opt/anaconda3/envs/research/lib/python3.12/site-packages/datasets/table.py:1387: FutureWarning: promote has been superseded by promote_options='default'.\n",
      "  return cls._concat_blocks(pa_tables_to_concat_vertically, axis=0)\n",
      "/opt/anaconda3/envs/research/lib/python3.12/site-packages/datasets/table.py:1387: FutureWarning: promote has been superseded by promote_options='default'.\n",
      "  return cls._concat_blocks(pa_tables_to_concat_vertically, axis=0)\n",
      "/opt/anaconda3/envs/research/lib/python3.12/site-packages/datasets/table.py:1387: FutureWarning: promote has been superseded by promote_options='default'.\n",
      "  return cls._concat_blocks(pa_tables_to_concat_vertically, axis=0)\n",
      "/opt/anaconda3/envs/research/lib/python3.12/site-packages/datasets/table.py:1387: FutureWarning: promote has been superseded by promote_options='default'.\n",
      "  return cls._concat_blocks(pa_tables_to_concat_vertically, axis=0)\n",
      "Filter (num_proc=10): 100%|██████████| 1000/1000 [00:00<00:00, 1624.46 examples/s]\n",
      "/opt/anaconda3/envs/research/lib/python3.12/site-packages/datasets/table.py:1421: FutureWarning: promote has been superseded by promote_options='default'.\n",
      "  table = cls._concat_blocks(blocks, axis=0)\n"
     ]
    }
   ],
   "source": [
    "ds = ds.filter(lambda row: row[\"patch_text\"].count(\"diff --git\") == 1, num_proc=10) # Isolating commits with only one file change"
   ]
  },
  {
   "cell_type": "code",
   "execution_count": 32,
   "metadata": {},
   "outputs": [
    {
     "data": {
      "text/plain": [
       "Dataset({\n",
       "    features: ['commit', 'subject', 'message', 'repos', 'patch_text'],\n",
       "    num_rows: 268\n",
       "})"
      ]
     },
     "execution_count": 32,
     "metadata": {},
     "output_type": "execute_result"
    }
   ],
   "source": [
    "ds"
   ]
  },
  {
   "cell_type": "code",
   "execution_count": 38,
   "metadata": {},
   "outputs": [],
   "source": [
    "from diff_utils import parse_diff, find_best_match\n",
    "\n",
    "def process(row):\n",
    "    diff_text = row[\"patch_text\"]\n",
    "    lines = diff_text.split('\\n')\n",
    "    start_extraction = False\n",
    "    result_lines = []\n",
    "    repo_name = row['repos'].split(\",\")[0].replace(\"[\", \"\").replace(\"]\", \"\")\n",
    "    \n",
    "    minus_filepath = \"\"\n",
    "    plus_filepath = \"\"\n",
    "\n",
    "    for line in lines:\n",
    "        if line.startswith('---'):\n",
    "            start_extraction = True\n",
    "            minus_filepath = line.replace(\"---\", \"\").strip()\n",
    "        if line.startswith('+++'):\n",
    "            plus_filepath = line.replace(\"+++\", \"\").strip()\n",
    "        if start_extraction:\n",
    "            result_lines.append(line)\n",
    "    \n",
    "    cropped_patch = \"\\n\".join(result_lines)\n",
    "    parsed_diff = parse_diff(cropped_patch)\n",
    "    desired_filepath = parsed_diff[0].filepath.strip()[2:]\n",
    "    file_url = f\"https://raw.githubusercontent.com/{repo_name}/{row['commit']}/{desired_filepath}\"\n",
    "    \n",
    "    r = requests.get(file_url)\n",
    "    text = r.text\n",
    "\n",
    "    row[\"new_contents\"] = text\n",
    "    changes_executed_count = 0\n",
    "    for sr_block in parsed_diff:\n",
    "        if sr_block.replace_block in text:\n",
    "            changes_executed_count += 1\n",
    "        text = text.replace(sr_block.replace_block, sr_block.search_block) # going in the reverse direction\n",
    "    \n",
    "    print(\"Was able to complete: \", changes_executed_count/len(parsed_diff))\n",
    "\n",
    "    row[\"old_contents\"] = text\n",
    "    row[\"old_file\"] = minus_filepath\n",
    "    row[\"new_file\"] = plus_filepath\n"
   ]
  },
  {
   "cell_type": "code",
   "execution_count": 39,
   "metadata": {},
   "outputs": [
    {
     "name": "stderr",
     "output_type": "stream",
     "text": [
      "Map (num_proc=5):   0%|          | 0/268 [00:00<?, ? examples/s]/opt/anaconda3/envs/research/lib/python3.12/site-packages/datasets/table.py:1387: FutureWarning: promote has been superseded by promote_options='default'.\n",
      "  return cls._concat_blocks(pa_tables_to_concat_vertically, axis=0)\n",
      "/opt/anaconda3/envs/research/lib/python3.12/site-packages/datasets/table.py:1387: FutureWarning: promote has been superseded by promote_options='default'.\n",
      "  return cls._concat_blocks(pa_tables_to_concat_vertically, axis=0)\n",
      "/opt/anaconda3/envs/research/lib/python3.12/site-packages/datasets/table.py:1387: FutureWarning: promote has been superseded by promote_options='default'.\n",
      "  return cls._concat_blocks(pa_tables_to_concat_vertically, axis=0)\n",
      "/opt/anaconda3/envs/research/lib/python3.12/site-packages/datasets/table.py:1387: FutureWarning: promote has been superseded by promote_options='default'.\n",
      "  return cls._concat_blocks(pa_tables_to_concat_vertically, axis=0)\n",
      "/opt/anaconda3/envs/research/lib/python3.12/site-packages/datasets/table.py:1387: FutureWarning: promote has been superseded by promote_options='default'.\n",
      "  return cls._concat_blocks(pa_tables_to_concat_vertically, axis=0)\n"
     ]
    },
    {
     "name": "stdout",
     "output_type": "stream",
     "text": [
      "Was able to complete:  0.6666666666666666\n"
     ]
    },
    {
     "name": "stderr",
     "output_type": "stream",
     "text": [
      "Map (num_proc=5):   0%|          | 1/268 [00:00<01:52,  2.37 examples/s]"
     ]
    },
    {
     "name": "stdout",
     "output_type": "stream",
     "text": [
      "Was able to complete:  0.6666666666666666\n",
      "Was able to complete:  0.6666666666666666\n"
     ]
    },
    {
     "name": "stderr",
     "output_type": "stream",
     "text": [
      "Map (num_proc=5):   1%|          | 3/268 [00:00<00:44,  5.97 examples/s]"
     ]
    },
    {
     "name": "stdout",
     "output_type": "stream",
     "text": [
      "Was able to complete:  0.6666666666666666\n",
      "Was able to complete:  0.6666666666666666\n",
      "Was able to complete:  0.6666666666666666\n",
      "Was able to complete:  0.6666666666666666\n"
     ]
    },
    {
     "name": "stderr",
     "output_type": "stream",
     "text": [
      "Map (num_proc=5):   3%|▎         | 7/268 [00:00<00:22, 11.43 examples/s]"
     ]
    },
    {
     "name": "stdout",
     "output_type": "stream",
     "text": [
      "Was able to complete:  0.6666666666666666\n",
      "Was able to complete:  0.6666666666666666\n",
      "Was able to complete:  0.6666666666666666\n",
      "Was able to complete:  0.6666666666666666\n"
     ]
    },
    {
     "name": "stderr",
     "output_type": "stream",
     "text": [
      "Map (num_proc=5):   4%|▍         | 11/268 [00:00<00:16, 15.24 examples/s]"
     ]
    },
    {
     "name": "stdout",
     "output_type": "stream",
     "text": [
      "Was able to complete:  0.6666666666666666\n",
      "Was able to complete:  0.6666666666666666\n"
     ]
    },
    {
     "name": "stderr",
     "output_type": "stream",
     "text": [
      "Map (num_proc=5):   5%|▍         | 13/268 [00:01<00:17, 14.58 examples/s]"
     ]
    },
    {
     "name": "stdout",
     "output_type": "stream",
     "text": [
      "Was able to complete:  0.6666666666666666\n",
      "Was able to complete:  0.06060606060606061\n"
     ]
    },
    {
     "name": "stderr",
     "output_type": "stream",
     "text": [
      "Map (num_proc=5):   6%|▌         | 15/268 [00:01<00:17, 14.52 examples/s]"
     ]
    },
    {
     "name": "stdout",
     "output_type": "stream",
     "text": [
      "Was able to complete:  0.6666666666666666\n",
      "Was able to complete:  0.6666666666666666\n"
     ]
    },
    {
     "name": "stderr",
     "output_type": "stream",
     "text": [
      "Map (num_proc=5):   6%|▋         | 17/268 [00:01<00:17, 14.57 examples/s]"
     ]
    },
    {
     "name": "stdout",
     "output_type": "stream",
     "text": [
      "Was able to complete:  0.6666666666666666\n",
      "Was able to complete:  0.6666666666666666\n"
     ]
    },
    {
     "name": "stderr",
     "output_type": "stream",
     "text": [
      "Map (num_proc=5):   7%|▋         | 19/268 [00:01<00:15, 15.75 examples/s]"
     ]
    },
    {
     "name": "stdout",
     "output_type": "stream",
     "text": [
      "Was able to complete:  0.6666666666666666\n",
      "Was able to complete:  Was able to complete:  0.6666666666666666\n",
      "0.6666666666666666\n"
     ]
    },
    {
     "name": "stderr",
     "output_type": "stream",
     "text": [
      "Map (num_proc=5):   8%|▊         | 21/268 [00:01<00:18, 13.41 examples/s]"
     ]
    },
    {
     "name": "stdout",
     "output_type": "stream",
     "text": [
      "Was able to complete:  0.6666666666666666\n",
      "Was able to complete:  0.6666666666666666\n"
     ]
    },
    {
     "name": "stderr",
     "output_type": "stream",
     "text": [
      "Map (num_proc=5):   9%|▉         | 24/268 [00:01<00:15, 15.91 examples/s]"
     ]
    },
    {
     "name": "stdout",
     "output_type": "stream",
     "text": [
      "Was able to complete: Was able to complete:   0.33333333333333330.6666666666666666\n",
      "\n"
     ]
    },
    {
     "name": "stderr",
     "output_type": "stream",
     "text": [
      "Map (num_proc=5):  10%|▉         | 26/268 [00:02<00:21, 11.29 examples/s]"
     ]
    },
    {
     "name": "stdout",
     "output_type": "stream",
     "text": [
      "Was able to complete:  0.6666666666666666\n",
      "Was able to complete:  0.5\n"
     ]
    },
    {
     "name": "stderr",
     "output_type": "stream",
     "text": [
      "Map (num_proc=5):  10%|█         | 28/268 [00:02<00:22, 10.45 examples/s]"
     ]
    },
    {
     "name": "stdout",
     "output_type": "stream",
     "text": [
      "Was able to complete:  0.6666666666666666\n",
      "Was able to complete:  0.5\n"
     ]
    },
    {
     "name": "stderr",
     "output_type": "stream",
     "text": [
      "Map (num_proc=5):  11%|█         | 30/268 [00:02<00:23,  9.95 examples/s]"
     ]
    },
    {
     "name": "stdout",
     "output_type": "stream",
     "text": [
      "Was able to complete:  0.6666666666666666\n",
      "Was able to complete:  0.6666666666666666\n"
     ]
    },
    {
     "name": "stderr",
     "output_type": "stream",
     "text": [
      "Map (num_proc=5):  12%|█▏        | 32/268 [00:02<00:27,  8.72 examples/s]"
     ]
    },
    {
     "name": "stdout",
     "output_type": "stream",
     "text": [
      "Was able to complete:  0.6666666666666666\n",
      "Was able to complete:  0.6666666666666666\n",
      "Was able to complete:  0.6666666666666666\n"
     ]
    },
    {
     "name": "stderr",
     "output_type": "stream",
     "text": [
      "Map (num_proc=5):  13%|█▎        | 35/268 [00:03<00:21, 10.66 examples/s]"
     ]
    },
    {
     "name": "stdout",
     "output_type": "stream",
     "text": [
      "Was able to complete:  0.6666666666666666\n",
      "Was able to complete:  0.5\n"
     ]
    },
    {
     "name": "stderr",
     "output_type": "stream",
     "text": [
      "Map (num_proc=5):  14%|█▍        | 37/268 [00:03<00:30,  7.69 examples/s]"
     ]
    },
    {
     "name": "stdout",
     "output_type": "stream",
     "text": [
      "Was able to complete:  0.6666666666666666\n"
     ]
    },
    {
     "name": "stderr",
     "output_type": "stream",
     "text": [
      "Map (num_proc=5):  14%|█▍        | 38/268 [00:03<00:29,  7.91 examples/s]"
     ]
    },
    {
     "name": "stdout",
     "output_type": "stream",
     "text": [
      "Was able to complete:  0.6666666666666666\n",
      "Was able to complete:  0.6666666666666666\n"
     ]
    },
    {
     "name": "stderr",
     "output_type": "stream",
     "text": [
      "Map (num_proc=5):  15%|█▍        | 40/268 [00:03<00:26,  8.55 examples/s]"
     ]
    },
    {
     "name": "stdout",
     "output_type": "stream",
     "text": [
      "Was able to complete:  0.6666666666666666\n",
      "Was able to complete:  0.6666666666666666\n"
     ]
    },
    {
     "name": "stderr",
     "output_type": "stream",
     "text": [
      "Map (num_proc=5):  16%|█▌        | 42/268 [00:04<00:25,  8.87 examples/s]"
     ]
    },
    {
     "name": "stdout",
     "output_type": "stream",
     "text": [
      "Was able to complete:  0.6666666666666666\n",
      "Was able to complete:  0.2\n"
     ]
    },
    {
     "name": "stderr",
     "output_type": "stream",
     "text": [
      "Map (num_proc=5):  16%|█▋        | 44/268 [00:04<00:25,  8.78 examples/s]"
     ]
    },
    {
     "name": "stdout",
     "output_type": "stream",
     "text": [
      "Was able to complete:  0.6666666666666666\n"
     ]
    },
    {
     "name": "stderr",
     "output_type": "stream",
     "text": [
      "Map (num_proc=5):  17%|█▋        | 45/268 [00:04<00:27,  8.19 examples/s]"
     ]
    },
    {
     "name": "stdout",
     "output_type": "stream",
     "text": [
      "Was able to complete:  0.6666666666666666\n",
      "Was able to complete:  0.5\n"
     ]
    },
    {
     "name": "stderr",
     "output_type": "stream",
     "text": [
      "Map (num_proc=5):  18%|█▊        | 47/268 [00:04<00:26,  8.43 examples/s]"
     ]
    },
    {
     "name": "stdout",
     "output_type": "stream",
     "text": [
      "Was able to complete:  0.4\n",
      "Was able to complete:  0.4\n"
     ]
    },
    {
     "name": "stderr",
     "output_type": "stream",
     "text": [
      "Map (num_proc=5):  18%|█▊        | 49/268 [00:04<00:26,  8.35 examples/s]"
     ]
    },
    {
     "name": "stdout",
     "output_type": "stream",
     "text": [
      "Was able to complete:  0.4\n",
      "Was able to complete:  0.6666666666666666\n"
     ]
    },
    {
     "name": "stderr",
     "output_type": "stream",
     "text": [
      "Map (num_proc=5):  19%|█▉        | 51/268 [00:05<00:25,  8.37 examples/s]"
     ]
    },
    {
     "name": "stdout",
     "output_type": "stream",
     "text": [
      "Was able to complete:  0.6666666666666666\n",
      "Was able to complete: Was able to complete:   0.50.5\n",
      "\n"
     ]
    },
    {
     "name": "stderr",
     "output_type": "stream",
     "text": [
      "Map (num_proc=5):  20%|█▉        | 53/268 [00:05<00:27,  7.90 examples/s]"
     ]
    },
    {
     "name": "stdout",
     "output_type": "stream",
     "text": [
      "Was able to complete:  0.4\n",
      "Was able to complete:  0.6666666666666666\n",
      "Was able to complete:  0.6666666666666666\n"
     ]
    },
    {
     "name": "stderr",
     "output_type": "stream",
     "text": [
      "Map (num_proc=5):  21%|██▏       | 57/268 [00:05<00:23,  8.99 examples/s]"
     ]
    },
    {
     "name": "stdout",
     "output_type": "stream",
     "text": [
      "Was able to complete:  0.5\n"
     ]
    },
    {
     "name": "stderr",
     "output_type": "stream",
     "text": [
      "Map (num_proc=5):  22%|██▏       | 58/268 [00:06<00:27,  7.73 examples/s]"
     ]
    },
    {
     "name": "stdout",
     "output_type": "stream",
     "text": [
      "Was able to complete:  0.3333333333333333\n",
      "Was able to complete:  0.6666666666666666\n"
     ]
    },
    {
     "name": "stderr",
     "output_type": "stream",
     "text": [
      "Map (num_proc=5):  22%|██▏       | 60/268 [00:06<00:27,  7.45 examples/s]"
     ]
    },
    {
     "name": "stdout",
     "output_type": "stream",
     "text": [
      "Was able to complete:  0.6666666666666666\n",
      "Was able to complete:  0.3333333333333333\n"
     ]
    },
    {
     "name": "stderr",
     "output_type": "stream",
     "text": [
      "Map (num_proc=5):  23%|██▎       | 62/268 [00:06<00:31,  6.61 examples/s]"
     ]
    },
    {
     "name": "stdout",
     "output_type": "stream",
     "text": [
      "Was able to complete:  0.5\n"
     ]
    },
    {
     "name": "stderr",
     "output_type": "stream",
     "text": [
      "Map (num_proc=5):  24%|██▎       | 63/268 [00:06<00:32,  6.24 examples/s]"
     ]
    },
    {
     "name": "stdout",
     "output_type": "stream",
     "text": [
      "Was able to complete:  0.6666666666666666\n"
     ]
    },
    {
     "name": "stderr",
     "output_type": "stream",
     "text": [
      "Map (num_proc=5):  24%|██▍       | 64/268 [00:07<00:36,  5.65 examples/s]"
     ]
    },
    {
     "name": "stdout",
     "output_type": "stream",
     "text": [
      "Was able to complete:  0.5\n",
      "Was able to complete:  0.2857142857142857\n"
     ]
    },
    {
     "name": "stderr",
     "output_type": "stream",
     "text": [
      "Map (num_proc=5):  25%|██▍       | 66/268 [00:07<00:32,  6.25 examples/s]"
     ]
    },
    {
     "name": "stdout",
     "output_type": "stream",
     "text": [
      "Was able to complete:  0.6666666666666666\n"
     ]
    },
    {
     "name": "stderr",
     "output_type": "stream",
     "text": [
      "Map (num_proc=5):  25%|██▌       | 67/268 [00:08<00:51,  3.88 examples/s]"
     ]
    },
    {
     "name": "stdout",
     "output_type": "stream",
     "text": [
      "Was able to complete:  0.6666666666666666\n"
     ]
    },
    {
     "name": "stderr",
     "output_type": "stream",
     "text": [
      "Map (num_proc=5):  25%|██▌       | 68/268 [00:08<00:49,  4.03 examples/s]"
     ]
    },
    {
     "name": "stdout",
     "output_type": "stream",
     "text": [
      "Was able to complete:  0.5\n",
      "Was able to complete:  0.6666666666666666\n"
     ]
    },
    {
     "name": "stderr",
     "output_type": "stream",
     "text": [
      "Map (num_proc=5):  26%|██▌       | 70/268 [00:08<00:37,  5.28 examples/s]"
     ]
    },
    {
     "name": "stdout",
     "output_type": "stream",
     "text": [
      "Was able to complete:  0.6666666666666666\n",
      "Was able to complete:  0.2857142857142857\n"
     ]
    },
    {
     "name": "stderr",
     "output_type": "stream",
     "text": [
      "Map (num_proc=5):  27%|██▋       | 72/268 [00:08<00:32,  6.07 examples/s]"
     ]
    },
    {
     "name": "stdout",
     "output_type": "stream",
     "text": [
      "Was able to complete:  0.6666666666666666\n"
     ]
    },
    {
     "name": "stderr",
     "output_type": "stream",
     "text": [
      "Map (num_proc=5):  27%|██▋       | 73/268 [00:08<00:31,  6.27 examples/s]"
     ]
    },
    {
     "name": "stdout",
     "output_type": "stream",
     "text": [
      "Was able to complete:  0.6666666666666666\n"
     ]
    },
    {
     "name": "stderr",
     "output_type": "stream",
     "text": [
      "Map (num_proc=5):  28%|██▊       | 74/268 [00:09<00:32,  5.91 examples/s]"
     ]
    },
    {
     "name": "stdout",
     "output_type": "stream",
     "text": [
      "Was able to complete:  0.6666666666666666\n",
      "Was able to complete:  0.6666666666666666\n"
     ]
    },
    {
     "name": "stderr",
     "output_type": "stream",
     "text": [
      "Map (num_proc=5):  28%|██▊       | 76/268 [00:09<00:27,  7.01 examples/s]"
     ]
    },
    {
     "name": "stdout",
     "output_type": "stream",
     "text": [
      "Was able to complete:  0.6666666666666666\n",
      "Was able to complete:  0.6666666666666666\n"
     ]
    },
    {
     "name": "stderr",
     "output_type": "stream",
     "text": [
      "Map (num_proc=5):  29%|██▉       | 78/268 [00:09<00:24,  7.78 examples/s]"
     ]
    },
    {
     "name": "stdout",
     "output_type": "stream",
     "text": [
      "Was able to complete:  0.5\n",
      "Was able to complete:  0.6666666666666666\n"
     ]
    },
    {
     "name": "stderr",
     "output_type": "stream",
     "text": [
      "Map (num_proc=5):  30%|██▉       | 80/268 [00:09<00:22,  8.49 examples/s]"
     ]
    },
    {
     "name": "stdout",
     "output_type": "stream",
     "text": [
      "Was able to complete:  0.6666666666666666\n"
     ]
    },
    {
     "name": "stderr",
     "output_type": "stream",
     "text": [
      "Map (num_proc=5):  30%|███       | 81/268 [00:09<00:24,  7.78 examples/s]"
     ]
    },
    {
     "name": "stdout",
     "output_type": "stream",
     "text": [
      "Was able to complete:  0.5\n",
      "Was able to complete:  0.6666666666666666\n"
     ]
    },
    {
     "name": "stderr",
     "output_type": "stream",
     "text": [
      "Map (num_proc=5):  31%|███       | 83/268 [00:09<00:19,  9.70 examples/s]"
     ]
    },
    {
     "name": "stdout",
     "output_type": "stream",
     "text": [
      "Was able to complete:  0.6666666666666666\n",
      "Was able to complete:  0.6666666666666666\n"
     ]
    },
    {
     "name": "stderr",
     "output_type": "stream",
     "text": [
      "Map (num_proc=5):  32%|███▏      | 85/268 [00:10<00:19,  9.49 examples/s]"
     ]
    },
    {
     "name": "stdout",
     "output_type": "stream",
     "text": [
      "Was able to complete:  0.6666666666666666\n",
      "Was able to complete:  0.4\n",
      "Was able to complete:  0.5\n"
     ]
    },
    {
     "name": "stderr",
     "output_type": "stream",
     "text": [
      "Map (num_proc=5):  33%|███▎      | 88/268 [00:10<00:16, 11.03 examples/s]"
     ]
    },
    {
     "name": "stdout",
     "output_type": "stream",
     "text": [
      "Was able to complete:  0.6666666666666666\n",
      "Was able to complete:  0.6666666666666666\n"
     ]
    },
    {
     "name": "stderr",
     "output_type": "stream",
     "text": [
      "Map (num_proc=5):  34%|███▎      | 90/268 [00:10<00:18,  9.40 examples/s]"
     ]
    },
    {
     "name": "stdout",
     "output_type": "stream",
     "text": [
      "Was able to complete:  0.6666666666666666\n",
      "Was able to complete:  0.5\n"
     ]
    },
    {
     "name": "stderr",
     "output_type": "stream",
     "text": [
      "Map (num_proc=5):  34%|███▍      | 92/268 [00:11<00:22,  7.78 examples/s]"
     ]
    },
    {
     "name": "stdout",
     "output_type": "stream",
     "text": [
      "Was able to complete:  0.6666666666666666\n",
      "Was able to complete:  0.6666666666666666\n"
     ]
    },
    {
     "name": "stderr",
     "output_type": "stream",
     "text": [
      "Map (num_proc=5):  35%|███▌      | 94/268 [00:11<00:20,  8.40 examples/s]"
     ]
    },
    {
     "name": "stdout",
     "output_type": "stream",
     "text": [
      "Was able to complete:  0.6666666666666666\n",
      "Was able to complete:  0.6666666666666666\n"
     ]
    },
    {
     "name": "stderr",
     "output_type": "stream",
     "text": [
      "Map (num_proc=5):  36%|███▌      | 96/268 [00:11<00:17,  9.97 examples/s]"
     ]
    },
    {
     "name": "stdout",
     "output_type": "stream",
     "text": [
      "Was able to complete:  0.6666666666666666\n",
      "Was able to complete:  0.6666666666666666\n"
     ]
    },
    {
     "name": "stderr",
     "output_type": "stream",
     "text": [
      "Map (num_proc=5):  37%|███▋      | 98/268 [00:11<00:15, 10.96 examples/s]"
     ]
    },
    {
     "name": "stdout",
     "output_type": "stream",
     "text": [
      "Was able to complete:  0.6666666666666666\n",
      "Was able to complete:  0.4\n"
     ]
    },
    {
     "name": "stderr",
     "output_type": "stream",
     "text": [
      "Map (num_proc=5):  37%|███▋      | 100/268 [00:11<00:19,  8.63 examples/s]"
     ]
    },
    {
     "name": "stdout",
     "output_type": "stream",
     "text": [
      "Was able to complete:  0.6666666666666666\n",
      "Was able to complete:  0.6666666666666666\n"
     ]
    },
    {
     "name": "stderr",
     "output_type": "stream",
     "text": [
      "Map (num_proc=5):  38%|███▊      | 102/268 [00:12<00:18,  9.16 examples/s]"
     ]
    },
    {
     "name": "stdout",
     "output_type": "stream",
     "text": [
      "Was able to complete:  0.5\n",
      "Was able to complete:  0.6666666666666666\n"
     ]
    },
    {
     "name": "stderr",
     "output_type": "stream",
     "text": [
      "Map (num_proc=5):  39%|███▉      | 104/268 [00:12<00:15, 10.44 examples/s]"
     ]
    },
    {
     "name": "stdout",
     "output_type": "stream",
     "text": [
      "Was able to complete:  0.6666666666666666\n",
      "Was able to complete:  0.6666666666666666\n"
     ]
    },
    {
     "name": "stderr",
     "output_type": "stream",
     "text": [
      "Map (num_proc=5):  40%|███▉      | 106/268 [00:12<00:15, 10.33 examples/s]"
     ]
    },
    {
     "name": "stdout",
     "output_type": "stream",
     "text": [
      "Was able to complete:  0.6666666666666666\n",
      "Was able to complete:  0.6666666666666666\n",
      "Was able to complete:  0.6666666666666666\n",
      "Was able to complete:  0.6666666666666666\n"
     ]
    },
    {
     "name": "stderr",
     "output_type": "stream",
     "text": [
      "Map (num_proc=5):  41%|████      | 110/268 [00:12<00:11, 13.23 examples/s]"
     ]
    },
    {
     "name": "stdout",
     "output_type": "stream",
     "text": [
      "Was able to complete:  0.6666666666666666\n",
      "Was able to complete:  0.6666666666666666\n",
      "Was able to complete:  0.6666666666666666\n"
     ]
    },
    {
     "name": "stderr",
     "output_type": "stream",
     "text": [
      "Map (num_proc=5):  42%|████▏     | 113/268 [00:12<00:09, 15.77 examples/s]"
     ]
    },
    {
     "name": "stdout",
     "output_type": "stream",
     "text": [
      "Was able to complete:  0.5\n",
      "Was able to complete:  0.6666666666666666\n"
     ]
    },
    {
     "name": "stderr",
     "output_type": "stream",
     "text": [
      "Map (num_proc=5):  43%|████▎     | 115/268 [00:12<00:10, 14.97 examples/s]"
     ]
    },
    {
     "name": "stdout",
     "output_type": "stream",
     "text": [
      "Was able to complete:  0.6666666666666666\n",
      "Was able to complete:  0.6666666666666666\n"
     ]
    },
    {
     "name": "stderr",
     "output_type": "stream",
     "text": [
      "Map (num_proc=5):  44%|████▎     | 117/268 [00:13<00:11, 12.99 examples/s]"
     ]
    },
    {
     "name": "stdout",
     "output_type": "stream",
     "text": [
      "Was able to complete:  0.6666666666666666\n",
      "Was able to complete:  0.5\n"
     ]
    },
    {
     "name": "stderr",
     "output_type": "stream",
     "text": [
      "Map (num_proc=5):  44%|████▍     | 119/268 [00:13<00:12, 12.32 examples/s]"
     ]
    },
    {
     "name": "stdout",
     "output_type": "stream",
     "text": [
      "Was able to complete:  0.5\n",
      "Was able to complete:  0.6666666666666666\n"
     ]
    },
    {
     "name": "stderr",
     "output_type": "stream",
     "text": [
      "Map (num_proc=5):  45%|████▌     | 121/268 [00:13<00:13, 11.27 examples/s]"
     ]
    },
    {
     "name": "stdout",
     "output_type": "stream",
     "text": [
      "Was able to complete:  0.6666666666666666\n",
      "Was able to complete:  0.6666666666666666\n"
     ]
    },
    {
     "name": "stderr",
     "output_type": "stream",
     "text": [
      "Map (num_proc=5):  46%|████▌     | 123/268 [00:13<00:11, 12.28 examples/s]"
     ]
    },
    {
     "name": "stdout",
     "output_type": "stream",
     "text": [
      "Was able to complete:  0.6666666666666666\n",
      "Was able to complete:  0.6666666666666666\n"
     ]
    },
    {
     "name": "stderr",
     "output_type": "stream",
     "text": [
      "Map (num_proc=5):  47%|████▋     | 125/268 [00:13<00:12, 11.43 examples/s]"
     ]
    },
    {
     "name": "stdout",
     "output_type": "stream",
     "text": [
      "Was able to complete:  0.6666666666666666\n",
      "Was able to complete:  0.18181818181818182\n",
      "Was able to complete:  0.6666666666666666\n"
     ]
    },
    {
     "name": "stderr",
     "output_type": "stream",
     "text": [
      "Map (num_proc=5):  48%|████▊     | 128/268 [00:13<00:11, 11.96 examples/s]"
     ]
    },
    {
     "name": "stdout",
     "output_type": "stream",
     "text": [
      "Was able to complete:  0.6666666666666666\n",
      "Was able to complete:  0.6666666666666666\n"
     ]
    },
    {
     "name": "stderr",
     "output_type": "stream",
     "text": [
      "Map (num_proc=5):  49%|████▊     | 130/268 [00:14<00:16,  8.32 examples/s]"
     ]
    },
    {
     "name": "stdout",
     "output_type": "stream",
     "text": [
      "Was able to complete:  0.6666666666666666\n",
      "Was able to complete:  0.6666666666666666\n"
     ]
    },
    {
     "name": "stderr",
     "output_type": "stream",
     "text": [
      "Map (num_proc=5):  49%|████▉     | 132/268 [00:14<00:16,  8.39 examples/s]"
     ]
    },
    {
     "name": "stdout",
     "output_type": "stream",
     "text": [
      "Was able to complete:  0.6666666666666666\n"
     ]
    },
    {
     "name": "stderr",
     "output_type": "stream",
     "text": [
      "Map (num_proc=5):  50%|████▉     | 133/268 [00:14<00:15,  8.49 examples/s]"
     ]
    },
    {
     "name": "stdout",
     "output_type": "stream",
     "text": [
      "Was able to complete:  0.5\n",
      "Was able to complete:  0.6666666666666666\n"
     ]
    },
    {
     "name": "stderr",
     "output_type": "stream",
     "text": [
      "Map (num_proc=5):  50%|█████     | 135/268 [00:14<00:14,  9.20 examples/s]"
     ]
    },
    {
     "name": "stdout",
     "output_type": "stream",
     "text": [
      "Was able to complete:  0.4\n",
      "Was able to complete:  0.6666666666666666\n",
      "Was able to complete:  0.6666666666666666\n"
     ]
    },
    {
     "name": "stderr",
     "output_type": "stream",
     "text": [
      "Map (num_proc=5):  51%|█████▏    | 138/268 [00:15<00:11, 11.75 examples/s]"
     ]
    },
    {
     "name": "stdout",
     "output_type": "stream",
     "text": [
      "Was able to complete:  0.5\n",
      "Was able to complete:  0.6666666666666666\n",
      "Was able to complete:  0.2857142857142857\n"
     ]
    },
    {
     "name": "stderr",
     "output_type": "stream",
     "text": [
      "Map (num_proc=5):  53%|█████▎    | 141/268 [00:15<00:09, 12.89 examples/s]"
     ]
    },
    {
     "name": "stdout",
     "output_type": "stream",
     "text": [
      "Was able to complete:  0.2857142857142857\n",
      "Was able to complete:  0.6666666666666666\n"
     ]
    },
    {
     "name": "stderr",
     "output_type": "stream",
     "text": [
      "Map (num_proc=5):  53%|█████▎    | 143/268 [00:15<00:08, 14.11 examples/s]"
     ]
    },
    {
     "name": "stdout",
     "output_type": "stream",
     "text": [
      "Was able to complete:  0.6666666666666666\n",
      "Was able to complete:  0.6666666666666666\n"
     ]
    },
    {
     "name": "stderr",
     "output_type": "stream",
     "text": [
      "Map (num_proc=5):  54%|█████▍    | 145/268 [00:15<00:10, 12.03 examples/s]"
     ]
    },
    {
     "name": "stdout",
     "output_type": "stream",
     "text": [
      "Was able to complete: Was able to complete:   0.66666666666666660.6666666666666666\n",
      "\n"
     ]
    },
    {
     "name": "stderr",
     "output_type": "stream",
     "text": [
      "Map (num_proc=5):  55%|█████▍    | 147/268 [00:15<00:10, 11.65 examples/s]"
     ]
    },
    {
     "name": "stdout",
     "output_type": "stream",
     "text": [
      "Was able to complete:  0.6666666666666666\n",
      "Was able to complete:  0.6666666666666666\n"
     ]
    },
    {
     "name": "stderr",
     "output_type": "stream",
     "text": [
      "Map (num_proc=5):  56%|█████▌    | 149/268 [00:16<00:14,  8.35 examples/s]"
     ]
    },
    {
     "name": "stdout",
     "output_type": "stream",
     "text": [
      "Was able to complete:  0.6666666666666666\n",
      "Was able to complete:  0.6666666666666666\n"
     ]
    },
    {
     "name": "stderr",
     "output_type": "stream",
     "text": [
      "Map (num_proc=5):  56%|█████▋    | 151/268 [00:16<00:12,  9.55 examples/s]"
     ]
    },
    {
     "name": "stdout",
     "output_type": "stream",
     "text": [
      "Was able to complete:  0.6666666666666666\n",
      "Was able to complete:  0.6666666666666666\n"
     ]
    },
    {
     "name": "stderr",
     "output_type": "stream",
     "text": [
      "Map (num_proc=5):  57%|█████▋    | 153/268 [00:16<00:10, 11.13 examples/s]"
     ]
    },
    {
     "name": "stdout",
     "output_type": "stream",
     "text": [
      "Was able to complete:  0.5\n",
      "Was able to complete:  0.6666666666666666\n"
     ]
    },
    {
     "name": "stderr",
     "output_type": "stream",
     "text": [
      "Map (num_proc=5):  58%|█████▊    | 155/268 [00:16<00:09, 11.37 examples/s]"
     ]
    },
    {
     "name": "stdout",
     "output_type": "stream",
     "text": [
      "Was able to complete:  0.6666666666666666\n",
      "Was able to complete:  0.5\n"
     ]
    },
    {
     "name": "stderr",
     "output_type": "stream",
     "text": [
      "Map (num_proc=5):  59%|█████▊    | 157/268 [00:16<00:10, 10.53 examples/s]"
     ]
    },
    {
     "name": "stdout",
     "output_type": "stream",
     "text": [
      "Was able to complete:  0.6666666666666666\n",
      "Was able to complete:  0.6666666666666666\n"
     ]
    },
    {
     "name": "stderr",
     "output_type": "stream",
     "text": [
      "Map (num_proc=5):  59%|█████▉    | 159/268 [00:17<00:12,  8.47 examples/s]"
     ]
    },
    {
     "name": "stdout",
     "output_type": "stream",
     "text": [
      "Was able to complete:  0.6666666666666666\n",
      "Was able to complete:  0.6666666666666666\n"
     ]
    },
    {
     "name": "stderr",
     "output_type": "stream",
     "text": [
      "Map (num_proc=5):  60%|██████    | 161/268 [00:17<00:12,  8.76 examples/s]"
     ]
    },
    {
     "name": "stdout",
     "output_type": "stream",
     "text": [
      "Was able to complete: Was able to complete:   0.66666666666666660.5\n",
      "\n"
     ]
    },
    {
     "name": "stderr",
     "output_type": "stream",
     "text": [
      "Map (num_proc=5):  60%|██████    | 162/268 [00:17<00:12,  8.46 examples/s]"
     ]
    },
    {
     "name": "stdout",
     "output_type": "stream",
     "text": [
      "Was able to complete:  0.6666666666666666\n"
     ]
    },
    {
     "name": "stderr",
     "output_type": "stream",
     "text": [
      "Map (num_proc=5):  61%|██████    | 164/268 [00:17<00:10,  9.91 examples/s]"
     ]
    },
    {
     "name": "stdout",
     "output_type": "stream",
     "text": [
      "Was able to complete:  0.6666666666666666\n",
      "Was able to complete:  0.6666666666666666\n"
     ]
    },
    {
     "name": "stderr",
     "output_type": "stream",
     "text": [
      "Map (num_proc=5):  62%|██████▏   | 166/268 [00:17<00:11,  8.77 examples/s]"
     ]
    },
    {
     "name": "stdout",
     "output_type": "stream",
     "text": [
      "Was able to complete:  0.18181818181818182\n",
      "Was able to complete:  0.5\n"
     ]
    },
    {
     "name": "stderr",
     "output_type": "stream",
     "text": [
      "Map (num_proc=5):  63%|██████▎   | 168/268 [00:18<00:11,  8.47 examples/s]"
     ]
    },
    {
     "name": "stdout",
     "output_type": "stream",
     "text": [
      "Was able to complete:  0.4\n",
      "Was able to complete:  0.6666666666666666\n"
     ]
    },
    {
     "name": "stderr",
     "output_type": "stream",
     "text": [
      "Map (num_proc=5):  63%|██████▎   | 170/268 [00:18<00:11,  8.39 examples/s]"
     ]
    },
    {
     "name": "stdout",
     "output_type": "stream",
     "text": [
      "Was able to complete:  0.6666666666666666\n"
     ]
    },
    {
     "name": "stderr",
     "output_type": "stream",
     "text": [
      "Map (num_proc=5):  63%|██████▎   | 170/268 [00:18<00:10,  9.06 examples/s]\n"
     ]
    },
    {
     "ename": "TimeoutError",
     "evalue": "",
     "output_type": "error",
     "traceback": [
      "\u001b[0;31m---------------------------------------------------------------------------\u001b[0m",
      "\u001b[0;31mKeyboardInterrupt\u001b[0m                         Traceback (most recent call last)",
      "File \u001b[0;32m/opt/anaconda3/envs/research/lib/python3.12/site-packages/datasets/utils/py_utils.py:1380\u001b[0m, in \u001b[0;36miflatmap_unordered\u001b[0;34m(pool, func, kwargs_iterable)\u001b[0m\n\u001b[1;32m   1379\u001b[0m \u001b[38;5;28;01mtry\u001b[39;00m:\n\u001b[0;32m-> 1380\u001b[0m     \u001b[38;5;28;01myield\u001b[39;00m \u001b[43mqueue\u001b[49m\u001b[38;5;241;43m.\u001b[39;49m\u001b[43mget\u001b[49m\u001b[43m(\u001b[49m\u001b[43mtimeout\u001b[49m\u001b[38;5;241;43m=\u001b[39;49m\u001b[38;5;241;43m0.05\u001b[39;49m\u001b[43m)\u001b[49m\n\u001b[1;32m   1381\u001b[0m \u001b[38;5;28;01mexcept\u001b[39;00m Empty:\n",
      "File \u001b[0;32m<string>:2\u001b[0m, in \u001b[0;36mget\u001b[0;34m(self, *args, **kwds)\u001b[0m\n",
      "File \u001b[0;32m/opt/anaconda3/envs/research/lib/python3.12/site-packages/multiprocess/managers.py:822\u001b[0m, in \u001b[0;36mBaseProxy._callmethod\u001b[0;34m(self, methodname, args, kwds)\u001b[0m\n\u001b[1;32m    821\u001b[0m conn\u001b[38;5;241m.\u001b[39msend((\u001b[38;5;28mself\u001b[39m\u001b[38;5;241m.\u001b[39m_id, methodname, args, kwds))\n\u001b[0;32m--> 822\u001b[0m kind, result \u001b[38;5;241m=\u001b[39m \u001b[43mconn\u001b[49m\u001b[38;5;241;43m.\u001b[39;49m\u001b[43mrecv\u001b[49m\u001b[43m(\u001b[49m\u001b[43m)\u001b[49m\n\u001b[1;32m    824\u001b[0m \u001b[38;5;28;01mif\u001b[39;00m kind \u001b[38;5;241m==\u001b[39m \u001b[38;5;124m'\u001b[39m\u001b[38;5;124m#RETURN\u001b[39m\u001b[38;5;124m'\u001b[39m:\n",
      "File \u001b[0;32m/opt/anaconda3/envs/research/lib/python3.12/site-packages/multiprocess/connection.py:252\u001b[0m, in \u001b[0;36m_ConnectionBase.recv\u001b[0;34m(self)\u001b[0m\n\u001b[1;32m    251\u001b[0m \u001b[38;5;28mself\u001b[39m\u001b[38;5;241m.\u001b[39m_check_readable()\n\u001b[0;32m--> 252\u001b[0m buf \u001b[38;5;241m=\u001b[39m \u001b[38;5;28;43mself\u001b[39;49m\u001b[38;5;241;43m.\u001b[39;49m\u001b[43m_recv_bytes\u001b[49m\u001b[43m(\u001b[49m\u001b[43m)\u001b[49m\n\u001b[1;32m    253\u001b[0m \u001b[38;5;28;01mreturn\u001b[39;00m _ForkingPickler\u001b[38;5;241m.\u001b[39mloads(buf\u001b[38;5;241m.\u001b[39mgetbuffer())\n",
      "File \u001b[0;32m/opt/anaconda3/envs/research/lib/python3.12/site-packages/multiprocess/connection.py:416\u001b[0m, in \u001b[0;36mConnection._recv_bytes\u001b[0;34m(self, maxsize)\u001b[0m\n\u001b[1;32m    415\u001b[0m \u001b[38;5;28;01mdef\u001b[39;00m \u001b[38;5;21m_recv_bytes\u001b[39m(\u001b[38;5;28mself\u001b[39m, maxsize\u001b[38;5;241m=\u001b[39m\u001b[38;5;28;01mNone\u001b[39;00m):\n\u001b[0;32m--> 416\u001b[0m     buf \u001b[38;5;241m=\u001b[39m \u001b[38;5;28;43mself\u001b[39;49m\u001b[38;5;241;43m.\u001b[39;49m\u001b[43m_recv\u001b[49m\u001b[43m(\u001b[49m\u001b[38;5;241;43m4\u001b[39;49m\u001b[43m)\u001b[49m\n\u001b[1;32m    417\u001b[0m     size, \u001b[38;5;241m=\u001b[39m struct\u001b[38;5;241m.\u001b[39munpack(\u001b[38;5;124m\"\u001b[39m\u001b[38;5;124m!i\u001b[39m\u001b[38;5;124m\"\u001b[39m, buf\u001b[38;5;241m.\u001b[39mgetvalue())\n",
      "File \u001b[0;32m/opt/anaconda3/envs/research/lib/python3.12/site-packages/multiprocess/connection.py:381\u001b[0m, in \u001b[0;36mConnection._recv\u001b[0;34m(self, size, read)\u001b[0m\n\u001b[1;32m    380\u001b[0m \u001b[38;5;28;01mwhile\u001b[39;00m remaining \u001b[38;5;241m>\u001b[39m \u001b[38;5;241m0\u001b[39m:\n\u001b[0;32m--> 381\u001b[0m     chunk \u001b[38;5;241m=\u001b[39m \u001b[43mread\u001b[49m\u001b[43m(\u001b[49m\u001b[43mhandle\u001b[49m\u001b[43m,\u001b[49m\u001b[43m \u001b[49m\u001b[43mremaining\u001b[49m\u001b[43m)\u001b[49m\n\u001b[1;32m    382\u001b[0m     n \u001b[38;5;241m=\u001b[39m \u001b[38;5;28mlen\u001b[39m(chunk)\n",
      "\u001b[0;31mKeyboardInterrupt\u001b[0m: ",
      "\nDuring handling of the above exception, another exception occurred:\n",
      "\u001b[0;31mTimeoutError\u001b[0m                              Traceback (most recent call last)",
      "Cell \u001b[0;32mIn[39], line 1\u001b[0m\n\u001b[0;32m----> 1\u001b[0m ds \u001b[38;5;241m=\u001b[39m \u001b[43mds\u001b[49m\u001b[38;5;241;43m.\u001b[39;49m\u001b[43mmap\u001b[49m\u001b[43m(\u001b[49m\u001b[43mprocess\u001b[49m\u001b[43m,\u001b[49m\u001b[43m \u001b[49m\u001b[43mnum_proc\u001b[49m\u001b[38;5;241;43m=\u001b[39;49m\u001b[38;5;241;43m5\u001b[39;49m\u001b[43m)\u001b[49m\n",
      "File \u001b[0;32m/opt/anaconda3/envs/research/lib/python3.12/site-packages/datasets/arrow_dataset.py:592\u001b[0m, in \u001b[0;36mtransmit_tasks.<locals>.wrapper\u001b[0;34m(*args, **kwargs)\u001b[0m\n\u001b[1;32m    590\u001b[0m     \u001b[38;5;28mself\u001b[39m: \u001b[38;5;124m\"\u001b[39m\u001b[38;5;124mDataset\u001b[39m\u001b[38;5;124m\"\u001b[39m \u001b[38;5;241m=\u001b[39m kwargs\u001b[38;5;241m.\u001b[39mpop(\u001b[38;5;124m\"\u001b[39m\u001b[38;5;124mself\u001b[39m\u001b[38;5;124m\"\u001b[39m)\n\u001b[1;32m    591\u001b[0m \u001b[38;5;66;03m# apply actual function\u001b[39;00m\n\u001b[0;32m--> 592\u001b[0m out: Union[\u001b[38;5;124m\"\u001b[39m\u001b[38;5;124mDataset\u001b[39m\u001b[38;5;124m\"\u001b[39m, \u001b[38;5;124m\"\u001b[39m\u001b[38;5;124mDatasetDict\u001b[39m\u001b[38;5;124m\"\u001b[39m] \u001b[38;5;241m=\u001b[39m \u001b[43mfunc\u001b[49m\u001b[43m(\u001b[49m\u001b[38;5;28;43mself\u001b[39;49m\u001b[43m,\u001b[49m\u001b[43m \u001b[49m\u001b[38;5;241;43m*\u001b[39;49m\u001b[43margs\u001b[49m\u001b[43m,\u001b[49m\u001b[43m \u001b[49m\u001b[38;5;241;43m*\u001b[39;49m\u001b[38;5;241;43m*\u001b[39;49m\u001b[43mkwargs\u001b[49m\u001b[43m)\u001b[49m\n\u001b[1;32m    593\u001b[0m datasets: List[\u001b[38;5;124m\"\u001b[39m\u001b[38;5;124mDataset\u001b[39m\u001b[38;5;124m\"\u001b[39m] \u001b[38;5;241m=\u001b[39m \u001b[38;5;28mlist\u001b[39m(out\u001b[38;5;241m.\u001b[39mvalues()) \u001b[38;5;28;01mif\u001b[39;00m \u001b[38;5;28misinstance\u001b[39m(out, \u001b[38;5;28mdict\u001b[39m) \u001b[38;5;28;01melse\u001b[39;00m [out]\n\u001b[1;32m    594\u001b[0m \u001b[38;5;28;01mfor\u001b[39;00m dataset \u001b[38;5;129;01min\u001b[39;00m datasets:\n\u001b[1;32m    595\u001b[0m     \u001b[38;5;66;03m# Remove task templates if a column mapping of the template is no longer valid\u001b[39;00m\n",
      "File \u001b[0;32m/opt/anaconda3/envs/research/lib/python3.12/site-packages/datasets/arrow_dataset.py:557\u001b[0m, in \u001b[0;36mtransmit_format.<locals>.wrapper\u001b[0;34m(*args, **kwargs)\u001b[0m\n\u001b[1;32m    550\u001b[0m self_format \u001b[38;5;241m=\u001b[39m {\n\u001b[1;32m    551\u001b[0m     \u001b[38;5;124m\"\u001b[39m\u001b[38;5;124mtype\u001b[39m\u001b[38;5;124m\"\u001b[39m: \u001b[38;5;28mself\u001b[39m\u001b[38;5;241m.\u001b[39m_format_type,\n\u001b[1;32m    552\u001b[0m     \u001b[38;5;124m\"\u001b[39m\u001b[38;5;124mformat_kwargs\u001b[39m\u001b[38;5;124m\"\u001b[39m: \u001b[38;5;28mself\u001b[39m\u001b[38;5;241m.\u001b[39m_format_kwargs,\n\u001b[1;32m    553\u001b[0m     \u001b[38;5;124m\"\u001b[39m\u001b[38;5;124mcolumns\u001b[39m\u001b[38;5;124m\"\u001b[39m: \u001b[38;5;28mself\u001b[39m\u001b[38;5;241m.\u001b[39m_format_columns,\n\u001b[1;32m    554\u001b[0m     \u001b[38;5;124m\"\u001b[39m\u001b[38;5;124moutput_all_columns\u001b[39m\u001b[38;5;124m\"\u001b[39m: \u001b[38;5;28mself\u001b[39m\u001b[38;5;241m.\u001b[39m_output_all_columns,\n\u001b[1;32m    555\u001b[0m }\n\u001b[1;32m    556\u001b[0m \u001b[38;5;66;03m# apply actual function\u001b[39;00m\n\u001b[0;32m--> 557\u001b[0m out: Union[\u001b[38;5;124m\"\u001b[39m\u001b[38;5;124mDataset\u001b[39m\u001b[38;5;124m\"\u001b[39m, \u001b[38;5;124m\"\u001b[39m\u001b[38;5;124mDatasetDict\u001b[39m\u001b[38;5;124m\"\u001b[39m] \u001b[38;5;241m=\u001b[39m \u001b[43mfunc\u001b[49m\u001b[43m(\u001b[49m\u001b[38;5;28;43mself\u001b[39;49m\u001b[43m,\u001b[49m\u001b[43m \u001b[49m\u001b[38;5;241;43m*\u001b[39;49m\u001b[43margs\u001b[49m\u001b[43m,\u001b[49m\u001b[43m \u001b[49m\u001b[38;5;241;43m*\u001b[39;49m\u001b[38;5;241;43m*\u001b[39;49m\u001b[43mkwargs\u001b[49m\u001b[43m)\u001b[49m\n\u001b[1;32m    558\u001b[0m datasets: List[\u001b[38;5;124m\"\u001b[39m\u001b[38;5;124mDataset\u001b[39m\u001b[38;5;124m\"\u001b[39m] \u001b[38;5;241m=\u001b[39m \u001b[38;5;28mlist\u001b[39m(out\u001b[38;5;241m.\u001b[39mvalues()) \u001b[38;5;28;01mif\u001b[39;00m \u001b[38;5;28misinstance\u001b[39m(out, \u001b[38;5;28mdict\u001b[39m) \u001b[38;5;28;01melse\u001b[39;00m [out]\n\u001b[1;32m    559\u001b[0m \u001b[38;5;66;03m# re-apply format to the output\u001b[39;00m\n",
      "File \u001b[0;32m/opt/anaconda3/envs/research/lib/python3.12/site-packages/datasets/arrow_dataset.py:3189\u001b[0m, in \u001b[0;36mDataset.map\u001b[0;34m(self, function, with_indices, with_rank, input_columns, batched, batch_size, drop_last_batch, remove_columns, keep_in_memory, load_from_cache_file, cache_file_name, writer_batch_size, features, disable_nullable, fn_kwargs, num_proc, suffix_template, new_fingerprint, desc)\u001b[0m\n\u001b[1;32m   3182\u001b[0m logger\u001b[38;5;241m.\u001b[39minfo(\u001b[38;5;124mf\u001b[39m\u001b[38;5;124m\"\u001b[39m\u001b[38;5;124mSpawning \u001b[39m\u001b[38;5;132;01m{\u001b[39;00mnum_proc\u001b[38;5;132;01m}\u001b[39;00m\u001b[38;5;124m processes\u001b[39m\u001b[38;5;124m\"\u001b[39m)\n\u001b[1;32m   3183\u001b[0m \u001b[38;5;28;01mwith\u001b[39;00m logging\u001b[38;5;241m.\u001b[39mtqdm(\n\u001b[1;32m   3184\u001b[0m     disable\u001b[38;5;241m=\u001b[39m\u001b[38;5;129;01mnot\u001b[39;00m logging\u001b[38;5;241m.\u001b[39mis_progress_bar_enabled(),\n\u001b[1;32m   3185\u001b[0m     unit\u001b[38;5;241m=\u001b[39m\u001b[38;5;124m\"\u001b[39m\u001b[38;5;124m examples\u001b[39m\u001b[38;5;124m\"\u001b[39m,\n\u001b[1;32m   3186\u001b[0m     total\u001b[38;5;241m=\u001b[39mpbar_total,\n\u001b[1;32m   3187\u001b[0m     desc\u001b[38;5;241m=\u001b[39m(desc \u001b[38;5;129;01mor\u001b[39;00m \u001b[38;5;124m\"\u001b[39m\u001b[38;5;124mMap\u001b[39m\u001b[38;5;124m\"\u001b[39m) \u001b[38;5;241m+\u001b[39m \u001b[38;5;124mf\u001b[39m\u001b[38;5;124m\"\u001b[39m\u001b[38;5;124m (num_proc=\u001b[39m\u001b[38;5;132;01m{\u001b[39;00mnum_proc\u001b[38;5;132;01m}\u001b[39;00m\u001b[38;5;124m)\u001b[39m\u001b[38;5;124m\"\u001b[39m,\n\u001b[1;32m   3188\u001b[0m ) \u001b[38;5;28;01mas\u001b[39;00m pbar:\n\u001b[0;32m-> 3189\u001b[0m \u001b[43m    \u001b[49m\u001b[38;5;28;43;01mfor\u001b[39;49;00m\u001b[43m \u001b[49m\u001b[43mrank\u001b[49m\u001b[43m,\u001b[49m\u001b[43m \u001b[49m\u001b[43mdone\u001b[49m\u001b[43m,\u001b[49m\u001b[43m \u001b[49m\u001b[43mcontent\u001b[49m\u001b[43m \u001b[49m\u001b[38;5;129;43;01min\u001b[39;49;00m\u001b[43m \u001b[49m\u001b[43miflatmap_unordered\u001b[49m\u001b[43m(\u001b[49m\n\u001b[1;32m   3190\u001b[0m \u001b[43m        \u001b[49m\u001b[43mpool\u001b[49m\u001b[43m,\u001b[49m\u001b[43m \u001b[49m\u001b[43mDataset\u001b[49m\u001b[38;5;241;43m.\u001b[39;49m\u001b[43m_map_single\u001b[49m\u001b[43m,\u001b[49m\u001b[43m \u001b[49m\u001b[43mkwargs_iterable\u001b[49m\u001b[38;5;241;43m=\u001b[39;49m\u001b[43mkwargs_per_job\u001b[49m\n\u001b[1;32m   3191\u001b[0m \u001b[43m    \u001b[49m\u001b[43m)\u001b[49m\u001b[43m:\u001b[49m\n\u001b[1;32m   3192\u001b[0m \u001b[43m        \u001b[49m\u001b[38;5;28;43;01mif\u001b[39;49;00m\u001b[43m \u001b[49m\u001b[43mdone\u001b[49m\u001b[43m:\u001b[49m\n\u001b[1;32m   3193\u001b[0m \u001b[43m            \u001b[49m\u001b[43mshards_done\u001b[49m\u001b[43m \u001b[49m\u001b[38;5;241;43m+\u001b[39;49m\u001b[38;5;241;43m=\u001b[39;49m\u001b[43m \u001b[49m\u001b[38;5;241;43m1\u001b[39;49m\n",
      "File \u001b[0;32m/opt/anaconda3/envs/research/lib/python3.12/site-packages/datasets/utils/py_utils.py:1394\u001b[0m, in \u001b[0;36miflatmap_unordered\u001b[0;34m(pool, func, kwargs_iterable)\u001b[0m\n\u001b[1;32m   1391\u001b[0m \u001b[38;5;28;01mfinally\u001b[39;00m:\n\u001b[1;32m   1392\u001b[0m     \u001b[38;5;28;01mif\u001b[39;00m \u001b[38;5;129;01mnot\u001b[39;00m pool_changed:\n\u001b[1;32m   1393\u001b[0m         \u001b[38;5;66;03m# we get the result in case there's an error to raise\u001b[39;00m\n\u001b[0;32m-> 1394\u001b[0m         [\u001b[43masync_result\u001b[49m\u001b[38;5;241;43m.\u001b[39;49m\u001b[43mget\u001b[49m\u001b[43m(\u001b[49m\u001b[43mtimeout\u001b[49m\u001b[38;5;241;43m=\u001b[39;49m\u001b[38;5;241;43m0.05\u001b[39;49m\u001b[43m)\u001b[49m \u001b[38;5;28;01mfor\u001b[39;00m async_result \u001b[38;5;129;01min\u001b[39;00m async_results]\n",
      "File \u001b[0;32m/opt/anaconda3/envs/research/lib/python3.12/site-packages/multiprocess/pool.py:770\u001b[0m, in \u001b[0;36mApplyResult.get\u001b[0;34m(self, timeout)\u001b[0m\n\u001b[1;32m    768\u001b[0m \u001b[38;5;28mself\u001b[39m\u001b[38;5;241m.\u001b[39mwait(timeout)\n\u001b[1;32m    769\u001b[0m \u001b[38;5;28;01mif\u001b[39;00m \u001b[38;5;129;01mnot\u001b[39;00m \u001b[38;5;28mself\u001b[39m\u001b[38;5;241m.\u001b[39mready():\n\u001b[0;32m--> 770\u001b[0m     \u001b[38;5;28;01mraise\u001b[39;00m \u001b[38;5;167;01mTimeoutError\u001b[39;00m\n\u001b[1;32m    771\u001b[0m \u001b[38;5;28;01mif\u001b[39;00m \u001b[38;5;28mself\u001b[39m\u001b[38;5;241m.\u001b[39m_success:\n\u001b[1;32m    772\u001b[0m     \u001b[38;5;28;01mreturn\u001b[39;00m \u001b[38;5;28mself\u001b[39m\u001b[38;5;241m.\u001b[39m_value\n",
      "\u001b[0;31mTimeoutError\u001b[0m: "
     ]
    }
   ],
   "source": [
    "ds = ds.map(process, num_proc=5)"
   ]
  }
 ],
 "metadata": {
  "kernelspec": {
   "display_name": "research",
   "language": "python",
   "name": "python3"
  },
  "language_info": {
   "codemirror_mode": {
    "name": "ipython",
    "version": 3
   },
   "file_extension": ".py",
   "mimetype": "text/x-python",
   "name": "python",
   "nbconvert_exporter": "python",
   "pygments_lexer": "ipython3",
   "version": "3.12.3"
  }
 },
 "nbformat": 4,
 "nbformat_minor": 2
}
