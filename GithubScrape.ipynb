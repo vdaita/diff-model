{
 "cells": [
  {
   "cell_type": "code",
   "execution_count": null,
   "metadata": {},
   "outputs": [],
   "source": [
    "from datasets import load_dataset\n",
    "import requests\n",
    "\n",
    "ds = load_dataset(\"vdaita/gh-commits-2022-meta\")[\"train\"]\n",
    "ds = ds.select(list(range(1000)))"
   ]
  },
  {
   "cell_type": "code",
   "execution_count": null,
   "metadata": {},
   "outputs": [],
   "source": [
    "def get_patch(row):\n",
    "    repo_name = row['repos'].split(\",\")[0].replace(\"[\", \"\").replace(\"]\", \"\")\n",
    "    url = f\"https://github.com/{repo_name}/commit/{row['commit']}.patch\"\n",
    "    r = requests.get(url)\n",
    "    print(url)\n",
    "    text = r.text\n",
    "    row[\"patch_text\"] = text\n",
    "    return row\n",
    "\n",
    "ds = ds.map(get_patch, num_proc=10)"
   ]
  },
  {
   "cell_type": "code",
   "execution_count": null,
   "metadata": {},
   "outputs": [],
   "source": [
    "ds"
   ]
  },
  {
   "cell_type": "code",
   "execution_count": null,
   "metadata": {},
   "outputs": [],
   "source": [
    "ds[:10]"
   ]
  },
  {
   "cell_type": "code",
   "execution_count": null,
   "metadata": {},
   "outputs": [],
   "source": [
    "ds = ds.filter(lambda row: row[\"patch_text\"].count(\"diff --git\") == 1, num_proc=10) # Isolating commits with only one file change"
   ]
  },
  {
   "cell_type": "code",
   "execution_count": null,
   "metadata": {},
   "outputs": [],
   "source": [
    "ds"
   ]
  },
  {
   "cell_type": "code",
   "execution_count": null,
   "metadata": {},
   "outputs": [],
   "source": [
    "from diff_utils import parse_diff, find_best_match\n",
    "import tempfile # For some reason this isn't working as I expected\n",
    "import os\n",
    "import uuid\n",
    "\n",
    "def get_fn():\n",
    "    return str(uuid.uuid4())\n",
    "\n",
    "def process(row):\n",
    "    diff_text = row[\"patch_text\"]\n",
    "    lines = diff_text.split('\\n')\n",
    "    start_extraction = False\n",
    "    result_lines = []\n",
    "    repo_name = row['repos'].split(\",\")[0].replace(\"[\", \"\").replace(\"]\", \"\")\n",
    "    \n",
    "    minus_filepath = \"\"\n",
    "    plus_filepath = \"\"\n",
    "\n",
    "    for line in lines:\n",
    "        if line.startswith('---'):\n",
    "            start_extraction = True\n",
    "            minus_filepath = line.replace(\"---\", \"\").strip()\n",
    "        if line.startswith('+++'):\n",
    "            plus_filepath = line.replace(\"+++\", \"\").strip()\n",
    "        if start_extraction:\n",
    "            result_lines.append(line)\n",
    "    \n",
    "    relevant_patch = '\\n'.join(result_lines)\n",
    "    parsed_diff = parse_diff(relevant_patch)\n",
    "    desired_filepath = parsed_diff[0].filepath.strip()[2:]\n",
    "\n",
    "    patch_filepath = row['commit']+ \".patch\"\n",
    "    patch_file = open(patch_filepath, \"w+\")\n",
    "    patch_file.write(relevant_patch)\n",
    "    patch_file.close()\n",
    "\n",
    "    file_url = f\"https://raw.githubusercontent.com/{repo_name}/{row['commit']}/{desired_filepath}\"\n",
    "    \n",
    "    r = requests.get(file_url)\n",
    "    text = r.text\n",
    "\n",
    "    try:\n",
    "        contents_filepath = row['commit'] + \".file.txt\"\n",
    "        contents_file = open(contents_filepath, \"w+\")\n",
    "        contents_file.write(text)\n",
    "        contents_file.close()\n",
    "\n",
    "        os.system(f\"patch -R {contents_filepath} {patch_filepath} > /dev/null\")\n",
    "\n",
    "        contents_file = open(contents_filepath, \"r\")\n",
    "        old_contents = contents_file.read()\n",
    "        contents_file.close()\n",
    "\n",
    "        os.remove(contents_filepath)\n",
    "        os.remove(patch_filepath)\n",
    "\n",
    "        row[\"old_contents\"] = old_contents\n",
    "        row[\"new_contents\"] = text\n",
    "        row[\"old_file\"] = minus_filepath\n",
    "        row[\"new_file\"] = plus_filepath\n",
    "    except Exception:\n",
    "        print(\"Error on commit: \", row['commit'])\n",
    "        row[\"old_contents\"] = \"\"\n",
    "        row[\"new_contents\"] = \"\"\n",
    "        row[\"old_file\"] = \"\"\n",
    "        row[\"new_file\"] = \"\"\n",
    "    \n",
    "    return row\n"
   ]
  },
  {
   "cell_type": "code",
   "execution_count": null,
   "metadata": {},
   "outputs": [],
   "source": [
    "ds = ds.map(process, num_proc=5)"
   ]
  }
 ],
 "metadata": {
  "kernelspec": {
   "display_name": "research",
   "language": "python",
   "name": "python3"
  },
  "language_info": {
   "codemirror_mode": {
    "name": "ipython",
    "version": 3
   },
   "file_extension": ".py",
   "mimetype": "text/x-python",
   "name": "python",
   "nbconvert_exporter": "python",
   "pygments_lexer": "ipython3",
   "version": "3.12.3"
  }
 },
 "nbformat": 4,
 "nbformat_minor": 2
}
